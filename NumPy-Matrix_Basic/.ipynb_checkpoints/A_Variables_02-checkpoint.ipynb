{
 "cells": [
  {
   "cell_type": "code",
   "execution_count": 10,
   "metadata": {},
   "outputs": [
    {
     "name": "stdout",
     "output_type": "stream",
     "text": [
      "No debe ser 0 a ni b\n"
     ]
    }
   ],
   "source": [
    "#Es un comentario\n",
    "a=0\n",
    "b=0\n",
    "if a < b:\n",
    "    print(\"Ganaste un Avion!\")\n",
    "elif a==0:\n",
    "    print(\"No debe ser 0 a ni b\")\n",
    "else:\n",
    "    print(\"Intenta de nuevo\")"
   ]
  },
  {
   "cell_type": "code",
   "execution_count": 12,
   "metadata": {},
   "outputs": [
    {
     "name": "stdout",
     "output_type": "stream",
     "text": [
      "This is a fucnion\n",
      "Multiplico x 2\n",
      "6\n"
     ]
    }
   ],
   "source": [
    "#definimos una funcion\n",
    "def fucntionFun(x):\n",
    "    print(\"Multiplico x 2\")\n",
    "    return 2*x\n",
    "print (\"This is a fucnion\")    \n",
    "a = fucntionFun(3)\n",
    "print(a)"
   ]
  },
  {
   "cell_type": "code",
   "execution_count": 10,
   "metadata": {},
   "outputs": [
    {
     "name": "stdout",
     "output_type": "stream",
     "text": [
      "Funcion Suma\n",
      "Suma de Numeros\n",
      "18\n",
      "Suma lambda\n",
      "18\n",
      "Suma lambda\n",
      "38\n"
     ]
    }
   ],
   "source": [
    "def sumaNum(x,y):\n",
    "    print(\"Suma de Numeros\")\n",
    "    return x + y\n",
    "\n",
    "print(\"Funcion Suma\")\n",
    "a= sumaNum(8,10)\n",
    "print(a)\n",
    "\n",
    "#otra forma de sumar con Lambda\n",
    "print(\"Suma lambda\")\n",
    "adder = lambda x,y : x + y\n",
    "print (adder (8, 10))\n",
    "\n",
    "#otra forma de sumar con Lambda\n",
    "print(\"Suma lambda\")\n",
    "adder = lambda x,y,z : x + y + z\n",
    "print (adder (8, 10,20))\n"
   ]
  },
  {
   "cell_type": "code",
   "execution_count": 14,
   "metadata": {},
   "outputs": [
    {
     "name": "stdout",
     "output_type": "stream",
     "text": [
      "Caculadora\n",
      "Calculadora de Peso:\n",
      "Juan Carlos No esta con sobre peso\n"
     ]
    }
   ],
   "source": [
    "#caculadora de peso\n",
    "def calPeso(name,altura,peso):\n",
    "    print(\"Calculadora de Peso:\")\n",
    "    bmi = peso/(altura**2)\n",
    "    if bmi < 25:\n",
    "        return name + \" No esta con sobre peso\"\n",
    "    else:\n",
    "        return name + \" Esta con Sobre peso\"\n",
    "print(\"Caculadora\")    \n",
    "a = calPeso(\"Juan Carlos\",169,80)\n",
    "print(a)"
   ]
  },
  {
   "cell_type": "code",
   "execution_count": 94,
   "metadata": {},
   "outputs": [
    {
     "name": "stdout",
     "output_type": "stream",
     "text": [
      "[1]\n",
      "\n",
      "[3, 10, -1]\n",
      "\n",
      "[3, 10, -1, 1]\n",
      "\n",
      "[3, 10, -1, 1, 'Hola']\n",
      "\n",
      "[3, 10, -1, 1, 'Hola', [0, 10]]\n",
      "[3, 10, -1, 1, 'Hola']\n"
     ]
    }
   ],
   "source": [
    "#usando List, o llamado Array like java\n",
    "x=[]\n",
    "x.append(1)\n",
    "print(x)\n",
    "print()\n",
    "\n",
    "a = [3,10,-1]\n",
    "print(a)\n",
    "print()\n",
    "\n",
    "a.append(1)\n",
    "print(a)\n",
    "print()\n",
    "\n",
    "a.append(\"Hola\")\n",
    "print(a)\n",
    "print()\n",
    "\n",
    "a.append([0,10])\n",
    "print(a)\n",
    "\n",
    "#a.pop retira el ultimo elemento de la Lista, si lo ejecuto otra vez va ir\n",
    "#quitando c/elemento de la lista\n",
    "a.pop()\n",
    "print(a)\n",
    "\n"
   ]
  },
  {
   "cell_type": "code",
   "execution_count": 96,
   "metadata": {},
   "outputs": [
    {
     "name": "stdout",
     "output_type": "stream",
     "text": [
      "[1, 2, 3, 4]\n",
      "Numero Impar:1\n",
      "Numero Par :2\n",
      "Numero Impar:3\n",
      "Numero Par :4\n",
      "Numero Impar:5\n",
      "Numero Par :6\n",
      "Numero Impar:7\n"
     ]
    }
   ],
   "source": [
    "# creo un arreglo rapido de 4 elementos [1,2,3,4]\n",
    "print(list(range(1,5)))\n",
    "\n",
    "for i in range(1,8):\n",
    "    if ((i % 2) == 0):\n",
    "        print(\"Numero Par :\" + str(i))\n",
    "    else:\n",
    "        print(\"Numero Impar:\" + str(i))"
   ]
  },
  {
   "cell_type": "code",
   "execution_count": 1,
   "metadata": {},
   "outputs": [
    {
     "name": "stdout",
     "output_type": "stream",
     "text": [
      "El Numero 3: es multiplo de 3 o 5\n",
      "El Numero 5: es multiplo de 3 o 5\n",
      "El Numero 6: es multiplo de 3 o 5\n",
      "El Numero 9: es multiplo de 3 o 5\n",
      "El Numero 10: es multiplo de 3 o 5\n",
      "El Numero 12: es multiplo de 3 o 5\n",
      "El Numero 15: es multiplo de 3 o 5\n",
      "El Numero 18: es multiplo de 3 o 5\n",
      "78\n"
     ]
    }
   ],
   "source": [
    "# selecciono numero Multiplos-\n",
    "totaln=0\n",
    "for i in range(1,20):\n",
    "    if ((i % 3) == 0) or ((i % 5) == 0):\n",
    "        totaln+= i\n",
    "        print(\"El Numero \"+ str(i) + \": es multiplo de 3 o 5\")\n",
    "print(totaln)\n",
    "        "
   ]
  },
  {
   "cell_type": "code",
   "execution_count": 14,
   "metadata": {},
   "outputs": [
    {
     "name": "stdout",
     "output_type": "stream",
     "text": [
      "total = 21\n"
     ]
    }
   ],
   "source": [
    "#suma todo los nros positivos.\n",
    "givenList = [5,4,4,3,-1,-2,0,5]\n",
    "i = 0\n",
    "total=0\n",
    "while i < len(givenList):\n",
    "    if givenList[i] > 0:\n",
    "        total += givenList[i]\n",
    "    i += 1\n",
    "    \n",
    "print(f'total = {total}')"
   ]
  },
  {
   "cell_type": "code",
   "execution_count": 97,
   "metadata": {},
   "outputs": [
    {
     "name": "stdout",
     "output_type": "stream",
     "text": [
      "total = 16\n",
      "\n",
      "indice=0 , contenido=5\n",
      "indice=1 , contenido=4\n",
      "indice=2 , contenido=4\n",
      "indice=3 , contenido=3\n",
      "indice=4 , contenido=-1\n",
      "indice=5 , contenido=-2\n",
      "indice=6 , contenido=0\n",
      "indice=7 , contenido=5\n"
     ]
    }
   ],
   "source": [
    "#suma nros positivos hasta encontrar nro negativo\n",
    "total=0\n",
    "givenList = [5,4,4,3,-1,-2,0,5]\n",
    "for e in givenList:\n",
    "    if e < 0:\n",
    "        break\n",
    "    total += e\n",
    "\n",
    "print(f'total = {total}')\n",
    "print()\n",
    "\n",
    "# ENUMERATE\n",
    "# imprime el indice y el valor del arreglo\n",
    "for i,c in enumerate(givenList):\n",
    "    print(f'indice={i} , contenido={c}')\n",
    "        "
   ]
  },
  {
   "cell_type": "code",
   "execution_count": 105,
   "metadata": {},
   "outputs": [
    {
     "name": "stdout",
     "output_type": "stream",
     "text": [
      "10.181818181818182\n"
     ]
    }
   ],
   "source": [
    "#suma solo los nrs negativos.\n",
    "lst= [10,7,15,14,14,13,1,0,13,5,20]\n",
    "total = 0\n",
    "for e in lst:\n",
    "    if e > -1:\n",
    "        total+=e\n",
    "\n",
    "promedio = total/len(lst)\n",
    "print(promedio)        "
   ]
  },
  {
   "cell_type": "code",
   "execution_count": 7,
   "metadata": {},
   "outputs": [
    {
     "name": "stdout",
     "output_type": "stream",
     "text": [
      "-9\n"
     ]
    }
   ],
   "source": [
    "# usando While\n",
    "#suma solo nrs negativos con while\n",
    "lst=[5,4,4,3,-1,0,-2,-6,5]\n",
    "total = 0\n",
    "i=0\n",
    "while i < len(lst):\n",
    "    if lst[i] < 0:\n",
    "        total += lst[i]\n",
    "    i += 1    \n",
    "\n",
    "print(total)    "
   ]
  },
  {
   "cell_type": "code",
   "execution_count": 107,
   "metadata": {},
   "outputs": [
    {
     "name": "stdout",
     "output_type": "stream",
     "text": [
      "Hello\n",
      "World!\n",
      "este es un \n",
      "Ejemplo de Cadena \n",
      "en Python\n"
     ]
    }
   ],
   "source": [
    "print('Hello\\nWorld!')   # \\n genera un cr+\n",
    "print('este es un \\nEjemplo de Cadena \\nen Python')"
   ]
  },
  {
   "cell_type": "code",
   "execution_count": 108,
   "metadata": {},
   "outputs": [
    {
     "name": "stdout",
     "output_type": "stream",
     "text": [
      "3.7.6 (default, Jan  8 2020, 20:23:39) [MSC v.1916 64 bit (AMD64)]\n"
     ]
    }
   ],
   "source": [
    "import sys\n",
    "print(sys.version)"
   ]
  },
  {
   "cell_type": "code",
   "execution_count": 122,
   "metadata": {},
   "outputs": [
    {
     "name": "stdout",
     "output_type": "stream",
     "text": [
      "Informacion de un Float = sys.float_info(max=1.7976931348623157e+308, max_exp=1024, max_10_exp=308, min=2.2250738585072014e-308, min_exp=-1021, min_10_exp=-307, dig=15, mant_dig=53, epsilon=2.220446049250313e-16, radix=2, rounds=1)\n",
      "\n",
      "\n",
      "Informacion de un Int = sys.int_info(bits_per_digit=30, sizeof_digit=4)\n",
      "\n",
      "\n",
      "listo\n"
     ]
    }
   ],
   "source": [
    "# usando Break\n",
    "import sys\n",
    "print(f'Informacion de un Float = {sys.float_info}')\n",
    "print('\\n')\n",
    "print(f'Informacion de un Int = {sys.int_info}')\n",
    "print('\\n')\n",
    "print(f'listo')      \n",
    "\n"
   ]
  },
  {
   "cell_type": "code",
   "execution_count": 11,
   "metadata": {},
   "outputs": [
    {
     "name": "stdout",
     "output_type": "stream",
     "text": [
      "ho\n"
     ]
    }
   ],
   "source": [
    "# usando arreglos, \n",
    "h=\"hola\"\n",
    "print(h[0:2])             # 0 = indice inicial, hasta el elemento 2 (begin idx=1)"
   ]
  },
  {
   "cell_type": "code",
   "execution_count": 150,
   "metadata": {},
   "outputs": [
    {
     "name": "stdout",
     "output_type": "stream",
     "text": [
      "J\n",
      "Juan Carlos Dergan Feb\n",
      "JCsge\n",
      "468ACEGIKN\n",
      "\n",
      "string = 12345678\n",
      "\n",
      "string a List = ['1', '2', '3', '4', '5', '6', '7', '8']\n",
      "\n",
      "String unido con coma(,) = 1,2,3,4,5,6,7,8\n",
      "\n",
      "String sin delimitador = 12345678\n",
      "\n",
      "String unido con mas(+) = 1+2+3+4+5+6+7+8\n",
      "\n",
      "String e Arreglo List = ['1', '2', '3', '4', '5', '6', '7', '8']\n",
      "\n"
     ]
    }
   ],
   "source": [
    "# [ inicio, longitud, steps ]\n",
    "# inicio empieza desde idx = \"0\"\n",
    "# longitud empieza desde idx = \"1\"\n",
    "# steps empeiza desde inicio idx = \"0\", signt desde donde termino como idx=\"0\"\n",
    "name=\"Juan Carlos Dergan Febres\"\n",
    "print(name[0:6:9])                    # 0 = J\n",
    "print(name[0:22])                     # Juan Carlos Dergan Feb \n",
    "print(name[0:22:5])                   # 0=inicio, 22=longitud q toma, 5=c/5 caracteres. ==> JCsge\n",
    "\n",
    "num = \"123456789ABCDEFGHIJKMNLOP\"     # \n",
    "print(num[3:23:2])                    # 2=inicio=\"4\", 23=longitud=\"123456789ABCDEFGHIJKMNL\", 2=steps desde 4= \"68ACEGIKN\"\n",
    "print()                               # resultado = \"468ACEGIKN\"\n",
    "    \n",
    "    \n",
    "# convertir un string a list\n",
    "num = \"12345678\"\n",
    "print(f'string = {num}\\n')\n",
    "\n",
    "lst = list(num)\n",
    "print(f'string a List = {lst}\\n')\n",
    "\n",
    "unido = ','.join(lst)                            # unido con delimitador ','\n",
    "print(f'String unido con coma(,) = {unido}\\n')\n",
    "\n",
    "unido = ''.join(lst)                             # unido sin delimitador.\n",
    "print(f'String sin delimitador = {unido}\\n')\n",
    "\n",
    "unido = '+'.join(lst)                            # unido con delimitador '+'.\n",
    "print(f'String unido con mas(+) = {unido}\\n')\n",
    "\n",
    "lst = unido.split('+')                           # usando split para desunir con delimitador\n",
    "print(f'String e Arreglo List = {lst}\\n')\n",
    "\n",
    "\n"
   ]
  },
  {
   "cell_type": "code",
   "execution_count": 19,
   "metadata": {},
   "outputs": [
    {
     "name": "stdout",
     "output_type": "stream",
     "text": [
      "beoda\n"
     ]
    }
   ],
   "source": [
    "#sustraigo el 2do caracter de una rebanada de 10 caracteres = Slicing\n",
    "name=\"buenosdias\"\n",
    "print(name[0:12:2])"
   ]
  },
  {
   "cell_type": "code",
   "execution_count": 24,
   "metadata": {},
   "outputs": [
    {
     "name": "stdout",
     "output_type": "stream",
     "text": [
      "adg\n",
      "beh\n",
      "cegik\n"
     ]
    }
   ],
   "source": [
    "#rebanadas\n",
    "s = 'abcdefghijklmno'\n",
    "print(s[0:9:3])   #0 indica el inicio de la rebanada, 9 es la longitud de la rebana (begin idx=1), 3 son las porciones desde 0\n",
    "print(s[1:9:3])\n",
    "print(s[2:12:2])"
   ]
  },
  {
   "cell_type": "code",
   "execution_count": 153,
   "metadata": {},
   "outputs": [
    {
     "name": "stdout",
     "output_type": "stream",
     "text": [
      "11\n",
      "hola amigos\n",
      "hola amigos\n",
      "hl mgs\n",
      "['h', 'o', 'l', 'a', ' ', 'a', 'm', 'i', 'g', 'o', 's']\n"
     ]
    }
   ],
   "source": [
    "saludo=\"hola amigos\"\n",
    "long=len(saludo)\n",
    "print(long)\n",
    "print(saludo)\n",
    "print(saludo[0:long:1])\n",
    "print(saludo[0:120:2])\n",
    "print(list(saludo))"
   ]
  },
  {
   "cell_type": "code",
   "execution_count": 13,
   "metadata": {},
   "outputs": [
    {
     "name": "stdout",
     "output_type": "stream",
     "text": [
      "(0, 1, 2, 3, 4, 5, 6, 7, 8)\n",
      "(2, 5, 8)\n",
      "(0, 1)\n",
      "(2, 3, 4, 5, 6, 7, 8)\n"
     ]
    }
   ],
   "source": [
    "#Create Tuple\n",
    "tupl=(0,1,2,3,4,5,6,7,8)\n",
    "print(tupl)\n",
    "print(tupl[2::3])          # begin idx = 2 apartir de ahi +3 jala idx=5 \n",
    "print(tupl[0:2])\n",
    "print(tupl[2:])\n"
   ]
  },
  {
   "cell_type": "code",
   "execution_count": 9,
   "metadata": {},
   "outputs": [
    {
     "name": "stdout",
     "output_type": "stream",
     "text": [
      "<class 'tuple'>\n",
      "disco\n",
      "10\n",
      "1.2\n",
      "<class 'str'>\n",
      "<class 'int'>\n",
      "<class 'float'>\n",
      "1.2\n",
      "('disco', 10, 1.2, 'hard rock', 10)\n",
      "('disco', 10, 1.2)\n",
      "('hard rock', 10)\n",
      "5\n"
     ]
    }
   ],
   "source": [
    "tuple1 = (\"disco\",10,1.2 )\n",
    "print(type(tuple1))\n",
    "\n",
    "# Print the variable on each index\n",
    "print(tuple1[0])\n",
    "print(tuple1[1])\n",
    "print(tuple1[2])\n",
    "\n",
    "# Print the type of value on each index\n",
    "print(type(tuple1[0]))\n",
    "print(type(tuple1[1]))\n",
    "print(type(tuple1[2]))\n",
    "\n",
    "# Use negative index to get the value of the last element\n",
    "print(tuple1[-1])\n",
    "\n",
    "# Concatenate two tuples\n",
    "tuple2 = tuple1 + (\"hard rock\", 10)\n",
    "print(tuple2)\n",
    "# Slice from index 0 to index 2\n",
    "print(tuple2[0:3])\n",
    "# Slice from index 3 to index 4\n",
    "print(tuple2[3:5])\n",
    "# Get the length of tuple\n",
    "print(len(tuple2))"
   ]
  },
  {
   "cell_type": "code",
   "execution_count": 154,
   "metadata": {},
   "outputs": [
    {
     "data": {
      "text/plain": [
       "[0, 2, 5, 6, 6, 8, 9, 9, 10]"
      ]
     },
     "execution_count": 154,
     "metadata": {},
     "output_type": "execute_result"
    }
   ],
   "source": [
    "# Ordena los elementos de una Tupla\n",
    "Ratings = (0, 9, 6, 5, 10, 8, 9, 6, 2)\n",
    "# Sort the tuple\n",
    "RatingsSorted = sorted(Ratings)\n",
    "RatingsSorted\n"
   ]
  },
  {
   "cell_type": "code",
   "execution_count": 155,
   "metadata": {},
   "outputs": [
    {
     "name": "stdout",
     "output_type": "stream",
     "text": [
      "Element 0 of Tuple:  1\n",
      "Element 1 of Tuple:  2\n",
      "Element 2 of Tuple:  ('pop', 'rock')\n",
      "Element 3 of Tuple:  (3, 4)\n",
      "Element 4 of Tuple:  ('disco', (1, 2))\n",
      "Element 4 of Tuple:  k\n"
     ]
    }
   ],
   "source": [
    "#Nested Tuple:\n",
    "#A tuple can contain another tuple as well as other more complex data types. This process is called 'nesting'. Consider the following tuple with several elements\n",
    "# Create a nest tuple\n",
    "tpl =(1, 2, (\"pop\", \"rock\") ,(3,4),(\"disco\",(1,2)))\n",
    "\n",
    "# Print element on each index\n",
    "print(\"Element 0 of Tuple: \", tpl[0])\n",
    "print(\"Element 1 of Tuple: \", tpl[1])\n",
    "print(\"Element 2 of Tuple: \", tpl[2])\n",
    "print(\"Element 3 of Tuple: \", tpl[3])\n",
    "print(\"Element 4 of Tuple: \", tpl[4])\n",
    "\n",
    "print(\"Element 4 of Tuple: \", tpl[2][1][3])\n"
   ]
  },
  {
   "cell_type": "code",
   "execution_count": 7,
   "metadata": {},
   "outputs": [
    {
     "name": "stdout",
     "output_type": "stream",
     "text": [
      "o\n",
      "\n",
      "rc\n",
      "\n",
      "rc\n"
     ]
    }
   ],
   "source": [
    "# Print the second element in the second nested tuples\n",
    "tuu =(1, 2, (\"pop\", \"rock\") ,(3,4),(\"disco\",(1,2)))\n",
    "print(tuu[2][1][1])\n",
    "print()\n",
    "\n",
    "# forma1\n",
    "rock=tuu[2][1]   # jaka 'rock'\n",
    "c = rock[0::2]   # jala 'r c'\n",
    "print(c)         # rc\n",
    "print()\n",
    "\n",
    "# forma2,= forma1\n",
    "print(tuu[2][1][0::2])\n"
   ]
  },
  {
   "cell_type": "code",
   "execution_count": 6,
   "metadata": {},
   "outputs": [
    {
     "name": "stdout",
     "output_type": "stream",
     "text": [
      "Obtuve 1000core puntos\n",
      "Enter a number: 100\n",
      "100.0 x 1 = 100.0\n",
      "100.0 x 2 = 200.0\n",
      "100.0 x 3 = 300.0\n",
      "100.0 x 4 = 400.0\n",
      "100.0 x 5 = 500.0\n",
      "100.0 x 6 = 600.0\n",
      "100.0 x 7 = 700.0\n",
      "100.0 x 8 = 800.0\n",
      "100.0 x 9 = 900.0\n",
      "100.0 x 10 = 1000.0\n",
      "Do you want to exit? (y)y\n"
     ]
    }
   ],
   "source": [
    "#-----variable dentro del string\n",
    "score=1000\n",
    "saludo=\"Hola\"\n",
    "messages = 'Obtuve %s puntos'\n",
    "print (messages %score)                              # Obtuve 1000 puntos\n",
    "\n",
    "#----Funcion, format\n",
    "def tablaMultiplicar(a):\n",
    "    for i in range(1, 11):\n",
    "        print('{0} x {1} = {2}'.format(a, i, a*i))\n",
    "        \n",
    "while True:\n",
    "  a = input('Enter a number: ')\n",
    "  tablaMultiplicar(float(a))\n",
    "  answer = input('Do you want to exit? (y)')\n",
    "  if answer == 'y':\n",
    "    break"
   ]
  },
  {
   "cell_type": "code",
   "execution_count": 3,
   "metadata": {},
   "outputs": [
    {
     "name": "stdout",
     "output_type": "stream",
     "text": [
      "[1, 2, 3, 4]\n",
      "<class 'bool'>\n",
      "2\n",
      "Busca Letra=z, indice=-1\n",
      "\n",
      "Busca Letra=z, indice=3\n",
      "\n",
      "enos dia\n"
     ]
    }
   ],
   "source": [
    "#----Lista\n",
    "c= list(range(1,5))\n",
    "print(c)\n",
    "\n",
    "#Imprimo el tipo\n",
    "print(type(True))\n",
    "\n",
    "#convierto un str-->int\n",
    "print(int('2'))\n",
    "\n",
    "#busco la letra en un String\n",
    "h= 'hola amigo!'\n",
    "indice = h.find('z')\n",
    "print(f'Busca Letra=z, indice={indice}')\n",
    "print()\n",
    "\n",
    "indice = h.find('a')\n",
    "print(f'Busca Letra=z, indice={indice}')\n",
    "print()\n",
    "\n",
    "#sustraigo parte de la Cadena.\n",
    "s='Buenos dias'\n",
    "print(s[2:10])                               # indice=2 jala (begin=0) los sgnts 10 elementos."
   ]
  },
  {
   "cell_type": "code",
   "execution_count": 17,
   "metadata": {},
   "outputs": [
    {
     "name": "stdout",
     "output_type": "stream",
     "text": [
      "[5, 6, 6, 4]\n"
     ]
    }
   ],
   "source": [
    "def myfunc(a):\n",
    "  return len(a)\n",
    "\n",
    "x = map(myfunc, ('apple', 'banana', 'cherry','jola'))  #cada elemento es pasado a la funcion y este devuelve su tamaño.\n",
    "\n",
    "#convert the map into a list, for readability:\n",
    "print(list(x))"
   ]
  },
  {
   "cell_type": "code",
   "execution_count": 163,
   "metadata": {},
   "outputs": [
    {
     "name": "stdout",
     "output_type": "stream",
     "text": [
      "mi Arreglo = [0, 1, 2, 3, 4]\n",
      "\n",
      "0\n",
      "1\n",
      "2\n",
      "3\n",
      "4\n"
     ]
    }
   ],
   "source": [
    "# return vs yield, solo se usan en funciones que retornen un valor\n",
    "# return envía un valor especificado a su llamador, mientras que yield puede producir una secuencia de valores.\n",
    "# 'return' sends a specified value back to its 'caller', whereas 'yield' can produce a 'sequence of values'.\n",
    "def contador(max):\n",
    "    n=0\n",
    "    while n < max:\n",
    "        yield n                        # c/vez q pasa por yield acumula los valores como en un arreglo pero no es un list-\n",
    "        n=n+1\n",
    "       \n",
    "\n",
    "mycont = list(contador(5))             # tengo que hacer un castin para ver el list sino es un solo objeto.\n",
    "print(f'mi Arreglo = {mycont}\\n')\n",
    "\n",
    "valores = 0\n",
    "\n",
    "for i in mycont:\n",
    "    print(i)\n"
   ]
  },
  {
   "cell_type": "code",
   "execution_count": 1,
   "metadata": {},
   "outputs": [
    {
     "name": "stdout",
     "output_type": "stream",
     "text": [
      "El valor de pY = [0, 0, 15, 0, 0, 15, 22, 31]\n",
      "El valor de pX = [-1, -2, -3, 1, 2, 3, 4, 5]\n"
     ]
    },
    {
     "name": "stderr",
     "output_type": "stream",
     "text": [
      "Matplotlib is building the font cache; this may take a moment.\n"
     ]
    },
    {
     "data": {
      "image/png": "[encoded data removed]",
      "text/plain": [
       "<Figure size 432x288 with 1 Axes>"
      ]
     },
     "metadata": {
      "needs_background": "light"
     },
     "output_type": "display_data"
    },
    {
     "name": "stdout",
     "output_type": "stream",
     "text": [
      "valor de ppY=[15, 15, 22, 31]\n",
      "valor de ppX=[-3, 3, 4, 5]\n"
     ]
    },
    {
     "data": {
      "image/png": "[encoded data removed]",
      "text/plain": [
       "<Figure size 432x288 with 1 Axes>"
      ]
     },
     "metadata": {
      "needs_background": "light"
     },
     "output_type": "display_data"
    }
   ],
   "source": [
    "# quiero diagramar el resultado de esta ecuacion\n",
    "# si el resultado de pY > 10.\n",
    "pX = [-1,-2,-3,1,2,3,4,5]\n",
    "pY = []\n",
    "\n",
    "# Evaluo el resultado de la Ecuacion \n",
    "# con los Valores de pX, si la Ecuacion > 10.\n",
    "for vv in pX:\n",
    "    rslt = lambda x : x**2 + 6\n",
    "    xx = rslt(vv)\n",
    "    #print(xx)\n",
    "    if (xx > 10):\n",
    "       pY.append(xx) \n",
    "    else:\n",
    "       pY.append(0) \n",
    "    \n",
    "print(f'El valor de pY = {pY}')\n",
    "print(f'El valor de pX = {pX}')\n",
    "from pylab import plot, show\n",
    "plot(pX, pY)\n",
    "show()\n",
    "\n",
    "#pero si quitamos los valores = '0'\n",
    "ppY=[]\n",
    "ppX=[]\n",
    "for idx,vlr in enumerate(pY):\n",
    "    if vlr > 0:\n",
    "        ppY.append(vlr)\n",
    "        ppX.append(pX[idx])\n",
    "        \n",
    "print(f'valor de ppY={ppY}')\n",
    "print(f'valor de ppX={ppX}')\n",
    "plot(ppX, ppY)\n",
    "show()\n",
    "\n",
    "\n",
    "\n"
   ]
  },
  {
   "cell_type": "code",
   "execution_count": 2,
   "metadata": {
    "scrolled": true
   },
   "outputs": [
    {
     "name": "stdout",
     "output_type": "stream",
     "text": [
      "pY = [-453, -298, -183, -102, -49, -18, -3, 2, 3, 6, 17, 42, 87, 158, 261, 402, 587]\n"
     ]
    },
    {
     "data": {
      "image/png": "[encoded data removed]",
      "text/plain": [
       "<Figure size 432x288 with 1 Axes>"
      ]
     },
     "metadata": {
      "needs_background": "light"
     },
     "output_type": "display_data"
    }
   ],
   "source": [
    "pX = [-8,-7,-6,-5,-4,-3,-2,-1,0,1,2,3,4,5,6,7,8]\n",
    "pY = []\n",
    "for fy in pX:\n",
    "    ecuY = lambda x,b : x**3 + x**2 + x + b\n",
    "    pY.append(ecuY(fy,3))\n",
    "print(f'pY = {pY}')\n",
    "plot(pX, pY)\n",
    "show()\n",
    "\n",
    "\n",
    "\n",
    "    \n",
    "    \n"
   ]
  },
  {
   "cell_type": "code",
   "execution_count": 93,
   "metadata": {},
   "outputs": [
    {
     "name": "stdout",
     "output_type": "stream",
     "text": [
      "[ 453  298  183  102   49   18    3   -2   -3   -6  -17  -42  -87 -158\n",
      " -261 -402 -587]\n"
     ]
    },
    {
     "data": {
      "image/png": "[encoded data removed]",
      "text/plain": [
       "<Figure size 432x288 with 1 Axes>"
      ]
     },
     "metadata": {
      "needs_background": "light"
     },
     "output_type": "display_data"
    }
   ],
   "source": [
    "#from numpy import np\n",
    "import numpy as np\n",
    "np = np.array(pY)\n",
    "negY = np * -1\n",
    "print(negY)\n",
    "plot(pX, negY)\n",
    "show()"
   ]
  },
  {
   "cell_type": "code",
   "execution_count": 6,
   "metadata": {
    "scrolled": true
   },
   "outputs": [
    {
     "name": "stdout",
     "output_type": "stream",
     "text": [
      "pY = [5.5200000000000005, 10.56, 3.0, 7.2, 8.040000000000001, 8.88, 0.4800000000000004, 3.0, 9.72]\n"
     ]
    },
    {
     "data": {
      "image/png": "[encoded data removed]",
      "text/plain": [
       "<Figure size 432x288 with 1 Axes>"
      ]
     },
     "metadata": {
      "needs_background": "light"
     },
     "output_type": "display_data"
    }
   ],
   "source": [
    "pX = [7,1,10,5,4,3,13,10,2]\n",
    "pY = []\n",
    "for fy in pX:\n",
    "    ecuY = lambda x,b : -0.84*x + b\n",
    "    pY.append(ecuY(fy,11.4))\n",
    "print(f'pY = {pY}')\n",
    "plot(pX, pY)\n",
    "show()\n",
    "\n"
   ]
  },
  {
   "cell_type": "code",
   "execution_count": 4,
   "metadata": {},
   "outputs": [
    {
     "name": "stdout",
     "output_type": "stream",
     "text": [
      "pY = [10.955, 3.6110000000000007, 7.691000000000001, 8.507000000000001, 9.323, 1.163000000000002, 3.6110000000000007, 10.139000000000001]\n"
     ]
    },
    {
     "data": {
      "image/png": "[encoded data removed]",
      "text/plain": [
       "<Figure size 432x288 with 1 Axes>"
      ]
     },
     "metadata": {
      "needs_background": "light"
     },
     "output_type": "display_data"
    }
   ],
   "source": [
    "pX = [1,10,5,4,3,13,10,2]\n",
    "pY = []\n",
    "for fy in pX:\n",
    "    ecuY = lambda x,b : -0.816*x + b\n",
    "    pY.append(ecuY(fy,11.771))\n",
    "print(f'pY = {pY}')\n",
    "plot(pX, pY)\n",
    "show()\n"
   ]
  },
  {
   "cell_type": "code",
   "execution_count": 3,
   "metadata": {},
   "outputs": [
    {
     "name": "stdout",
     "output_type": "stream",
     "text": [
      "21\n",
      "[92, 76, 22, 41, 35, 29, 80, 12, 57, 50]\n",
      "5\n"
     ]
    }
   ],
   "source": [
    "# Generamos un Arreglo de Numeros aleatorios\n",
    "import random\n",
    "\n",
    "def aleatorio():\n",
    "    return(int(random.random()*100))\n",
    "\n",
    "print(aleatorio())\n",
    "d = [aleatorio() for n in range(10)]\n",
    "print(d)\n",
    "\n",
    "rslt_x = lambda x : x if(x!=10) else 0\n",
    "print(rslt_x(5))\n"
   ]
  },
  {
   "cell_type": "code",
   "execution_count": 28,
   "metadata": {},
   "outputs": [
    {
     "data": {
      "image/png": "[encoded data removed]",
      "text/plain": [
       "<Figure size 432x288 with 1 Axes>"
      ]
     },
     "metadata": {
      "needs_background": "light"
     },
     "output_type": "display_data"
    }
   ],
   "source": [
    "# ecuacionde un circulo (x-a)²+(y-b)² = r²\n",
    "# conocemos el radio y un eje= x\n",
    "# despejamos la funcion f(x) = raiz{r² - (x-a)²} + b\n",
    "\n",
    "from math import sqrt\n",
    "\n",
    "# contanste q tengo\n",
    "r=2\n",
    "a=0\n",
    "b=0\n",
    "\n",
    "# genero un  rango aleatorio cualquiera\n",
    "eje_x = [x/100 for x in range(-200,200)]\n",
    "#print(eje_x)\n",
    "\n",
    "# Ecuacion de calculo de y, si tengo r y x\n",
    "ecu_y = lambda x,r,a,b,s : s * (sqrt((r**2) - (x-a)**2) + b)\n",
    "eje_pos_y = [ecu_y(n,r,a,b,1) for n in eje_x]\n",
    "eje_neg_y = [ecu_y(n,r,a,b,-1) for n in eje_x]\n",
    "\n",
    "from pylab import plot, show\n",
    "plot(eje_x, eje_pos_y)\n",
    "plot(eje_x, eje_neg_y)\n",
    "show()\n"
   ]
  },
  {
   "cell_type": "code",
   "execution_count": 44,
   "metadata": {},
   "outputs": [
    {
     "name": "stdout",
     "output_type": "stream",
     "text": [
      "4.0\n",
      "-48\n"
     ]
    }
   ],
   "source": [
    "for f in range(3):\n",
    "    "
   ]
  },
  {
   "cell_type": "code",
   "execution_count": 1,
   "metadata": {},
   "outputs": [
    {
     "name": "stdout",
     "output_type": "stream",
     "text": [
      "Enter the radio:0.3\n"
     ]
    },
    {
     "data": {
      "image/png": "[encoded data removed]",
      "text/plain": [
       "<Figure size 432x288 with 1 Axes>"
      ]
     },
     "metadata": {
      "needs_background": "light"
     },
     "output_type": "display_data"
    }
   ],
   "source": [
    "import matplotlib.pyplot as plt\n",
    "\n",
    "def Circle(r):\n",
    "    \n",
    "    circle = plt.Circle((0,0), r, facecolor='red', edgecolor='blue',linestyle='dotted',linewidth='2.2')\n",
    "    plt.gca().add_patch(circle)\n",
    "    plt.plot()\n",
    "    \n",
    "    plt.title('Circle')\n",
    "    plt.grid()\n",
    "    plt.show()\n",
    "\n",
    "r=float(input('Enter the radio:'))\n",
    "Circle(float(r))"
   ]
  },
  {
   "cell_type": "code",
   "execution_count": 74,
   "metadata": {},
   "outputs": [],
   "source": [
    "# Python program to demonstrate \n",
    "# circle drawing \n",
    "    \n",
    "import turtle \n",
    "    \n",
    "# Initializing the turtle \n",
    "t = turtle.Turtle() \n",
    "    \n",
    "r = 50\n",
    "t.circle(r) "
   ]
  },
  {
   "cell_type": "code",
   "execution_count": null,
   "metadata": {},
   "outputs": [],
   "source": []
  }
 ],
 "metadata": {
  "kernelspec": {
   "display_name": "Python 3",
   "language": "python",
   "name": "python3"
  },
  "language_info": {
   "codemirror_mode": {
    "name": "ipython",
    "version": 3
   },
   "file_extension": ".py",
   "mimetype": "text/x-python",
   "name": "python",
   "nbconvert_exporter": "python",
   "pygments_lexer": "ipython3",
   "version": "3.7.6"
  }
 },
 "nbformat": 4,
 "nbformat_minor": 2
}
