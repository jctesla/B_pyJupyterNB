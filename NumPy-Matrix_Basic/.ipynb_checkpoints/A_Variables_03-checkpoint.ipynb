{
 "cells": [
  {
   "cell_type": "code",
   "execution_count": 22,
   "metadata": {},
   "outputs": [
    {
     "name": "stdout",
     "output_type": "stream",
     "text": [
      "List A = ['A', 'B', 'C', 'D', 'D', 'C', 'B', 'A']\n",
      "Conjunto de B <=set(A) :. B={'C', 'B', 'A', 'D'}\n",
      "\n",
      "Creo un ENUMERATE al COnjunto B\n",
      "Indice = 0, Valores de B = C\n",
      "Indice = 1, Valores de B = B\n",
      "Indice = 2, Valores de B = A\n",
      "Indice = 3, Valores de B = D\n",
      "\n",
      "---------------------------------\n",
      "Creo un List A con valores repetidos y null\n",
      "Conjunto A = ['1', '2', '3', '4', '4', '3', '2', '1', None, None]\n",
      "Al pasarlo a ser Conjunto B <=set(A) :. B={'3', '4', '1', None, '2'}\n",
      "\n",
      "---------------------------------\n",
      "Conjunto B le agrego elementos = {'3', '4', '1', None, '2'}\n",
      "Conjunto B con nuevos Elmentos :. B={'3', '4', '1', None, '2', 'Z'}\n",
      "\n",
      "---------------------------------\n",
      "Ahora creo un Conjunto de Dif tipos de Elementos:\n",
      "Los Conjuntos son a={1, 2, 3, 'b', 'a', 'hola'}, b={1, 3, 'c', 'a', 'hola'} y hago una Interseccion:\n",
      "El Resultado a y b = {1, 'a', 3, 'hola'}\n",
      "\n",
      "---------------------------------\n",
      "pregunta b esta contenido en a = False\n",
      "\n",
      "---------------------------------\n",
      "hago Union de a y b (no se repiten los elementos) = {1, 2, 3, 'c', 'b', 'a', 'hola'}\n",
      "\n",
      "---------------------------------\n",
      "Convertir un list a set= {'pop', 'hard rock', 'soft rock', 'disco', 'soul', 'folk rock', 'rock', 'R&B', 'progr rock'}\n"
     ]
    }
   ],
   "source": [
    "#Convierto el List A a un conjunto de Sets, Lista es en realidad un arry\n",
    "# 'Set' vs 'List' son interfaces hijos de Collection . \n",
    "# practicamente son lo mismo exceot: \n",
    "# List<E>:\n",
    "# Una colección en secuencia ordenada. El usuario tiene un control preciso d c/elemento\n",
    "# El usuario puede acceder a los elementos por su índice.\n",
    "# Set<E>:\n",
    "# Una colección que NO permite elementos duplicados p uso de conjuntos y como máximo un elemento nulo. Modela la abstracción de conjuntos matemáticos.\n",
    "# no añade nada nuevo salvo que define que no podemos tener elementos repetidos.\n",
    "\n",
    "A=['A','B','C','D','D','C','B','A']\n",
    "print(f'List A = {A}')\n",
    "B=set(A)\n",
    "print(f'Conjunto de B <=set(A) :. B={B}\\n')                # B={'C', 'A', 'Z', 'B'}, como hay elementos repetidos no los coloca.\n",
    "\n",
    "print(f'Creo un ENUMERATE al COnjunto B')\n",
    "for idx,n in enumerate(B):\n",
    "    print(f'Indice = {idx}, Valores de B = {n}')\n",
    "\n",
    "print(\"\\n---------------------------------\")\n",
    "print(f'Creo un List A con valores repetidos y null')\n",
    "A=['1','2','3','4','4','3','2','1', None, None]\n",
    "print(f'Conjunto A = {A}')\n",
    "B=set(A)\n",
    "print(f'Al pasarlo a ser Conjunto B <=set(A) :. B={B}\\n')   # B={'1', '2', '3', '4'}, como hay elementos repetidos no los coloca.\n",
    "\n",
    "\n",
    "#Agregar un Elemento al Conjunto B\n",
    "print(\"---------------------------------\")\n",
    "print(f'Conjunto B le agrego elementos = {B}')             # B = {'1', '2', '3', '4'}\n",
    "B.add('Z')\n",
    "print(f'Conjunto B con nuevos Elmentos :. B={B}\\n')\n",
    "\n",
    "#INTERSECCION n de Conjuntos de Sets\n",
    "print(\"---------------------------------\")\n",
    "print(f'Ahora creo un Conjunto de Dif tipos de Elementos:')\n",
    "a={1,2,3,'hola','a','b'}\n",
    "b={1,3,'hola','a','c'}\n",
    "print(f'Los Conjuntos son a={a}, b={b} y hago una Interseccion:')\n",
    "c=a & b                                                    # Interseccion\n",
    "print(f'El Resultado a y b = {c}\\n')\n",
    "\n",
    "\n",
    "#CONTENDIO SUbCONJUNTP, EL CONJUNTO DE B ESTA CONTENIDO EN' a? falso, x q falta el elemnto 'c'\n",
    "print(\"---------------------------------\")\n",
    "print(f'pregunta b esta contenido en a = {b.issubset(a)}\\n')\n",
    "\n",
    "#UNION el conjunto 'b' con el 'a'\n",
    "print(\"---------------------------------\")\n",
    "print(f'hago Union de a y b (no se repiten los elementos) = {b.union(a)}\\n')\n",
    "\n",
    "# Convert list to set\n",
    "print(\"---------------------------------\")\n",
    "mus = set([\"pop\", \"pop\", \"rock\", \"folk rock\", \"hard rock\", \"soul\", \\\n",
    "                    \"progr rock\", \"soft rock\", \"R&B\", \"disco\"])\n",
    "print(f'Convertir un list a set= {mus}')\n",
    "\n"
   ]
  },
  {
   "cell_type": "code",
   "execution_count": 11,
   "metadata": {},
   "outputs": [
    {
     "name": "stdout",
     "output_type": "stream",
     "text": [
      "{'Back in Black', 'AC/DC'}\n",
      "False\n",
      "{'Back in Black', 'Thriller', 'The Dark Side of the Moon', 'AC/DC'}\n"
     ]
    }
   ],
   "source": [
    "# Sample Sets\n",
    "album_set1 = set([\"Thriller\", 'AC/DC', 'Back in Black'])\n",
    "album_set2 = set([ \"AC/DC\", \"Back in Black\", \"The Dark Side of the Moon\"])\n",
    "c=album_set1 & album_set2\n",
    "print(c)\n",
    "d= album_set1.issubset(album_set2)\n",
    "print(d)\n",
    "e=album_set1.union(album_set2)\n",
    "print(e)\n"
   ]
  },
  {
   "cell_type": "code",
   "execution_count": 51,
   "metadata": {},
   "outputs": [
    {
     "name": "stdout",
     "output_type": "stream",
     "text": [
      "{'R&B', 'folk rock', 'rock', 'soul', 'progressive rock', 'disco', 'soft rock', 'pop', 'hard rock'}\n"
     ]
    }
   ],
   "source": [
    "# Convert list to set\n",
    "lista = [\"pop\", \"pop\", \"rock\", \"folk rock\", \"hard rock\", \"soul\", \\\n",
    "                    \"progressive rock\", \"soft rock\", \"R&B\", \"disco\"]\n",
    "setLista = set(lista)             \n",
    "print(setLista)"
   ]
  },
  {
   "cell_type": "code",
   "execution_count": 49,
   "metadata": {},
   "outputs": [
    {
     "name": "stdout",
     "output_type": "stream",
     "text": [
      "A={'Back in Black', 'Thriller', 'AC/DC'}\n",
      "Agrego A={'Back in Black', 'NSYNC', 'Thriller', 'AC/DC'}\n",
      "\n",
      "{'Back in Black', 'Thriller', 'AC/DC'}\n",
      "\n",
      "True\n"
     ]
    }
   ],
   "source": [
    "# Add element to set\n",
    "A = set([\"Thriller\", \"Back in Black\", \"AC/DC\"])\n",
    "print(f'A={A}')\n",
    "A.add(\"NSYNC\")\n",
    "print(f'Agrego A={A}')\n",
    "print()\n",
    "\n",
    "# Remove the element from set\n",
    "A.remove(\"NSYNC\")\n",
    "print(A)\n",
    "print()\n",
    "\n",
    "# Verify if the element is in the set\n",
    "print(\"AC/DC\" in A)"
   ]
  },
  {
   "cell_type": "code",
   "execution_count": 18,
   "metadata": {},
   "outputs": [
    {
     "name": "stdout",
     "output_type": "stream",
     "text": [
      "True\n"
     ]
    }
   ],
   "source": [
    "# Verify if the element is in the set\n",
    "print(\"AC/DC\" in A)"
   ]
  },
  {
   "cell_type": "code",
   "execution_count": 86,
   "metadata": {},
   "outputs": [
    {
     "name": "stdout",
     "output_type": "stream",
     "text": [
      "{'a': 0, 'b': 1, 'c': 2, 'd': 3}\n",
      "0\n"
     ]
    }
   ],
   "source": [
    "D={'a':0,'b':1,'c':2}      # diccionario\n",
    "D['d']=3                   #agrego un elemento\n",
    "print(D)\n",
    "print(D['a'])\n"
   ]
  },
  {
   "cell_type": "code",
   "execution_count": 33,
   "metadata": {},
   "outputs": [
    {
     "name": "stdout",
     "output_type": "stream",
     "text": [
      "apple\n",
      "orange\n",
      "banana\n",
      "['apple', 'orange', 'banana']\n",
      "['apple']\n"
     ]
    }
   ],
   "source": [
    "fruits = [\n",
    "        {'name' : 'apple', 'price':20},\n",
    "        {'name' : 'orange', 'price':10},\n",
    "        {'name' : 'banana', 'price':15},\n",
    "        ]\n",
    "\n",
    "for fruit in fruits:\n",
    "    print(  fruit['name'])                                                 \n",
    "\n",
    "print(  list(fruit['name'] for fruit in fruits) )\n",
    "\n",
    "print(  [fruit['name'] for fruit in fruits  if fruit['name'][0] == 'a'] )"
   ]
  },
  {
   "cell_type": "code",
   "execution_count": 5,
   "metadata": {},
   "outputs": [
    {
     "name": "stdout",
     "output_type": "stream",
     "text": [
      "dict_keys(['a', 'b', 'c', 'd'])\n",
      "dict_values([0, 1, 2, 3])\n"
     ]
    }
   ],
   "source": [
    "print(D.keys())\n",
    "print(D.values())"
   ]
  },
  {
   "cell_type": "code",
   "execution_count": 46,
   "metadata": {},
   "outputs": [
    {
     "name": "stdout",
     "output_type": "stream",
     "text": [
      "{'key1': 1, 'key2': '2', 3: [3, 3, 3], 'key4': (4, 4, 4), 'key5': 5, (0, 1): 6}\n",
      "1\n",
      "[3, 3, 3]\n",
      "(4, 4, 4)\n",
      "6\n",
      "dict_keys(['key1', 'key2', 3, 'key4', 'key5', (0, 1)])\n",
      "dict_values([1, '2', [3, 3, 3], (4, 4, 4), 5, 6])\n"
     ]
    }
   ],
   "source": [
    "# Create the dictionary\n",
    "Dict = {\"key1\": 1, \"key2\": \"2\", 3: [3, 3, 3], \"key4\": (4, 4, 4), 'key5': 5, (0, 1): 6}\n",
    "print(Dict)\n",
    "\n",
    "# Access to the value by the key\n",
    "print(Dict[\"key1\"])\n",
    "print(Dict[3])\n",
    "print(Dict[\"key4\"])\n",
    "print(Dict[(0, 1)])\n",
    "print(Dict.keys())\n",
    "print(Dict.values())\n"
   ]
  },
  {
   "cell_type": "code",
   "execution_count": 9,
   "metadata": {},
   "outputs": [
    {
     "name": "stdout",
     "output_type": "stream",
     "text": [
      "{'Thriller': '1982', 'Back in Black': '1980', 'The Dark Side of the Moon': '1973', 'The Bodyguard': '1992', 'Bat Out of Hell': '1977', 'Their Greatest Hits (1971-1975)': '1976', 'Saturday Night Fever': '1977', 'Rumours': '1977'}\n"
     ]
    }
   ],
   "source": [
    "# Create a sample dictionary\n",
    "release_year_dict = {\"Thriller\": \"1982\", \"Back in Black\": \"1980\", \\\n",
    "                    \"The Dark Side of the Moon\": \"1973\", \"The Bodyguard\": \"1992\", \\\n",
    "                    \"Bat Out of Hell\": \"1977\", \"Their Greatest Hits (1971-1975)\": \"1976\", \\\n",
    "                    \"Saturday Night Fever\": \"1977\", \"Rumours\": \"1977\"}\n",
    "print(release_year_dict)"
   ]
  },
  {
   "cell_type": "code",
   "execution_count": 10,
   "metadata": {},
   "outputs": [
    {
     "name": "stdout",
     "output_type": "stream",
     "text": [
      "1982\n"
     ]
    }
   ],
   "source": [
    "# Get value by keys\n",
    "print(release_year_dict['Thriller'] )"
   ]
  },
  {
   "cell_type": "code",
   "execution_count": 12,
   "metadata": {},
   "outputs": [
    {
     "name": "stdout",
     "output_type": "stream",
     "text": [
      "{'Hola': 3}\n"
     ]
    }
   ],
   "source": [
    "# Delete entries by key\n",
    "A={'Thriller':1,'Graduation':2,'Hola':3}\n",
    "del(A['Thriller'])                            # borra un elemento (key y Value) del diccionario.\n",
    "del(A['Graduation'])\n",
    "print(A)"
   ]
  },
  {
   "cell_type": "code",
   "execution_count": 54,
   "metadata": {},
   "outputs": [
    {
     "name": "stdout",
     "output_type": "stream",
     "text": [
      "idx=0 y valor=hola\n",
      "idx=1 y valor=amigo\n",
      "idx=2 y valor=cafe\n",
      "idx=3 y valor=te\n",
      "idx=4 y valor=naranja\n",
      "\n",
      "hola\n",
      "amigo\n",
      "cafe\n",
      "te\n",
      "naranja\n"
     ]
    }
   ],
   "source": [
    "#imprimo el indice y el elemento de 'a'\n",
    "a=['hola','amigo','cafe','te','naranja']\n",
    "for i,ii in enumerate(a):\n",
    "    print(f'idx={i} y valor={ii}')              #la coma entre sentencia es la sgnt sentencia.\n",
    "print()       \n",
    "\n",
    "for id in a:\n",
    "    print(id)                                   #indice de 'a'\n",
    "        \n",
    "    "
   ]
  },
  {
   "cell_type": "code",
   "execution_count": 2,
   "metadata": {},
   "outputs": [
    {
     "name": "stdout",
     "output_type": "stream",
     "text": [
      "Longitud de N = 3\n",
      "\n",
      "1982\n",
      "1980\n",
      "1973\n",
      "\n",
      "0\n",
      "1\n",
      "2\n",
      "3\n"
     ]
    }
   ],
   "source": [
    "# For loop example\n",
    "dates = [1982,1980,1973]\n",
    "N = len(dates)\n",
    "print(f'Longitud de N = {str(N)}')\n",
    "print()\n",
    "\n",
    "# N es la longitud del list\n",
    "for i in range(N):\n",
    "    print(dates[i]) \n",
    "print()\n",
    "\n",
    "for i in range(0, 4):\n",
    "    print(i)"
   ]
  },
  {
   "cell_type": "code",
   "execution_count": 35,
   "metadata": {},
   "outputs": [
    {
     "name": "stdout",
     "output_type": "stream",
     "text": [
      "red\n",
      "yellow\n",
      "green\n",
      "purple\n",
      "blue\n"
     ]
    }
   ],
   "source": [
    "# Write your code below and press Shift+Enter to execute\n",
    "squares=['red', 'yellow', 'green', 'purple', 'blue']\n",
    "i=0\n",
    "while i < len(squares):\n",
    "    print(squares[i])\n",
    "    i += 1\n",
    "    "
   ]
  },
  {
   "cell_type": "code",
   "execution_count": 1,
   "metadata": {},
   "outputs": [
    {
     "name": "stdout",
     "output_type": "stream",
     "text": [
      "10\n",
      "9.5\n",
      "10\n",
      "8\n",
      "7.5\n",
      "\n"
     ]
    },
    {
     "ename": "NameError",
     "evalue": "name 'squares' is not defined",
     "output_type": "error",
     "traceback": [
      "\u001b[1;31m---------------------------------------------------------------------------\u001b[0m",
      "\u001b[1;31mNameError\u001b[0m                                 Traceback (most recent call last)",
      "\u001b[1;32m<ipython-input-1-2c0fe2e7b2d1>\u001b[0m in \u001b[0;36m<module>\u001b[1;34m\u001b[0m\n\u001b[0;32m     11\u001b[0m \u001b[0mprint\u001b[0m\u001b[1;33m(\u001b[0m\u001b[1;33m)\u001b[0m\u001b[1;33m\u001b[0m\u001b[1;33m\u001b[0m\u001b[0m\n\u001b[0;32m     12\u001b[0m \u001b[0mnew_squares\u001b[0m \u001b[1;33m=\u001b[0m\u001b[1;33m[\u001b[0m\u001b[1;33m]\u001b[0m\u001b[1;33m\u001b[0m\u001b[1;33m\u001b[0m\u001b[0m\n\u001b[1;32m---> 13\u001b[1;33m \u001b[0mnew_squares\u001b[0m\u001b[1;33m.\u001b[0m\u001b[0mappend\u001b[0m\u001b[1;33m(\u001b[0m\u001b[0msquares\u001b[0m\u001b[1;33m[\u001b[0m\u001b[1;36m1\u001b[0m\u001b[1;33m]\u001b[0m\u001b[1;33m)\u001b[0m\u001b[1;33m\u001b[0m\u001b[1;33m\u001b[0m\u001b[0m\n\u001b[0m\u001b[0;32m     14\u001b[0m \u001b[0mprint\u001b[0m\u001b[1;33m(\u001b[0m\u001b[0mnew_squares\u001b[0m\u001b[1;33m)\u001b[0m\u001b[1;33m\u001b[0m\u001b[1;33m\u001b[0m\u001b[0m\n",
      "\u001b[1;31mNameError\u001b[0m: name 'squares' is not defined"
     ]
    }
   ],
   "source": [
    "# Write your code below and press Shift+Enter to execute\n",
    "PlayListRatings = [10, 9.5, 10, 8, 7.5, 5, 10, 10]\n",
    "i=0\n",
    "while i< len(PlayListRatings):\n",
    "    if PlayListRatings[i] < 6:\n",
    "        break\n",
    "    else:\n",
    "        print(PlayListRatings[i])\n",
    "    i+=1\n",
    "    \n",
    "print()\n",
    "new_squares =[]\n",
    "new_squares.append(squares[1])\n",
    "print(new_squares)"
   ]
  },
  {
   "cell_type": "code",
   "execution_count": 3,
   "metadata": {},
   "outputs": [
    {
     "name": "stdout",
     "output_type": "stream",
     "text": [
      "Suma los Elementos de A = 26.5\n",
      "Ordeno los Elementos de A = [-1, 1, 2, 3, 4.5, 5.5, 5.5, 6]\n"
     ]
    }
   ],
   "source": [
    "A=[2,1,5.5,6,5.5,4.5,3,-1]\n",
    "print(f'Suma los Elementos de A = {sum(A)}')\n",
    "A.sort()\n",
    "print(f'Ordeno los Elementos de A = {A}')\n"
   ]
  },
  {
   "cell_type": "code",
   "execution_count": 70,
   "metadata": {},
   "outputs": [
    {
     "name": "stdout",
     "output_type": "stream",
     "text": [
      "Multiplicacion de a x b:  10\n",
      "Multiplicacion de a x b:  holaholaholaholahola\n"
     ]
    }
   ],
   "source": [
    "def mult(a,b):\n",
    "    c = a*b                      # 5 x hola = holaholaholaholahola\n",
    "    return c\n",
    "\n",
    "print('Multiplicacion de a x b:  ' + str(mult(2,5)))\n",
    "print('Multiplicacion de a x b:  ' + str(mult(5,'hola')))\n"
   ]
  },
  {
   "cell_type": "code",
   "execution_count": 77,
   "metadata": {},
   "outputs": [
    {
     "name": "stdout",
     "output_type": "stream",
     "text": [
      "Doy valor = okey\n",
      "No Doy valor = None\n"
     ]
    }
   ],
   "source": [
    "def vacio(v):\n",
    "    if len(v) > 0:\n",
    "        return \"okey\"\n",
    "    else:\n",
    "        return None\n",
    "    \n",
    "    \n",
    "print(f'Doy valor = {vacio(\"nada\")}')    \n",
    "print(f'No Doy valor = {vacio(\"\")}')    "
   ]
  },
  {
   "cell_type": "code",
   "execution_count": 82,
   "metadata": {},
   "outputs": [
    {
     "name": "stdout",
     "output_type": "stream",
     "text": [
      "Album: 0 Promedio 10.8\n",
      "Album: 1 Promedio 5.5\n",
      "Album: 2 Promedio 2\n",
      "None\n"
     ]
    }
   ],
   "source": [
    "def arryTuple(arry):\n",
    "    for i,s in enumerate(arry):\n",
    "        print('Album:',i,'Promedio',s)\n",
    "\n",
    "ary=[10.8,5.5,2]\n",
    "print(arryTuple(ary))        "
   ]
  },
  {
   "cell_type": "code",
   "execution_count": 87,
   "metadata": {},
   "outputs": [
    {
     "name": "stdout",
     "output_type": "stream",
     "text": [
      "1\n",
      "2\n",
      "3\n"
     ]
    }
   ],
   "source": [
    "d = {'a': 1, 'b': 2, 'c': 3}\n",
    "for dd in d.values():\n",
    "    print(dd)"
   ]
  },
  {
   "cell_type": "code",
   "execution_count": 35,
   "metadata": {},
   "outputs": [
    {
     "name": "stdout",
     "output_type": "stream",
     "text": [
      "DATACAMP!123-456\n"
     ]
    }
   ],
   "source": [
    "case_id = 'DATACAMP!123-456'\n",
    "print(case_id)"
   ]
  },
  {
   "cell_type": "code",
   "execution_count": 6,
   "metadata": {},
   "outputs": [
    {
     "name": "stdout",
     "output_type": "stream",
     "text": [
      "a\n",
      "b\n",
      "c\n"
     ]
    }
   ],
   "source": [
    "myit = iter('abcde')\n",
    "\n",
    "print(next(myit))\n",
    "print(next(myit))\n",
    "print(next(myit))"
   ]
  },
  {
   "cell_type": "code",
   "execution_count": 12,
   "metadata": {},
   "outputs": [
    {
     "name": "stdout",
     "output_type": "stream",
     "text": [
      "Conjunto a = [3 4 5 6 7 8 9], Conjunto b = [1 2 3 4 5 6 7] \n",
      "\n",
      "Interseccion de a y b = [3 4 5 6 7]\n",
      "Multiplico x 2.*Pi = [ 28.27431  50.26544  78.53975 113.09724 153.93791]\n"
     ]
    },
    {
     "data": {
      "image/png": "[encoded data removed]",
      "text/plain": [
       "<Figure size 432x288 with 1 Axes>"
      ]
     },
     "metadata": {
      "needs_background": "light"
     },
     "output_type": "display_data"
    }
   ],
   "source": [
    "# INTERSECCION DE COJUNTOS y Resultado lo exponencio\n",
    "import numpy as np\n",
    "import math as mth\n",
    "h = [n for n in range(1,10)]\n",
    "np_set = np.array(h)\n",
    "np_a = np_set[np_set > 2]      # Creo el Conjunto a = {3,4,5,6,7,8,9}\n",
    "np_b = np_set[np_set < 8]      # Creo el Conjunto b = {1,2,3,4,5,6,7}\n",
    "print(f'Conjunto a = {np_a}, Conjunto b = {np_b} \\n')\n",
    "\n",
    "n = np.intersect1d(np_a,np_b)\n",
    "print(f'Interseccion de a y b = {n}')\n",
    "\n",
    "# multimplico el resultado x 2.pi\n",
    "Pi = 3.14159\n",
    "rslt = Pi*n**2\n",
    "print(f'Multiplico x 2.*Pi = {rslt}')\n",
    "\n",
    "from pylab import plot, show\n",
    "x = n\n",
    "y = rslt\n",
    "plot(x, y)\n",
    "show()"
   ]
  },
  {
   "cell_type": "code",
   "execution_count": 13,
   "metadata": {},
   "outputs": [
    {
     "name": "stdout",
     "output_type": "stream",
     "text": [
      "[1, 4, 9, 16, 25, 36, 49, 64, 81]\n"
     ]
    },
    {
     "data": {
      "text/plain": [
       "[1, 4, 9, 16, 25, 36, 49, 64, 81]"
      ]
     },
     "execution_count": 13,
     "metadata": {},
     "output_type": "execute_result"
    }
   ],
   "source": [
    "x = lambda n,b : ([k**b for k in range(1,10)])\n",
    "conj_b = x(1,2)\n",
    "print(conj_b)\n"
   ]
  },
  {
   "cell_type": "code",
   "execution_count": null,
   "metadata": {},
   "outputs": [],
   "source": []
  }
 ],
 "metadata": {
  "kernelspec": {
   "display_name": "Python 3",
   "language": "python",
   "name": "python3"
  },
  "language_info": {
   "codemirror_mode": {
    "name": "ipython",
    "version": 3
   },
   "file_extension": ".py",
   "mimetype": "text/x-python",
   "name": "python",
   "nbconvert_exporter": "python",
   "pygments_lexer": "ipython3",
   "version": "3.7.6"
  }
 },
 "nbformat": 4,
 "nbformat_minor": 2
}
