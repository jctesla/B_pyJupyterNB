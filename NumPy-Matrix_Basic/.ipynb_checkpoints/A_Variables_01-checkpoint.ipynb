{
 "cells": [
  {
   "cell_type": "code",
   "execution_count": 140,
   "metadata": {},
   "outputs": [
    {
     "name": "stdout",
     "output_type": "stream",
     "text": [
      "Hola Salmi\n"
     ]
    }
   ],
   "source": [
    "print(\"Hola Salmi\")"
   ]
  },
  {
   "cell_type": "markdown",
   "metadata": {},
   "source": [
    "#Es un comentario\n",
    "a=0\n",
    "b=0\n",
    "if a < b:\n",
    "    print(\"Ganaste un Avion!\")\n",
    "elif a==0:\n",
    "    print(\"No debe ser 0 a ni b\")\n",
    "else:\n",
    "    print(\"Intenta de nuevo\")"
   ]
  },
  {
   "cell_type": "code",
   "execution_count": 141,
   "metadata": {},
   "outputs": [
    {
     "name": "stdout",
     "output_type": "stream",
     "text": [
      "This is a function\n",
      "Funcion Multiplica 25 x 2\n",
      "Resultado de funcFun(25)=50\n"
     ]
    }
   ],
   "source": [
    "#definimos una funcion\n",
    "def funcFun(x):\n",
    "    print(f'Funcion Multiplica {x} x 2')\n",
    "    return 2*x\n",
    "\n",
    "print (\"This is a function\")    \n",
    "print(f'Resultado de funcFun(25)={funcFun(25)}')"
   ]
  },
  {
   "cell_type": "code",
   "execution_count": 142,
   "metadata": {},
   "outputs": [
    {
     "name": "stdout",
     "output_type": "stream",
     "text": [
      "Suma de Numeros\n",
      "Funcion SumaNum=18\n"
     ]
    }
   ],
   "source": [
    "def sumaNum(x,y):\n",
    "    print(\"Suma de Numeros\")\n",
    "    return x + y\n",
    "\n",
    "print(f'Funcion SumaNum={sumaNum(8,10)}')"
   ]
  },
  {
   "cell_type": "code",
   "execution_count": 143,
   "metadata": {},
   "outputs": [
    {
     "name": "stdout",
     "output_type": "stream",
     "text": [
      "Calculadora de Peso:\n",
      "Calcula BMI(Body Mass Indicato) Peso= 164.24/lib y Alt=68.5/cm -->Juan Carlos No esta con sobre peso\n"
     ]
    }
   ],
   "source": [
    "#caculadora de peso\n",
    "def calPeso(name,altura,peso):\n",
    "    print(\"Calculadora de Peso:\")\n",
    "    bmi = peso/(altura**2)\n",
    "    if bmi < 25:\n",
    "        return name + \" No esta con sobre peso\"\n",
    "    else:\n",
    "        return name + \" Esta con Sobre peso\"\n",
    "    \n",
    "print(f'Calcula BMI(Body Mass Indicato) Peso= 164.24/lib y Alt=68.5/cm -->{calPeso(\"Juan Carlos\",164.24,68.5)}')"
   ]
  },
  {
   "cell_type": "code",
   "execution_count": 144,
   "metadata": {},
   "outputs": [
    {
     "name": "stdout",
     "output_type": "stream",
     "text": [
      "Tipo de Obj a = <class 'list'> / b = <class 'dict'> / c=<class 'tuple'>\n"
     ]
    }
   ],
   "source": [
    "#usando List, o llamado Array like java\n",
    "a= [3,10,-1]\n",
    "b={'A':65,'B':66}\n",
    "c=(1,2,3)\n",
    "print(f'Tipo de Obj a = {type(a)} / b = {type(b)} / c={type(c)}')   #es del tipo list"
   ]
  },
  {
   "cell_type": "code",
   "execution_count": 145,
   "metadata": {},
   "outputs": [
    {
     "name": "stdout",
     "output_type": "stream",
     "text": [
      "Inicial a=[3, 10, -1]\n",
      "a.append(10)=[3, 10, -1, 10]\n",
      "a.append(\"Hola\")=[3, 10, -1, 10, 'Hola']\n",
      "a.append([0,10])=[3, 10, -1, 10, 'Hola', [0, 10]]\n",
      "a.pop() = [3, 10, -1, 10, 'Hola']\n",
      "a[0] = 100 :. a=[100, 10, -1, 10, 'Hola']\n",
      "a.remove(\"Hola\") :. a =[100, 10, -1, 10]\n",
      "a.index(10) :. a=1\n"
     ]
    }
   ],
   "source": [
    "# declaro un LIST\n",
    "a= [3,10,-1]\n",
    "print(f'Inicial a={a}')\n",
    "a.append(10)\n",
    "print(f'a.append(10)={a}')\n",
    "\n",
    "a.append(\"Hola\")\n",
    "print(f'a.append(\"Hola\")={a}')\n",
    "\n",
    "a.append([0,10])\n",
    "print(f'a.append([0,10])={a}')\n",
    "\n",
    "#a.pop retira el ultimo elemento de la Lista\n",
    "a.pop()\n",
    "print(f'a.pop() = {a}')\n",
    "\n",
    "# modifica elemento\n",
    "a[0] = 100\n",
    "print(f'a[0] = 100 :. a={a}')\n",
    "\n",
    "# remove index\n",
    "a.remove(\"Hola\")\n",
    "print(f'a.remove(\"Hola\") :. a ={a}')\n",
    "\n",
    "# get index\n",
    "print(f'a.index(10) :. a={a.index(10)}')"
   ]
  },
  {
   "cell_type": "markdown",
   "metadata": {},
   "source": [
    "### Contador DownTo, Swap, Indice[ ]"
   ]
  },
  {
   "cell_type": "code",
   "execution_count": 1,
   "metadata": {},
   "outputs": [
    {
     "name": "stdout",
     "output_type": "stream",
     "text": [
      "5\n",
      "4\n",
      "3\n",
      "2\n",
      "1\n",
      "0\n",
      "Inicial f=['bana', 'apple', 'microsoft']\n",
      "Swap f[0],f[2]=f[2],f[0] :. f=['microsoft', 'apple', 'bana']\n",
      "Elemento [0] = microsoft\n",
      "Elemento [1] = apple\n",
      "Elemento [2] = bana\n",
      "Elemento de f=[0][1] = i\n"
     ]
    }
   ],
   "source": [
    "# Down To, contador de Ultimo a Primero\n",
    "a=[1,2,3,4,5]\n",
    "for u in range(len(a),-1,-1):         # (longitud, Start=-1, step=-1)\n",
    "    print(u)\n",
    "\n",
    "\n",
    "#swap intercambio el elemento [0] x elemento [2]\n",
    "f=[\"bana\", \"apple\", \"microsoft\"]\n",
    "print(f'Inicial f={f}')\n",
    "\n",
    "f[0],f[2] = f[2],f[0]\n",
    "print(f'Swap f[0],f[2]=f[2],f[0] :. f={f}')\n",
    "\n",
    "# Loop For\n",
    "c=0\n",
    "for i in f:\n",
    "    print(f'Elemento [{c}] = {i}')\n",
    "    c+=1\n",
    "\n",
    "#Indice del elemento = [0][1]\n",
    "print(f'Elemento de f=[0][1] = {f[0][1]}')    # i del elemento [0] leo el subelemento 1\n"
   ]
  },
  {
   "cell_type": "code",
   "execution_count": 147,
   "metadata": {},
   "outputs": [
    {
     "name": "stdout",
     "output_type": "stream",
     "text": [
      "Total=20\n",
      "Total=30\n",
      "Total=35\n"
     ]
    }
   ],
   "source": [
    "b=[20,10,5]\n",
    "total=0\n",
    "for e in b:\n",
    "    total += e\n",
    "    print(f'Total={total}')"
   ]
  },
  {
   "cell_type": "code",
   "execution_count": 148,
   "metadata": {},
   "outputs": [
    {
     "name": "stdout",
     "output_type": "stream",
     "text": [
      "Valor de c=[1, 2, 3, 4]\n"
     ]
    }
   ],
   "source": [
    "#create a list = array de 0 a 4, no incluye a 5\n",
    "c = list(range(1,5))\n",
    "print(f'Valor de c={c}')"
   ]
  },
  {
   "cell_type": "code",
   "execution_count": 149,
   "metadata": {},
   "outputs": [
    {
     "name": "stdout",
     "output_type": "stream",
     "text": [
      "10\n"
     ]
    }
   ],
   "source": [
    "#va sumar el contenido de c/elemento de la lista de [1,2,3,4] a total2\n",
    "total2=0\n",
    "for i in range(1,5):            # [1,2,3,4]\n",
    "    total2 += i\n",
    "print(total2)"
   ]
  },
  {
   "cell_type": "code",
   "execution_count": 150,
   "metadata": {},
   "outputs": [
    {
     "name": "stdout",
     "output_type": "stream",
     "text": [
      "Integer = 2\n",
      "float = 2.0\n"
     ]
    }
   ],
   "source": [
    "#RESIDUO de la division\n",
    "print(f'Integer = {5%3}')\n",
    "print(f'float = {float(5%3)}')"
   ]
  },
  {
   "cell_type": "code",
   "execution_count": 151,
   "metadata": {},
   "outputs": [
    {
     "name": "stdout",
     "output_type": "stream",
     "text": [
      "Numero Impar:1\n",
      "Numero Par :2\n",
      "Numero Impar:3\n",
      "Numero Par :4\n",
      "Numero Impar:5\n",
      "Numero Par :6\n",
      "Numero Impar:7\n"
     ]
    }
   ],
   "source": [
    "#solo evalua de 0 al 7 no el 8\n",
    "for i in range(1,8):                        # = [1,2,3,4,5,6,7]\n",
    "    if ((i % 2) == 0):\n",
    "        print(\"Numero Par :\" + str(i))\n",
    "    else:\n",
    "        print(\"Numero Impar:\" + str(i))\n",
    "        "
   ]
  },
  {
   "cell_type": "code",
   "execution_count": 152,
   "metadata": {},
   "outputs": [
    {
     "name": "stdout",
     "output_type": "stream",
     "text": [
      "[1, 2, 3, 4, 5, 6, 7, 8, 9, 10, 11, 12, 13, 14, 15, 16, 17, 18, 19, 20, 21, 22, 23, 24, 25, 26, 27, 28, 29]\n",
      "El Numero 3: es multiplo de 3 o 5\n",
      "El Numero 5: es multiplo de 3 o 5\n",
      "El Numero 6: es multiplo de 3 o 5\n",
      "El Numero 9: es multiplo de 3 o 5\n",
      "El Numero 10: es multiplo de 3 o 5\n",
      "El Numero 12: es multiplo de 3 o 5\n",
      "El Numero 15: es multiplo de 3 o 5\n",
      "El Numero 18: es multiplo de 3 o 5\n",
      "El Numero 20: es multiplo de 3 o 5\n",
      "El Numero 21: es multiplo de 3 o 5\n",
      "El Numero 24: es multiplo de 3 o 5\n",
      "El Numero 25: es multiplo de 3 o 5\n",
      "El Numero 27: es multiplo de 3 o 5\n"
     ]
    }
   ],
   "source": [
    "# Multiplos de 3 y 5\n",
    "for i in range(1,30):                # = [1,2,3,4....29]\n",
    "    \n",
    "    #imprimo los elementos\n",
    "    if i==1:\n",
    "        d = list(range(1,30))\n",
    "        print(d)\n",
    "        \n",
    "    #evaluo cual es multiplo de 3 o 5    \n",
    "    if ((i % 3) == 0) or ((i % 5) == 0):\n",
    "        print(\"El Numero \"+ str(i) + \": es multiplo de 3 o 5\")\n",
    "\n",
    "        "
   ]
  },
  {
   "cell_type": "code",
   "execution_count": 153,
   "metadata": {},
   "outputs": [
    {
     "name": "stdout",
     "output_type": "stream",
     "text": [
      "El nro 153 es =  ImPar : 153\n"
     ]
    }
   ],
   "source": [
    "def par_impar(x):\n",
    "    if ((x%2)==0):\n",
    "        return(\" Par : \" + str(x))\n",
    "    if ((x%3)==0):\n",
    "        return(\" ImPar : \" + str(x))\n",
    "print(f'El nro 153 es = {par_impar(153)}')\n"
   ]
  },
  {
   "cell_type": "code",
   "execution_count": 154,
   "metadata": {},
   "outputs": [
    {
     "name": "stdout",
     "output_type": "stream",
     "text": [
      "10\n"
     ]
    }
   ],
   "source": [
    "# Usando While\n",
    "total=0\n",
    "j=1\n",
    "while j < 5:\n",
    "    total += j\n",
    "    j +=1\n",
    "print(total)    "
   ]
  },
  {
   "cell_type": "code",
   "execution_count": 155,
   "metadata": {},
   "outputs": [
    {
     "name": "stdout",
     "output_type": "stream",
     "text": [
      "21\n"
     ]
    }
   ],
   "source": [
    "lista = [5,4,4,3,-1,-2,-3,5]       # arreglo de list es mutable\n",
    "i = 0\n",
    "total=0\n",
    "longitud = len(lista)\n",
    "while i < longitud:\n",
    "    if lista[i] > 0:\n",
    "        total += lista[i]\n",
    "    i += 1\n",
    "    \n",
    "print(total)"
   ]
  },
  {
   "cell_type": "code",
   "execution_count": 156,
   "metadata": {},
   "outputs": [
    {
     "name": "stdout",
     "output_type": "stream",
     "text": [
      "b\n",
      "a\n"
     ]
    }
   ],
   "source": [
    "tuple1=(1,2,('a','b'),'c','0')      # Tupla parentisis son inmutables.\n",
    "print(tuple1[2][1])\n",
    "print(tuple1[2][0])\n"
   ]
  },
  {
   "cell_type": "code",
   "execution_count": 157,
   "metadata": {},
   "outputs": [
    {
     "name": "stdout",
     "output_type": "stream",
     "text": [
      "b\n",
      "c\n",
      "(1, 2, ('a', 'b', ('c', 'd')), 'e', 0)\n"
     ]
    }
   ],
   "source": [
    "tup=(1,2,('a','b',('c','d')),'e',0)\n",
    "print(tup[2][1])                     # jala el 3er elemento y de este 3ro jaja el 2do elemento.(indice begin in 0) = 'b'\n",
    "print(tup[2][2][0])                  #                 \n",
    "#tup[0] = 'z'                         # las tuplas q son como arreglos con parentisis, son inmutables, no se pueden modificar.\n",
    "print(tup)"
   ]
  },
  {
   "cell_type": "code",
   "execution_count": 158,
   "metadata": {},
   "outputs": [
    {
     "name": "stdout",
     "output_type": "stream",
     "text": [
      "['hola', 1, 10.1, 'A', 'a', 'b']\n"
     ]
    }
   ],
   "source": [
    "# Lista contienes dif tipos de variables.\n",
    "lst=['hola',1,10.1]\n",
    "lst.append(\"A\")                     # agrega al arreglo la letra \"A\"\n",
    "lst.extend(['a','b'])               # extiende el arreglo en su formato.\n",
    "print(lst)"
   ]
  },
  {
   "cell_type": "code",
   "execution_count": 159,
   "metadata": {},
   "outputs": [
    {
     "name": "stdout",
     "output_type": "stream",
     "text": [
      "['hola', 'A', 1, 10.1, 'amigo']\n",
      "['A', 1, 10.1, 'amigo']\n",
      "['A', 10.1, 'amigo']\n",
      "['A', 10.1]\n"
     ]
    }
   ],
   "source": [
    "lst=['hola','A',1,10.1,'amigo']\n",
    "print(lst)\n",
    "del(lst[0])          # borra el q le indiqe 1er eleento del arreglo\n",
    "print(lst)\n",
    "lst.pop(1)           # borra el ultimo elemento del arreglo\n",
    "print(lst)\n",
    "lst.pop()            # imprime todo los elementos.\n",
    "print(lst)"
   ]
  },
  {
   "cell_type": "code",
   "execution_count": 160,
   "metadata": {},
   "outputs": [
    {
     "name": "stdout",
     "output_type": "stream",
     "text": [
      "['hola', 'amigo', 'querido']\n",
      "['hola', 'amigo', 'querido', 'Buenos dias']\n",
      "['hola', 'amigo', 'querido', 'Buenos dias', 'sales', 'teqedas']\n",
      "['hola', 'amigo', 'querido', 'Buenos dias', 'sales', 'teqedas', ['a', 'b']]\n",
      "<class 'list'>\n"
     ]
    }
   ],
   "source": [
    "# usando SPLIT\n",
    "h=\"hola-amigo-querido\"\n",
    "f=h.split('-')                  # divide con delimitador = '-' y crea un arreglo.\n",
    "print(f)\n",
    "f.append('Buenos dias')         # agrega un elemento al inicio del arreglo 'h'\n",
    "print(f)\n",
    "f.extend(['sales','teqedas'])   # agrega un elemento al final del arreglo 'h'\n",
    "print(f)\n",
    "f.append(['a','b'])             # agrega al fina del arreglo.\n",
    "print(f)\n",
    "print(type(f))"
   ]
  },
  {
   "cell_type": "code",
   "execution_count": 161,
   "metadata": {},
   "outputs": [
    {
     "name": "stdout",
     "output_type": "stream",
     "text": [
      "ho\n",
      "hola\n"
     ]
    }
   ],
   "source": [
    "a='hola'\n",
    "c=a[0:2]                          # copia a 'c' desde indice=0 2 elementos 0 'ho'.\n",
    "print(c)\n",
    "d=a[:]                            # copia todo el arreglo\n",
    "print(d)\n"
   ]
  },
  {
   "cell_type": "code",
   "execution_count": 162,
   "metadata": {},
   "outputs": [
    {
     "name": "stdout",
     "output_type": "stream",
     "text": [
      "1\n",
      "1\n",
      "11\n"
     ]
    }
   ],
   "source": [
    "#Definimos una Variable Global\n",
    "def pinkFloy():\n",
    "    global varGlb             # defino una var global en la funcion.-\n",
    "    print(varGlb)             # solo hereda el estatus de GLOBAL x no borra su contenido.\n",
    "    varGlb=10                 # Defino una VariableGloal.\n",
    "    return varGlb\n",
    "    \n",
    "varGlb = 1\n",
    "print(varGlb)\n",
    "pinkFloy()\n",
    "print(varGlb + 1)"
   ]
  },
  {
   "cell_type": "code",
   "execution_count": 163,
   "metadata": {},
   "outputs": [
    {
     "name": "stdout",
     "output_type": "stream",
     "text": [
      "10\n"
     ]
    }
   ],
   "source": [
    "#Global Variables\n",
    "rating = 9                 #Vaiable Global\n",
    "\n",
    "def suma(y):\n",
    "    #print(rating)\n",
    "    return(rating + y)\n",
    "\n",
    "print(suma(1))\n"
   ]
  },
  {
   "cell_type": "code",
   "execution_count": 164,
   "metadata": {},
   "outputs": [
    {
     "name": "stdout",
     "output_type": "stream",
     "text": [
      "<class 'tuple'>\n",
      "-------------------\n",
      "dict = {'a': 65, 'b': 66, 99: 'HOLA'}\n",
      "Los keys = dict_keys(['a', 'b', 99])\n",
      "key=99 contiene elemento = HOLA\n",
      "key=b contiene elemento = 66\n",
      "-------------------\n",
      "<class 'list'>\n",
      "99\n",
      "-------------------\n",
      "Imprimo los keys y valores en un for.-\n",
      "indice=0 y su contenido=65\n",
      "indice=1 y su contenido=66\n",
      "indice=2 y su contenido=HOLA\n",
      "-------------------\n",
      "{'a': 65, 'b': 66, 99: 'HOLA'}\n",
      "{'a': 65, 'b': 'adios', 99: 'HOLA'}\n"
     ]
    }
   ],
   "source": [
    "tuple01 = ('hola','okey')                              # tupla usa () es inmutable\n",
    "print(type(tuple01))                       \n",
    "\n",
    "print(\"-------------------\")\n",
    "diccionario= {'a':65,'b':66, 99:'HOLA'}                # diccionario usa {} es mutable, aqui keys:<int> y contenido=<str>\n",
    "print(f'dict = {diccionario}')                         # muestra los keys y sus contenidos. \n",
    "print(f'Los keys = {diccionario.keys()}')              # muestra el contenido de sus keys, mas no los keys.\n",
    "print(f'key=99 contiene elemento = {diccionario[99]}') # muestra el contenido del key=99\n",
    "print(f'key=b contiene elemento = {diccionario[\"b\"]}') # muestra el contenido del key=b\n",
    "\n",
    "print(\"-------------------\")\n",
    "arry = list(diccionario)                               # convierto un Dict a List solo pasan los valores no los keys.\n",
    "print(type(arry))\n",
    "print(arry[2])\n",
    "\n",
    "\n",
    "print(\"-------------------\")\n",
    "print(\"Imprimo los keys y valores en un for.-\")\n",
    "for k,v in enumerate(diccionario):\n",
    "    print(f'indice={k} y su contenido={diccionario[v]}')\n",
    "\n",
    "    \n",
    "print(\"-------------------\")    \n",
    "print(diccionario)\n",
    "diccionario['b'] = 'adios'                             # modifico el elemento 1 del diccionario\n",
    "print(diccionario)\n",
    "    \n"
   ]
  },
  {
   "cell_type": "code",
   "execution_count": 165,
   "metadata": {},
   "outputs": [
    {
     "name": "stdout",
     "output_type": "stream",
     "text": [
      "Hola\n",
      "-------------------\n",
      "<class 'list'>\n"
     ]
    }
   ],
   "source": [
    "tupla = ('hola','valores',1,3.2)\n",
    "t = tupla[0].replace('h','H')                          # reemplazo un elemento del arreglo.\n",
    "print(t)\n",
    "\n",
    "print(\"-------------------\")    \n",
    "newArry = list(tupla)                                  # convierto un tupla a list array\n",
    "print(type(newArry))\n",
    "\n"
   ]
  },
  {
   "cell_type": "code",
   "execution_count": 166,
   "metadata": {},
   "outputs": [
    {
     "name": "stdout",
     "output_type": "stream",
     "text": [
      "indice=0 key=uno\n",
      "indice=1 key=dos\n",
      "indice=2 key=tres\n",
      "indice=3 key=cuatro\n",
      "Keys=['uno', 'dos', 'tres', 'cuatro']  /  val=[1, 2, 3, 4]\n",
      "\n"
     ]
    }
   ],
   "source": [
    "dic01 = {'uno':1,'dos':2,'tres':3,'cuatro':4}        # diccionario keys=<str> contendido=<int>\n",
    "for i,k in enumerate(dic01):                         # enumerate = Enumerate () agrega un contador a un iterable \n",
    "    print(f'indice={i} key={k}')                     # for k,v in dict.items()\n",
    "\n",
    "listKey = list(dic01.keys())\n",
    "listVal = list(dic01.values())\n",
    "    \n",
    "# Listado de arreglos de Keys y Valores.    \n",
    "print(f'Keys={listKey}  /  val={listVal}\\n')"
   ]
  },
  {
   "cell_type": "code",
   "execution_count": 167,
   "metadata": {},
   "outputs": [
    {
     "name": "stdout",
     "output_type": "stream",
     "text": [
      "tipo enumerate = <class 'enumerate'>\n",
      "tipo enumerate = <class 'enumerate'>\n",
      "new list l1 enumerada= [(0, 'eat'), (1, 'sleep'), (2, 'repeat')]\n",
      "new list l2 enumerada= [(0, 'g'), (1, 'e'), (2, 'e'), (3, 'k')]\n",
      "\n",
      "-------------------\n",
      "Enumerate l1[0] = eat\n",
      "Enumerate l1[1] = sleep\n",
      "Enumerate l1[2] = repeat\n",
      "\n",
      "-------------------\n",
      "Enumerate l2 [0] = g\n",
      "Enumerate l2 [1] = e\n",
      "Enumerate l2 [2] = e\n",
      "Enumerate l2 [3] = k\n"
     ]
    }
   ],
   "source": [
    "# enumerate function \n",
    "l1 = [\"eat\",\"sleep\",\"repeat\"]                             # es un List oarreglo.\n",
    "l2 = \"geek\"                                               # un string es similar a u list\n",
    "  \n",
    "# creating a enumerate list\n",
    "print(f'tipo enumerate = {type(enumerate(l1))}')          # detecta el tipo <class 'enumerate'>\n",
    "print(f'tipo enumerate = {type(enumerate(l2))}')          # detecta el tipo <class 'enumerate'>\n",
    "print(f'new list l1 enumerada= { list(enumerate(l1)) }')  # list modifica el arreglo, pero Obj esta enumerado para q se pueda ver es necesario cast list\n",
    "print(f'new list l2 enumerada= { list(enumerate(l2)) }')  # list modifica el arreglo, pero Obj esta enumerado para q se pueda ver es necesario cast list\n",
    "print()\n",
    "\n",
    "\n",
    "# creo como un diccionario key=indices y value=elementos.\n",
    "print(\"-------------------\")\n",
    "for i,ii in enumerate(l1):                                # i = contenido indice+contenido  ii= solo contenido.\n",
    "    print(f'Enumerate l1[{i}] = {ii}')\n",
    "print()\n",
    "\n",
    "print(\"-------------------\")    \n",
    "for j,jj in enumerate(l2):                                # i = contenido indice+contenido  ii= solo contenido.\n",
    "    print(f'Enumerate l2 [{j}] = {jj}')"
   ]
  },
  {
   "cell_type": "code",
   "execution_count": 168,
   "metadata": {},
   "outputs": [
    {
     "name": "stdout",
     "output_type": "stream",
     "text": [
      "[   0    1    4    9   16   25   36   49   64   81  100  121  144  169\n",
      "  196  225  256  289  324  361  400  441  484  529  576  625  676  729\n",
      "  784  841  900  961 1024 1089 1156 1225 1296 1369 1444 1521 1600 1681\n",
      " 1764 1849 1936 2025 2116 2209 2304 2401 2500 2601 2704 2809 2916 3025\n",
      " 3136 3249 3364 3481 3600 3721 3844 3969 4096 4225 4356 4489 4624 4761\n",
      " 4900 5041 5184 5329 5476 5625 5776 5929 6084 6241 6400 6561 6724 6889\n",
      " 7056 7225 7396 7569 7744 7921 8100 8281 8464 8649 8836 9025 9216 9409\n",
      " 9604 9801]\n"
     ]
    }
   ],
   "source": [
    "# NumPy de 1 arreglo, puedo hacer opeaciones con matrices arraglos.\n",
    "import numpy as np\n",
    "a = [num for num in range(100)]          # arreglo simple List\n",
    "np_b = np.array(a)                        # creo un arreglo de numpy\n",
    "\n",
    "rslt = np_b**2                            # genero un calculo matematico p todo el arreglo\n",
    "print(rslt)"
   ]
  },
  {
   "cell_type": "code",
   "execution_count": 16,
   "metadata": {},
   "outputs": [
    {
     "name": "stdout",
     "output_type": "stream",
     "text": [
      "Radians    Degrees    Expected\n",
      "-------- -------- --------\n",
      "    0.00     0.00     0.00\n",
      "    0.52    30.00    30.00\n",
      "    0.79    45.00    45.00\n",
      "    1.05    60.00    60.00\n",
      "    1.57    90.00    90.00\n",
      "    3.14   180.00   180.00\n",
      "    4.71   270.00   270.00\n",
      "    6.28   360.00   360.00\n"
     ]
    }
   ],
   "source": [
    "#Tabla de Equivalencia de Radianes, Grados \n",
    "import math\n",
    "\n",
    "INPUTS = [\n",
    "    (0, 0),\n",
    "    (math.pi / 6, 30),\n",
    "    (math.pi / 4, 45),\n",
    "    (math.pi / 3, 60),\n",
    "    (math.pi / 2, 90),\n",
    "    (math.pi, 180),\n",
    "    (3 * math.pi / 2, 270),\n",
    "    (2 * math.pi, 360),\n",
    "]\n",
    "\n",
    "print(f'Radians    Degrees    Expected')\n",
    "print('{:-^8} {:-^8} {:-^8}'.format('', '', ''))\n",
    "for rad, expected in INPUTS:\n",
    "    print('{:8.2f} {:8.2f} {:8.2f}'.format(\n",
    "        rad,\n",
    "        math.degrees(rad),\n",
    "        expected,\n",
    "    ))"
   ]
  },
  {
   "cell_type": "code",
   "execution_count": 1,
   "metadata": {},
   "outputs": [
    {
     "data": {
      "image/png": "[encoded data removed]",
      "text/plain": [
       "<Figure size 432x288 with 1 Axes>"
      ]
     },
     "metadata": {
      "needs_background": "light"
     },
     "output_type": "display_data"
    }
   ],
   "source": [
    "# Creamos un Ploteo simple\n",
    "from pylab import plot, show\n",
    "x = [1, 2, 3]\n",
    "y = [2, 4, 6]\n",
    "plot(x, y)\n",
    "show()"
   ]
  },
  {
   "cell_type": "code",
   "execution_count": 41,
   "metadata": {},
   "outputs": [
    {
     "data": {
      "image/png": "[encoded data removed]",
      "text/plain": [
       "<Figure size 432x288 with 1 Axes>"
      ]
     },
     "metadata": {
      "needs_background": "light"
     },
     "output_type": "display_data"
    }
   ],
   "source": [
    "# Derivada de x^2 = 2x\n",
    "ecuOrig = lambda x : x**2 + 5                 # Curva x^2\n",
    "ecuDeriv= lambda x : 2*x                      # Recta 2x\n",
    "fncOrigX = [ecuOrig(n) for n in range(-40,40)]\n",
    "fncDerivX = [ecuDeriv(n) for n in range(-40,40)]\n",
    "funcY = [n for n in range(-40,40)]\n",
    "plot(funcY,fncOrigX)\n",
    "plot(funcY,fncDerivX)\n",
    "show()"
   ]
  },
  {
   "cell_type": "code",
   "execution_count": 31,
   "metadata": {},
   "outputs": [
    {
     "data": {
      "image/png": "[encoded data removed]",
      "text/plain": [
       "<Figure size 432x288 with 1 Axes>"
      ]
     },
     "metadata": {
      "needs_background": "light"
     },
     "output_type": "display_data"
    }
   ],
   "source": [
    "# Derivada de Seno\n",
    "import math\n",
    "ecuOrig = lambda x : math.sin(math.radians(x))        # Seno convierto x a grados\n",
    "ecuDeriv= lambda x : math.cos(math.radians(x))        # derivada de Seno \n",
    "fncOrigX = [ecuOrig(n) for n in range(-180,180)]\n",
    "fncDerivX = [ecuDeriv(n) for n in range(-180,180)]\n",
    "funcY = [n for n in range(-180,180)]\n",
    "plot(funcY,fncOrigX)\n",
    "plot(funcY,fncDerivX)\n",
    "show()"
   ]
  },
  {
   "cell_type": "markdown",
   "metadata": {
    "slideshow": {
     "slide_type": "-"
    }
   },
   "source": [
    "<img src=\"formulaSegCuadrado.png\" width=\"240\" height=\"240\" align=\"left\"/>\n"
   ]
  },
  {
   "cell_type": "code",
   "execution_count": 190,
   "metadata": {},
   "outputs": [
    {
     "name": "stdout",
     "output_type": "stream",
     "text": [
      "la Funcion01 = ejeXa tiene=[4, 7, 12, 19, 28, 39, 52, 67, 84, 103, 124, 147, 172, 199, 228] / ejeYa tiene=[0, 1, 2, 3, 4, 5, 6, 7, 8, 9, 10, 11, 12, 13, 14] \n",
      "\n",
      "la Funcion02 = ejeXb tiene=[8, 20, 32, 44, 56, 68, 80, 92, 104, 116, 128, 140, 152, 164, 176] / ejeYb tiene=[0, 1, 2, 3, 4, 5, 6, 7, 8, 9, 10, 11, 12, 13, 14]\n",
      "Resultado de ejeXa - ejeXb = [   0    1    4    9   16   25   36   49   64   81  100  121  144  169\n",
      "  196  225  256  289  324  361  400  441  484  529  576  625  676  729\n",
      "  784  841  900  961 1024 1089 1156 1225 1296 1369 1444 1521 1600 1681\n",
      " 1764 1849 1936 2025 2116 2209 2304 2401 2500 2601 2704 2809 2916 3025\n",
      " 3136 3249 3364 3481 3600 3721 3844 3969 4096 4225 4356 4489 4624 4761\n",
      " 4900 5041 5184 5329 5476 5625 5776 5929 6084 6241 6400 6561 6724 6889\n",
      " 7056 7225 7396 7569 7744 7921 8100 8281 8464 8649 8836 9025 9216 9409\n",
      " 9604 9801]\n",
      "\n"
     ]
    },
    {
     "data": {
      "image/png": "[encoded data removed]",
      "text/plain": [
       "<Figure size 432x288 with 1 Axes>"
      ]
     },
     "metadata": {
      "needs_background": "light"
     },
     "output_type": "display_data"
    }
   ],
   "source": [
    "# NumPy de 2 Arreglos y uso de lambda. \n",
    "func01 = lambda x : x**2 + 2*x + 4                 # ecu de una exponencial positiva\n",
    "ejeXa = [func01(nX) for nX in range(15)]\n",
    "ejeYa = [nY for nY in range(15)]\n",
    "\n",
    "func02 = lambda x : 12*x + 8                       # ecu de una recta\n",
    "ejeXb = [func02(nX) for nX in range(15)]\n",
    "ejeYb = ejeYa\n",
    "\n",
    "print(f'la Funcion01 = ejeXa tiene={ejeXa} / ejeYa tiene={ejeYa} \\n')\n",
    "print(f'la Funcion02 = ejeXb tiene={ejeXb} / ejeYb tiene={ejeYb}')\n",
    "\n",
    "# Calculo el Punto de Interseccion de las 2 ecu, es decir igualdad:\n",
    "# ecu01 = ecu02 :. x^2 + 2x + 4 = 12x + 8\n",
    "# x^2 + 2x + 4 - 12x - 8 = 0 :.  eciFinal --> x^2 -10x -4 = 0\n",
    "# Applicamos la Ecu de  Arriba :.\n",
    "# rslt = ejeXa - ejeXb\n",
    "print(f'Resultado de ejeXa - ejeXb = {rslt}\\n')\n",
    "\n",
    "# Calculo las intersecciones de las 2 ecu:\n",
    "plot(ejeXa, ejeYa)\n",
    "plot(ejeXb, ejeYb)\n",
    "show()\n"
   ]
  },
  {
   "cell_type": "code",
   "execution_count": 196,
   "metadata": {},
   "outputs": [
    {
     "name": "stdout",
     "output_type": "stream",
     "text": [
      "3\n",
      "82\n",
      "ejeX=[10, 13, 34, 91, 202, 385, 658, 1039, 1546, 2197, 3010, 4003, 5194, 6601, 8242, 10135, 12298, 14749, 17506, 20587] 7 ejeY=[0, 1, 2, 3, 4, 5, 6, 7, 8, 9, 10, 11, 12, 13, 14, 15, 16, 17, 18, 19]\n"
     ]
    },
    {
     "data": {
      "image/png": "[encoded data removed]",
      "text/plain": [
       "<Figure size 432x288 with 1 Axes>"
      ]
     },
     "metadata": {
      "needs_background": "light"
     },
     "output_type": "display_data"
    }
   ],
   "source": [
    "# Lambda con 2 variables.\n",
    "adder = lambda x,y : x + y\n",
    "print (adder (1, 2))\n",
    "\n",
    "# Lambda para crear una ecuacion de una parabola grado: 3\n",
    "ecu = lambda x,b : 3*x**3 + b\n",
    "print(ecu(3,1))\n",
    "\n",
    "# le damos datos a la Ecu:\n",
    "ejeX = [ecu(n,10) for n in range(20)]\n",
    "ejeY = [n for n in range(20)]\n",
    "print(f'ejeX={ejeX} 7 ejeY={ejeY}')\n",
    "\n",
    "# Ploteamos en ecu:\n",
    "plot(ejeX, ejeY)\n",
    "show()\n"
   ]
  },
  {
   "cell_type": "code",
   "execution_count": 297,
   "metadata": {},
   "outputs": [
    {
     "name": "stdout",
     "output_type": "stream",
     "text": [
      "rango de x in x>7 or x<2 = [-1, 0, 1, 8, 9, 10]\n",
      "\n",
      "\n",
      "-----------------------------\n",
      "Solo existen estas vocales: ['e', 'e', 'i']\n",
      "<class 'filter'>\n",
      "\n",
      "-----------------------------\n",
      "Solo existen estas vocales: ['e', 'e', 'i']\n",
      "\n",
      "-----------------------------\n",
      "Solo existen estas vocales: ['e', 'e', 'i']\n"
     ]
    }
   ],
   "source": [
    "# USANDO <<filter>> permite llamar a una funcion desde un Arreglo.\n",
    "\n",
    "# --------- Alg FILTER --------\n",
    "# valores q cumplen condicion (x>7 y x<2)\n",
    "def rango(x):\n",
    "    if (x>7 or x<2):\n",
    "        return True\n",
    "    else:\n",
    "        return False\n",
    "\n",
    "secuenciaIn = [-1,0,1,2,3,4,5,6,7,8,9,10]\n",
    "\n",
    "nm = filter(rango, secuenciaIn)\n",
    "print(f'rango de x in x>7 or x<2 = {list(nm)}\\n')\n",
    "\n",
    "\n",
    "\n",
    "# --------- Alg FILTER --------\n",
    "# funcion que evalua si existe el elemento,filtro:\n",
    "print('\\n-----------------------------')\n",
    "\n",
    "def vocales(variable): \n",
    "    letters = ['a', 'e', 'i', 'o', 'u']                   # mi filtro de elementos.\n",
    "    if (variable in letters): \n",
    "        return True\n",
    "    else:\n",
    "        return False\n",
    "    \n",
    "# tengo esta data de entrada, sequence.-\n",
    "sequence = ['g', 'e', 'e', 'j', 'k', 'i', 'p', 'r']       # secuencia de entrada de elementos.\n",
    "\n",
    "filtered = filter(vocales, sequence) \n",
    "print(f'Solo existen estas vocales: {list(filtered)}')\n",
    "print(type(filtered))\n",
    "\n",
    "\n",
    "\n",
    "# --------- Alg Equivalente --------\n",
    "print('\\n-----------------------------')\n",
    "\n",
    "def busca(a):                                             # filtro\n",
    "    letras=['a', 'e', 'i', 'o', 'u']  \n",
    "    i=0\n",
    "    while i < len(letras):\n",
    "        if (a in letras): \n",
    "            return True\n",
    "        else:\n",
    "            return False\n",
    "\n",
    "        \n",
    "sequence = ['g', 'e', 'e', 'j', 'k', 'i', 'p', 'r']       # secuencia de entrada de elementos.        \n",
    "vocales=[]\n",
    "for u in sequence:\n",
    "    if busca(u):\n",
    "        vocales.append(u)\n",
    "        \n",
    "print(f'Solo existen estas vocales: {vocales}')\n",
    "\n",
    "\n",
    "\n",
    "# --------- Alg Equivalente --------\n",
    "print('\\n-----------------------------')\n",
    "\n",
    "sequence = ['g', 'e', 'e', 'j', 'k', 'i', 'p', 'r']       # secuencia de entrada de elementos.        \n",
    "letras=['a', 'e', 'i', 'o', 'u']                          # filtro\n",
    "vocales=[]\n",
    "\n",
    "for u in sequence:\n",
    "    if u in letras:\n",
    "        vocales.append(u)\n",
    "\n",
    "print(f'Solo existen estas vocales: {vocales}')\n",
    "        \n"
   ]
  },
  {
   "cell_type": "code",
   "execution_count": 234,
   "metadata": {},
   "outputs": [
    {
     "name": "stdout",
     "output_type": "stream",
     "text": [
      "Hora Actual = 08:43:00\n",
      "Hora Actual = 08:43:00.334995\n",
      "NY time: 09:43:00\n",
      "London time: 14:43:00\n",
      "time world: Africa/Abidjan\n",
      "time world: Africa/Accra\n",
      "time world: Africa/Addis_Ababa\n",
      "time world: Africa/Algiers\n",
      "time world: Africa/Asmara\n",
      "time world: Africa/Asmera\n",
      "time world: Africa/Bamako\n",
      "time world: Africa/Bangui\n",
      "time world: Africa/Banjul\n",
      "time world: Africa/Bissau\n",
      "time world: Africa/Blantyre\n",
      "time world: Africa/Brazzaville\n",
      "time world: Africa/Bujumbura\n",
      "time world: Africa/Cairo\n",
      "time world: Africa/Casablanca\n",
      "time world: Africa/Ceuta\n",
      "time world: Africa/Conakry\n",
      "time world: Africa/Dakar\n",
      "time world: Africa/Dar_es_Salaam\n",
      "time world: Africa/Djibouti\n",
      "time world: Africa/Douala\n",
      "time world: Africa/El_Aaiun\n",
      "time world: Africa/Freetown\n",
      "time world: Africa/Gaborone\n",
      "time world: Africa/Harare\n",
      "time world: Africa/Johannesburg\n",
      "time world: Africa/Juba\n",
      "time world: Africa/Kampala\n",
      "time world: Africa/Khartoum\n",
      "time world: Africa/Kigali\n",
      "time world: Africa/Kinshasa\n",
      "time world: Africa/Lagos\n",
      "time world: Africa/Libreville\n",
      "time world: Africa/Lome\n",
      "time world: Africa/Luanda\n",
      "time world: Africa/Lubumbashi\n",
      "time world: Africa/Lusaka\n",
      "time world: Africa/Malabo\n",
      "time world: Africa/Maputo\n",
      "time world: Africa/Maseru\n",
      "time world: Africa/Mbabane\n",
      "time world: Africa/Mogadishu\n",
      "time world: Africa/Monrovia\n",
      "time world: Africa/Nairobi\n",
      "time world: Africa/Ndjamena\n",
      "time world: Africa/Niamey\n",
      "time world: Africa/Nouakchott\n",
      "time world: Africa/Ouagadougou\n",
      "time world: Africa/Porto-Novo\n",
      "time world: Africa/Sao_Tome\n",
      "time world: Africa/Timbuktu\n",
      "time world: Africa/Tripoli\n",
      "time world: Africa/Tunis\n",
      "time world: Africa/Windhoek\n",
      "time world: America/Adak\n",
      "time world: America/Anchorage\n",
      "time world: America/Anguilla\n",
      "time world: America/Antigua\n",
      "time world: America/Araguaina\n",
      "time world: America/Argentina/Buenos_Aires\n",
      "time world: America/Argentina/Catamarca\n",
      "time world: America/Argentina/ComodRivadavia\n",
      "time world: America/Argentina/Cordoba\n",
      "time world: America/Argentina/Jujuy\n",
      "time world: America/Argentina/La_Rioja\n",
      "time world: America/Argentina/Mendoza\n",
      "time world: America/Argentina/Rio_Gallegos\n",
      "time world: America/Argentina/Salta\n",
      "time world: America/Argentina/San_Juan\n",
      "time world: America/Argentina/San_Luis\n",
      "time world: America/Argentina/Tucuman\n",
      "time world: America/Argentina/Ushuaia\n",
      "time world: America/Aruba\n",
      "time world: America/Asuncion\n",
      "time world: America/Atikokan\n",
      "time world: America/Atka\n",
      "time world: America/Bahia\n",
      "time world: America/Bahia_Banderas\n",
      "time world: America/Barbados\n",
      "time world: America/Belem\n",
      "time world: America/Belize\n",
      "time world: America/Blanc-Sablon\n",
      "time world: America/Boa_Vista\n",
      "time world: America/Bogota\n",
      "time world: America/Boise\n",
      "time world: America/Buenos_Aires\n",
      "time world: America/Cambridge_Bay\n",
      "time world: America/Campo_Grande\n",
      "time world: America/Cancun\n",
      "time world: America/Caracas\n",
      "time world: America/Catamarca\n",
      "time world: America/Cayenne\n",
      "time world: America/Cayman\n",
      "time world: America/Chicago\n",
      "time world: America/Chihuahua\n",
      "time world: America/Coral_Harbour\n",
      "time world: America/Cordoba\n",
      "time world: America/Costa_Rica\n",
      "time world: America/Creston\n",
      "time world: America/Cuiaba\n",
      "time world: America/Curacao\n",
      "time world: America/Danmarkshavn\n",
      "time world: America/Dawson\n",
      "time world: America/Dawson_Creek\n",
      "time world: America/Denver\n",
      "time world: America/Detroit\n",
      "time world: America/Dominica\n",
      "time world: America/Edmonton\n",
      "time world: America/Eirunepe\n",
      "time world: America/El_Salvador\n",
      "time world: America/Ensenada\n",
      "time world: America/Fort_Nelson\n",
      "time world: America/Fort_Wayne\n",
      "time world: America/Fortaleza\n",
      "time world: America/Glace_Bay\n",
      "time world: America/Godthab\n",
      "time world: America/Goose_Bay\n",
      "time world: America/Grand_Turk\n",
      "time world: America/Grenada\n",
      "time world: America/Guadeloupe\n",
      "time world: America/Guatemala\n",
      "time world: America/Guayaquil\n",
      "time world: America/Guyana\n",
      "time world: America/Halifax\n",
      "time world: America/Havana\n",
      "time world: America/Hermosillo\n",
      "time world: America/Indiana/Indianapolis\n",
      "time world: America/Indiana/Knox\n",
      "time world: America/Indiana/Marengo\n",
      "time world: America/Indiana/Petersburg\n",
      "time world: America/Indiana/Tell_City\n",
      "time world: America/Indiana/Vevay\n",
      "time world: America/Indiana/Vincennes\n",
      "time world: America/Indiana/Winamac\n",
      "time world: America/Indianapolis\n",
      "time world: America/Inuvik\n",
      "time world: America/Iqaluit\n",
      "time world: America/Jamaica\n",
      "time world: America/Jujuy\n",
      "time world: America/Juneau\n",
      "time world: America/Kentucky/Louisville\n",
      "time world: America/Kentucky/Monticello\n",
      "time world: America/Knox_IN\n",
      "time world: America/Kralendijk\n",
      "time world: America/La_Paz\n",
      "time world: America/Lima\n",
      "time world: America/Los_Angeles\n",
      "time world: America/Louisville\n",
      "time world: America/Lower_Princes\n",
      "time world: America/Maceio\n",
      "time world: America/Managua\n",
      "time world: America/Manaus\n",
      "time world: America/Marigot\n",
      "time world: America/Martinique\n",
      "time world: America/Matamoros\n",
      "time world: America/Mazatlan\n",
      "time world: America/Mendoza\n",
      "time world: America/Menominee\n",
      "time world: America/Merida\n",
      "time world: America/Metlakatla\n",
      "time world: America/Mexico_City\n",
      "time world: America/Miquelon\n",
      "time world: America/Moncton\n",
      "time world: America/Monterrey\n",
      "time world: America/Montevideo\n",
      "time world: America/Montreal\n",
      "time world: America/Montserrat\n",
      "time world: America/Nassau\n",
      "time world: America/New_York\n",
      "time world: America/Nipigon\n",
      "time world: America/Nome\n",
      "time world: America/Noronha\n",
      "time world: America/North_Dakota/Beulah\n",
      "time world: America/North_Dakota/Center\n",
      "time world: America/North_Dakota/New_Salem\n",
      "time world: America/Nuuk\n",
      "time world: America/Ojinaga\n",
      "time world: America/Panama\n",
      "time world: America/Pangnirtung\n",
      "time world: America/Paramaribo\n",
      "time world: America/Phoenix\n",
      "time world: America/Port-au-Prince\n",
      "time world: America/Port_of_Spain\n",
      "time world: America/Porto_Acre\n",
      "time world: America/Porto_Velho\n",
      "time world: America/Puerto_Rico\n",
      "time world: America/Punta_Arenas\n",
      "time world: America/Rainy_River\n",
      "time world: America/Rankin_Inlet\n",
      "time world: America/Recife\n",
      "time world: America/Regina\n",
      "time world: America/Resolute\n",
      "time world: America/Rio_Branco\n",
      "time world: America/Rosario\n",
      "time world: America/Santa_Isabel\n",
      "time world: America/Santarem\n",
      "time world: America/Santiago\n",
      "time world: America/Santo_Domingo\n",
      "time world: America/Sao_Paulo\n",
      "time world: America/Scoresbysund\n",
      "time world: America/Shiprock\n",
      "time world: America/Sitka\n",
      "time world: America/St_Barthelemy\n",
      "time world: America/St_Johns\n",
      "time world: America/St_Kitts\n",
      "time world: America/St_Lucia\n",
      "time world: America/St_Thomas\n",
      "time world: America/St_Vincent\n",
      "time world: America/Swift_Current\n",
      "time world: America/Tegucigalpa\n",
      "time world: America/Thule\n",
      "time world: America/Thunder_Bay\n",
      "time world: America/Tijuana\n",
      "time world: America/Toronto\n",
      "time world: America/Tortola\n",
      "time world: America/Vancouver\n",
      "time world: America/Virgin\n",
      "time world: America/Whitehorse\n",
      "time world: America/Winnipeg\n",
      "time world: America/Yakutat\n",
      "time world: America/Yellowknife\n",
      "time world: Antarctica/Casey\n",
      "time world: Antarctica/Davis\n",
      "time world: Antarctica/DumontDUrville\n",
      "time world: Antarctica/Macquarie\n",
      "time world: Antarctica/Mawson\n",
      "time world: Antarctica/McMurdo\n",
      "time world: Antarctica/Palmer\n",
      "time world: Antarctica/Rothera\n",
      "time world: Antarctica/South_Pole\n",
      "time world: Antarctica/Syowa\n",
      "time world: Antarctica/Troll\n",
      "time world: Antarctica/Vostok\n",
      "time world: Arctic/Longyearbyen\n",
      "time world: Asia/Aden\n",
      "time world: Asia/Almaty\n",
      "time world: Asia/Amman\n",
      "time world: Asia/Anadyr\n",
      "time world: Asia/Aqtau\n",
      "time world: Asia/Aqtobe\n",
      "time world: Asia/Ashgabat\n",
      "time world: Asia/Ashkhabad\n",
      "time world: Asia/Atyrau\n",
      "time world: Asia/Baghdad\n",
      "time world: Asia/Bahrain\n",
      "time world: Asia/Baku\n",
      "time world: Asia/Bangkok\n",
      "time world: Asia/Barnaul\n",
      "time world: Asia/Beirut\n",
      "time world: Asia/Bishkek\n",
      "time world: Asia/Brunei\n",
      "time world: Asia/Calcutta\n",
      "time world: Asia/Chita\n",
      "time world: Asia/Choibalsan\n",
      "time world: Asia/Chongqing\n",
      "time world: Asia/Chungking\n",
      "time world: Asia/Colombo\n",
      "time world: Asia/Dacca\n",
      "time world: Asia/Damascus\n",
      "time world: Asia/Dhaka\n",
      "time world: Asia/Dili\n",
      "time world: Asia/Dubai\n",
      "time world: Asia/Dushanbe\n",
      "time world: Asia/Famagusta\n",
      "time world: Asia/Gaza\n",
      "time world: Asia/Harbin\n",
      "time world: Asia/Hebron\n",
      "time world: Asia/Ho_Chi_Minh\n",
      "time world: Asia/Hong_Kong\n",
      "time world: Asia/Hovd\n",
      "time world: Asia/Irkutsk\n",
      "time world: Asia/Istanbul\n",
      "time world: Asia/Jakarta\n",
      "time world: Asia/Jayapura\n",
      "time world: Asia/Jerusalem\n",
      "time world: Asia/Kabul\n",
      "time world: Asia/Kamchatka\n",
      "time world: Asia/Karachi\n",
      "time world: Asia/Kashgar\n",
      "time world: Asia/Kathmandu\n",
      "time world: Asia/Katmandu\n",
      "time world: Asia/Khandyga\n",
      "time world: Asia/Kolkata\n",
      "time world: Asia/Krasnoyarsk\n",
      "time world: Asia/Kuala_Lumpur\n",
      "time world: Asia/Kuching\n",
      "time world: Asia/Kuwait\n",
      "time world: Asia/Macao\n",
      "time world: Asia/Macau\n",
      "time world: Asia/Magadan\n",
      "time world: Asia/Makassar\n",
      "time world: Asia/Manila\n",
      "time world: Asia/Muscat\n",
      "time world: Asia/Nicosia\n",
      "time world: Asia/Novokuznetsk\n",
      "time world: Asia/Novosibirsk\n",
      "time world: Asia/Omsk\n",
      "time world: Asia/Oral\n",
      "time world: Asia/Phnom_Penh\n",
      "time world: Asia/Pontianak\n",
      "time world: Asia/Pyongyang\n",
      "time world: Asia/Qatar\n",
      "time world: Asia/Qostanay\n",
      "time world: Asia/Qyzylorda\n",
      "time world: Asia/Rangoon\n",
      "time world: Asia/Riyadh\n",
      "time world: Asia/Saigon\n",
      "time world: Asia/Sakhalin\n",
      "time world: Asia/Samarkand\n",
      "time world: Asia/Seoul\n",
      "time world: Asia/Shanghai\n",
      "time world: Asia/Singapore\n",
      "time world: Asia/Srednekolymsk\n",
      "time world: Asia/Taipei\n",
      "time world: Asia/Tashkent\n",
      "time world: Asia/Tbilisi\n",
      "time world: Asia/Tehran\n",
      "time world: Asia/Tel_Aviv\n",
      "time world: Asia/Thimbu\n",
      "time world: Asia/Thimphu\n",
      "time world: Asia/Tokyo\n",
      "time world: Asia/Tomsk\n",
      "time world: Asia/Ujung_Pandang\n",
      "time world: Asia/Ulaanbaatar\n",
      "time world: Asia/Ulan_Bator\n",
      "time world: Asia/Urumqi\n",
      "time world: Asia/Ust-Nera\n",
      "time world: Asia/Vientiane\n",
      "time world: Asia/Vladivostok\n",
      "time world: Asia/Yakutsk\n",
      "time world: Asia/Yangon\n",
      "time world: Asia/Yekaterinburg\n",
      "time world: Asia/Yerevan\n",
      "time world: Atlantic/Azores\n",
      "time world: Atlantic/Bermuda\n",
      "time world: Atlantic/Canary\n",
      "time world: Atlantic/Cape_Verde\n",
      "time world: Atlantic/Faeroe\n",
      "time world: Atlantic/Faroe\n",
      "time world: Atlantic/Jan_Mayen\n",
      "time world: Atlantic/Madeira\n",
      "time world: Atlantic/Reykjavik\n",
      "time world: Atlantic/South_Georgia\n",
      "time world: Atlantic/St_Helena\n",
      "time world: Atlantic/Stanley\n",
      "time world: Australia/ACT\n",
      "time world: Australia/Adelaide\n",
      "time world: Australia/Brisbane\n",
      "time world: Australia/Broken_Hill\n",
      "time world: Australia/Canberra\n",
      "time world: Australia/Currie\n",
      "time world: Australia/Darwin\n",
      "time world: Australia/Eucla\n",
      "time world: Australia/Hobart\n",
      "time world: Australia/LHI\n",
      "time world: Australia/Lindeman\n",
      "time world: Australia/Lord_Howe\n",
      "time world: Australia/Melbourne\n",
      "time world: Australia/NSW\n",
      "time world: Australia/North\n",
      "time world: Australia/Perth\n",
      "time world: Australia/Queensland\n",
      "time world: Australia/South\n",
      "time world: Australia/Sydney\n",
      "time world: Australia/Tasmania\n",
      "time world: Australia/Victoria\n",
      "time world: Australia/West\n",
      "time world: Australia/Yancowinna\n",
      "time world: Brazil/Acre\n",
      "time world: Brazil/DeNoronha\n",
      "time world: Brazil/East\n",
      "time world: Brazil/West\n",
      "time world: CET\n",
      "time world: CST6CDT\n",
      "time world: Canada/Atlantic\n",
      "time world: Canada/Central\n",
      "time world: Canada/Eastern\n",
      "time world: Canada/Mountain\n",
      "time world: Canada/Newfoundland\n",
      "time world: Canada/Pacific\n",
      "time world: Canada/Saskatchewan\n",
      "time world: Canada/Yukon\n",
      "time world: Chile/Continental\n",
      "time world: Chile/EasterIsland\n",
      "time world: Cuba\n",
      "time world: EET\n",
      "time world: EST\n",
      "time world: EST5EDT\n",
      "time world: Egypt\n",
      "time world: Eire\n",
      "time world: Etc/GMT\n",
      "time world: Etc/GMT+0\n",
      "time world: Etc/GMT+1\n",
      "time world: Etc/GMT+10\n",
      "time world: Etc/GMT+11\n",
      "time world: Etc/GMT+12\n",
      "time world: Etc/GMT+2\n",
      "time world: Etc/GMT+3\n",
      "time world: Etc/GMT+4\n",
      "time world: Etc/GMT+5\n",
      "time world: Etc/GMT+6\n",
      "time world: Etc/GMT+7\n",
      "time world: Etc/GMT+8\n",
      "time world: Etc/GMT+9\n",
      "time world: Etc/GMT-0\n",
      "time world: Etc/GMT-1\n",
      "time world: Etc/GMT-10\n",
      "time world: Etc/GMT-11\n",
      "time world: Etc/GMT-12\n",
      "time world: Etc/GMT-13\n",
      "time world: Etc/GMT-14\n",
      "time world: Etc/GMT-2\n",
      "time world: Etc/GMT-3\n",
      "time world: Etc/GMT-4\n",
      "time world: Etc/GMT-5\n",
      "time world: Etc/GMT-6\n",
      "time world: Etc/GMT-7\n",
      "time world: Etc/GMT-8\n",
      "time world: Etc/GMT-9\n",
      "time world: Etc/GMT0\n",
      "time world: Etc/Greenwich\n",
      "time world: Etc/UCT\n",
      "time world: Etc/UTC\n",
      "time world: Etc/Universal\n",
      "time world: Etc/Zulu\n",
      "time world: Europe/Amsterdam\n",
      "time world: Europe/Andorra\n",
      "time world: Europe/Astrakhan\n",
      "time world: Europe/Athens\n",
      "time world: Europe/Belfast\n",
      "time world: Europe/Belgrade\n",
      "time world: Europe/Berlin\n",
      "time world: Europe/Bratislava\n",
      "time world: Europe/Brussels\n",
      "time world: Europe/Bucharest\n",
      "time world: Europe/Budapest\n",
      "time world: Europe/Busingen\n",
      "time world: Europe/Chisinau\n",
      "time world: Europe/Copenhagen\n",
      "time world: Europe/Dublin\n",
      "time world: Europe/Gibraltar\n",
      "time world: Europe/Guernsey\n",
      "time world: Europe/Helsinki\n",
      "time world: Europe/Isle_of_Man\n",
      "time world: Europe/Istanbul\n",
      "time world: Europe/Jersey\n",
      "time world: Europe/Kaliningrad\n",
      "time world: Europe/Kiev\n",
      "time world: Europe/Kirov\n",
      "time world: Europe/Lisbon\n",
      "time world: Europe/Ljubljana\n",
      "time world: Europe/London\n",
      "time world: Europe/Luxembourg\n",
      "time world: Europe/Madrid\n",
      "time world: Europe/Malta\n",
      "time world: Europe/Mariehamn\n",
      "time world: Europe/Minsk\n",
      "time world: Europe/Monaco\n",
      "time world: Europe/Moscow\n",
      "time world: Europe/Nicosia\n",
      "time world: Europe/Oslo\n",
      "time world: Europe/Paris\n",
      "time world: Europe/Podgorica\n",
      "time world: Europe/Prague\n",
      "time world: Europe/Riga\n",
      "time world: Europe/Rome\n",
      "time world: Europe/Samara\n",
      "time world: Europe/San_Marino\n",
      "time world: Europe/Sarajevo\n",
      "time world: Europe/Saratov\n",
      "time world: Europe/Simferopol\n",
      "time world: Europe/Skopje\n",
      "time world: Europe/Sofia\n",
      "time world: Europe/Stockholm\n",
      "time world: Europe/Tallinn\n",
      "time world: Europe/Tirane\n",
      "time world: Europe/Tiraspol\n",
      "time world: Europe/Ulyanovsk\n",
      "time world: Europe/Uzhgorod\n",
      "time world: Europe/Vaduz\n",
      "time world: Europe/Vatican\n",
      "time world: Europe/Vienna\n",
      "time world: Europe/Vilnius\n",
      "time world: Europe/Volgograd\n",
      "time world: Europe/Warsaw\n",
      "time world: Europe/Zagreb\n",
      "time world: Europe/Zaporozhye\n",
      "time world: Europe/Zurich\n",
      "time world: GB\n",
      "time world: GB-Eire\n",
      "time world: GMT\n",
      "time world: GMT+0\n",
      "time world: GMT-0\n",
      "time world: GMT0\n",
      "time world: Greenwich\n",
      "time world: HST\n",
      "time world: Hongkong\n",
      "time world: Iceland\n",
      "time world: Indian/Antananarivo\n",
      "time world: Indian/Chagos\n",
      "time world: Indian/Christmas\n",
      "time world: Indian/Cocos\n",
      "time world: Indian/Comoro\n",
      "time world: Indian/Kerguelen\n",
      "time world: Indian/Mahe\n",
      "time world: Indian/Maldives\n",
      "time world: Indian/Mauritius\n",
      "time world: Indian/Mayotte\n",
      "time world: Indian/Reunion\n",
      "time world: Iran\n",
      "time world: Israel\n",
      "time world: Jamaica\n",
      "time world: Japan\n",
      "time world: Kwajalein\n",
      "time world: Libya\n",
      "time world: MET\n",
      "time world: MST\n",
      "time world: MST7MDT\n",
      "time world: Mexico/BajaNorte\n",
      "time world: Mexico/BajaSur\n",
      "time world: Mexico/General\n",
      "time world: NZ\n",
      "time world: NZ-CHAT\n",
      "time world: Navajo\n",
      "time world: PRC\n",
      "time world: PST8PDT\n",
      "time world: Pacific/Apia\n",
      "time world: Pacific/Auckland\n",
      "time world: Pacific/Bougainville\n",
      "time world: Pacific/Chatham\n",
      "time world: Pacific/Chuuk\n",
      "time world: Pacific/Easter\n",
      "time world: Pacific/Efate\n",
      "time world: Pacific/Enderbury\n",
      "time world: Pacific/Fakaofo\n",
      "time world: Pacific/Fiji\n",
      "time world: Pacific/Funafuti\n",
      "time world: Pacific/Galapagos\n",
      "time world: Pacific/Gambier\n",
      "time world: Pacific/Guadalcanal\n",
      "time world: Pacific/Guam\n",
      "time world: Pacific/Honolulu\n",
      "time world: Pacific/Johnston\n",
      "time world: Pacific/Kiritimati\n",
      "time world: Pacific/Kosrae\n",
      "time world: Pacific/Kwajalein\n",
      "time world: Pacific/Majuro\n",
      "time world: Pacific/Marquesas\n",
      "time world: Pacific/Midway\n",
      "time world: Pacific/Nauru\n",
      "time world: Pacific/Niue\n",
      "time world: Pacific/Norfolk\n",
      "time world: Pacific/Noumea\n",
      "time world: Pacific/Pago_Pago\n",
      "time world: Pacific/Palau\n",
      "time world: Pacific/Pitcairn\n",
      "time world: Pacific/Pohnpei\n",
      "time world: Pacific/Ponape\n",
      "time world: Pacific/Port_Moresby\n",
      "time world: Pacific/Rarotonga\n",
      "time world: Pacific/Saipan\n",
      "time world: Pacific/Samoa\n",
      "time world: Pacific/Tahiti\n",
      "time world: Pacific/Tarawa\n",
      "time world: Pacific/Tongatapu\n",
      "time world: Pacific/Truk\n",
      "time world: Pacific/Wake\n",
      "time world: Pacific/Wallis\n",
      "time world: Pacific/Yap\n",
      "time world: Poland\n",
      "time world: Portugal\n",
      "time world: ROC\n",
      "time world: ROK\n",
      "time world: Singapore\n",
      "time world: Turkey\n",
      "time world: UCT\n",
      "time world: US/Alaska\n",
      "time world: US/Aleutian\n",
      "time world: US/Arizona\n",
      "time world: US/Central\n",
      "time world: US/East-Indiana\n",
      "time world: US/Eastern\n",
      "time world: US/Hawaii\n",
      "time world: US/Indiana-Starke\n",
      "time world: US/Michigan\n",
      "time world: US/Mountain\n",
      "time world: US/Pacific\n",
      "time world: US/Samoa\n",
      "time world: UTC\n",
      "time world: Universal\n",
      "time world: W-SU\n",
      "time world: WET\n",
      "time world: Zulu\n"
     ]
    }
   ],
   "source": [
    "# como imprimir el tiempo\n",
    "from datetime import datetime as dyt\n",
    "now = dyt.now()\n",
    "\n",
    "tiempo_01 = now.strftime(\"%H:%M:%S\")          # Formato de Tiempo\n",
    "print(\"Hora Actual =\", tiempo_01)\n",
    "\n",
    "tiempo_02 = now.time()                        # Formato comun.\n",
    "print(\"Hora Actual =\", tiempo_02)\n",
    "\n",
    "\n",
    "# ZONAS HORARIAS DE OTROS PAISES.\n",
    "# http://pytz.sourceforge.net/\n",
    "import pytz\n",
    "tz_NY = pytz.timezone('America/New_York') \n",
    "datetime_NY = datetime.now(tz_NY)\n",
    "print(\"NY time:\", datetime_NY.strftime(\"%H:%M:%S\"))\n",
    "\n",
    "tz_London = pytz.timezone('Europe/London')\n",
    "datetime_London = datetime.now(tz_London)\n",
    "print(\"London time:\", datetime_London.strftime(\"%H:%M:%S\"))\n",
    "\n",
    "arryTimeZ = pytz.all_timezones\n",
    "for u in arryTimeZ:\n",
    "    print(\"time world:\", u)\n"
   ]
  },
  {
   "cell_type": "code",
   "execution_count": 2,
   "metadata": {},
   "outputs": [
    {
     "name": "stdout",
     "output_type": "stream",
     "text": [
      "Run Thread Time... = 22:02:48 \n",
      "\n",
      "HOLA Time... = 22:02:53 \n",
      "\n"
     ]
    }
   ],
   "source": [
    "import threading,timer \n",
    "from datetime import datetime as dyt\n",
    "\n",
    "def tiempo():\n",
    "    return dyt.now().strftime(\"%H:%M:%S\")\n",
    "\n",
    "def saludo():\n",
    "    print(f'HOLA Time... = {tiempo()} \\n') \n",
    "\n",
    "timer = threading.Timer(5.0, saludo)    # despues de '5seg' print\n",
    "timer.start()\n",
    "\n",
    "print(f'Run Thread Time... = {tiempo()} \\n') \n",
    "#timer.cancel()\n",
    "#print(\"Exit\\n\") \n",
    "\n"
   ]
  },
  {
   "cell_type": "code",
   "execution_count": 299,
   "metadata": {},
   "outputs": [
    {
     "name": "stdout",
     "output_type": "stream",
     "text": [
      "Inicio = 00:14:30\n",
      "HOLA Time... = 00:14:31 \n",
      "\n",
      "...........\n",
      "Saludos! = 00:14:35\n"
     ]
    }
   ],
   "source": [
    "import threading, timer\n",
    "from datetime import datetime as dyt\n",
    "\n",
    "def tiempo():\n",
    "    return dyt.now().strftime(\"%H:%M:%S\")\n",
    "\n",
    "# ----------------\n",
    "class saludo():\n",
    "    def __init__(self, saludo):\n",
    "        self.saludo = saludo\n",
    "        \n",
    "    def outSaludo(self):\n",
    "        print(self.saludo + \" = \"+ tiempo())       # cuando termina el hilo se ejecuta la funcion.\n",
    "        t.cancel()                                 # cancelamos el hilo de tiempo.\n",
    "\n",
    "# -----------------\n",
    "print(\"Inicio = \" + tiempo())\n",
    "s = saludo(\"\\nSaludos!\")\n",
    "t = threading.Timer(5.0, s.outSaludo) \n",
    "t.start()\n",
    "\n",
    "\n",
    "# Espera a 5 segundo, miesntras esper imprimiendo puntitos.\n",
    "pnts = \"\"\n",
    "while(t.is_alive()):\n",
    "    pnts += \".\"\n",
    "    print(pnts, end='\\r')\n",
    "    time.sleep(0.5)\n",
    "\n"
   ]
  },
  {
   "cell_type": "code",
   "execution_count": 3,
   "metadata": {},
   "outputs": [
    {
     "name": "stdout",
     "output_type": "stream",
     "text": [
      "Inicio = 22:02:55\n",
      "0.0\r",
      "0.0\r"
     ]
    },
    {
     "ename": "NameError",
     "evalue": "name 'time' is not defined",
     "output_type": "error",
     "traceback": [
      "\u001b[1;31m---------------------------------------------------------------------------\u001b[0m",
      "\u001b[1;31mNameError\u001b[0m                                 Traceback (most recent call last)",
      "\u001b[1;32m<ipython-input-3-fd67d77c85b0>\u001b[0m in \u001b[0;36m<module>\u001b[1;34m\u001b[0m\n\u001b[0;32m     27\u001b[0m \u001b[1;32mwhile\u001b[0m\u001b[1;33m(\u001b[0m\u001b[0mthrd\u001b[0m\u001b[1;33m.\u001b[0m\u001b[0mis_alive\u001b[0m\u001b[1;33m(\u001b[0m\u001b[1;33m)\u001b[0m\u001b[1;33m)\u001b[0m\u001b[1;33m:\u001b[0m\u001b[1;33m\u001b[0m\u001b[1;33m\u001b[0m\u001b[0m\n\u001b[0;32m     28\u001b[0m     \u001b[0mprint\u001b[0m\u001b[1;33m(\u001b[0m\u001b[0mdly\u001b[0m\u001b[1;33m,\u001b[0m \u001b[0mend\u001b[0m\u001b[1;33m=\u001b[0m\u001b[1;34m'\\r'\u001b[0m\u001b[1;33m)\u001b[0m\u001b[1;33m\u001b[0m\u001b[1;33m\u001b[0m\u001b[0m\n\u001b[1;32m---> 29\u001b[1;33m     \u001b[0mtime\u001b[0m\u001b[1;33m.\u001b[0m\u001b[0msleep\u001b[0m\u001b[1;33m(\u001b[0m\u001b[1;36m0.1\u001b[0m\u001b[1;33m)\u001b[0m\u001b[1;33m\u001b[0m\u001b[1;33m\u001b[0m\u001b[0m\n\u001b[0m\u001b[0;32m     30\u001b[0m     \u001b[0mdly\u001b[0m\u001b[1;33m+=\u001b[0m\u001b[1;36m0.1\u001b[0m\u001b[1;33m\u001b[0m\u001b[1;33m\u001b[0m\u001b[0m\n",
      "\u001b[1;31mNameError\u001b[0m: name 'time' is not defined"
     ]
    },
    {
     "name": "stdout",
     "output_type": "stream",
     "text": [
      "\n",
      "Termino = 22:03:07\n"
     ]
    },
    {
     "name": "stderr",
     "output_type": "stream",
     "text": [
      "Exception in thread Thread-7:\n",
      "Traceback (most recent call last):\n",
      "  File \"C:\\ProgramData\\Anaconda3\\lib\\threading.py\", line 926, in _bootstrap_inner\n",
      "    self.run()\n",
      "  File \"C:\\ProgramData\\Anaconda3\\lib\\threading.py\", line 1177, in run\n",
      "    self.function(*self.args, **self.kwargs)\n",
      "  File \"<ipython-input-3-fd67d77c85b0>\", line 15, in outMsg\n",
      "    t.cancel()\n",
      "NameError: name 't' is not defined\n",
      "\n"
     ]
    }
   ],
   "source": [
    "# Lanzamos Threads con tiempos Programados\n",
    "import threading, timer\n",
    "from datetime import datetime as dyt\n",
    "\n",
    "def tiempo():\n",
    "    return dyt.now().strftime(\"%H:%M:%S\")\n",
    "\n",
    "# -----------------\n",
    "class msg():\n",
    "    def __init__(self, saludo):\n",
    "        self.saludo = saludo\n",
    "        \n",
    "    def outMsg(self):\n",
    "        print(self.saludo + \" = \" + tiempo())\n",
    "        t.cancel()\n",
    "\n",
    "# -----------------\n",
    "print(\"Inicio = \" + tiempo())\n",
    "s = msg(\"\\nTermino\")\n",
    "thrd = threading.Timer(12.0, s.outMsg)              # Lanzo el Hilo\n",
    "thrd.start()                                        # Cuando termina el hilo se ejecuta la funcion.\n",
    "\n",
    "\n",
    "# Espera 5seg, mientras imprime puntitos.\n",
    "dly=0.0\n",
    "print(dly, end='\\r')\n",
    "while(thrd.is_alive()):\n",
    "    print(dly, end='\\r')\n",
    "    time.sleep(0.1)\n",
    "    dly+=0.1"
   ]
  },
  {
   "cell_type": "code",
   "execution_count": 319,
   "metadata": {},
   "outputs": [
    {
     "name": "stdout",
     "output_type": "stream",
     "text": [
      "Inicio: lanzo 3 Threads = 00:58:44\n",
      "Thread-0... Inicio = 00:58:44\n",
      "Thread-1... Inicio = 00:58:44\n",
      "Thread-2... Inicio = 00:58:44\n",
      "Thread-0... Termino = 00:58:49\n",
      "Thread-1... Termino = 00:58:49\n",
      "Thread-2... Termino = 00:58:49\n"
     ]
    }
   ],
   "source": [
    "# Lanzamiento de Varios Thread sin Esperar a q Termine el 1ro\n",
    "# Aqui los Threads no tienen u tiempo pre-programado sino lo q duren.\n",
    "import threading, time \n",
    "from datetime import datetime as dyt\n",
    "\n",
    "def tiempo():\n",
    "    return dyt.now().strftime(\"%H:%M:%S\")\n",
    "\n",
    "def msg(name):\n",
    "    print(f'Thread-{name}... Inicio = {tiempo()}')\n",
    "    time.sleep(5)                                  # Representa el tiempo de un blucle propio de la Funcion.\n",
    "    print(f'Thread-{name}... Termino = {tiempo()}')\n",
    "\n",
    "Thrd=[]\n",
    "print(f'Inicio: lanzo 3 Threads = {tiempo()}')\n",
    "for u in range(3):\n",
    "    Td = threading.Thread(target=msg, args=(u,))\n",
    "    Thrd.append(Td)\n",
    "    Td.start()\n",
    "    #Td.join()                                       # NO Espera a q Termine el Thread Inicial p seguir el sgnt Thread\n"
   ]
  },
  {
   "cell_type": "code",
   "execution_count": 320,
   "metadata": {},
   "outputs": [
    {
     "name": "stdout",
     "output_type": "stream",
     "text": [
      "Inicio: lanzo 3 Threads = 00:58:59\n",
      "Thread-0... Inicio = 00:58:59\n",
      "Thread-0... Termino = 00:59:04\n",
      "Thread-1... Inicio = 00:59:04\n",
      "Thread-1... Termino = 00:59:09\n",
      "Thread-2... Inicio = 00:59:09\n",
      "Thread-2... Termino = 00:59:14\n"
     ]
    }
   ],
   "source": [
    "# Lanzamiento de Thread Esperando a q Termine el 1ro\n",
    "import threading, time \n",
    "from datetime import datetime as dyt\n",
    "\n",
    "def tiempo():\n",
    "    return dyt.now().strftime(\"%H:%M:%S\")\n",
    "\n",
    "def msg(name):\n",
    "    print(f'Thread-{name}... Inicio = {tiempo()}')\n",
    "    time.sleep(5)\n",
    "    print(f'Thread-{name}... Termino = {tiempo()}')\n",
    "\n",
    "Thrd=[]\n",
    "print(f'Inicio: lanzo 3 Threads = {tiempo()}')\n",
    "for u in range(3):\n",
    "    Td = threading.Thread(target=msg, args=(u,))\n",
    "    Thrd.append(Td)\n",
    "    Td.start()\n",
    "    Td.join()                                           # Espera a q Termine el Thread Inicial p seguir el sgnt Thread\n",
    "\n",
    "#for idx, thrd in enumerate(Thrd):\n",
    "#    thrd.join()\n"
   ]
  },
  {
   "cell_type": "code",
   "execution_count": null,
   "metadata": {},
   "outputs": [],
   "source": [
    "# manejo de Etiquetas o mensajes logs.\n",
    "import logging\n",
    "format = \"%(asctime)s: %(message)s\"\n",
    "logging.basicConfig(format=format, level=logging.INFO, datefmt=\"%H:%M:%S\")"
   ]
  }
 ],
 "metadata": {
  "celltoolbar": "Slideshow",
  "kernelspec": {
   "display_name": "Python [conda env:root] *",
   "language": "python",
   "name": "conda-root-py"
  },
  "language_info": {
   "codemirror_mode": {
    "name": "ipython",
    "version": 3
   },
   "file_extension": ".py",
   "mimetype": "text/x-python",
   "name": "python",
   "nbconvert_exporter": "python",
   "pygments_lexer": "ipython3",
   "version": "3.7.6"
  }
 },
 "nbformat": 4,
 "nbformat_minor": 2
}
