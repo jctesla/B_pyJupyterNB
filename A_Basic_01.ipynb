{
 "cells": [
  {
   "cell_type": "markdown",
   "metadata": {},
   "source": [
    "<h1 style=\"background-color:powderblue;text-align:center;\">BASIC</h1>"
   ]
  },
  {
   "cell_type": "code",
   "execution_count": 27,
   "metadata": {},
   "outputs": [
    {
     "name": "stdout",
     "output_type": "stream",
     "text": [
      "Ganaste un Avion!\n"
     ]
    }
   ],
   "source": [
    "#Es un comentario\n",
    "'''\n",
    "comentario largo para mayor explicacion\n",
    "'''\n",
    "print(\"Ganaste un Avion!\")"
   ]
  },
  {
   "cell_type": "markdown",
   "metadata": {},
   "source": [
    "<h1 style=\"background-color:powderblue;\"> DIVISION RESIDUO COCIENTE</h1>"
   ]
  },
  {
   "cell_type": "code",
   "execution_count": 34,
   "metadata": {},
   "outputs": [
    {
     "name": "stdout",
     "output_type": "stream",
     "text": [
      "Division, cociente = 2\n",
      "Division, cociente = 1\n",
      "Division, Residuo = 0\n",
      "Division, Residuo = 2\n",
      "float = 2.0\n"
     ]
    }
   ],
   "source": [
    "#RESIDUO de la division\n",
    "print(f'Division, cociente = {6//3}')\n",
    "print(f'Division, cociente = {5//3}')\n",
    "print(f'Division, Residuo = {6%3}')\n",
    "print(f'Division, Residuo = {5%3}')\n",
    "print(f'float = {float(5%3)}')"
   ]
  },
  {
   "cell_type": "markdown",
   "metadata": {},
   "source": [
    "<h1 style=\"background-color:powderblue;\">Random-Global(var)-Continue-Pass-break-lambda-yield-map-Filter</h1>"
   ]
  },
  {
   "cell_type": "code",
   "execution_count": 2,
   "metadata": {
    "scrolled": true
   },
   "outputs": [
    {
     "name": "stdout",
     "output_type": "stream",
     "text": [
      "Muestra = 19\n",
      "Aleatorio Entero =[76, 12, 80, 73, 28, 45, 98, 74, 68, 39]\n",
      "Aleatorio FloatDec =[0.24, 0.01, 0.62, 0.93, 0.47, 0.2, 0.98, 0.38, 0.7, 0.11]\n",
      "Aleatorio FloatEnt =[74.17, 78.23, 21.59, 10.95, 49.11, 17.69, 14.08, 63.46, 31.09, 12.47]\n"
     ]
    }
   ],
   "source": [
    "# Generamos un Arreglo de Numeros aleatorios\n",
    "import random\n",
    "\n",
    "def aleEntero():\n",
    "    return(int(random.random()*100))                       # entre 0 y 100\n",
    "\n",
    "def aleFloatDec():\n",
    "    return(float('{0:.2f}'.format(random.random())))       # decimales 0 y 100\n",
    "\n",
    "def aleFloatEnt():\n",
    "    return(float('{0:.2f}'.format(random.random()*100)))   # decimales 0 y 100\n",
    "\n",
    "print(f'Muestra = {aleEntero()}')\n",
    "d = [aleEntero() for n in range(10)]\n",
    "print(f'Aleatorio Entero ={d}')\n",
    "\n",
    "f = [aleFloatDec() for n in range(10)]\n",
    "print(f'Aleatorio FloatDec ={f}')\n",
    "\n",
    "g = [aleFloatEnt() for n in range(10)]\n",
    "print(f'Aleatorio FloatEnt ={g}')\n"
   ]
  },
  {
   "cell_type": "code",
   "execution_count": 12,
   "metadata": {},
   "outputs": [
    {
     "name": "stdout",
     "output_type": "stream",
     "text": [
      "[20, 60, 10, 70]\n",
      "41.966441424516546\n",
      "['Manzana', 'Palta', 'Papaya', 'Piña', 'Platano']\n",
      "45\n"
     ]
    }
   ],
   "source": [
    "# Generamos un aleatorio x sample, muestra sobre un rango dado\n",
    "import random\n",
    "n = random.sample([10,20,30,40,50,60,70,80],4)\n",
    "print(n)                                                    # [50, 30, 60, 70]\n",
    "\n",
    "# Return a Nro entre 10 y 90\n",
    "nn = random.uniform(10,90)                                  # 70.5321227988551\n",
    "print(nn)\n",
    "\n",
    "# Baraja los elemnts del Arreglo\n",
    "L = ['Palta', 'Papaya', 'Manzana', 'Platano', 'Piña']\n",
    "random.shuffle(L)\n",
    "print(L)                                                    # ['Manzana', 'Papaya', 'Platano', 'Palta', 'Piña']\n",
    "\n",
    "# \n",
    "L = random.randrange(12,100)\n",
    "print(L)"
   ]
  },
  {
   "cell_type": "code",
   "execution_count": 61,
   "metadata": {},
   "outputs": [
    {
     "name": "stdout",
     "output_type": "stream",
     "text": [
      "1\n",
      "1\n",
      "11\n"
     ]
    }
   ],
   "source": [
    "# uso de una Variable Global y return\n",
    "def pinkFloy():\n",
    "    global varGlb             # defino una var global en la funcion.-\n",
    "    print(varGlb)             # solo hereda el estatus de GLOBAL x no borra su contenido.\n",
    "    varGlb=10                 # le doy una valor nuevo\n",
    "    return varGlb\n",
    "    \n",
    "varGlb = 1\n",
    "pinkFloy()\n",
    "print(varGlb + 1)"
   ]
  },
  {
   "cell_type": "code",
   "execution_count": 3,
   "metadata": {},
   "outputs": [
    {
     "name": "stdout",
     "output_type": "stream",
     "text": [
      "Number=0\n",
      "Number=1\n",
      "Number=2\n",
      "Number=3\n",
      "Number=4\n",
      "Number=6\n",
      "Out of loop\n"
     ]
    }
   ],
   "source": [
    "# continue\n",
    "num = 0\n",
    "for num in range(7):\n",
    "    if num == 5:\n",
    "        continue                      # continue w the next sentences of for.\n",
    "    print('Number=' + str(num))       # if number =5,el PC no llega se va arriba al sgnt for.\n",
    "\n",
    "print('Out of loop')"
   ]
  },
  {
   "cell_type": "code",
   "execution_count": 4,
   "metadata": {},
   "outputs": [
    {
     "name": "stdout",
     "output_type": "stream",
     "text": [
      "Number=0\n",
      "Number=1\n",
      "Number=2\n",
      "Number=3\n",
      "Number=4\n",
      "Number=50\n",
      "Number=6\n",
      "Out of loop\n"
     ]
    }
   ],
   "source": [
    "# pass\n",
    "num = 0\n",
    "for num in range(7):\n",
    "    if num == 5:\n",
    "        num = num*10\n",
    "        pass                             # continúe ejecutando el bucle\n",
    "    print('Number=' + str(num))\n",
    "\n",
    "print('Out of loop')"
   ]
  },
  {
   "cell_type": "code",
   "execution_count": 6,
   "metadata": {},
   "outputs": [
    {
     "name": "stdout",
     "output_type": "stream",
     "text": [
      "81\n"
     ]
    }
   ],
   "source": [
    "# Lambda\n",
    "rslt_x = lambda x : x**2  if(x!=10)  else x+2\n",
    "print(rslt_x(9))"
   ]
  },
  {
   "cell_type": "code",
   "execution_count": 24,
   "metadata": {},
   "outputs": [
    {
     "name": "stdout",
     "output_type": "stream",
     "text": [
      "lista={'A': 10, 'B': 11, 'C': 12, 'D': 13, 'E': 14, 'F': 15, 'G': 16, 'H': 17, 'I': 18, 'J': 19, 'K': 20, 'L': 21, 'M': 22, 'N': 23, 'O': 24, 'P': 25, 'Q': 26, 'R': 27, 'S': 28, 'T': 29, 'U': 30, 'V': 31, 'W': 32, 'X': 33, 'Y': 34, 'Z': 35}\n",
      "\n",
      "No debe Imprimir Letra C\n",
      "11\n"
     ]
    }
   ],
   "source": [
    "# Lambda\n",
    "lista = {chr(n):n-ord('A')+10   for n in range( ord('A'), ord('Z')+1 )}\n",
    "print(f'lista={lista}\\n')\n",
    "letra = lambda L : lista[L]  if L!='C'  else 'No debe Imprimir Letra C'\n",
    "print(letra('C'))\n",
    "print(letra('B'))\n"
   ]
  },
  {
   "cell_type": "code",
   "execution_count": 4,
   "metadata": {},
   "outputs": [
    {
     "name": "stdout",
     "output_type": "stream",
     "text": [
      "[ 0  0 20  0 40  0 60  0]\n"
     ]
    }
   ],
   "source": [
    "# Lambda\n",
    "import numpy  as  np\n",
    "rslt = lambda x : x*10 if (x%2==0) else  0\n",
    "n = np.array( [ rslt(n) for n in range(8) ] )\n",
    "print(n)"
   ]
  },
  {
   "cell_type": "code",
   "execution_count": 7,
   "metadata": {},
   "outputs": [
    {
     "name": "stdout",
     "output_type": "stream",
     "text": [
      "mi Arreglo = [0, 1, 2, 3, 4]\n",
      "\n",
      "0\n",
      "1\n",
      "2\n",
      "3\n",
      "4\n"
     ]
    }
   ],
   "source": [
    "# usnado 'yield'\n",
    "# return vs yield, solo se usan en funciones que retornen un valor\n",
    "# return envía un valor especificado a su llamador, mientras que yield puede producir una secuencia de valores.\n",
    "# 'return' sends a specified value back to its 'caller', whereas 'yield' can produce a 'sequence of values'.\n",
    "def contador(max):\n",
    "    n=0\n",
    "    while n < max:\n",
    "        yield n                        # c/vez q pasa por yield acumula los valores como en un arreglo pero no es un list-\n",
    "        n=n+1\n",
    "       \n",
    "\n",
    "mycont = list(contador(5))             # tengo que hacer un castin para ver el list sino es un solo objeto.\n",
    "print(f'mi Arreglo = {mycont}\\n')"
   ]
  },
  {
   "cell_type": "code",
   "execution_count": 26,
   "metadata": {},
   "outputs": [
    {
     "name": "stdout",
     "output_type": "stream",
     "text": [
      "[5, 6, 6, 4]\n"
     ]
    }
   ],
   "source": [
    "# usando 'map'\n",
    "def myfunc(a):\n",
    "  return len(a)\n",
    "\n",
    "# C/Elmnt del arry es consultado por la Funcion\n",
    "x = map(myfunc, ('apple', 'banana', 'cherry','jola'))  #cada elemento es pasado a la funcion y este devuelve su tamaño.\n",
    "\n",
    "#convert the map into a list, for readability:\n",
    "print(list(x))"
   ]
  },
  {
   "cell_type": "code",
   "execution_count": 9,
   "metadata": {},
   "outputs": [
    {
     "name": "stdout",
     "output_type": "stream",
     "text": [
      "1.- rango de x in x>7 or x<2 = [-1, 0, 1, 8, 9, 10]\n",
      "\n",
      "\n",
      "-----------------------------\n",
      "2.- De seq1 =['g', 'e', 'e', 'j', 'k', 'i', 'p', 'r'] existen = ['e', 'e', 'i']\n",
      "    De seq2 =['f', 't', 'o', 'a', 'c'] existen = ['o', 'a']\n"
     ]
    }
   ],
   "source": [
    "# USANDO <<filter>> nos permite evaluar una funcion con un list\n",
    "# y nos deveulve un resultado por c/elemento del arreglo.\n",
    "\n",
    "# --------- Alg FILTER --------\n",
    "# valores q cumplen condicion (solo valores x>7 y x<2)\n",
    "def rango(x):\n",
    "    if (x>7 or x<2):\n",
    "        return True\n",
    "    else:\n",
    "        return False\n",
    "\n",
    "secuenciaIn = [-1,0,1,2,3,4,5,6,7,8,9,10]\n",
    "\n",
    "nm = filter(rango, secuenciaIn)\n",
    "print(f'1.- rango de x in x>7 or x<2 = {list(nm)}\\n')\n",
    "\n",
    "\n",
    "\n",
    "# --------- Alg FILTER --------\n",
    "# funcion que evalua si existe el elemento,filtro:\n",
    "print('\\n-----------------------------')\n",
    "\n",
    "def vocales(variable): \n",
    "    letters = ['a', 'e', 'i', 'o', 'u']                   # mi filtro de elementos.\n",
    "    if (variable in letters): \n",
    "        return True\n",
    "    else:\n",
    "        return False\n",
    "    \n",
    "# tengo esta data de entrada, sequence.-\n",
    "seq1 = ['g', 'e', 'e', 'j', 'k', 'i', 'p', 'r']       # secuencia de entrada de elementos.\n",
    "filt1 = filter(vocales, seq1) \n",
    "\n",
    "seq2 = ['f', 't', 'o', 'a', 'c']                      # secuencia de entrada de elementos.\n",
    "filt2 = filter(vocales, seq2) \n",
    "\n",
    "print(f'2.- De seq1 ={seq1} existen = {list(filt1)}\\n    De seq2 ={seq2} existen = {list(filt2)}')"
   ]
  },
  {
   "cell_type": "markdown",
   "metadata": {},
   "source": [
    "<h1 style=\"background-color:powderblue;\"> PROBLEMAS DIVERSOS</h1>"
   ]
  },
  {
   "cell_type": "code",
   "execution_count": 15,
   "metadata": {},
   "outputs": [
    {
     "name": "stdout",
     "output_type": "stream",
     "text": [
      "Ingrese un Nº<byte>:9\n",
      "0-b-1-0-0-1-\n",
      "1001\n",
      "\n",
      "Bit Nº0=1\n",
      "Bit Nº1=0\n",
      "Bit Nº2=0\n",
      "Bit Nº3=1\n"
     ]
    }
   ],
   "source": [
    "# 'bin' Convierte un Nro Decimal(int) a un string Binario\n",
    "byte = int(input('Ingrese un Nº<byte>:'))\n",
    "for n in bin(byte):\n",
    "    print(n, end = '-')\n",
    "\n",
    "print()\n",
    "strBin = bin(byte).replace('0b','')        # quito el 0b del string binario\n",
    "print(strBin)\n",
    "\n",
    "print()\n",
    "for n,bit in enumerate(strBin):\n",
    "   print(f'Bit Nº{n}={bit}')\n",
    "        \n"
   ]
  },
  {
   "cell_type": "code",
   "execution_count": 16,
   "metadata": {},
   "outputs": [
    {
     "name": "stdout",
     "output_type": "stream",
     "text": [
      "Ingrese Nº:113\n",
      "113.- Divisible 113\n",
      "El Nº 113 es PRIMO\n"
     ]
    }
   ],
   "source": [
    "# Si es o NO Numero Primo\n",
    "nro = int(input(\"Ingrese Nº:\"))\n",
    "flg = 0\n",
    "for n in range(2,nro+1):\n",
    "    if nro%n==0:\n",
    "       flg+=1\n",
    "       print(f'{n}.- Divisible {nro}') \n",
    "        \n",
    "if flg==1:\n",
    "    print(f'El Nº {nro} es PRIMO')\n",
    "else:\n",
    "    print(f'El Nº {nro} NO es PRIMO')"
   ]
  },
  {
   "cell_type": "code",
   "execution_count": 17,
   "metadata": {},
   "outputs": [
    {
     "name": "stdout",
     "output_type": "stream",
     "text": [
      "[2, 3, 5, 7, 11, 13, 17, 19, 23, 29, 31]\n"
     ]
    }
   ],
   "source": [
    "# Calcula el Nro Primo\n",
    "def primo(x):\n",
    "    flg=0 \n",
    "    for n in range(2,x+1):\n",
    "        if x%n==0:\n",
    "            flg += 1\n",
    "            #print(f'{x} es Divisible por {n}')\n",
    "    if flg==1:\n",
    "        return x\n",
    "    else:\n",
    "        return False\n",
    "\n",
    "# Devuelve de una lista q Nºs son primos:\n",
    "rslt = filter(primo, range(35))\n",
    "print( list(rslt) )"
   ]
  },
  {
   "cell_type": "code",
   "execution_count": 14,
   "metadata": {},
   "outputs": [
    {
     "name": "stdout",
     "output_type": "stream",
     "text": [
      "Caculadora\n",
      "Calculadora de Peso:\n",
      "Juan Carlos No esta con sobre peso\n"
     ]
    }
   ],
   "source": [
    "#caculadora de peso\n",
    "def calPeso(name,altura,peso):\n",
    "    print(\"Calculadora de Peso:\")\n",
    "    bmi = peso/(altura**2)\n",
    "    if bmi < 25:\n",
    "        return name + \" No esta con sobre peso\"\n",
    "    else:\n",
    "        return name + \" Esta con Sobre peso\"\n",
    "print(\"Caculadora\")    \n",
    "a = calPeso(\"Juan Carlos\",169,80)\n",
    "print(a)"
   ]
  },
  {
   "cell_type": "code",
   "execution_count": 16,
   "metadata": {},
   "outputs": [
    {
     "name": "stdout",
     "output_type": "stream",
     "text": [
      "Calculadora de Peso:\n",
      "Calcula BMI(Body Mass Indicator) Peso= 164.24/lib y Alt=68.5/cm -->Juan Carlos No esta con sobre peso BMI= 6.0240963855421684e-05\n"
     ]
    }
   ],
   "source": [
    "#caculadora de peso\n",
    "def calPeso(name,altura,peso):\n",
    "    print(\"Calculadora de Peso:\")\n",
    "    bmi = peso/(altura**2)\n",
    "    if bmi < 25:\n",
    "        return name + \" No esta con sobre peso BMI= \" + str(bmi)\n",
    "    else:\n",
    "        return name + \" Esta con Sobre peso BMI= \" + str(bmi)\n",
    "    \n",
    "print(f'Calcula BMI(Body Mass Indicator) Peso= 164.24/lib y Alt=68.5/cm -->{calPeso(\"Juan Carlos\",166,1.66)}')"
   ]
  },
  {
   "cell_type": "code",
   "execution_count": 1,
   "metadata": {},
   "outputs": [
    {
     "name": "stdout",
     "output_type": "stream",
     "text": [
      "# conda environments:\n",
      "#\n",
      "base                  *  C:\\ProgramData\\Anaconda3\n",
      "miFastApi                C:\\ProgramData\\Anaconda3\\envs\\miFastApi\n",
      "mifastapi                C:\\ProgramData\\Anaconda3\\envs\\mifastapi\n",
      "tf                       C:\\ProgramData\\Anaconda3\\envs\\tf\n",
      "\n"
     ]
    }
   ],
   "source": [
    "!conda env list"
   ]
  },
  {
   "cell_type": "code",
   "execution_count": null,
   "metadata": {},
   "outputs": [],
   "source": [
    "# oTRA FORMA DE LEER kEbPARD EVENT\n",
    "from msvcrt import getch \n",
    "while True: \n",
    "    keycode = ord(getch()) \n",
    "    if keycode == 27: #ESC \n",
    "        break \n",
    "    elif keycode == 13: #Enter \n",
    "        select() \n",
    "    elif keycode == 224: #Special keys (arrows, f keys, ins, del, etc.) \n",
    "        keycode = ord(getch()) \n",
    "        if keycode == 80: #Down arrow \n",
    "            moveDown() \n",
    "        elif keycode == 72: #Up arrow \n",
    "            moveUp() "
   ]
  },
  {
   "cell_type": "code",
   "execution_count": null,
   "metadata": {},
   "outputs": [],
   "source": [
    "!conda install pynput"
   ]
  },
  {
   "cell_type": "code",
   "execution_count": null,
   "metadata": {},
   "outputs": [],
   "source": [
    "# Move the Cursor w Key\n",
    "from pynput.keyboard import Key, Listener\n",
    "\n",
    "# Matriz 1D\n",
    "#  [-, -, -, -, -]\n",
    "x=5\n",
    "arrX = [\"-\" for i in range(10)]\n",
    "clrX = [\"-\" for i in range(10)]\n",
    "arrX[x] = \"*\"\n",
    "\n",
    "\n",
    "def alPresionar(key, x):\n",
    "    if key == Key.right:\n",
    "        x+=1\n",
    "        if (x==len(arrX)):\n",
    "            x=0\n",
    "        \n",
    "    if key == Key.left:\n",
    "        x-=1\n",
    "        if (x < 0):\n",
    "            x=9\n",
    "\n",
    "    print(f'{x}',end='\\r')\n",
    "    return x\n",
    "    \n",
    "\n",
    "def alSoltar(key,x):\n",
    "    print(f'solto = {key}')\n",
    "    if key == Key.esc:\n",
    "        return False                # Stop listener\n",
    "\n",
    "\n",
    "print(arrX)\n",
    "\n",
    "# Collect events until released\n",
    "print(f'Por Favor presiona un Key, <esc=salir>:')\n",
    "#with Listener(on_press=lambda event: on_press(event, left=name1, right=name2)) as listener:\n",
    "with Listener(on_press=lambda event: alPresionar(event, x=x)) as listener:\n",
    "    listener.join()\n",
    "    \n",
    "print(f'FIN')    "
   ]
  },
  {
   "cell_type": "code",
   "execution_count": 5,
   "metadata": {},
   "outputs": [
    {
     "name": "stdout",
     "output_type": "stream",
     "text": [
      "1.00-1.01-1.02-1.03-1.04-1.05-1.06-1.07-1.08-1.09-1.10-1.11-1.12-1.13-1.14-1.15-1.16-1.17-1.18-1.19-1.20-1.21-1.22-1.23-1.24-1.25-1.26-1.27-1.28-1.29-1.30-1.31-1.32-1.33-1.34-1.35-1.36-1.37-1.38-1.39-1.40-1.41-1.42-1.43-1.44-1.45-1.46-1.47-1.48-1.49-1.50-1.51-1.52-1.53-1.54-1.55-1.56-1.57-1.58-1.59-1.60-1.61-1.62-1.63-1.64-1.65-1.66-1.67-1.68-1.69-1.70-1.71-1.72-1.73-1.74-1.75-1.76-1.77-1.78-1.79-1.80-1.81-1.82-1.83-1.84-1.85-1.86-1.87-1.88-1.89-1.90-1.91-1.92-1.93-1.94-1.95-1.96-1.97-1.98-1.99-2.00-2.01-2.02-2.03-2.04-2.05-2.06-2.07-2.08-2.09-2.10-2.11-2.12-2.13-2.14-2.15-2.16-2.17-2.18-2.19-2.20-2.21-2.22-2.23-2.24-2.25-2.26-2.27-2.28-2.29-2.30-2.31-2.32-2.33-2.34-2.35-2.36-2.37-2.38-2.39-2.40-2.41-2.42-2.43-2.44-2.45-2.46-2.47-2.48-2.49-2.50-2.51-2.52-2.53-2.54-2.55-2.56-2.57-2.58-2.59-2.60-2.61-2.62-2.63-2.64-2.65-2.66-2.67-2.68-2.69-2.70-2.71-2.72-2.73-2.74-2.75-2.76-2.77-2.78-2.79-2.80-2.81-2.82-2.83-2.84-2.85-2.86-2.87-2.88-2.89-2.90-2.91-2.92-2.93-2.94-2.95-2.96-2.97-2.98-2.99-3.00-3.01-3.02-3.03-3.04-3.05-3.06-3.07-3.08-3.09-3.10-3.11-3.12-3.13-3.14-3.15-3.16-3.17-3.18-3.19-3.20-3.21-3.22-3.23-3.24-3.25-3.26-3.27-3.28-3.29-3.30-3.31-3.32-3.33-3.34-3.35-3.36-3.37-3.38-3.39-3.40-3.41-3.42-3.43-3.44-3.45-3.46-3.47-3.48-3.49-3.50-3.51-3.52-3.53-3.54-3.55-3.56-3.57-3.58-3.59-3.60-3.61-3.62-3.63-3.64-3.65-3.66-3.67-3.68-3.69-3.70-3.71-3.72-3.73-3.74-3.75-3.76-3.77-3.78-3.79-3.80-3.81-3.82-3.83-3.84-3.85-3.86-3.87-3.88-3.89-3.90-3.91-3.92-3.93-3.94-3.95-3.96-3.97-3.98-3.99-4.00-4.01-4.02-4.03-4.04-4.05-4.06-4.07-4.08-4.09-4.10-4.11-4.12-4.13-4.14-4.15-4.16-4.17-4.18-4.19-4.20-4.21-4.22-4.23-4.24-4.25-4.26-4.27-4.28-4.29-4.30-4.31-4.32-4.33-4.34-4.35-4.36-4.37-4.38-4.39-4.40-4.41-4.42-4.43-4.44-4.45-4.46-4.47-4.48-4.49-4.50-4.51-4.52-4.53-4.54-4.55-4.56-4.57-4.58-4.59-"
     ]
    }
   ],
   "source": [
    "# en una serie de 0--360 grados, solo qiero una scala de salida de 1.00...4.59\n",
    "for x in range(360):\n",
    "    print('{:.2f}'.format( x/100 + 1),end='-')   # imprime de 1.06 a 4.59\n",
    "    #print(f'{(x/100 + 1):.2f}',end='-')"
   ]
  },
  {
   "cell_type": "code",
   "execution_count": 2,
   "metadata": {},
   "outputs": [
    {
     "name": "stdout",
     "output_type": "stream",
     "text": [
      "0.00-1.00-2.00-3.00-4.00-5.00-6.00-7.00-8.00-9.00-10.00-11.00-12.00-13.00-14.00-0.00-1.00-2.00-3.00-4.00-5.00-6.00-7.00-8.00-9.00-10.00-11.00-12.00-13.00-14.00-0.00-1.00-2.00-3.00-4.00-5.00-6.00-7.00-8.00-9.00-10.00-11.00-12.00-13.00-14.00-0.00-1.00-2.00-3.00-4.00-5.00-6.00-7.00-8.00-9.00-10.00-11.00-12.00-13.00-14.00-0.00-1.00-2.00-3.00-4.00-5.00-6.00-7.00-8.00-9.00-10.00-11.00-12.00-13.00-14.00-0.00-1.00-2.00-3.00-4.00-5.00-6.00-7.00-8.00-9.00-10.00-11.00-12.00-13.00-14.00-0.00-1.00-2.00-3.00-4.00-5.00-6.00-7.00-8.00-9.00-10.00-11.00-12.00-13.00-14.00-0.00-1.00-2.00-3.00-4.00-5.00-6.00-7.00-8.00-9.00-10.00-11.00-12.00-13.00-14.00-0.00-1.00-2.00-3.00-4.00-5.00-6.00-7.00-8.00-9.00-10.00-11.00-12.00-13.00-14.00-0.00-1.00-2.00-3.00-4.00-5.00-6.00-7.00-8.00-9.00-10.00-11.00-12.00-13.00-14.00-0.00-1.00-2.00-3.00-4.00-5.00-6.00-7.00-8.00-9.00-10.00-11.00-12.00-13.00-14.00-0.00-1.00-2.00-3.00-4.00-5.00-6.00-7.00-8.00-9.00-10.00-11.00-12.00-13.00-14.00-0.00-1.00-2.00-3.00-4.00-5.00-6.00-7.00-8.00-9.00-10.00-11.00-12.00-13.00-14.00-0.00-1.00-2.00-3.00-4.00-5.00-6.00-7.00-8.00-9.00-10.00-11.00-12.00-13.00-14.00-0.00-1.00-2.00-3.00-4.00-5.00-6.00-7.00-8.00-9.00-10.00-11.00-12.00-13.00-14.00-0.00-1.00-2.00-3.00-4.00-5.00-6.00-7.00-8.00-9.00-10.00-11.00-12.00-13.00-14.00-0.00-1.00-2.00-3.00-4.00-5.00-6.00-7.00-8.00-9.00-10.00-11.00-12.00-13.00-14.00-0.00-1.00-2.00-3.00-4.00-5.00-6.00-7.00-8.00-9.00-10.00-11.00-12.00-13.00-14.00-0.00-1.00-2.00-3.00-4.00-5.00-6.00-7.00-8.00-9.00-10.00-11.00-12.00-13.00-14.00-0.00-1.00-2.00-3.00-4.00-5.00-6.00-7.00-8.00-9.00-10.00-11.00-12.00-13.00-14.00-0.00-1.00-2.00-3.00-4.00-5.00-6.00-7.00-8.00-9.00-10.00-11.00-12.00-13.00-14.00-0.00-1.00-2.00-3.00-4.00-5.00-6.00-7.00-8.00-9.00-10.00-11.00-12.00-13.00-14.00-0.00-1.00-2.00-3.00-4.00-5.00-6.00-7.00-8.00-9.00-10.00-11.00-12.00-13.00-14.00-0.00-1.00-2.00-3.00-4.00-5.00-6.00-7.00-8.00-9.00-10.00-11.00-12.00-13.00-14.00-"
     ]
    }
   ],
   "source": [
    "# 360 valores p 360 grados tenga una salida en escala de 0..15grados\n",
    "for x in range(360):\n",
    "   print(f'{(x%15):.2f}',end='-')"
   ]
  },
  {
   "cell_type": "markdown",
   "metadata": {},
   "source": [
    "<h1 style=\"background-color:powderblue;\">List / tupla / dict / enumerate</h1>"
   ]
  },
  {
   "cell_type": "code",
   "execution_count": 18,
   "metadata": {},
   "outputs": [
    {
     "name": "stdout",
     "output_type": "stream",
     "text": [
      "N = 5\n",
      "[0]*N = [0, 0, 0, 0, 0]\n",
      "rows  5 , cols=5\n",
      "[0]*cols]*rows = [[0, 0, 0, 0, 0], [0, 0, 0, 0, 0], [0, 0, 0, 0, 0], [0, 0, 0, 0, 0], [0, 0, 0, 0, 0]]\n"
     ]
    }
   ],
   "source": [
    "# 1 D array\n",
    "N = 5\n",
    "print(f'N = {N}')\n",
    "arr = [0]*N\n",
    "print(f'[0]*N = {arr}')\n",
    "\n",
    "# 2D array\n",
    "rows, cols = (5, 5)\n",
    "print('rows  5 , cols=5')\n",
    "arr = [[0]*cols]*rows\n",
    "print(f'[0]*cols]*rows = {arr}')"
   ]
  },
  {
   "cell_type": "code",
   "execution_count": null,
   "metadata": {},
   "outputs": [],
   "source": [
    "b=[\"banana\",\"orange\",\"lemon\"]    # step back, d = ['lemon', 'orange', 'banana']\n",
    "d=b[::-1]"
   ]
  },
  {
   "cell_type": "code",
   "execution_count": 19,
   "metadata": {},
   "outputs": [
    {
     "name": "stdout",
     "output_type": "stream",
     "text": [
      "Tipo de Obj a = <class 'list'> / b = <class 'dict'> / c=<class 'tuple'>\n"
     ]
    }
   ],
   "source": [
    "#usando List, o llamado Array like java\n",
    "a= [3,10,-1]            # list\n",
    "b={'A':65,'B':66}       # dictionary\n",
    "c=(1,2,3)               # inmutable\n",
    "print(f'Tipo de Obj a = {type(a)} / b = {type(b)} / c={type(c)}')   #es del tipo list"
   ]
  },
  {
   "cell_type": "code",
   "execution_count": 4,
   "metadata": {},
   "outputs": [
    {
     "name": "stdout",
     "output_type": "stream",
     "text": [
      "1.- x.append(1) :. x=[1]\n",
      "\n",
      "2.- a=[3, 10, -1]\n",
      "\n",
      "3.- a=[3, 10, -1, 1]\n",
      "\n",
      "4.- a=[3, 10, -1, 1, 'Hola']\n",
      "\n",
      "5.- a=[3, 10, -1, 1, 'Hola', [0, 10]]\n",
      "6.- a.pop()=[3, 10, -1, 1, 'Hola']\n"
     ]
    }
   ],
   "source": [
    "#usando List, o llamado Array like java\n",
    "x=[]\n",
    "x.append(1)\n",
    "print(f'1.- x.append(1) :. x={x}\\n')\n",
    "\n",
    "a = [3,10,-1]\n",
    "print(f'2.- a={a}\\n')\n",
    "\n",
    "a.append(1)\n",
    "print(f'3.- a={a}\\n')\n",
    "\n",
    "a.append(\"Hola\")\n",
    "print(f'4.- a={a}')\n",
    "print()\n",
    "\n",
    "a.append([0,10])\n",
    "print(f'5.- a={a}')\n",
    "\n",
    "#a.pop retira el ultimo elemento de la Lista, si lo ejecuto otra vez va ir\n",
    "#quitando c/elemento de la lista\n",
    "a.pop()\n",
    "print(f'6.- a.pop()={a}')\n",
    "\n"
   ]
  },
  {
   "cell_type": "code",
   "execution_count": null,
   "metadata": {},
   "outputs": [],
   "source": [
    "# declaro un LIST\n",
    "a= [3,10,-1]\n",
    "print(f'1.- List Inicial a={a}  / tiene={len(a)} elmts')\n",
    "\n",
    "a.append(10)\n",
    "print(f'2.- a.append(10)={a}  / tiene={len(a)} elmts')\n",
    "\n",
    "a.append(\"Hola\")\n",
    "print(f'3.- a.append(\"Hola\")={a}  / tiene={len(a)} elmts')\n",
    "\n",
    "a.append(\"AA\")\n",
    "print(f'4.- a.append(\"AA\")={a} / tiene={len(a)} elmts')\n",
    "\n",
    "a.append([0,10])\n",
    "print(f'5.- Una List a.append([0,10])={a} / tiene={len(a)} elmts')\n",
    "\n",
    "a.append((10,15))\n",
    "print(f'6.- Una Tupla a.append((10,15)={a} / tiene={len(a)} elmts')\n",
    "\n",
    "dict= {'A':65,'B':66}\n",
    "a.append(dict)\n",
    "print(f'7.- Indx Act = {len(a)-1} / a.append(dict)={a}')\n",
    "\n",
    "#a.pop retira el ultimo elemento de la Lista\n",
    "a.pop()\n",
    "print(f'8.- a.pop() = {a}')\n",
    "\n",
    "# modifica elemento\n",
    "a[0] = 100\n",
    "print(f'9.- a[0] = 100 :. a={a}')\n",
    "\n",
    "# remove index o # b\n",
    "print(f'10.- a={a}')\n",
    "a.remove(\"Hola\")\n",
    "print(f'a.remove(\"Hola\") :. a ={a}')\n",
    "\n",
    "# Borra el elemento q le indiqe en el indice\n",
    "del(a[0])          \n",
    "print(f'11.- del(a[1])={a}')\n",
    "\n",
    "\n",
    "# get index(e)   // e = elemento existente en la lista. e=numero o letra\n",
    "print(f'12.- a.index(-1)={a.index(-1)}')\n",
    "print(f'13.- a.index(\"AA\")={a.index(\"AA\")}')\n",
    "\n",
    "# Concateno un Arreglo List con Otro Arreglo\n",
    "b = [\"Hi\",\"Welcome\",\"Yes\"]\n",
    "a.extend(b)\n",
    "print(f'14.- Concateno b to a={a}')\n",
    "\n",
    "# usando SPLIT\n",
    "h=\"hola-amigo-querido\"\n",
    "f=h.split('-')                                         # divide con delimitador = '-' y crea un arreglo.\n",
    "print(f'15.- \"hola-amigo-querido\" = {f}')\n",
    "\n",
    "# convert Tupla a List\n",
    "tupla=(1,2,3,4,5)\n",
    "newArry = list(tupla)                                  # convierto un tupla a list array\n",
    "print(f'16.- type tupla to list = {type(newArry)}')"
   ]
  },
  {
   "cell_type": "code",
   "execution_count": null,
   "metadata": {},
   "outputs": [],
   "source": [
    "# TUPLAS\n",
    "tuple01 = ('hola','okey')                                 # tupla usa () es inmutable\n",
    "print(type(tuple01))                       \n",
    "\n",
    "print(\"-------------------\")\n",
    "d= {'a':65,'b':66, 99:'HOLA'}                             # diccionario usa {} es mutable, aqui keys:<int> y contenido=<str>\n",
    "print(f'd = {d} \\n')                                      # muestra los keys y sus contenidos. \n",
    "print(f'keys = {d.keys()} ')                              # muestra el contenido de sus keys, mas no los keys.\n",
    "print(f'keys = {d.values()} \\n')                          # muestra el contenido de sus keys, mas no los keys.\n",
    "print(f'key=99 = {d[99]}')                                # muestra el contenido del key=99 = Hola\n",
    "print(f'key=b  = {d[\"b\"]}')                               # muestra el contenido del key=b\n",
    "\n",
    "print(\"-------------------\")\n",
    "arry = list(d)                                            # convierto un Dict a List solo pasan los valores no los keys.\n",
    "print(f'type(arry) = {type(arry)}')\n",
    "print(f'arry[2] = {arry[2]}')\n",
    "\n",
    "\n",
    "print(\"-------------------\")\n",
    "print(\"keys y values de un Dictionary.-\")\n",
    "for k,v in enumerate(d):\n",
    "    print(f'indice={k} / contenido={d[v]} / ')\n",
    "\n",
    "    \n",
    "print(\"-------------------\")    \n",
    "print(d)\n",
    "d['b'] = 'adios'                                           # modifico el elemento 1 del diccionario\n",
    "print(f'd={d}')"
   ]
  },
  {
   "cell_type": "code",
   "execution_count": null,
   "metadata": {},
   "outputs": [],
   "source": [
    "# Dictionary\n",
    "dic01 = {'uno':1,'dos':2,'tres':3,'cuatro':4}        # diccionario keys=<str> contendido=<int>\n",
    "for i,k in enumerate(dic01):                         # enumerate = Enumerate () agrega un contador a un iterable \n",
    "    print(f'indice={i} key={k}')                     # for k,v in dict.items()\n",
    "\n",
    "listKey = list(dic01.keys())\n",
    "listVal = list(dic01.values())\n",
    "    \n",
    "# Listado de arreglos de Keys y Valores.    \n",
    "print(f'Keys={listKey}  /  val={listVal}\\n')"
   ]
  },
  {
   "cell_type": "code",
   "execution_count": null,
   "metadata": {},
   "outputs": [],
   "source": [
    "# enumerate function \n",
    "l1 = [\"eat\",\"sleep\",\"repeat\"]                             # es un List oarreglo.\n",
    "l2 = \"geek\"                                               # un string es similar a u list\n",
    "  \n",
    "# creating a enumerate list\n",
    "print(f'tipo enumerate = {type(enumerate(l1))}')          # detecta el tipo <class 'enumerate'>\n",
    "print(f'tipo enumerate = {type(enumerate(l2))}')          # detecta el tipo <class 'enumerate'>\n",
    "print(f'new list l1 enumerada= { list(enumerate(l1)) }')  # list modifica el arreglo, pero Obj esta enumerado para q se pueda ver es necesario cast list\n",
    "print(f'new list l2 enumerada= { list(enumerate(l2)) }')  # list modifica el arreglo, pero Obj esta enumerado para q se pueda ver es necesario cast list\n",
    "print()\n",
    "\n",
    "\n",
    "# creo como un diccionario key=indices y value=elementos.\n",
    "print(\"-------------------\")\n",
    "for i,ii in enumerate(l1):                                # i = contenido indice+contenido  ii= solo contenido.\n",
    "    print(f'Enumerate l1[{i}] = {ii}')\n",
    "print()\n",
    "\n",
    "print(\"-------------------\")    \n",
    "for j,jj in enumerate(l2):                                # i = contenido indice+contenido  ii= solo contenido.\n",
    "    print(f'Enumerate l2 [{j}] = {jj}')"
   ]
  },
  {
   "cell_type": "code",
   "execution_count": 5,
   "metadata": {},
   "outputs": [
    {
     "name": "stdout",
     "output_type": "stream",
     "text": [
      "3.7.6 (default, Jan  8 2020, 20:23:39) [MSC v.1916 64 bit (AMD64)]\n"
     ]
    }
   ],
   "source": [
    "import sys\n",
    "print(sys.version)"
   ]
  },
  {
   "cell_type": "code",
   "execution_count": 6,
   "metadata": {},
   "outputs": [
    {
     "name": "stdout",
     "output_type": "stream",
     "text": [
      "ho\n",
      "al rever = aloh\n"
     ]
    }
   ],
   "source": [
    "# usando arreglos al reves \n",
    "h=\"hola\"\n",
    "print(h[0:2])             # 0 = indice inicial, hasta el elemento 2 (begin idx=1)\n",
    "print(f'al rever = {h[::-1]}')"
   ]
  },
  {
   "cell_type": "code",
   "execution_count": 150,
   "metadata": {},
   "outputs": [
    {
     "name": "stdout",
     "output_type": "stream",
     "text": [
      "J\n",
      "Juan Carlos Dergan Feb\n",
      "JCsge\n",
      "468ACEGIKN\n",
      "\n",
      "string = 12345678\n",
      "\n",
      "string a List = ['1', '2', '3', '4', '5', '6', '7', '8']\n",
      "\n",
      "String unido con coma(,) = 1,2,3,4,5,6,7,8\n",
      "\n",
      "String sin delimitador = 12345678\n",
      "\n",
      "String unido con mas(+) = 1+2+3+4+5+6+7+8\n",
      "\n",
      "String e Arreglo List = ['1', '2', '3', '4', '5', '6', '7', '8']\n",
      "\n"
     ]
    }
   ],
   "source": [
    "# [ inicio, longitud, steps ]\n",
    "# inicio empieza desde idx = \"0\"\n",
    "# longitud empieza desde idx = \"1\"\n",
    "# steps empeiza desde inicio idx = \"0\", signt desde donde termino como idx=\"0\"\n",
    "name=\"Juan Carlos Dergan Febres\"\n",
    "print(name[0:6:9])                    # 0 = J\n",
    "print(name[0:22])                     # Juan Carlos Dergan Feb \n",
    "print(name[0:22:5])                   # 0=inicio, 22=longitud q toma, 5=c/5 caracteres. ==> JCsge\n",
    "\n",
    "num = \"123456789ABCDEFGHIJKMNLOP\"     # \n",
    "print(num[3:23:2])                    # 2=inicio=\"4\", 23=longitud=\"123456789ABCDEFGHIJKMNL\", 2=steps desde 4= \"68ACEGIKN\"\n",
    "print()                               # resultado = \"468ACEGIKN\"\n",
    "    \n",
    "    \n",
    "# convertir un string a list\n",
    "num = \"12345678\"\n",
    "print(f'string = {num}\\n')\n",
    "\n",
    "lst = list(num)\n",
    "print(f'string a List = {lst}\\n')\n",
    "\n",
    "unido = ','.join(lst)                            # unido con delimitador ','\n",
    "print(f'String unido con coma(,) = {unido}\\n')\n",
    "\n",
    "unido = ''.join(lst)                             # unido sin delimitador.\n",
    "print(f'String sin delimitador = {unido}\\n')\n",
    "\n",
    "unido = '+'.join(lst)                            # unido con delimitador '+'.\n",
    "print(f'String unido con mas(+) = {unido}\\n')\n",
    "\n",
    "lst = unido.split('+')                           # usando split para desunir con delimitador\n",
    "print(f'String e Arreglo List = {lst}\\n')\n",
    "\n",
    "\n"
   ]
  },
  {
   "cell_type": "code",
   "execution_count": 19,
   "metadata": {},
   "outputs": [
    {
     "name": "stdout",
     "output_type": "stream",
     "text": [
      "beoda\n"
     ]
    }
   ],
   "source": [
    "#sustraigo el 2do caracter de una rebanada de 10 caracteres = Slicing\n",
    "name=\"buenosdias\"\n",
    "print(name[0:12:2])"
   ]
  },
  {
   "cell_type": "code",
   "execution_count": 24,
   "metadata": {},
   "outputs": [
    {
     "name": "stdout",
     "output_type": "stream",
     "text": [
      "adg\n",
      "beh\n",
      "cegik\n"
     ]
    }
   ],
   "source": [
    "#rebanadas\n",
    "s = 'abcdefghijklmno'\n",
    "print(s[0:9:3])   #0 indica el inicio de la rebanada, 9 es la longitud de la rebana (begin idx=1), 3 son las porciones desde 0\n",
    "print(s[1:9:3])\n",
    "print(s[2:12:2])"
   ]
  },
  {
   "cell_type": "code",
   "execution_count": 153,
   "metadata": {},
   "outputs": [
    {
     "name": "stdout",
     "output_type": "stream",
     "text": [
      "11\n",
      "hola amigos\n",
      "hola amigos\n",
      "hl mgs\n",
      "['h', 'o', 'l', 'a', ' ', 'a', 'm', 'i', 'g', 'o', 's']\n"
     ]
    }
   ],
   "source": [
    "saludo=\"hola amigos\"\n",
    "long=len(saludo)\n",
    "print(long)\n",
    "print(saludo)\n",
    "print(saludo[0:long:1])\n",
    "print(saludo[0:120:2])\n",
    "print(list(saludo))"
   ]
  },
  {
   "cell_type": "code",
   "execution_count": 13,
   "metadata": {},
   "outputs": [
    {
     "name": "stdout",
     "output_type": "stream",
     "text": [
      "(0, 1, 2, 3, 4, 5, 6, 7, 8)\n",
      "(2, 5, 8)\n",
      "(0, 1)\n",
      "(2, 3, 4, 5, 6, 7, 8)\n"
     ]
    }
   ],
   "source": [
    "#Create Tuple\n",
    "tupl=(0,1,2,3,4,5,6,7,8)\n",
    "print(tupl)\n",
    "print(tupl[2::3])          # begin idx = 2 apartir de ahi +3 jala idx=5 \n",
    "print(tupl[0:2])\n",
    "print(tupl[2:])\n"
   ]
  },
  {
   "cell_type": "code",
   "execution_count": 9,
   "metadata": {},
   "outputs": [
    {
     "name": "stdout",
     "output_type": "stream",
     "text": [
      "<class 'tuple'>\n",
      "disco\n",
      "10\n",
      "1.2\n",
      "<class 'str'>\n",
      "<class 'int'>\n",
      "<class 'float'>\n",
      "1.2\n",
      "('disco', 10, 1.2, 'hard rock', 10)\n",
      "('disco', 10, 1.2)\n",
      "('hard rock', 10)\n",
      "5\n"
     ]
    }
   ],
   "source": [
    "tuple1 = (\"disco\",10,1.2 )\n",
    "print(type(tuple1))\n",
    "\n",
    "# Print the variable on each index\n",
    "print(tuple1[0])\n",
    "print(tuple1[1])\n",
    "print(tuple1[2])\n",
    "\n",
    "# Print the type of value on each index\n",
    "print(type(tuple1[0]))\n",
    "print(type(tuple1[1]))\n",
    "print(type(tuple1[2]))\n",
    "\n",
    "# Use negative index to get the value of the last element\n",
    "print(tuple1[-1])\n",
    "\n",
    "# Concatenate two tuples\n",
    "tuple2 = tuple1 + (\"hard rock\", 10)\n",
    "print(tuple2)\n",
    "# Slice from index 0 to index 2\n",
    "print(tuple2[0:3])\n",
    "# Slice from index 3 to index 4\n",
    "print(tuple2[3:5])\n",
    "# Get the length of tuple\n",
    "print(len(tuple2))"
   ]
  },
  {
   "cell_type": "code",
   "execution_count": 154,
   "metadata": {},
   "outputs": [
    {
     "data": {
      "text/plain": [
       "[0, 2, 5, 6, 6, 8, 9, 9, 10]"
      ]
     },
     "execution_count": 154,
     "metadata": {},
     "output_type": "execute_result"
    }
   ],
   "source": [
    "# Ordena los elementos de una Tupla\n",
    "Ratings = (0, 9, 6, 5, 10, 8, 9, 6, 2)\n",
    "# Sort the tuple\n",
    "RatingsSorted = sorted(Ratings)\n",
    "RatingsSorted\n"
   ]
  },
  {
   "cell_type": "code",
   "execution_count": 155,
   "metadata": {},
   "outputs": [
    {
     "name": "stdout",
     "output_type": "stream",
     "text": [
      "Element 0 of Tuple:  1\n",
      "Element 1 of Tuple:  2\n",
      "Element 2 of Tuple:  ('pop', 'rock')\n",
      "Element 3 of Tuple:  (3, 4)\n",
      "Element 4 of Tuple:  ('disco', (1, 2))\n",
      "Element 4 of Tuple:  k\n"
     ]
    }
   ],
   "source": [
    "# Nested Tuple:\n",
    "# A tuple can contain another tuple as well as other more complex data types. This process is called 'nesting'. Consider the following tuple with several elements\n",
    "# Create a nest tuple\n",
    "tpl =(1, 2, (\"pop\", \"rock\") ,(3,4),(\"disco\",(1,2)))\n",
    "\n",
    "# Print element on each index\n",
    "print(\"Element 0 of Tuple: \", tpl[0])\n",
    "print(\"Element 1 of Tuple: \", tpl[1])\n",
    "print(\"Element 2 of Tuple: \", tpl[2])\n",
    "print(\"Element 3 of Tuple: \", tpl[3])\n",
    "print(\"Element 4 of Tuple: \", tpl[4])\n",
    "\n",
    "print(\"Element 4 of Tuple: \", tpl[2][1][3])\n"
   ]
  },
  {
   "cell_type": "code",
   "execution_count": 23,
   "metadata": {},
   "outputs": [
    {
     "name": "stdout",
     "output_type": "stream",
     "text": [
      "o\n",
      "\n",
      "rc\n",
      "\n",
      "rc\n"
     ]
    }
   ],
   "source": [
    "# Print the second element in the second nested tuples\n",
    "tuu =(1, 2, (\"pop\", \"rock\") ,(3,4),(\"disco\",(1,2)))\n",
    "print(tuu[2][1][1])\n",
    "print()\n",
    "\n",
    "# forma1\n",
    "rock=tuu[2][1]   # jaka 'rock'\n",
    "c = rock[0::2]   # jala 'r c'\n",
    "print(c)         # rc\n",
    "print()\n",
    "\n",
    "# forma2,= forma1\n",
    "print(tuu[2][1][0::2])\n"
   ]
  },
  {
   "cell_type": "code",
   "execution_count": 20,
   "metadata": {},
   "outputs": [
    {
     "name": "stdout",
     "output_type": "stream",
     "text": [
      "Obtuve 1000 puntos\n",
      "Enter a number: 12\n",
      "12.0 x 1 = 12.0\n",
      "12.0 x 2 = 24.0\n",
      "12.0 x 3 = 36.0\n",
      "12.0 x 4 = 48.0\n",
      "12.0 x 5 = 60.0\n",
      "12.0 x 6 = 72.0\n",
      "12.0 x 7 = 84.0\n",
      "12.0 x 8 = 96.0\n",
      "12.0 x 9 = 108.0\n",
      "12.0 x 10 = 120.0\n",
      "Do you want to exit? (y)y\n"
     ]
    }
   ],
   "source": [
    "#-----variable dentro del string\n",
    "score=1000\n",
    "saludo=\"Hola\"\n",
    "messages = 'Obtuve %s puntos'\n",
    "print (messages %score)                              # Obtuve 1000 puntos\n",
    "\n",
    "#----Funcion, format\n",
    "def tablaMultiplicar(a):\n",
    "    for i in range(1, 11):\n",
    "        print('{0} x {1} = {2}'.format(a, i, a*i))\n",
    "        \n",
    "while True:\n",
    "  a = input('Enter a number: ')\n",
    "  tablaMultiplicar(float(a))\n",
    "  answer = input('Do you want to exit? (y)')\n",
    "  if answer == 'y':\n",
    "    break"
   ]
  },
  {
   "cell_type": "code",
   "execution_count": 3,
   "metadata": {},
   "outputs": [
    {
     "name": "stdout",
     "output_type": "stream",
     "text": [
      "[1, 2, 3, 4]\n",
      "<class 'bool'>\n",
      "2\n",
      "Busca Letra=z, indice=-1\n",
      "\n",
      "Busca Letra=z, indice=3\n",
      "\n",
      "enos dia\n"
     ]
    }
   ],
   "source": [
    "#----Lista\n",
    "c= list(range(1,5))\n",
    "print(c)\n",
    "\n",
    "#Imprimo el tipo\n",
    "print(type(True))\n",
    "\n",
    "#convierto un str-->int\n",
    "print(int('2'))\n",
    "\n",
    "#busco la letra en un String\n",
    "h= 'hola amigo!'\n",
    "indice = h.find('z')\n",
    "print(f'Busca Letra=z, indice={indice}')\n",
    "print()\n",
    "\n",
    "indice = h.find('a')\n",
    "print(f'Busca Letra=z, indice={indice}')\n",
    "print()\n",
    "\n",
    "#sustraigo parte de la Cadena.\n",
    "s='Buenos dias'\n",
    "print(s[2:10])                               # indice=2 jala (begin=0) los sgnts 10 elementos."
   ]
  },
  {
   "cell_type": "code",
   "execution_count": 39,
   "metadata": {},
   "outputs": [
    {
     "name": "stdout",
     "output_type": "stream",
     "text": [
      "[[0, 0, 0, 0, 0], [0, 0, 0, 0, 0], [0, 0, 0, 0, 0], [0, 0, 0, 0, 0], [0, 0, 0, 0, 0]]\n",
      "[0, 0, 0, 0, 0]\n",
      "[0, 0, 0, 1, 0]\n",
      "[0, 0, 0, 0, 0]\n",
      "[0, 0, 0, 0, 0]\n",
      "[0, 0, 0, 0, 0]\n"
     ]
    }
   ],
   "source": [
    "# List de List Lineas ---> List Vertical\n",
    "rows, cols = (5, 5)\n",
    "\n",
    "# method 1\n",
    "# arr = [[0]*cols]*rows\n",
    "# print(arr)\n",
    "\n",
    "# method 2\n",
    "arr = [[0 for i in range(cols)] for j in range(rows)]\n",
    "print(arr)\n",
    "\n",
    "arr[1][3] = 1\n",
    "for row in arr:\n",
    "    print(row)\n",
    "\n",
    "# outputs the following as expected\n",
    "#[0, 0, 0, 0, 0]\n",
    "#[0, 0, 0, 1, 0]\n",
    "#[0, 0, 0, 0, 0]\n",
    "#[0, 0, 0, 0, 0]\n",
    "#[0, 0, 0, 0, 0]\n"
   ]
  },
  {
   "cell_type": "markdown",
   "metadata": {},
   "source": [
    "<h1 style=\"background-color:powderblue;\">Contador Up/DownTo, Swap, Indice[ ]</h1>"
   ]
  },
  {
   "cell_type": "code",
   "execution_count": 22,
   "metadata": {},
   "outputs": [
    {
     "name": "stdout",
     "output_type": "stream",
     "text": [
      "10\t20\t30\t40\t50\t\n",
      "\n",
      "0\t1\t2\t3\t4\t\n",
      "\n",
      "5\t4\t3\t2\t1\t0\t\n",
      "\n",
      "5\t4\t3\t2\t1\t\n",
      "\n",
      "1\t3\t5\t7\t9\t\n",
      "\n",
      "Inicial f=['bana', 'apple', 'microsoft']\n",
      "\n",
      "\n",
      "Swap f[0],f[2]=f[2],f[0] :. f=['microsoft', 'apple', 'bana']\n",
      "\n",
      "\n",
      "Elemento [0] = microsoft\n",
      "Elemento [1] = apple\n",
      "Elemento [2] = bana\n",
      "Elemento de f=[0][1] = i\n",
      " Lista F = ['Apple', 'Banana', 'Orange', 'Lemon'] \n",
      " Revertir F = ['Lemon', 'Orange', 'Banana', 'Apple']\n",
      " Revertir F = ['Lemon', 'Orange', 'Banana', 'Apple']\n",
      "{'A': 65, 'B': 66, 'C': 67, 'D': 68, 'E': 69, 'F': 70, 'G': 71, 'H': 72, 'I': 73, 'J': 74}\n",
      "mi_v=[' ', ' ', ' ', ' ', ' ', ' ', ' ', ' ', ' ', ' ', ' ']\n",
      "11\n"
     ]
    }
   ],
   "source": [
    "# CONTADORES la clave rapida es range(StartPos, EndPos-1,<Step>)  y  for/in\n",
    "a=[10,20,30,40,50]\n",
    "\n",
    "for u in a:\n",
    "    print(u,end='\\t')                 # cuenta todo el List    :. 10,20,30,40,50                 \n",
    "\n",
    "print('\\n')\n",
    "for u in range(0,5):                  # cuento UpTo (0..n-1), startPos, endPos=-1,hide=step=1    :. 0,1,2,3,4\n",
    "    print(u,end='\\t')\n",
    "\n",
    "print('\\n')\n",
    "for u in range(5,-1,-1):              # cuento DownTo 5..0   (startPos, endPos=-1, step=-1)\n",
    "    print(u,end='\\t')\n",
    "    \n",
    "print('\\n')\n",
    "for u in range(5,0,-1):               # cuento DownTo 5..n-1, show=step=-1   :. 5,4,3,2,1\n",
    "    print(u,end='\\t')\n",
    "    \n",
    "print('\\n')\n",
    "for u in range(1,10,2):               # cuento de 1..10 c/2step (ini,final step=2) :. 1,3,5,7,9\n",
    "    print(u,end='\\t'); \n",
    "\n",
    "\n",
    "#swap intercambio el elemento [0] x elemento [2]\n",
    "print('\\n')\n",
    "f=[\"bana\", \"apple\", \"microsoft\"]\n",
    "print(f'Inicial f={f}')\n",
    "\n",
    "print('\\n')\n",
    "f[0],f[2] = f[2],f[0]\n",
    "print(f'Swap f[0],f[2]=f[2],f[0] :. f={f}')\n",
    "\n",
    "# Loop For\n",
    "print('\\n')\n",
    "c=0\n",
    "for i in f:\n",
    "    print(f'Elemento [{c}] = {i}')\n",
    "    c+=1\n",
    "\n",
    "#Indice del elemento = [0][1]\n",
    "print(f'Elemento de f=[0][1] = {f[0][1]}')    # i del elemento [0] leo el subelemento 1\n",
    "\n",
    "# REVERTIR UN ARREGLO\n",
    "F = [\"Apple\",\"Banana\",\"Orange\",\"Lemon\"]\n",
    "revF =[F[u] for u in range(len(F)-1,-1,-1)]\n",
    "print(f' Lista F = {F} \\n Revertir F = {revF}')\n",
    "\n",
    "# una forma ma facil\n",
    "revF=F[::-1]                                     # start, todo, c/-1 +\n",
    "print(f' Revertir F = {revF}')\n",
    "\n",
    "# create a Dictionary\n",
    "f={chr(u):u  for u in range(65,75)}\n",
    "print(f)\n",
    "\n",
    "# create a empty string with the same len other\n",
    "mi = 'juan carlos'\n",
    "mi_v =[\" \"  for s in mi] \n",
    "print(f'mi_v={mi_v}')\n",
    "print(len(mi))"
   ]
  },
  {
   "cell_type": "markdown",
   "metadata": {},
   "source": [
    "<h1 style=\"background-color:powderblue;\">Byte / ByteArray</h1>\n",
    "<b>In Python3 : </b>\n",
    "create a <b style=\"color:blue;\">bytes</b> and <b style=\"color:blue;\">bytearray</b> classes both if them hold arrays of bytes, where each byte have a value between <b style=\"color:blue;\">0 and 255</b><br>\n",
    "The difference between of then are:\n",
    "* <b style=\"color:bluew;\">bytes</b> object is immutable, meaning that once created, you cannot modify its elements.\n",
    "* <b style=\"color:blue;\">bytearray</b> object allows you to modify its elements.\n",
    "\n",
    "<b>NOTE</b>: Both <b style='color:red'>bytes</b> and <b style='color:red'>bytearray</b> provide functions to encode and decode strings.\n",
    "<label> Unicode means assign One number to One Character, in difference languages </label>    "
   ]
  },
  {
   "cell_type": "code",
   "execution_count": 9,
   "metadata": {},
   "outputs": [
    {
     "name": "stdout",
     "output_type": "stream",
     "text": [
      "arry Binario inmutable = b'Hola Mundo'\n"
     ]
    }
   ],
   "source": [
    "h = 'Hola Mundo'\n",
    "\n",
    "arryBin = h.encode()                                   # lo obliga a convertirse en un arreglo binario()\n",
    "print(f'arry Binario inmutable = {arryBin}')           # Binary Array = b'Hola Mundo'"
   ]
  },
  {
   "cell_type": "code",
   "execution_count": 10,
   "metadata": {},
   "outputs": [
    {
     "name": "stdout",
     "output_type": "stream",
     "text": [
      "72 111 108 97 32 77 117 110 100 111 \n",
      "1.0b1001000 1.0b1101111 1.0b1101100 1.0b1100001 1.0b100000 1.0b1001101 1.0b1110101 1.0b1101110 1.0b1100100 1.0b1101111 \n",
      "2.0b1001000 2.0b1101111 2.0b1101100 2.0b1100001 2.0b100000 2.0b1001101 2.0b1110101 2.0b1101110 2.0b1100100 2.0b1101111 \n",
      "3.1001000 3.1101111 3.1101100 3.1100001 3.100000 3.1001101 3.1110101 3.1101110 3.1100100 3.1101111 \n",
      "H o l a   M u n d o "
     ]
    }
   ],
   "source": [
    "for id in arryBin:\n",
    "  print(f'{id}', end= ' ')                              # Asci = 72 111 108 97 32 77 117 110 100 111\n",
    "\n",
    "print()\n",
    "for id in h:                                            # usando el arreflo String() / ord(asci)  / bin(int)\n",
    "  print(f'1.{bin(ord(id))}', end= ' ')                  # bin = 0b1001000 0b1101111 0b1101100 0b1100001 0b100000 0b1001101 0b1110101 0b1101110 0b1100100 0b1101111\n",
    "\n",
    "print()\n",
    "for id in arryBin:                                      # usando el arreglo ya en binario()\n",
    "  print(f'2.{bin(id)}', end= ' ')                       # bin = 0b1001000 0b1101111 0b1101100 0b1100001 0b100000 0b1001101 0b1110101 0b1101110 0b1100100 0b1101111\n",
    "\n",
    "print()\n",
    "for id in arryBin:                                      # usando el arreglo ya en binario()\n",
    "  print(f'3.{bin(id).replace(\"0b\", \"\")}', end= ' ')     # bin = 1001000 1101111 1101100 1100001 100000 1001101 1110101 1101110 1100100 1101111\n",
    "\n",
    "print()  \n",
    "for id in arryBin:\n",
    "  print(f'{chr(id)}', end= ' ')                         # Char = H o l a   M u n d o"
   ]
  },
  {
   "cell_type": "code",
   "execution_count": 11,
   "metadata": {},
   "outputs": [
    {
     "name": "stdout",
     "output_type": "stream",
     "text": [
      "\n",
      "\n",
      "Bin to Decimal\n",
      "bin=0b1001000 dec=72\n",
      "bin=0b1101111 dec=111\n",
      "bin=0b1101100 dec=108\n",
      "bin=0b1100001 dec=97\n",
      "bin=0b100000 dec=32\n",
      "bin=0b1001101 dec=77\n",
      "bin=0b1110101 dec=117\n",
      "bin=0b1101110 dec=110\n",
      "bin=0b1100100 dec=100\n",
      "bin=0b1101111 dec=111\n"
     ]
    }
   ],
   "source": [
    "\n",
    "print(f'\\n\\nBin to Decimal')\n",
    "for id in arryBin:                                        # usando el arreglo ya en binario()\n",
    "  print(f'bin={bin(id)} dec={int(bin(id),2)}')"
   ]
  },
  {
   "cell_type": "code",
   "execution_count": 26,
   "metadata": {},
   "outputs": [
    {
     "name": "stdout",
     "output_type": "stream",
     "text": [
      "bytearray(b'ABCDEFGHI')\n",
      "65\n"
     ]
    }
   ],
   "source": [
    "# ['A', 'B', 'C', 'D', 'E', 'F', 'G', 'H', 'I']\n",
    "s = bytearray([L for L in range(ord('A'),ord('I')+1)])\n",
    "print(s)\n",
    "print(f'{s[0]}')\n"
   ]
  },
  {
   "cell_type": "code",
   "execution_count": 28,
   "metadata": {},
   "outputs": [
    {
     "name": "stdout",
     "output_type": "stream",
     "text": [
      "bytearray(b'ABCDEFGHI')\n"
     ]
    }
   ],
   "source": [
    "nn = b'ABCDEFGHI'\n",
    "n = [2, 3, 5, 7]\n",
    "\n",
    "# convert list to bytearray\n",
    "byte_array = bytearray(nn)       # if nn :. Output: bytearray(b'\\x02\\x03\\x05\\x07')\n",
    "print(byte_array)\n"
   ]
  },
  {
   "cell_type": "code",
   "execution_count": 35,
   "metadata": {},
   "outputs": [
    {
     "name": "stdout",
     "output_type": "stream",
     "text": [
      "Byte de Strings:\n",
      "Byte ZERO de bl[0] = 97\n",
      "Byte ZERO de ln[0] = 49\n",
      "b'\\x00\\x00\\x00\\x00\\x00'\n",
      "b'123'\n",
      "mutable = bytearray(b'1934')\n",
      "b'1234'\n",
      "49\n",
      "b'tuv'\n",
      "tuv\n",
      "ASCI de A = 65\n",
      "b'ABCD'\n",
      "b'\\xff\\xfeA\\x00B\\x00C\\x00D\\x00'\n"
     ]
    }
   ],
   "source": [
    "# Jugando con BYTES\n",
    "bl = b'abcd'                                 # declaro un arreglo de bytes\n",
    "bn = b'1234'\n",
    "print(f'Byte de Strings:')\n",
    "print(f'Byte ZERO de bl[0] = {bl[0]}')      # vizualizo el 1er byte del arreglo\n",
    "print(f'Byte ZERO de ln[0] = {bn[0]}')\n",
    "\n",
    "n = bytes(5)                                 # crea un arreglo de 5 bytes, initial = 0x00\n",
    "print(n)                                     # out --> b'\\x00\\x00\\x00\\x00\\x00'\n",
    "\n",
    "m = bytes( [49, 50, 51] )                    # creo un arreglo de 3 bytes de 1 2 3\n",
    "print(m)                                     # out --> b'123'\n",
    "\n",
    "mutable = bytearray(b'1234')                 # crea un arreglo de 'bytes'\n",
    "mutable [1]=57                               # cambio el calor '2' de bytes to 57 = ascii '9'\n",
    "print(f'mutable = {mutable}')                # mutable = bytearray(b'1934')\n",
    "\n",
    "x = bytes('1234', 'utf-8')                   # bytes() inmutable\n",
    "print(x)                                     # out --> b'1234'\n",
    "print(x[0])                                  # out --> 49\n",
    "\n",
    "arryB = bytes('tuv', 'utf-8')\n",
    "print(arryB)                                 # b'tuv'\n",
    "print(arryB.decode('utf-8'))                 # 'tuv' sin la b'' q indica q es un byte-\n",
    "\n",
    "letra = ['A','B','C','D']\n",
    "print(f'ASCI de A = {ord(letra[0])}')        # ord() convierte chr to ascii Nº, out --> A = 65\n",
    "\n",
    "letras = 'ABCD'.encode('utf-8')\n",
    "print(letras)\n",
    "\n",
    "letras = 'ABCD'.encode('utf-16')\n",
    "print(letras)"
   ]
  }
 ],
 "metadata": {
  "kernelspec": {
   "display_name": "Python 3",
   "language": "python",
   "name": "python3"
  },
  "language_info": {
   "codemirror_mode": {
    "name": "ipython",
    "version": 3
   },
   "file_extension": ".py",
   "mimetype": "text/x-python",
   "name": "python",
   "nbconvert_exporter": "python",
   "pygments_lexer": "ipython3",
   "version": "3.7.13"
  }
 },
 "nbformat": 4,
 "nbformat_minor": 2
}
