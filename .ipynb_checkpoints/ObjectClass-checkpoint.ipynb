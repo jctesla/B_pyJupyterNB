{
 "cells": [
  {
   "cell_type": "code",
   "execution_count": 6,
   "metadata": {},
   "outputs": [
    {
     "name": "stdout",
     "output_type": "stream",
     "text": [
      "El Radio es de Color = red\n",
      "Ka SUma al Radio es = 15\n"
     ]
    }
   ],
   "source": [
    "class circle(object):\n",
    "    def __init__(self,radius,color):\n",
    "        self.radius = radius                 # self es como la variable propia de la clase y se puede invokar en toda la clase.\n",
    "        self.color = color\n",
    "        \n",
    "    def add_radius(self,r):\n",
    "        print(f'El Radio es de Color = {self.color}')        \n",
    "        self.radius = self.radius + r\n",
    "        return (self.radius)\n",
    "    \n",
    "redCircle = circle(10,'red')    \n",
    "print(f'Ka SUma al Radio es = {redCircle.add_radius(5)}')\n"
   ]
  },
  {
   "cell_type": "code",
   "execution_count": 141,
   "metadata": {},
   "outputs": [
    {
     "name": "stdout",
     "output_type": "stream",
     "text": [
      "Numero de Carros Ingrsados = 4\n",
      "Indice = 2\n",
      "self = ['Volvo', 'V440', 'pink', 3]\n"
     ]
    }
   ],
   "source": [
    "\n",
    "class Car():\n",
    "    \n",
    "    global lista_car\n",
    "    lista_car= []\n",
    "           \n",
    "    @classmethod\n",
    "    def __init__(self):\n",
    "        self.number = 0 \n",
    "        \n",
    "    @classmethod    \n",
    "    def add_car(self,make,model,color):\n",
    "        self.make = make\n",
    "        self.model = model\n",
    "        self.color = color\n",
    "        self.number = self.number + 1\n",
    "        \n",
    "        lst=[make,model,color,self.number]\n",
    "        lista_car.append(lst)\n",
    "        \n",
    "    @classmethod    \n",
    "    def read_car(self,indx):\n",
    "        print(f'Indice = {indx}')\n",
    "        print(f'self = {lista_car[indx]}')\n",
    "        \n",
    "    \n",
    "    @classmethod\n",
    "    def num_car(self):\n",
    "        return len(lista_car) \n",
    "        \n",
    "\n",
    "        \n",
    "#Input Data to Object        \n",
    "carro = Car()\n",
    "carro.add_car(\"BMW\",\"M3\",\"red\")\n",
    "carro.add_car(\"Mercedes\",\"M100\",\"blue\")\n",
    "carro.add_car(\"Volvo\",\"V440\",\"pink\")\n",
    "carro.add_car(\"Ford\",\"F50\",\"brown\")\n",
    "\n",
    "print(f'Numero de Carros Ingrsados = {carro.num_car()}')\n",
    "lista = carro.read_car(2)\n",
    "#print(f'Numero de Carros Ingrsados = {lista}')\n",
    "#print()\n",
    "\n",
    "\n",
    "    "
   ]
  },
  {
   "cell_type": "code",
   "execution_count": 119,
   "metadata": {},
   "outputs": [
    {
     "name": "stdout",
     "output_type": "stream",
     "text": [
      "0\n",
      "1\n",
      "2\n",
      "3\n",
      "4\n",
      "5\n",
      "6\n",
      "7\n",
      "8\n",
      "9\n"
     ]
    }
   ],
   "source": [
    "class MyClass(object):\n",
    "    def __init__(self, number):\n",
    "        self.number = number\n",
    "\n",
    "my_objects = []\n",
    "\n",
    "for i in range(10):\n",
    "    my_objects.append(MyClass(i))\n",
    "\n",
    "\n",
    "for obj in my_objects:\n",
    "    print(obj.number)"
   ]
  },
  {
   "cell_type": "code",
   "execution_count": 31,
   "metadata": {},
   "outputs": [
    {
     "name": "stdout",
     "output_type": "stream",
     "text": [
      "Initialization called=Instance.\n",
      "event Deleted Object called!.\n"
     ]
    },
    {
     "ename": "AttributeError",
     "evalue": "'Foo' object has no attribute 'objects'",
     "output_type": "error",
     "traceback": [
      "\u001b[1;31m---------------------------------------------------------------------------\u001b[0m",
      "\u001b[1;31mAttributeError\u001b[0m                            Traceback (most recent call last)",
      "\u001b[1;32m~\\AppData\\Local\\Temp\\ipykernel_9372\\2559471422.py\u001b[0m in \u001b[0;36m<module>\u001b[1;34m\u001b[0m\n\u001b[0;32m     28\u001b[0m \u001b[1;32mdel\u001b[0m \u001b[0mf\u001b[0m\u001b[1;33m.\u001b[0m\u001b[0mexp\u001b[0m         \u001b[1;31m# destrcuture Obj\u001b[0m\u001b[1;33m\u001b[0m\u001b[1;33m\u001b[0m\u001b[0m\n\u001b[0;32m     29\u001b[0m \u001b[1;33m\u001b[0m\u001b[0m\n\u001b[1;32m---> 30\u001b[1;33m \u001b[0mf\u001b[0m\u001b[1;33m.\u001b[0m\u001b[0mobjects\u001b[0m\u001b[1;33m.\u001b[0m\u001b[0mget\u001b[0m\u001b[1;33m(\u001b[0m\u001b[1;34m\"Foo\"\u001b[0m\u001b[1;33m)\u001b[0m\u001b[1;33m\u001b[0m\u001b[1;33m\u001b[0m\u001b[0m\n\u001b[0m",
      "\u001b[1;31mAttributeError\u001b[0m: 'Foo' object has no attribute 'objects'"
     ]
    }
   ],
   "source": [
    "# Python program to demonstrate\n",
    "# __delete__\n",
    "\n",
    "\n",
    "class Example(object):\n",
    "    \n",
    "    # Initializing/Contructure\n",
    "    def __init__(self):\n",
    "        self.value= \"\"\n",
    "        print(\"Initialization called=Instance.\")\n",
    "    \n",
    "    # deletes attribute, execute before prog ends\n",
    "    def __delete__(self, instance):\n",
    "        print(\"event Deleted Object called!.\")\n",
    "\n",
    "    # Destructor, execute After prog ends\n",
    "    def __del__(self):\n",
    "        print(\"Inside __del__\")\n",
    "\n",
    "# Creating object of Example\n",
    "# class as an descriptor attribute\n",
    "# of this class\n",
    "class Foo(object):\n",
    "    exp = Example()\n",
    "\n",
    "# Driver's code\n",
    "f = Foo()         # contructure Obj\n",
    "del f.exp         # destrcuture Obj\n",
    "\n",
    "f.objects.get(\"Foo\")\n"
   ]
  },
  {
   "cell_type": "code",
   "execution_count": 30,
   "metadata": {},
   "outputs": [
    {
     "name": "stdout",
     "output_type": "stream",
     "text": [
      "20\n",
      "GeeksForGeeks\n"
     ]
    },
    {
     "ename": "NameError",
     "evalue": "name 'var2' is not defined",
     "output_type": "error",
     "traceback": [
      "\u001b[1;31m---------------------------------------------------------------------------\u001b[0m",
      "\u001b[1;31mNameError\u001b[0m                                 Traceback (most recent call last)",
      "\u001b[1;32m~\\AppData\\Local\\Temp\\ipykernel_9372\\2174042803.py\u001b[0m in \u001b[0;36m<module>\u001b[1;34m\u001b[0m\n\u001b[0;32m     11\u001b[0m \u001b[1;33m\u001b[0m\u001b[0m\n\u001b[0;32m     12\u001b[0m \u001b[1;31m# check if my_variable1 and my_variable2 exists\u001b[0m\u001b[1;33m\u001b[0m\u001b[1;33m\u001b[0m\u001b[1;33m\u001b[0m\u001b[0m\n\u001b[1;32m---> 13\u001b[1;33m \u001b[1;32mif\u001b[0m \u001b[0mvar2\u001b[0m\u001b[1;33m!=\u001b[0m\u001b[1;32mNone\u001b[0m\u001b[1;33m:\u001b[0m\u001b[1;33m\u001b[0m\u001b[1;33m\u001b[0m\u001b[0m\n\u001b[0m\u001b[0;32m     14\u001b[0m     \u001b[0mprint\u001b[0m\u001b[1;33m(\u001b[0m\u001b[0mvar1\u001b[0m\u001b[1;33m)\u001b[0m\u001b[1;33m\u001b[0m\u001b[1;33m\u001b[0m\u001b[0m\n\u001b[0;32m     15\u001b[0m     \u001b[0mprint\u001b[0m\u001b[1;33m(\u001b[0m\u001b[0mvar2\u001b[0m\u001b[1;33m)\u001b[0m\u001b[1;33m\u001b[0m\u001b[1;33m\u001b[0m\u001b[0m\n",
      "\u001b[1;31mNameError\u001b[0m: name 'var2' is not defined"
     ]
    }
   ],
   "source": [
    "var1 = 20\n",
    "var2 = \"GeeksForGeeks\"\n",
    "\n",
    "# check if my_variable1 and my_variable2 exists\n",
    "print(var1)\n",
    "print(var2)\n",
    "\n",
    "# delete both the variables\n",
    "var1 = None\n",
    "del var2\n",
    "\n",
    "# check if my_variable1 and my_variable2 exists\n",
    "if var2!=None:\n",
    "    print(var1)\n",
    "    print(var2)\n",
    "else:\n",
    "    print(\"var1 Not exist type=\",type(var1))\n",
    "\n"
   ]
  },
  {
   "cell_type": "code",
   "execution_count": 34,
   "metadata": {},
   "outputs": [
    {
     "name": "stdout",
     "output_type": "stream",
     "text": [
      "\n",
      " -3.8-64\n",
      " -3.7-64\n"
     ]
    },
    {
     "name": "stderr",
     "output_type": "stream",
     "text": [
      "Installed Pythons found by py Launcher for Windows *\n",
      "\n"
     ]
    }
   ],
   "source": [
    "!py --list     // p ejecutar un command al kernel del python.     "
   ]
  },
  {
   "cell_type": "code",
   "execution_count": 36,
   "metadata": {},
   "outputs": [
    {
     "name": "stdout",
     "output_type": "stream",
     "text": [
      "Name: tensorflow\n",
      "Version: 2.1.0\n",
      "Summary: TensorFlow is an open source machine learning framework for everyone.\n",
      "Home-page: https://www.tensorflow.org/\n",
      "Author: Google Inc.\n",
      "Author-email: packages@tensorflow.org\n",
      "License: Apache 2.0\n",
      "Location: c:\\programdata\\anaconda3\\lib\\site-packages\n",
      "Requires: absl-py, astor, gast, google-pasta, grpcio, keras-applications, keras-preprocessing, numpy, opt-einsum, protobuf, scipy, six, tensorboard, tensorflow-estimator, termcolor, wheel, wrapt\n",
      "Required-by: \n"
     ]
    },
    {
     "name": "stderr",
     "output_type": "stream",
     "text": [
      "WARNING: Ignoring invalid distribution -ffi (c:\\programdata\\anaconda3\\lib\\site-packages)\n"
     ]
    }
   ],
   "source": [
    "!pip show tensorflow"
   ]
  },
  {
   "cell_type": "code",
   "execution_count": null,
   "metadata": {},
   "outputs": [],
   "source": []
  }
 ],
 "metadata": {
  "kernelspec": {
   "display_name": "Python 3 (ipykernel)",
   "language": "python",
   "name": "python3"
  },
  "language_info": {
   "codemirror_mode": {
    "name": "ipython",
    "version": 3
   },
   "file_extension": ".py",
   "mimetype": "text/x-python",
   "name": "python",
   "nbconvert_exporter": "python",
   "pygments_lexer": "ipython3",
   "version": "3.7.13"
  }
 },
 "nbformat": 4,
 "nbformat_minor": 2
}
