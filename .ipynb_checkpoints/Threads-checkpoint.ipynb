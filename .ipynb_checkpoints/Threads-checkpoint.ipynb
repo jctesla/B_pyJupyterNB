{
 "cells": [
  {
   "cell_type": "markdown",
   "id": "47dfcd72",
   "metadata": {},
   "source": [
    "<h2> Simple Thread Calling Function()</h2>"
   ]
  },
  {
   "cell_type": "code",
   "execution_count": 9,
   "id": "e39389b7",
   "metadata": {},
   "outputs": [
    {
     "name": "stdout",
     "output_type": "stream",
     "text": [
      "Start Thread, Time... = 23:54:48 \n",
      "\n",
      "End Thread, HOLA Time... = 23:54:53 \n",
      "\n"
     ]
    }
   ],
   "source": [
    "import threading,timer \n",
    "from datetime import datetime as dyt\n",
    "\n",
    "def tiempo():\n",
    "    return dyt.now().strftime(\"%H:%M:%S\")\n",
    "\n",
    "def saludo():\n",
    "    print(f'End Thread, HOLA Time... = {tiempo()} \\n') \n",
    "\n",
    "\n",
    "# After '5seg' Call Function()\n",
    "print(f'Start Thread, Time... = {tiempo()} \\n') \n",
    "timer = threading.Timer(5.0, saludo)                \n",
    "timer.start()\n",
    "\n",
    "#timer.cancel()\n",
    "#print(\"Exit\\n\") \n"
   ]
  },
  {
   "cell_type": "markdown",
   "id": "5be3032b",
   "metadata": {},
   "source": [
    "<h2>Thread Calling CLASS w Bar Progress</h2>"
   ]
  },
  {
   "cell_type": "code",
   "execution_count": 10,
   "id": "a9aa20e2",
   "metadata": {},
   "outputs": [
    {
     "name": "stdout",
     "output_type": "stream",
     "text": [
      "Inicio = 00:00:49\n",
      "...........\n",
      "Saludos! = 00:00:54\n",
      "FIN\n"
     ]
    }
   ],
   "source": [
    "import threading, time\n",
    "from datetime import datetime as dyt\n",
    "\n",
    "def tiempo():\n",
    "    return dyt.now().strftime(\"%H:%M:%S\")\n",
    "\n",
    "# ----------------\n",
    "class saludo():\n",
    "    def __init__(self, saludo):                    # cuando se instancia la Clase.\n",
    "        self.saludo = saludo\n",
    "        \n",
    "    def outSaludo(self):\n",
    "        print(self.saludo + \" = \"+ tiempo())       # cuando termina el hilo se ejecuta la funcion.\n",
    "        t.cancel()                                 # cancelamos el hilo de tiempo.\n",
    "\n",
    "        \n",
    "# ------ MIAN() -----------\n",
    "print(\"Inicio = \" + tiempo())\n",
    "s = saludo(\"\\nSaludos!\")                           # Instanciamos la Clase.\n",
    "\n",
    "t = threading.Timer(5.0, s.outSaludo)              # Lunch Thread in 5seg\n",
    "t.start()\n",
    "\n",
    "\n",
    "# Mientras, Espera en los 5 seg.\n",
    "pnts = \"\"\n",
    "while(t.is_alive()):\n",
    "    pnts += \".\"\n",
    "    print(pnts, end='\\r')\n",
    "    time.sleep(0.5)\n",
    "\n",
    "print(\"FIN\")    "
   ]
  },
  {
   "cell_type": "markdown",
   "id": "aa894031",
   "metadata": {},
   "source": [
    "<h2>Thread Calling CLASS w Cronometro</h2>"
   ]
  },
  {
   "cell_type": "code",
   "execution_count": 12,
   "id": "caf47af4",
   "metadata": {},
   "outputs": [
    {
     "name": "stdout",
     "output_type": "stream",
     "text": [
      "Inicio = 00:07:29\n",
      "11.90\n",
      "Termino = 00:07:41\n"
     ]
    }
   ],
   "source": [
    "# Lanzamos Threads con tiempos Programados\n",
    "import threading, time\n",
    "from datetime import datetime as dyt\n",
    "\n",
    "def tiempo():\n",
    "    return dyt.now().strftime(\"%H:%M:%S\")\n",
    "\n",
    "# -----------------\n",
    "class msg():\n",
    "    def __init__(self, saludo):\n",
    "        self.saludo = saludo\n",
    "        \n",
    "    def outMsg(self):\n",
    "        print(self.saludo + \" = \" + tiempo())\n",
    "        t.cancel()\n",
    "\n",
    "# -----------------\n",
    "print(\"Inicio = \" + tiempo())\n",
    "s = msg(\"\\nTermino\")\n",
    "thrd = threading.Timer(12.0, s.outMsg)              # Lanzo el Hilo\n",
    "thrd.start()                                        # Cuando termina el hilo se ejecuta la funcion.\n",
    "\n",
    "\n",
    "# Espera 5seg, mientras imprime puntitos.\n",
    "dly=0.0\n",
    "while(thrd.is_alive()):\n",
    "    print('{:.2f}'.format(dly), end='\\r')            # using format can use too : '{:.2f} {:.1f}'.format(elmt1,elmt2)\n",
    "    time.sleep(0.1)\n",
    "    dly+=0.1\n",
    "\n"
   ]
  },
  {
   "cell_type": "code",
   "execution_count": null,
   "id": "f2983d65",
   "metadata": {},
   "outputs": [],
   "source": [
    "<h2>Lunch Many Threads w his own Time of Proccess</h2>\n",
    "<img src=\"img/manejo de hilos_A_Variables_01.ipynb.png\" heigh=50% width=50%/>"
   ]
  },
  {
   "cell_type": "code",
   "execution_count": 25,
   "id": "e3ad7676",
   "metadata": {},
   "outputs": [
    {
     "name": "stdout",
     "output_type": "stream",
     "text": [
      "Inicio: Threads time=01:18:57\n",
      "Thread-0  Inicio = 01:18:57 / Demora=9\n",
      "Thread-1  Inicio = 01:18:57 / Demora=6\n",
      "Thread-2  Inicio = 01:18:57 / Demora=5\n",
      ".........................\n",
      "Thread-2 Termino = 01:19:02\n",
      "..............................\n",
      "Thread-1 Termino = 01:19:03\n",
      ".............................................\n",
      "Thread-0 Termino = 01:19:06\n",
      "\n",
      "Final: Threads time=01:19:06\n",
      "Threads Demoraron = 0:00:09seg / 9.0seg\n",
      "FIN\n"
     ]
    }
   ],
   "source": [
    "# Los Threads no tienen u tiempo pre-programado sino lo q duren.\n",
    "import threading, time, random \n",
    "from datetime import datetime as dyt\n",
    "\n",
    "def tiempo():\n",
    "    return dyt.now().strftime(\"%H:%M:%S\")\n",
    "\n",
    "def msg(n):\n",
    "    duracion = random.randint(1,10)\n",
    "    print(f'Thread-{n}  Inicio = {tiempo()} / Demora={duracion}')\n",
    "    time.sleep(duracion)\n",
    "    print(f'\\nThread-{n} Termino = {tiempo()}')\n",
    "\n",
    "    \n",
    "#------------------------------------------------\n",
    "#                MAIN()\n",
    "#------------------------------------------------\n",
    "\n",
    "# Lunch Threads\n",
    "ti = tiempo()\n",
    "print(f'Inicio: Threads time={ti}')\n",
    "arryTD=[]\n",
    "for n in range(3):\n",
    "    Td = threading.Thread(target=msg, args=(n,))\n",
    "    arryTD.append(Td)\n",
    "    Td.start()\n",
    "\n",
    "    \n",
    "# Waits each one of Threads\n",
    "pnts = \"\"\n",
    "while(True):\n",
    "    \n",
    "    # Verify if All Threads FINISH\n",
    "    cnt=0\n",
    "    for n in arryTD:\n",
    "        if (n.is_alive()== False):\n",
    "            cnt +=1\n",
    "    \n",
    "    if (cnt==len(arryTD)):\n",
    "        break\n",
    "    \n",
    "    # Do something While Wait\n",
    "    pnts += \".\"\n",
    "    print(pnts, end='\\r')\n",
    "    time.sleep(0.2)\n",
    "\n",
    "# Final del Wait\n",
    "tf=tiempo()\n",
    "print(f'\\nFinal: Threads time={tf}')\n",
    "\n",
    "# convert STRING to DATETIME '%d/%m/%y %H:%M:%S'\n",
    "tid = dyt.strptime(ti,'%H:%M:%S')\n",
    "tfd = dyt.strptime(tf,'%H:%M:%S')\n",
    "print(f'Threads Demoraron = {tfd-tid}seg / {(tfd-tid).total_seconds()}seg')\n",
    "print(\"FIN\")\n",
    "    \n"
   ]
  },
  {
   "cell_type": "markdown",
   "id": "dadecabc",
   "metadata": {},
   "source": [
    "<h2>Lunch Many Threads w secuencial Time of Proccess</h2>"
   ]
  },
  {
   "cell_type": "code",
   "execution_count": 24,
   "id": "18ab2e9a",
   "metadata": {},
   "outputs": [
    {
     "name": "stdout",
     "output_type": "stream",
     "text": [
      "Inicio: lanzo 3 Threads = 00:57:16\n",
      "Thread-0... Inicio = 00:57:16\n",
      "Thread-0... Termino = 00:57:21\n",
      "Thread-1... Inicio = 00:57:21\n",
      "Thread-1... Termino = 00:57:26\n",
      "Thread-2... Inicio = 00:57:26\n",
      "Thread-2... Termino = 00:57:31\n",
      "Inicio = 00:57:31\n",
      "........                       \n",
      " fin = 00:57:45\n",
      "dif time = 14.0\n"
     ]
    }
   ],
   "source": [
    "# Lanzamiento de Thread Esperando a q Termine el 1ro\n",
    "import threading, time \n",
    "from datetime import datetime as dyt\n",
    "\n",
    "def tiempo():\n",
    "    return dyt.now().strftime(\"%H:%M:%S\")\n",
    "\n",
    "def msg(name):\n",
    "    print(f'Thread-{name}... Inicio = {tiempo()}')\n",
    "    time.sleep(5)\n",
    "    print(f'Thread-{name}... Termino = {tiempo()}')\n",
    "\n",
    "Thrd=[]\n",
    "print(f'Inicio: lanzo 3 Threads = {tiempo()}')\n",
    "for u in range(3):\n",
    "    Td = threading.Thread(target=msg, args=(u,))\n",
    "    Thrd.append(Td)\n",
    "    Td.start()\n",
    "    Td.join()                                     # Espera a q Termine el Thread Inicial p seguir el sgnt Thread\n",
    "\n",
    "#for idx, thrd in enumerate(Thrd):\n",
    "#    thrd.join()\n",
    "\n",
    "\n",
    "# Barra de tiempo en un hilo separado, timelapse cronometro de timepo\n",
    "import threading, time \n",
    "from datetime import datetime as dyt\n",
    "\n",
    "def tiempo():\n",
    "    return dyt.now().strftime(\"%H:%M:%S\")  # string format time\n",
    "\n",
    "spc=\"\"\n",
    "ti = tiempo()\n",
    "print(f'Inicio = {tiempo()}')\n",
    "for h in range(70):\n",
    "    spc+=\".\"\n",
    "    print(spc , end='\\r')\n",
    "    if len(spc) > 30:\n",
    "        spc=\" \"\n",
    "        print(spc*31, end='\\r')\n",
    "        spc=\"\"\n",
    "    time.sleep(0.2)\n",
    "\n",
    "tf = tiempo()\n",
    "print(f'\\n fin = {tiempo()}')\n",
    "tid = dyt.strptime(ti,'%H:%M:%S') # '%d/%m/%y %H:%M:%S'\n",
    "tfd = dyt.strptime(tf,'%H:%M:%S') # '%d/%m/%y %H:%M:%S'\n",
    "\n",
    "# Mostramos con un metodo datetime.timedelta el total de seg\n",
    "# convierte un datetime a total de segundo.\n",
    "tt = tfd - tid\n",
    "print(f'dif time = {tt.total_seconds()}')\n"
   ]
  },
  {
   "cell_type": "code",
   "execution_count": null,
   "id": "1c63f9c7",
   "metadata": {},
   "outputs": [],
   "source": []
  }
 ],
 "metadata": {
  "kernelspec": {
   "display_name": "Python 3 (ipykernel)",
   "language": "python",
   "name": "python3"
  },
  "language_info": {
   "codemirror_mode": {
    "name": "ipython",
    "version": 3
   },
   "file_extension": ".py",
   "mimetype": "text/x-python",
   "name": "python",
   "nbconvert_exporter": "python",
   "pygments_lexer": "ipython3",
   "version": "3.7.13"
  }
 },
 "nbformat": 4,
 "nbformat_minor": 5
}
