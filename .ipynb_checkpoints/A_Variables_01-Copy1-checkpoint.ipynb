{
 "cells": [
  {
   "cell_type": "code",
   "execution_count": 1,
   "metadata": {},
   "outputs": [
    {
     "name": "stdout",
     "output_type": "stream",
     "text": [
      "Hola Salmi\n"
     ]
    }
   ],
   "source": [
    "print(\"Hola Salmi\")"
   ]
  },
  {
   "cell_type": "code",
   "execution_count": 2,
   "metadata": {},
   "outputs": [
    {
     "name": "stdout",
     "output_type": "stream",
     "text": [
      "No debe ser 0 a ni b\n"
     ]
    }
   ],
   "source": [
    "#Es un comentario\n",
    "'''\n",
    "comentario largo para mayor explicacion\n",
    "'''\n",
    "a=0\n",
    "b=0\n",
    "if a < b:\n",
    "    print(\"Ganaste un Avion!\")\n",
    "elif a==0:\n",
    "    print(\"No debe ser 0 a ni b\")\n",
    "else:\n",
    "    print(\"Intenta de nuevo\")"
   ]
  },
  {
   "cell_type": "code",
   "execution_count": 3,
   "metadata": {},
   "outputs": [
    {
     "name": "stdout",
     "output_type": "stream",
     "text": [
      "This is a function\n",
      "Funcion Multiplica 25 x 2\n",
      "Resultado de funcFun(25)=50\n"
     ]
    }
   ],
   "source": [
    "#definimos una funcion\n",
    "def funcFun(x):\n",
    "    print(f'Funcion Multiplica {x} x 2')\n",
    "    return 2*x\n",
    "\n",
    "print (\"This is a function\")    \n",
    "print(f'Resultado de funcFun(25)={funcFun(25)}')"
   ]
  },
  {
   "cell_type": "code",
   "execution_count": 4,
   "metadata": {},
   "outputs": [
    {
     "name": "stdout",
     "output_type": "stream",
     "text": [
      "Suma de Numeros\n",
      "Funcion SumaNum=18\n"
     ]
    }
   ],
   "source": [
    "def sumaNum(x,y):\n",
    "    print(\"Suma de Numeros\")\n",
    "    return x + y\n",
    "\n",
    "print(f'Funcion SumaNum={sumaNum(8,10)}')"
   ]
  },
  {
   "cell_type": "code",
   "execution_count": 5,
   "metadata": {},
   "outputs": [
    {
     "name": "stdout",
     "output_type": "stream",
     "text": [
      "Calculadora de Peso:\n",
      "Calcula BMI(Body Mass Indicator) Peso= 164.24/lib y Alt=68.5/cm -->Juan Carlos No esta con sobre peso BMI= 6.0240963855421684e-05\n"
     ]
    }
   ],
   "source": [
    "#caculadora de peso\n",
    "def calPeso(name,altura,peso):\n",
    "    print(\"Calculadora de Peso:\")\n",
    "    bmi = peso/(altura**2)\n",
    "    if bmi < 25:\n",
    "        return name + \" No esta con sobre peso BMI= \" + str(bmi)\n",
    "    else:\n",
    "        return name + \" Esta con Sobre peso BMI= \" + str(bmi)\n",
    "    \n",
    "print(f'Calcula BMI(Body Mass Indicator) Peso= 164.24/lib y Alt=68.5/cm -->{calPeso(\"Juan Carlos\",166,1.66)}')"
   ]
  },
  {
   "cell_type": "code",
   "execution_count": 6,
   "metadata": {},
   "outputs": [
    {
     "name": "stdout",
     "output_type": "stream",
     "text": [
      "Tipo de Obj a = <class 'list'> / b = <class 'dict'> / c=<class 'tuple'>\n"
     ]
    }
   ],
   "source": [
    "#usando List, o llamado Array like java\n",
    "a= [3,10,-1]            # list\n",
    "b={'A':65,'B':66}       # dictionary\n",
    "c=(1,2,3)               # inmutable\n",
    "print(f'Tipo de Obj a = {type(a)} / b = {type(b)} / c={type(c)}')   #es del tipo list"
   ]
  },
  {
   "cell_type": "code",
   "execution_count": 7,
   "metadata": {},
   "outputs": [
    {
     "name": "stdout",
     "output_type": "stream",
     "text": [
      "1.- List Inicial a=[3, 10, -1]  / tiene=3 elmts\n",
      "2.- a.append(10)=[3, 10, -1, 10]  / tiene=4 elmts\n",
      "3.- a.append(\"Hola\")=[3, 10, -1, 10, 'Hola']  / tiene=5 elmts\n",
      "4.- a.append(\"AA\")=[3, 10, -1, 10, 'Hola', 'AA'] / tiene=6 elmts\n",
      "5.- Una List a.append([0,10])=[3, 10, -1, 10, 'Hola', 'AA', [0, 10]] / tiene=7 elmts\n",
      "6.- Una Tupla a.append((10,15)=[3, 10, -1, 10, 'Hola', 'AA', [0, 10], (10, 15)] / tiene=8 elmts\n",
      "7.- Indx Act = 8 / a.append(dict)=[3, 10, -1, 10, 'Hola', 'AA', [0, 10], (10, 15), {'A': 65, 'B': 66}]\n",
      "8.- a.pop() = [3, 10, -1, 10, 'Hola', 'AA', [0, 10], (10, 15)]\n",
      "9.- a[0] = 100 :. a=[100, 10, -1, 10, 'Hola', 'AA', [0, 10], (10, 15)]\n",
      "10.- a=[100, 10, -1, 10, 'Hola', 'AA', [0, 10], (10, 15)]\n",
      "a.remove(\"Hola\") :. a =[100, 10, -1, 10, 'AA', [0, 10], (10, 15)]\n",
      "11.- del(a[1])=[10, -1, 10, 'AA', [0, 10], (10, 15)]\n",
      "12.- a.index(-1)=1\n",
      "13.- a.index(\"AA\")=3\n",
      "14.- Concateno b to a=[10, -1, 10, 'AA', [0, 10], (10, 15), 'Hi', 'Welcome', 'Yes']\n",
      "15.- \"hola-amigo-querido\" = ['hola', 'amigo', 'querido']\n",
      "16.- type tupla to list = <class 'list'>\n"
     ]
    }
   ],
   "source": [
    "# declaro un LIST\n",
    "a= [3,10,-1]\n",
    "print(f'1.- List Inicial a={a}  / tiene={len(a)} elmts')\n",
    "\n",
    "a.append(10)\n",
    "print(f'2.- a.append(10)={a}  / tiene={len(a)} elmts')\n",
    "\n",
    "a.append(\"Hola\")\n",
    "print(f'3.- a.append(\"Hola\")={a}  / tiene={len(a)} elmts')\n",
    "\n",
    "a.append(\"AA\")\n",
    "print(f'4.- a.append(\"AA\")={a} / tiene={len(a)} elmts')\n",
    "\n",
    "a.append([0,10])\n",
    "print(f'5.- Una List a.append([0,10])={a} / tiene={len(a)} elmts')\n",
    "\n",
    "a.append((10,15))\n",
    "print(f'6.- Una Tupla a.append((10,15)={a} / tiene={len(a)} elmts')\n",
    "\n",
    "dict= {'A':65,'B':66}\n",
    "a.append(dict)\n",
    "print(f'7.- Indx Act = {len(a)-1} / a.append(dict)={a}')\n",
    "\n",
    "#a.pop retira el ultimo elemento de la Lista\n",
    "a.pop()\n",
    "print(f'8.- a.pop() = {a}')\n",
    "\n",
    "# modifica elemento\n",
    "a[0] = 100\n",
    "print(f'9.- a[0] = 100 :. a={a}')\n",
    "\n",
    "# remove index o # b\n",
    "print(f'10.- a={a}')\n",
    "a.remove(\"Hola\")\n",
    "print(f'a.remove(\"Hola\") :. a ={a}')\n",
    "\n",
    "# Borra el elemento q le indiqe en el indice\n",
    "del(a[0])          \n",
    "print(f'11.- del(a[1])={a}')\n",
    "\n",
    "\n",
    "# get index(e)   // e = elemento existente en la lista. e=numero o letra\n",
    "print(f'12.- a.index(-1)={a.index(-1)}')\n",
    "print(f'13.- a.index(\"AA\")={a.index(\"AA\")}')\n",
    "\n",
    "# Concateno un Arreglo List con Otro Arreglo\n",
    "b = [\"Hi\",\"Welcome\",\"Yes\"]\n",
    "a.extend(b)\n",
    "print(f'14.- Concateno b to a={a}')\n",
    "\n",
    "# usando SPLIT\n",
    "h=\"hola-amigo-querido\"\n",
    "f=h.split('-')                                         # divide con delimitador = '-' y crea un arreglo.\n",
    "print(f'15.- \"hola-amigo-querido\" = {f}')\n",
    "\n",
    "# convert Tupla a List\n",
    "tupla=(1,2,3,4,5)\n",
    "newArry = list(tupla)                                  # convierto un tupla a list array\n",
    "print(f'16.- type tupla to list = {type(newArry)}')"
   ]
  },
  {
   "cell_type": "markdown",
   "metadata": {},
   "source": [
    "### Contador Up/DownTo, Swap, Indice[ ]"
   ]
  },
  {
   "cell_type": "code",
   "execution_count": 8,
   "metadata": {},
   "outputs": [
    {
     "name": "stdout",
     "output_type": "stream",
     "text": [
      "10\t20\t30\t40\t50\t\n",
      "\n",
      "0\t1\t2\t3\t4\t\n",
      "\n",
      "5\t4\t3\t2\t1\t0\t\n",
      "\n",
      "5\t4\t3\t2\t1\t\n",
      "\n",
      "1\t3\t5\t7\t9\t\n",
      "\n",
      "Inicial f=['bana', 'apple', 'microsoft']\n",
      "\n",
      "\n",
      "Swap f[0],f[2]=f[2],f[0] :. f=['microsoft', 'apple', 'bana']\n",
      "\n",
      "\n",
      "Elemento [0] = microsoft\n",
      "Elemento [1] = apple\n",
      "Elemento [2] = bana\n",
      "Elemento de f=[0][1] = i\n",
      " Lista F = ['Apple', 'Banana', 'Orange', 'Lemon'] \n",
      " Revertir F = ['Lemon', 'Orange', 'Banana', 'Apple']\n",
      " Revertir F = ['Lemon', 'Orange', 'Banana', 'Apple']\n",
      "{'A': 65, 'B': 66, 'C': 67, 'D': 68, 'E': 69, 'F': 70, 'G': 71, 'H': 72, 'I': 73, 'J': 74}\n",
      "mi_v=[' ', ' ', ' ', ' ', ' ', ' ', ' ', ' ', ' ', ' ', ' ']\n",
      "11\n"
     ]
    }
   ],
   "source": [
    "# CONTADORES la clave rapida es range(StartPos, EndPos-1,<Step>)  y  for/in\n",
    "a=[10,20,30,40,50]\n",
    "\n",
    "for u in a:\n",
    "    print(u,end='\\t')                 # cuenta todo el List    :. 10,20,30,40,50                 \n",
    "\n",
    "print('\\n')\n",
    "for u in range(0,5):                  # cuento UpTo (0..n-1), startPos, endPos=-1,hide=step=1    :. 0,1,2,3,4\n",
    "    print(u,end='\\t')\n",
    "\n",
    "print('\\n')\n",
    "for u in range(5,-1,-1):              # cuento DownTo 5..0   (startPos, endPos=-1, step=-1)\n",
    "    print(u,end='\\t')\n",
    "    \n",
    "print('\\n')\n",
    "for u in range(5,0,-1):               # cuento DownTo 5..n-1, show=step=-1   :. 5,4,3,2,1\n",
    "    print(u,end='\\t')\n",
    "    \n",
    "print('\\n')\n",
    "for u in range(1,10,2):               # cuento de 1..10 c/2step (ini,final step=2) :. 1,3,5,7,9\n",
    "    print(u,end='\\t'); \n",
    "\n",
    "\n",
    "#swap intercambio el elemento [0] x elemento [2]\n",
    "print('\\n')\n",
    "f=[\"bana\", \"apple\", \"microsoft\"]\n",
    "print(f'Inicial f={f}')\n",
    "\n",
    "print('\\n')\n",
    "f[0],f[2] = f[2],f[0]\n",
    "print(f'Swap f[0],f[2]=f[2],f[0] :. f={f}')\n",
    "\n",
    "# Loop For\n",
    "print('\\n')\n",
    "c=0\n",
    "for i in f:\n",
    "    print(f'Elemento [{c}] = {i}')\n",
    "    c+=1\n",
    "\n",
    "#Indice del elemento = [0][1]\n",
    "print(f'Elemento de f=[0][1] = {f[0][1]}')    # i del elemento [0] leo el subelemento 1\n",
    "\n",
    "# REVERTIR UN ARREGLO\n",
    "F = [\"Apple\",\"Banana\",\"Orange\",\"Lemon\"]\n",
    "revF =[F[u] for u in range(len(F)-1,-1,-1)]\n",
    "print(f' Lista F = {F} \\n Revertir F = {revF}')\n",
    "\n",
    "# una forma ma facil\n",
    "revF=F[::-1]                                     # start, todo, c/-1 +\n",
    "print(f' Revertir F = {revF}')\n",
    "\n",
    "# create a Dictionary\n",
    "f={chr(u):u  for u in range(65,75)}\n",
    "print(f)\n",
    "\n",
    "# create a empty string with the same len other\n",
    "mi = 'juan carlos'\n",
    "mi_v =[\" \"  for s in mi] \n",
    "print(f'mi_v={mi_v}')\n",
    "print(len(mi))"
   ]
  },
  {
   "cell_type": "code",
   "execution_count": 9,
   "metadata": {},
   "outputs": [
    {
     "name": "stdout",
     "output_type": "stream",
     "text": [
      "10\n"
     ]
    }
   ],
   "source": [
    "#va sumar el contenido de c/elemento de la lista de [1,2,3,4] a total2\n",
    "total2=0\n",
    "for i in range(1,5):            # [1,2,3,4]\n",
    "    total2 += i\n",
    "print(total2)"
   ]
  },
  {
   "cell_type": "code",
   "execution_count": 10,
   "metadata": {},
   "outputs": [
    {
     "name": "stdout",
     "output_type": "stream",
     "text": [
      "Division, Solo Entero = 1\n",
      "Division, Solo Residuo = 2\n",
      "Division, Solo Residuo = 0\n",
      "float = 2.0\n"
     ]
    }
   ],
   "source": [
    "#RESIDUO de la division\n",
    "print(f'Division, Solo Entero = {5//3}')\n",
    "print(f'Division, Solo Residuo = {5%3}')\n",
    "print(f'Division, Solo Residuo = {15%3}')\n",
    "print(f'float = {float(5%3)}')"
   ]
  },
  {
   "cell_type": "code",
   "execution_count": 11,
   "metadata": {},
   "outputs": [
    {
     "name": "stdout",
     "output_type": "stream",
     "text": [
      "Numero Impar:1\n",
      "Numero Par :2\n",
      "Numero Impar:3\n",
      "Numero Par :4\n",
      "Numero Impar:5\n",
      "Numero Par :6\n",
      "Numero Impar:7\n"
     ]
    }
   ],
   "source": [
    "# solo evalua de 0 al 7 no el 8\n",
    "# range(StartPos, EndPos-1,<Step>)\n",
    "for i in range(1,8):                        # = [1,2,3,4,5,6,7]\n",
    "    if ((i % 2) == 0):\n",
    "        print(\"Numero Par :\" + str(i))\n",
    "    else:\n",
    "        print(\"Numero Impar:\" + str(i))\n",
    "        "
   ]
  },
  {
   "cell_type": "code",
   "execution_count": 12,
   "metadata": {},
   "outputs": [
    {
     "name": "stdout",
     "output_type": "stream",
     "text": [
      "[1, 2, 3, 4, 5, 6, 7, 8, 9, 10, 11, 12, 13, 14, 15, 16, 17, 18, 19, 20, 21, 22, 23, 24, 25, 26, 27, 28, 29]\n",
      "El Numero 3: es multiplo de 3 o 5\n",
      "El Numero 5: es multiplo de 3 o 5\n",
      "El Numero 6: es multiplo de 3 o 5\n",
      "El Numero 9: es multiplo de 3 o 5\n",
      "El Numero 10: es multiplo de 3 o 5\n",
      "El Numero 12: es multiplo de 3 o 5\n",
      "El Numero 15: es multiplo de 3 o 5\n",
      "El Numero 18: es multiplo de 3 o 5\n",
      "El Numero 20: es multiplo de 3 o 5\n",
      "El Numero 21: es multiplo de 3 o 5\n",
      "El Numero 24: es multiplo de 3 o 5\n",
      "El Numero 25: es multiplo de 3 o 5\n",
      "El Numero 27: es multiplo de 3 o 5\n"
     ]
    }
   ],
   "source": [
    "# Multiplos de 3 y 5\n",
    "for i in range(1,30):                # = [1,2,3,4....29]\n",
    "    \n",
    "    #imprimo los elementos\n",
    "    if i==1:\n",
    "        d = list(range(1,30))\n",
    "        print(d)\n",
    "        \n",
    "    #evaluo cual es multiplo de 3 o 5    \n",
    "    if ((i % 3) == 0) or ((i % 5) == 0):\n",
    "        print(\"El Numero \"+ str(i) + \": es multiplo de 3 o 5\")\n",
    "\n",
    "        "
   ]
  },
  {
   "cell_type": "code",
   "execution_count": 13,
   "metadata": {},
   "outputs": [
    {
     "name": "stdout",
     "output_type": "stream",
     "text": [
      "El nro 153 es =  ImPar : 153\n"
     ]
    }
   ],
   "source": [
    "def par_impar(x):\n",
    "    if ((x%2)==0):\n",
    "        return(\" Par : \" + str(x))\n",
    "    if ((x%3)==0):\n",
    "        return(\" ImPar : \" + str(x))\n",
    "print(f'El nro 153 es = {par_impar(153)}')\n"
   ]
  },
  {
   "cell_type": "code",
   "execution_count": 14,
   "metadata": {},
   "outputs": [
    {
     "name": "stdout",
     "output_type": "stream",
     "text": [
      "10\n"
     ]
    }
   ],
   "source": [
    "# Usando While\n",
    "total=0\n",
    "j=1\n",
    "while j < 5:\n",
    "    total += j\n",
    "    j +=1\n",
    "print(total)    "
   ]
  },
  {
   "cell_type": "code",
   "execution_count": 15,
   "metadata": {},
   "outputs": [
    {
     "name": "stdout",
     "output_type": "stream",
     "text": [
      "21\n"
     ]
    }
   ],
   "source": [
    "lista = [5,4,4,3,-1,-2,-3,5]       # arreglo de list es mutable\n",
    "i = 0\n",
    "total=0\n",
    "longitud = len(lista)\n",
    "while i < longitud:\n",
    "    if lista[i] > 0:\n",
    "        total += lista[i]\n",
    "    i += 1\n",
    "    \n",
    "print(total)"
   ]
  },
  {
   "cell_type": "code",
   "execution_count": 16,
   "metadata": {},
   "outputs": [
    {
     "name": "stdout",
     "output_type": "stream",
     "text": [
      "['hola', 'amigo', 'querido']\n",
      "f=['Hola', 'amigo', 'querido']\n"
     ]
    }
   ],
   "source": [
    "# usando SPLIT y REPLACE\n",
    "h=\"hola-amigo-querido\"\n",
    "f=h.split('-')                       # divide con delimitador = '-' y crea un arreglo.\n",
    "print(f)\n",
    "f[0] = f[0].replace('h','H')                # reemplazo un elemento del arreglo.\n",
    "print(f'f={f}')"
   ]
  },
  {
   "cell_type": "code",
   "execution_count": 17,
   "metadata": {},
   "outputs": [
    {
     "name": "stdout",
     "output_type": "stream",
     "text": [
      "ho\n",
      "holamevoycomerrico\n",
      "hola\n",
      "hlmvyoerc\n",
      "havcei\n",
      "havcei\n",
      "ocirremocyovemaloh\n",
      "ormyel\n",
      "['lemon', 'orange', 'banana']\n",
      "lemon\n"
     ]
    }
   ],
   "source": [
    "a='holamevoycomerrico'\n",
    "\n",
    "c=a[0:2]                         # copia a 'c' desde indice=0 2 elementos 0 'ho'.\n",
    "print(c)\n",
    "\n",
    "d=a[:]                           # copia todo el arreglo\n",
    "print(d)\n",
    " \n",
    "d=a[:4]                          # copia hola\n",
    "print(d)\n",
    "\n",
    "\n",
    "# [ start(begin=0), len(begin=1), c/cuanto ]\n",
    "d=a[::2]                         # empieza x 0 :. c/2 0,2,4,6,8... steps = h_l_m_v_y__o_e_r_c\n",
    "print(d)\n",
    "\n",
    "d=a[::3]                         # empieza 0 :. c/3 0,3,6,9,12,15   steps = h__a__v__e__i\n",
    "print(d)\n",
    "\n",
    "d=a[:-1:3]                       # empieza 0 hasta -1 :. c/3 0,3,6,9,12,15   steps = h__a__v__e__i\n",
    "print(d)\n",
    "\n",
    "d=a[::-1]                        # Revertir  'holamevoycomerrico' => 'ocirremocyovemaloh'\n",
    "print(d)                         # empieza x 0 :. el 1ro = -1 :. c/-1 0,-1,-2,-3,-4..-15 steps = ocirremocyovemaloh\n",
    "\n",
    "d=a[::-3]                        # empieza x 0 :. el 1ro = -1 :. c/-3 0,-3,-6,-9,12,15...steps = o__r__m__y__e__l\n",
    "print(d)\n",
    "\n",
    "b=[\"banana\",\"orange\",\"lemon\"]    # d = ['lemon', 'orange', 'banana']\n",
    "d=b[::-1]\n",
    "print(d)\n",
    "print(b[-1])"
   ]
  },
  {
   "cell_type": "code",
   "execution_count": 18,
   "metadata": {},
   "outputs": [
    {
     "name": "stdout",
     "output_type": "stream",
     "text": [
      "1\n",
      "1\n",
      "11\n"
     ]
    }
   ],
   "source": [
    "# uso de una Variable Global y return\n",
    "def pinkFloy():\n",
    "    global varGlb             # defino una var global en la funcion.-\n",
    "    print(varGlb)             # solo hereda el estatus de GLOBAL x no borra su contenido.\n",
    "    varGlb=10                 # le doy una valor nuevo\n",
    "    return varGlb\n",
    "    \n",
    "varGlb = 1\n",
    "print(varGlb)\n",
    "pinkFloy()\n",
    "print(varGlb + 1)"
   ]
  },
  {
   "cell_type": "code",
   "execution_count": 19,
   "metadata": {},
   "outputs": [
    {
     "name": "stdout",
     "output_type": "stream",
     "text": [
      "<class 'tuple'>\n",
      "-------------------\n",
      "d = {'a': 65, 'b': 66, 99: 'HOLA'} \n",
      "\n",
      "keys = dict_keys(['a', 'b', 99]) \n",
      "keys = dict_values([65, 66, 'HOLA']) \n",
      "\n",
      "key=99 = HOLA\n",
      "key=b  = 66\n",
      "-------------------\n",
      "type(arry) = <class 'list'>\n",
      "arry[2] = 99\n",
      "-------------------\n",
      "keys y values de un Dictionary.-\n",
      "indice=0 / contenido=65 / \n",
      "indice=1 / contenido=66 / \n",
      "indice=2 / contenido=HOLA / \n",
      "-------------------\n",
      "{'a': 65, 'b': 66, 99: 'HOLA'}\n",
      "d={'a': 65, 'b': 'adios', 99: 'HOLA'}\n"
     ]
    }
   ],
   "source": [
    "tuple01 = ('hola','okey')                                 # tupla usa () es inmutable\n",
    "print(type(tuple01))                       \n",
    "\n",
    "print(\"-------------------\")\n",
    "d= {'a':65,'b':66, 99:'HOLA'}                             # diccionario usa {} es mutable, aqui keys:<int> y contenido=<str>\n",
    "print(f'd = {d} \\n')                                      # muestra los keys y sus contenidos. \n",
    "print(f'keys = {d.keys()} ')                              # muestra el contenido de sus keys, mas no los keys.\n",
    "print(f'keys = {d.values()} \\n')                          # muestra el contenido de sus keys, mas no los keys.\n",
    "print(f'key=99 = {d[99]}')                                # muestra el contenido del key=99 = Hola\n",
    "print(f'key=b  = {d[\"b\"]}')                               # muestra el contenido del key=b\n",
    "\n",
    "print(\"-------------------\")\n",
    "arry = list(d)                                            # convierto un Dict a List solo pasan los valores no los keys.\n",
    "print(f'type(arry) = {type(arry)}')\n",
    "print(f'arry[2] = {arry[2]}')\n",
    "\n",
    "\n",
    "print(\"-------------------\")\n",
    "print(\"keys y values de un Dictionary.-\")\n",
    "for k,v in enumerate(d):\n",
    "    print(f'indice={k} / contenido={d[v]} / ')\n",
    "\n",
    "    \n",
    "print(\"-------------------\")    \n",
    "print(d)\n",
    "d['b'] = 'adios'                                           # modifico el elemento 1 del diccionario\n",
    "print(f'd={d}')\n",
    "    \n"
   ]
  },
  {
   "cell_type": "code",
   "execution_count": 20,
   "metadata": {},
   "outputs": [
    {
     "name": "stdout",
     "output_type": "stream",
     "text": [
      "indice=0 key=uno\n",
      "indice=1 key=dos\n",
      "indice=2 key=tres\n",
      "indice=3 key=cuatro\n",
      "Keys=['uno', 'dos', 'tres', 'cuatro']  /  val=[1, 2, 3, 4]\n",
      "\n"
     ]
    }
   ],
   "source": [
    "dic01 = {'uno':1,'dos':2,'tres':3,'cuatro':4}        # diccionario keys=<str> contendido=<int>\n",
    "for i,k in enumerate(dic01):                         # enumerate = Enumerate () agrega un contador a un iterable \n",
    "    print(f'indice={i} key={k}')                     # for k,v in dict.items()\n",
    "\n",
    "listKey = list(dic01.keys())\n",
    "listVal = list(dic01.values())\n",
    "    \n",
    "# Listado de arreglos de Keys y Valores.    \n",
    "print(f'Keys={listKey}  /  val={listVal}\\n')"
   ]
  },
  {
   "cell_type": "code",
   "execution_count": 21,
   "metadata": {},
   "outputs": [
    {
     "name": "stdout",
     "output_type": "stream",
     "text": [
      "tipo enumerate = <class 'enumerate'>\n",
      "tipo enumerate = <class 'enumerate'>\n",
      "new list l1 enumerada= [(0, 'eat'), (1, 'sleep'), (2, 'repeat')]\n",
      "new list l2 enumerada= [(0, 'g'), (1, 'e'), (2, 'e'), (3, 'k')]\n",
      "\n",
      "-------------------\n",
      "Enumerate l1[0] = eat\n",
      "Enumerate l1[1] = sleep\n",
      "Enumerate l1[2] = repeat\n",
      "\n",
      "-------------------\n",
      "Enumerate l2 [0] = g\n",
      "Enumerate l2 [1] = e\n",
      "Enumerate l2 [2] = e\n",
      "Enumerate l2 [3] = k\n"
     ]
    }
   ],
   "source": [
    "# enumerate function \n",
    "l1 = [\"eat\",\"sleep\",\"repeat\"]                             # es un List oarreglo.\n",
    "l2 = \"geek\"                                               # un string es similar a u list\n",
    "  \n",
    "# creating a enumerate list\n",
    "print(f'tipo enumerate = {type(enumerate(l1))}')          # detecta el tipo <class 'enumerate'>\n",
    "print(f'tipo enumerate = {type(enumerate(l2))}')          # detecta el tipo <class 'enumerate'>\n",
    "print(f'new list l1 enumerada= { list(enumerate(l1)) }')  # list modifica el arreglo, pero Obj esta enumerado para q se pueda ver es necesario cast list\n",
    "print(f'new list l2 enumerada= { list(enumerate(l2)) }')  # list modifica el arreglo, pero Obj esta enumerado para q se pueda ver es necesario cast list\n",
    "print()\n",
    "\n",
    "\n",
    "# creo como un diccionario key=indices y value=elementos.\n",
    "print(\"-------------------\")\n",
    "for i,ii in enumerate(l1):                                # i = contenido indice+contenido  ii= solo contenido.\n",
    "    print(f'Enumerate l1[{i}] = {ii}')\n",
    "print()\n",
    "\n",
    "print(\"-------------------\")    \n",
    "for j,jj in enumerate(l2):                                # i = contenido indice+contenido  ii= solo contenido.\n",
    "    print(f'Enumerate l2 [{j}] = {jj}')"
   ]
  },
  {
   "cell_type": "markdown",
   "metadata": {},
   "source": [
    "<h2>NumPy</h2>"
   ]
  },
  {
   "cell_type": "code",
   "execution_count": 22,
   "metadata": {},
   "outputs": [
    {
     "name": "stdout",
     "output_type": "stream",
     "text": [
      "[   0    1    4    9   16   25   36   49   64   81  100  121  144  169\n",
      "  196  225  256  289  324  361  400  441  484  529  576  625  676  729\n",
      "  784  841  900  961 1024 1089 1156 1225 1296 1369 1444 1521 1600 1681\n",
      " 1764 1849 1936 2025 2116 2209 2304 2401 2500 2601 2704 2809 2916 3025\n",
      " 3136 3249 3364 3481 3600 3721 3844 3969 4096 4225 4356 4489 4624 4761\n",
      " 4900 5041 5184 5329 5476 5625 5776 5929 6084 6241 6400 6561 6724 6889\n",
      " 7056 7225 7396 7569 7744 7921 8100 8281 8464 8649 8836 9025 9216 9409\n",
      " 9604 9801]\n",
      "Demoro=0.1290seg\n"
     ]
    }
   ],
   "source": [
    "# NumPy de 1 arreglo, puedo hacer opeaciones con matrices arraglos.\n",
    "import time\n",
    "begin_seg = time.time()\n",
    "\n",
    "import numpy as np\n",
    "a = [num for num in range(100)]                # arreglo simple List\n",
    "np_a = np.array(a)                             # creo un arreglo de numpy\n",
    "\n",
    "rslt = np_a**2                                 # genero un calculo matematico p todo el arreglo\n",
    "print(rslt)\n",
    "seg = \"%0.4f\" % (time.time()-begin_seg)\n",
    "print(f'Demoro={seg}seg')"
   ]
  },
  {
   "cell_type": "markdown",
   "metadata": {},
   "source": [
    "<h2>Plot Ecuations</h2>"
   ]
  },
  {
   "cell_type": "code",
   "execution_count": 23,
   "metadata": {},
   "outputs": [
    {
     "name": "stdout",
     "output_type": "stream",
     "text": [
      "Radians    Degrees    Expected\n",
      "-------- -------- --------\n",
      "    0.00     0.00     0.00\n",
      "    0.52    30.00    30.00\n",
      "    0.79    45.00    45.00\n",
      "    1.05    60.00    60.00\n",
      "    1.57    90.00    90.00\n",
      "    3.14   180.00   180.00\n",
      "    4.71   270.00   270.00\n",
      "    6.28   360.00   360.00\n"
     ]
    }
   ],
   "source": [
    "#Tabla de Equivalencia de Radianes, Grados \n",
    "import math\n",
    "\n",
    "INPUTS = [\n",
    "            (0, 0),\n",
    "            (math.pi / 6, 30),\n",
    "            (math.pi / 4, 45),\n",
    "            (math.pi / 3, 60),\n",
    "            (math.pi / 2, 90),\n",
    "            (math.pi, 180),\n",
    "            (3 * math.pi / 2, 270),\n",
    "            (2 * math.pi, 360),\n",
    "         ]\n",
    "\n",
    "print(f'Radians    Degrees    Expected')\n",
    "print('{:-^8} {:-^8} {:-^8}'.format('', '', ''))\n",
    "for rad, expected in INPUTS:\n",
    "    print('{:8.2f} {:8.2f} {:8.2f}'.format(\n",
    "        rad,\n",
    "        math.degrees(rad),\n",
    "        expected,\n",
    "    ))"
   ]
  },
  {
   "cell_type": "code",
   "execution_count": 24,
   "metadata": {},
   "outputs": [
    {
     "data": {
      "image/png": "[encoded data removed]",
      "text/plain": [
       "<Figure size 432x288 with 1 Axes>"
      ]
     },
     "metadata": {
      "needs_background": "light"
     },
     "output_type": "display_data"
    }
   ],
   "source": [
    "# Creamos un Ploteo simple\n",
    "from pylab import plot, show\n",
    "x = [1, 2, 3]\n",
    "y = [2, 4, 6]\n",
    "plot(x, y)\n",
    "show()"
   ]
  },
  {
   "cell_type": "code",
   "execution_count": 25,
   "metadata": {},
   "outputs": [
    {
     "data": {
      "image/png": "[encoded data removed]",
      "text/plain": [
       "<Figure size 432x288 with 1 Axes>"
      ]
     },
     "metadata": {
      "needs_background": "light"
     },
     "output_type": "display_data"
    }
   ],
   "source": [
    "# Derivada de x^2 + 5 = 2x\n",
    "ecuOrig = lambda x : x**2 + 5                 # Curva x^2\n",
    "ecuDeriv= lambda x : 2*x                      # Recta 2x con punto tangencial a la Curva\n",
    "fncOrigX = [ecuOrig(n) for n in range(-40,40)]\n",
    "fncDerivX = [ecuDeriv(n) for n in range(-40,40)]\n",
    "funcY = [n for n in range(-40,40)]\n",
    "plot(funcY,fncOrigX)\n",
    "plot(funcY,fncDerivX)\n",
    "show()"
   ]
  },
  {
   "cell_type": "code",
   "execution_count": 26,
   "metadata": {},
   "outputs": [
    {
     "data": {
      "image/png": "[encoded data removed]",
      "text/plain": [
       "<Figure size 432x288 with 1 Axes>"
      ]
     },
     "metadata": {
      "needs_background": "light"
     },
     "output_type": "display_data"
    }
   ],
   "source": [
    "# Derivada de Seno\n",
    "import math\n",
    "ecuOrig = lambda x : math.sin(math.radians(x))        # Seno convierto x a grados\n",
    "ecuDeriv= lambda x : math.cos(math.radians(x))        # derivada de Seno \n",
    "fncOrigX = [ecuOrig(n) for n in range(-180,180)]\n",
    "fncDerivX = [ecuDeriv(n) for n in range(-180,180)]\n",
    "funcY = [n for n in range(-180,180)]\n",
    "plot(funcY,fncOrigX)\n",
    "plot(funcY,fncDerivX)\n",
    "show()"
   ]
  },
  {
   "cell_type": "markdown",
   "metadata": {
    "slideshow": {
     "slide_type": "-"
    }
   },
   "source": [
    "<img src=\"formulaSegCuadrado.png\" width=\"240\" height=\"240\" align=\"left\"/>\n"
   ]
  },
  {
   "cell_type": "code",
   "execution_count": 27,
   "metadata": {},
   "outputs": [
    {
     "name": "stdout",
     "output_type": "stream",
     "text": [
      "la Funcion01 :\n",
      " ejeXa = [-20, -19, -18, -17, -16, -15, -14, -13, -12, -11, -10, -9, -8, -7, -6, -5, -4, -3, -2, -1, 0, 1, 2, 3, 4, 5, 6, 7, 8, 9, 10, 11, 12, 13, 14, 15, 16, 17, 18, 19]\n",
      " ejeYa = [364, 327, 292, 259, 228, 199, 172, 147, 124, 103, 84, 67, 52, 39, 28, 19, 12, 7, 4, 3, 4, 7, 12, 19, 28, 39, 52, 67, 84, 103, 124, 147, 172, 199, 228, 259, 292, 327, 364, 403]\n",
      "\n",
      "la Funcion02 :\n",
      " ejeXb = [-20, -19, -18, -17, -16, -15, -14, -13, -12, -11, -10, -9, -8, -7, -6, -5, -4, -3, -2, -1, 0, 1, 2, 3, 4, 5, 6, 7, 8, 9, 10, 11, 12, 13, 14, 15, 16, 17, 18, 19]\n",
      " ejeYb =[-232, -220, -208, -196, -184, -172, -160, -148, -136, -124, -112, -100, -88, -76, -64, -52, -40, -28, -16, -4, 8, 20, 32, 44, 56, 68, 80, 92, 104, 116, 128, 140, 152, 164, 176, 188, 200, 212, 224, 236]\n",
      "\n"
     ]
    },
    {
     "data": {
      "image/png": "[encoded data removed]",
      "text/plain": [
       "<Figure size 432x288 with 1 Axes>"
      ]
     },
     "metadata": {
      "needs_background": "light"
     },
     "output_type": "display_data"
    }
   ],
   "source": [
    "# PUNTO DE INTERSECCION DE 2 FUNCIONES\n",
    "func01 = lambda x : x**2 + 2*x + 4                 # ecu de una exponencial positiva\n",
    "ejeYa = [func01(nX) for nX in range(-20,20)]           # puntos Y\n",
    "ejeXa = [nY for nY in range(-20,20)]                   # puntos X rango de scala\n",
    "\n",
    "func02 = lambda x : 12*x + 8                       # ecu de una recta\n",
    "ejeYb = [func02(nX) for nX in range(-20,20)]\n",
    "ejeXb = ejeXa\n",
    "\n",
    "print(f'la Funcion01 :\\n ejeXa = {ejeXa}\\n ejeYa = {ejeYa}\\n')\n",
    "print(f'la Funcion02 :\\n ejeXb = {ejeXb}\\n ejeYb ={ejeYb}\\n')\n",
    "\n",
    "# Calculo el Punto de Interseccion de las 2 ecu, es decir igualdad:\n",
    "# ecu01 = ecu02 :. x^2 + 2x + 4 = 12x + 8\n",
    "# x^2 + 2x + 4 - 12x - 8 = 0 :.  ecuFinal --> x^2 -10x -4 = 0\n",
    "# Applicamos la Ecu de  Arriba :.\n",
    "# rslt = ejeXa - ejeXb\n",
    "# print(f'Resultado de ejeXa - ejeXb = {rslt}\\n')\n",
    "\n",
    "# Calculo las intersecciones de las 2 ecu:\n",
    "from pylab import plot, show\n",
    "plot(ejeXa, ejeYa)\n",
    "plot(ejeXb, ejeYb)\n",
    "show()\n",
    "\n",
    "# How to Know on wich point this 2 formulas ara the same.\n",
    "# x^2 + 2x + 4 == 12x+8\n",
    "# usando : FÓRMULA GENERAL | Trinomio Cuadrado Perfecto\n"
   ]
  },
  {
   "cell_type": "code",
   "execution_count": 28,
   "metadata": {},
   "outputs": [
    {
     "name": "stdout",
     "output_type": "stream",
     "text": [
      "Arreglo Nums=[0, 22, 168, 21, 176, 5, 252, 301, 344, 783]\n",
      "Arry Letras = ['P', 'F', 'M', 'O', 'B', 'F', 'V', 'Z', 'M', 'R']\n",
      "Eleccion Aleatorio = Limon\n"
     ]
    }
   ],
   "source": [
    "import random\n",
    "gen = lambda x,i,f : random.randint(i,f)*x\n",
    "d=[gen(u,1,100) for u in range(10)]\n",
    "print(f'Arreglo Nums={d}')\n",
    "\n",
    "b=[chr(gen(1,64,90)) for u in range(10)]\n",
    "print(f'Arry Letras = {b}')\n",
    "\n",
    "# Choice select Aleatorio una letra\n",
    "c=[\"Orange\",\"Apple\",\"Banana\",\"Berry\",\"Limon\"]\n",
    "print(f'Eleccion Aleatorio = {random.choice(c)}')"
   ]
  },
  {
   "cell_type": "code",
   "execution_count": 29,
   "metadata": {
    "scrolled": false
   },
   "outputs": [
    {
     "name": "stdout",
     "output_type": "stream",
     "text": [
      "3\n",
      "82\n",
      "ejeX=[10, 13, 34, 91, 202, 385, 658, 1039, 1546, 2197, 3010, 4003, 5194, 6601, 8242, 10135, 12298, 14749, 17506, 20587] 7 ejeY=[0, 1, 2, 3, 4, 5, 6, 7, 8, 9, 10, 11, 12, 13, 14, 15, 16, 17, 18, 19]\n"
     ]
    },
    {
     "data": {
      "image/png": "[encoded data removed]",
      "text/plain": [
       "<Figure size 432x288 with 1 Axes>"
      ]
     },
     "metadata": {
      "needs_background": "light"
     },
     "output_type": "display_data"
    }
   ],
   "source": [
    "# Lambda con 2 variables.\n",
    "adder = lambda x,y : x + y\n",
    "print (adder (1, 2))\n",
    "\n",
    "# Lambda para crear una ecuacion de una parabola grado: 3\n",
    "ecu = lambda x,b : 3*x**3 + b\n",
    "print(ecu(3,1))\n",
    "\n",
    "# le damos datos a la Ecu:\n",
    "ejeX = [ecu(n,10) for n in range(20)]\n",
    "ejeY = [n for n in range(20)]\n",
    "print(f'ejeX={ejeX} 7 ejeY={ejeY}')\n",
    "\n",
    "# Ploteamos en ecu:\n",
    "plot(ejeX, ejeY)\n",
    "show()\n"
   ]
  },
  {
   "cell_type": "markdown",
   "metadata": {},
   "source": [
    "<h2>using FILTER command </h2>"
   ]
  },
  {
   "cell_type": "code",
   "execution_count": 30,
   "metadata": {},
   "outputs": [
    {
     "name": "stdout",
     "output_type": "stream",
     "text": [
      "1.- rango de x in x>7 or x<2 = [-1, 0, 1, 8, 9, 10]\n",
      "\n",
      "\n",
      "-----------------------------\n",
      "2.- De seq1 =['g', 'e', 'e', 'j', 'k', 'i', 'p', 'r'] existen = ['e', 'e', 'i']\n",
      "    De seq2 =['f', 't', 'o', 'a', 'c'] existen = ['o', 'a']\n",
      "-----------------------------\n",
      "3.- Solo existen estas vocales: ['e', 'e', 'i']\n",
      "-----------------------------\n",
      "4.- Solo existen estas vocales: ['e', 'e', 'i']\n"
     ]
    }
   ],
   "source": [
    "# USANDO <<filter>> nos permite evaluar una funcion con un list\n",
    "# y nos deveulve un resultado por c/elemento del arreglo.\n",
    "\n",
    "# --------- Alg FILTER --------\n",
    "# valores q cumplen condicion (solo valores x>7 y x<2)\n",
    "def rango(x):\n",
    "    if (x>7 or x<2):\n",
    "        return True\n",
    "    else:\n",
    "        return False\n",
    "\n",
    "secuenciaIn = [-1,0,1,2,3,4,5,6,7,8,9,10]\n",
    "\n",
    "nm = filter(rango, secuenciaIn)\n",
    "print(f'1.- rango de x in x>7 or x<2 = {list(nm)}\\n')\n",
    "\n",
    "\n",
    "\n",
    "\n",
    "# --------- Alg FILTER --------\n",
    "# funcion que evalua si existe el elemento,filtro:\n",
    "print('\\n-----------------------------')\n",
    "\n",
    "def vocales(variable): \n",
    "    letters = ['a', 'e', 'i', 'o', 'u']                   # mi filtro de elementos.\n",
    "    if (variable in letters): \n",
    "        return True\n",
    "    else:\n",
    "        return False\n",
    "    \n",
    "# tengo esta data de entrada, sequence.-\n",
    "seq1 = ['g', 'e', 'e', 'j', 'k', 'i', 'p', 'r']       # secuencia de entrada de elementos.\n",
    "filt1 = filter(vocales, seq1) \n",
    "\n",
    "seq2 = ['f', 't', 'o', 'a', 'c']                      # secuencia de entrada de elementos.\n",
    "filt2 = filter(vocales, seq2) \n",
    "\n",
    "print(f'2.- De seq1 ={seq1} existen = {list(filt1)}\\n    De seq2 ={seq2} existen = {list(filt2)}')\n",
    "\n",
    "\n",
    "# --------- Alg Equivalente --------\n",
    "print('-----------------------------')\n",
    "\n",
    "def busca(a):                                             # filtro\n",
    "    letras=['a', 'e', 'i', 'o', 'u']  \n",
    "    i=0\n",
    "    while i < len(letras):\n",
    "        if (a in letras): \n",
    "            return True\n",
    "        else:\n",
    "            return False\n",
    "\n",
    "        \n",
    "sequence = ['g', 'e', 'e', 'j', 'k', 'i', 'p', 'r']       # secuencia de entrada de elementos.        \n",
    "vocales=[]\n",
    "for u in sequence:\n",
    "    if busca(u):\n",
    "        vocales.append(u)\n",
    "        \n",
    "print(f'3.- Solo existen estas vocales: {vocales}')\n",
    "\n",
    "\n",
    "\n",
    "# --------- Alg Equivalente --------\n",
    "print('-----------------------------')\n",
    "\n",
    "sequence = ['g', 'e', 'e', 'j', 'k', 'i', 'p', 'r']       # secuencia de entrada de elementos.        \n",
    "letras=['a', 'e', 'i', 'o', 'u']                          # filtro\n",
    "vocales=[]\n",
    "\n",
    "for u in sequence:\n",
    "    if u in letras:\n",
    "        vocales.append(u)\n",
    "\n",
    "print(f'4.- Solo existen estas vocales: {vocales}')\n",
    "        \n"
   ]
  },
  {
   "cell_type": "markdown",
   "metadata": {},
   "source": [
    "<h2>TIME ZONE / DATE TIME</h2>"
   ]
  },
  {
   "cell_type": "code",
   "execution_count": 43,
   "metadata": {},
   "outputs": [
    {
     "name": "stdout",
     "output_type": "stream",
     "text": [
      "Requirement already satisfied: pytz in c:\\programdata\\anaconda3\\lib\\site-packages (2021.1)Note: you may need to restart the kernel to use updated packages.\n",
      "\n"
     ]
    }
   ],
   "source": [
    "pip install pytz"
   ]
  },
  {
   "cell_type": "code",
   "execution_count": 6,
   "metadata": {},
   "outputs": [
    {
     "name": "stdout",
     "output_type": "stream",
     "text": [
      "Hora Actual = 23:01:06\n",
      "Hora Actual = 23:01:06.966250\n",
      "True\n",
      "True\n",
      "True\n",
      "NewYork time = 23:01:06\n"
     ]
    },
    {
     "ename": "TypeError",
     "evalue": "'LazyList' object is not callable",
     "output_type": "error",
     "traceback": [
      "\u001b[1;31m---------------------------------------------------------------------------\u001b[0m",
      "\u001b[1;31mTypeError\u001b[0m                                 Traceback (most recent call last)",
      "\u001b[1;32m<ipython-input-6-bc9729e5a092>\u001b[0m in \u001b[0;36m<module>\u001b[1;34m\u001b[0m\n\u001b[0;32m     26\u001b[0m \u001b[0mprint\u001b[0m\u001b[1;33m(\u001b[0m\u001b[1;34mf'NewYork time = {dt_NY.strftime(\"%H:%M:%S\")}'\u001b[0m\u001b[1;33m)\u001b[0m\u001b[1;33m\u001b[0m\u001b[1;33m\u001b[0m\u001b[0m\n\u001b[0;32m     27\u001b[0m \u001b[1;33m\u001b[0m\u001b[0m\n\u001b[1;32m---> 28\u001b[1;33m \u001b[0mtz_London\u001b[0m \u001b[1;33m=\u001b[0m \u001b[0mpytz\u001b[0m\u001b[1;33m.\u001b[0m\u001b[0mcommon_timezones\u001b[0m\u001b[1;33m(\u001b[0m\u001b[1;34m'Europe/London'\u001b[0m\u001b[1;33m)\u001b[0m\u001b[1;33m\u001b[0m\u001b[1;33m\u001b[0m\u001b[0m\n\u001b[0m\u001b[0;32m     29\u001b[0m \u001b[0mdt_London\u001b[0m \u001b[1;33m=\u001b[0m \u001b[0mdyt\u001b[0m\u001b[1;33m.\u001b[0m\u001b[0mnow\u001b[0m\u001b[1;33m(\u001b[0m\u001b[0mtz_London\u001b[0m\u001b[1;33m)\u001b[0m\u001b[1;33m\u001b[0m\u001b[1;33m\u001b[0m\u001b[0m\n\u001b[0;32m     30\u001b[0m \u001b[0mprint\u001b[0m\u001b[1;33m(\u001b[0m\u001b[1;34mf'London time = {dt_London.strftime(\"%H:%M:%S\")}'\u001b[0m\u001b[1;33m)\u001b[0m\u001b[1;33m\u001b[0m\u001b[1;33m\u001b[0m\u001b[0m\n",
      "\u001b[1;31mTypeError\u001b[0m: 'LazyList' object is not callable"
     ]
    }
   ],
   "source": [
    "# como imprimir el tiempo\n",
    "from datetime import datetime as dyt\n",
    "now = dyt.now()\n",
    "\n",
    "tiempo_01 = now.strftime(\"%H:%M:%S\")          # Formato de Tiempo\n",
    "print(\"Hora Actual =\", tiempo_01)\n",
    "\n",
    "tiempo_02 = now.time()                        # Formato comun.\n",
    "print(\"Hora Actual =\", tiempo_02)\n",
    "\n",
    "\n",
    "# ZONAS HORARIAS DE OTROS PAISES.\n",
    "# http://pytz.sourceforge.net/\n",
    "from datetime import datetime, timedelta\n",
    "from pytz import common_timezones,timezone\n",
    "import pytz\n",
    "\n",
    "# Validamos\n",
    "print('America/New_York' in common_timezones)\n",
    "print('Europe/London' in common_timezones)\n",
    "print('America/Lima' in common_timezones)\n",
    "\n",
    "# Usamos Tiempos\n",
    "tz_NY = pytz.timezone('America/New_York') \n",
    "dt_NY = dyt.now(tz_NY)\n",
    "print(f'NewYork time = {dt_NY.strftime(\"%H:%M:%S\")}')\n",
    "\n",
    "tz_London = pytz.common_timezones('Europe/London')\n",
    "dt_London = dyt.now(tz_London)\n",
    "print(f'London time = {dt_London.strftime(\"%H:%M:%S\")}')\n",
    "\n",
    "tz_Turky = pytz.common_timezones('Turkey')\n",
    "dt_Turky = dyt.now(tz_Turky)\n",
    "print(f'Turky time = {dt_Turky.strftime(\"%H:%M:%S\")}')\n",
    "\n",
    "\n",
    "arryDTZ = pytz.all_timezones\n",
    "print(\"Label Time Zone World:\\n\")\n",
    "for u in arryDTZ:\n",
    "    print(f'{u}',end=' ')\n"
   ]
  },
  {
   "cell_type": "code",
   "execution_count": null,
   "metadata": {},
   "outputs": [],
   "source": [
    "# manejo de Etiquetas o mensajes logs.\n",
    "import logging\n",
    "format = \"%(asctime)s: %(message)s\"\n",
    "logging.basicConfig(format=format, level=logging.INFO, datefmt=\"%H:%M:%S\")"
   ]
  },
  {
   "cell_type": "markdown",
   "metadata": {},
   "source": [
    "<h2>Control I/O devices w PynPut</h2>\n",
    "<label>This library allows you to control and monitor input devices.\n",
    "\n",
    "It contains subpackages for each type of input device supported:\n",
    "\n",
    "pynput.mouse\n",
    "Contains classes for controlling and monitoring a mouse or trackpad.\n",
    "<b>pynput.keyboard</b>\n",
    "Contains classes for controlling and monitoring the keyboard.\n",
    "All modules mentioned above are automatically imported into the pynput package. To use any of them, import them from the main package:\n",
    "\n",
    "from pynput import mouse, keyboard\n",
    "<label style=\"color:blue\">https://pypi.org/project/pynput/</label>\n",
    "</label>"
   ]
  },
  {
   "cell_type": "code",
   "execution_count": 32,
   "metadata": {},
   "outputs": [
    {
     "name": "stdout",
     "output_type": "stream",
     "text": [
      "Requirement already satisfied: pynput in c:\\programdata\\anaconda3\\lib\\site-packages (1.7.3)\n",
      "Requirement already satisfied: six in c:\\programdata\\anaconda3\\lib\\site-packages (from pynput) (1.15.0)\n"
     ]
    }
   ],
   "source": [
    "# in command prompt, type \"pip install pynput\" to install pynput.\n",
    "!pip install pynput"
   ]
  },
  {
   "cell_type": "code",
   "execution_count": 33,
   "metadata": {},
   "outputs": [
    {
     "ename": "SyntaxError",
     "evalue": "invalid syntax (<ipython-input-33-30c87fd407ce>, line 26)",
     "output_type": "error",
     "traceback": [
      "\u001b[1;36m  File \u001b[1;32m\"<ipython-input-33-30c87fd407ce>\"\u001b[1;36m, line \u001b[1;32m26\u001b[0m\n\u001b[1;33m    with Listener(on_press=alPresionar, on_release=alSoltar) as listener\u001b[0m\n\u001b[1;37m                                                                        ^\u001b[0m\n\u001b[1;31mSyntaxError\u001b[0m\u001b[1;31m:\u001b[0m invalid syntax\n"
     ]
    }
   ],
   "source": [
    "# Ej Permite detectar los eventos del teclado al presionar una TECLA\n",
    "\n",
    "# Puedo usar los sgnts comando constantes.-\n",
    "# Key.tab\n",
    "# Key.caps_lock\n",
    "# Key.shiftKey.ctrl_l\n",
    "# Key.up,Key.down\n",
    "# Key.right\n",
    "# Key.left\n",
    "# Key.backspace\n",
    "# Key.space\n",
    "# Key.esc                          # En este Ej p salir\n",
    "\n",
    "from pynput.keyboard import Key, Listener\n",
    "\n",
    "def alPresionar(key):\n",
    "    print(f'presiono = {key}')\n",
    "\n",
    "def alSoltar(key):\n",
    "    print(f'solto = {key}')\n",
    "    if key == Key.esc:\n",
    "        return False                # Stop listener\n",
    "\n",
    "# Collect events until released\n",
    "print(f'Por Favor presiona un Key, <esc=salir>:')\n",
    "with Listener(on_press=alPresionar, on_release=alSoltar) as listener\n",
    "listener.join()\n",
    "    \n",
    "print(f'FIN')    "
   ]
  },
  {
   "cell_type": "code",
   "execution_count": null,
   "metadata": {},
   "outputs": [],
   "source": [
    "<h1>Using file i/o : OPEN READ APPEND FILES.</h1>\n",
    "# os.path.isfile('file').................Does 'file' exist?<br>\n",
    "# os.path.isdir('directory').............Does 'directory' exist?<br>\n",
    "# os.path.exists('file/directory').......Does 'file/directory' exist?<br>\n"
   ]
  },
  {
   "cell_type": "code",
   "execution_count": null,
   "metadata": {},
   "outputs": [],
   "source": [
    "# How to Create a Text File in Python\n",
    "# file_object  = open(\"filename\", \"mode\")\n",
    "\n",
    "# os.getcwd() .- Get the current working directory / nos da el donde estamos actualmente en el directorio.\n",
    "# os.chdir() .-  Change the current working directory ( podemos cambiar del actual directorio a otro.\n",
    "import os\n",
    "mipath = os.getcwd()\n",
    "print(f'Mi Actual Ubicacion en el Servidor = {mipath}')\n"
   ]
  },
  {
   "cell_type": "code",
   "execution_count": null,
   "metadata": {},
   "outputs": [],
   "source": [
    "# write to file and it will create a file if it does not exist.\n",
    "mifile = mipath + '\\\\myfile.txt'\n",
    "test_file = open(mifile, 'w')\n",
    "test_file.write('this is my test file')\n",
    "test_file.close()"
   ]
  },
  {
   "cell_type": "code",
   "execution_count": null,
   "metadata": {},
   "outputs": [],
   "source": [
    "# Leo mi File creado\n",
    "# not os.path.exists(path)  solo si se trata de un path una ruta no se considera el file.\n",
    "\n",
    "if os.path.isfile(mifile):\n",
    "    f = open(mifile,'r')\n",
    "    if f.mode == 'r':\n",
    "        text = f.read()\n",
    "        print(f'Contenido de myfile.txt = <<{text}>>')\n",
    "    else:\n",
    "        print(f'Lo siento no se pudo abrir este file')\n",
    "else:\n",
    "    print(f'Lo siento no existe este file')"
   ]
  },
  {
   "cell_type": "code",
   "execution_count": null,
   "metadata": {},
   "outputs": [],
   "source": [
    "# Append, agregamoa mas datos a myfile.txt\n",
    "if os.path.isfile(mifile):\n",
    "    f = open(mifile,'a+')\n",
    "    if f.mode == 'a+':\n",
    "        for i in range(5):\n",
    "             f.write(f'\\nAppended line {(i+1)}\\r\\n')\n",
    "        f.close()\n",
    "else:\n",
    "    print(f'Lo siento no existe este file')"
   ]
  },
  {
   "cell_type": "code",
   "execution_count": null,
   "metadata": {},
   "outputs": [],
   "source": [
    "# create a MAP file\n",
    "import pickle\n",
    "import os\n",
    "\n",
    "mipath = os.getcwd()\n",
    "print(f'Mi Actual Ubicacion en el Servidor = {mipath}')\n",
    "\n",
    "game_data = {\n",
    "'player-position' : 'N23 E45',\n",
    "'pockets' : ['keys', 'pocket knife', 'polished stone'],\n",
    "'backpack' : ['rope', 'hammer', 'apple'],\n",
    "'money' : 158.50\n",
    "}\n",
    "\n",
    "mifile = mipath + '\\\\save.dat'\n",
    "f = open(mifile, 'wb')\n",
    "pickle.dump(game_data, f)\n",
    "f.close()\n",
    "print(f'Se creo un file binario')"
   ]
  }
 ],
 "metadata": {
  "celltoolbar": "Slideshow",
  "kernelspec": {
   "display_name": "Python [conda env:root] *",
   "language": "python",
   "name": "conda-root-py"
  },
  "language_info": {
   "codemirror_mode": {
    "name": "ipython",
    "version": 3
   },
   "file_extension": ".py",
   "mimetype": "text/x-python",
   "name": "python",
   "nbconvert_exporter": "python",
   "pygments_lexer": "ipython3",
   "version": "3.7.6"
  }
 },
 "nbformat": 4,
 "nbformat_minor": 2
}
