{
 "cells": [
  {
   "cell_type": "markdown",
   "metadata": {},
   "source": [
    "<h1 style=\"background-color:powderblue;\"> CONJUNTOS </h1>\n",
    "<label> Ejemplos de Interseccion, Union y Diferencia de Conjuntos</label>\n",
    "<img src=\"img/conjuntos_A_Variables_03.png\" width=\"80%\" height=\"80%\"/>\n",
    "\n"
   ]
  },
  {
   "cell_type": "code",
   "execution_count": 4,
   "metadata": {},
   "outputs": [
    {
     "name": "stdout",
     "output_type": "stream",
     "text": [
      "1.- Intersec de cA y cB = {4, 5}\n",
      "2.- Union    de cA y cB = {0, 1, 2, 3, 4, 5, 6, 7, 8, 9}\n",
      "3.- Diferenc de cA y cB = {0, 1, 2, 3}\n",
      "4.- Diferenc de cA y cB = {8, 9, 6, 7}\n",
      "5.- Diferenc de Ambos cA y Cb = {0, 1, 2, 3, 6, 7, 8, 9}\n",
      "index=0 / value=0\n",
      "index=1 / value=1\n",
      "index=2 / value=2\n",
      "index=3 / value=3\n",
      "index=4 / value=6\n",
      "index=5 / value=7\n",
      "index=6 / value=8\n",
      "index=7 / value=9\n"
     ]
    }
   ],
   "source": [
    "A = [0,1,2,3,4,5]\n",
    "B = [9,8,7,6,5,4]\n",
    "#print(A&B)                                              # ERROR\n",
    "cA = set(A)                                              # 1ro convetimos a Conjuntos\n",
    "cB = set(B)\n",
    "\n",
    "#------------------\n",
    "print(f'1.- Intersec de cA y cB = {cA & cB}')                            # {4, 5}\n",
    "print(f'2.- Union    de cA y cB = {cA | cB}')                            # {0, 1, 2, 3, 4, 5, 6, 7, 8, 9}\n",
    "print(f'3.- Diferenc de cA y cB = {cA - cB}')                            # {0, 1, 2, 3}\n",
    "print(f'4.- Diferenc de cA y cB = {cB - cA}')                            # {9, 8, 7, 6}\n",
    "\n",
    "print(f'5.- Diferenc de Ambos cA y Cb = {cA.symmetric_difference(cB)}')  # {0, 1, 2, 3, 6, 7, 8, 9}\n",
    "\n",
    "\n",
    "for u,i in enumerate(cA.symmetric_difference(cB)):\n",
    "    print(f'index={u} / value={i}')\n",
    "\n",
    "#\n",
    "# index=0 / value=0\n",
    "# index=1 / value=1\n",
    "# index=2 / value=2\n",
    "# index=3 / value=3\n",
    "# index=4 / value=6\n",
    "# index=5 / value=7\n",
    "# index=6 / value=8\n",
    "# index=7 / value=9"
   ]
  },
  {
   "cell_type": "code",
   "execution_count": 3,
   "metadata": {},
   "outputs": [
    {
     "name": "stdout",
     "output_type": "stream",
     "text": [
      "List A = ['A', 'B', 'C', 'D', 'D', 'C', 'B', 'A']\n",
      "Conjunto de B <=set(A) :. B={'D', 'C', 'A', 'B'}\n",
      "\n",
      "Creo un ENUMERATE al COnjunto B\n",
      "Indice = 0, Valores de B = D\n",
      "Indice = 1, Valores de B = C\n",
      "Indice = 2, Valores de B = A\n",
      "Indice = 3, Valores de B = B\n",
      "\n",
      "---------------------------------\n",
      "Creo un List A con valores repetidos y null\n",
      "Conjunto A = ['1', '2', '3', '4', '4', '3', '2', '1', None, None]\n",
      "Al pasarlo a ser Conjunto B <=set(A) :. B={None, '1', '2', '3', '4'}\n",
      "\n",
      "---------------------------------\n",
      "Conjunto B le agrego elementos = {None, '1', '2', '3', '4'}\n",
      "Conjunto B con nuevos Elmentos :. B={'Z', None, '1', '2', '3', '4'}\n",
      "\n",
      "---------------------------------\n",
      "Ahora creo un Conjunto de Dif tipos de Elementos:\n",
      "Los Conjuntos son a={'b', 1, 2, 3, 'hola', 'a'}, b={1, 3, 'hola', 'a', 'c'} y hago una Interseccion:\n",
      "El Resultado a y b = {'hola', 1, 3, 'a'}\n",
      "\n",
      "---------------------------------\n",
      "pregunta b esta contenido en a = False\n",
      "\n",
      "---------------------------------\n",
      "hago Union de a y b (no se repiten los elementos) = {'b', 1, 2, 3, 'a', 'hola', 'c'}\n",
      "\n",
      "---------------------------------\n",
      "Convertir un list a set= {'rock', 'pop', 'soul', 'disco', 'soft rock', 'R&B', 'hard rock', 'progr rock', 'folk rock'}\n"
     ]
    }
   ],
   "source": [
    "#Convierto el List A a un conjunto de Sets, Lista es en realidad un arry\n",
    "# 'Set' vs 'List' son interfaces hijos de Collection . \n",
    "# practicamente son lo mismo excepto: \n",
    "# List<E>:\n",
    "# Una colección en secuencia ordenada. El usuario tiene un control preciso d c/elemento\n",
    "# El usuario puede acceder a los elementos por su índice.\n",
    "# Set<E>:\n",
    "# Una colección que NO permite elementos duplicados p uso de conjuntos y como máximo un elemento nulo. Modela la abstracción de conjuntos matemáticos.\n",
    "# no añade nada nuevo salvo que define que no podemos tener elementos repetidos.\n",
    "\n",
    "A=['A','B','C','D','D','C','B','A']\n",
    "print(f'List A = {A}')\n",
    "B=set(A)\n",
    "print(f'Conjunto B={B}\\n')                            # B={'C', 'A', 'Z', 'B'}, como hay elementos repetidos no los coloca.\n",
    "\n",
    "print(f'Creo un ENUMERATE al Conjunto B')\n",
    "for idx,n in enumerate(B):\n",
    "    print(f'Indice = {idx}, Valores de B = {n}')\n",
    "\n",
    "print(\"\\n---------------------------------\")\n",
    "print(f'Creo un List A con valores repetidos y null')\n",
    "A=['1','2','3','4','4','3','2','1', None, None]\n",
    "print(f'Conjunto A = {A}')\n",
    "B=set(A)\n",
    "print(f'Al pasarlo a ser Conjunto B <=set(A) :. B={B}\\n')   # B={'1', '2', '3', '4'}, como hay elementos repetidos no los coloca.\n",
    "\n",
    "\n",
    "#Agregar un Elemento al Conjunto B\n",
    "print(\"---------------------------------\")\n",
    "print(f'Conjunto B le agrego elementos = {B}')             # B = {'1', '2', '3', '4'}\n",
    "B.add('Z')\n",
    "print(f'Conjunto B con nuevos Elmentos :. B={B}\\n')\n",
    "\n",
    "#INTERSECCION n de Conjuntos de Sets\n",
    "print(\"---------------------------------\")\n",
    "print(f'Ahora creo un Conjunto de Dif tipos de Elementos:')\n",
    "a={1,2,3,'hola','a','b'}\n",
    "b={1,3,'hola','a','c'}\n",
    "print(f'Los Conjuntos son a={a}, b={b} y hago una Interseccion:')\n",
    "c=a & b                                                    # Interseccion\n",
    "print(f'El Resultado a y b = {c}\\n')\n",
    "\n",
    "\n",
    "#CONTENDIO SUbCONJUNTP, EL CONJUNTO DE B ESTA CONTENIDO EN' a? falso, x q falta el elemnto 'c'\n",
    "print(\"---------------------------------\")\n",
    "print(f'pregunta b esta contenido en a = {b.issubset(a)}\\n')\n",
    "\n",
    "#UNION el conjunto 'b' con el 'a'\n",
    "print(\"---------------------------------\")\n",
    "print(f'hago Union de a y b (no se repiten los elementos) = {b.union(a)}\\n')\n",
    "\n",
    "# Convert list to set\n",
    "print(\"---------------------------------\")\n",
    "mus = set([\"pop\", \"pop\", \"rock\", \"folk rock\", \"hard rock\", \"soul\", \\\n",
    "                    \"progr rock\", \"soft rock\", \"R&B\", \"disco\"])\n",
    "print(f'Convertir un list a set= {mus}')\n",
    "\n"
   ]
  },
  {
   "cell_type": "code",
   "execution_count": 7,
   "metadata": {},
   "outputs": [
    {
     "name": "stdout",
     "output_type": "stream",
     "text": [
      "{'AC/DC', 'Back in Black'}\n",
      "False\n",
      "{'The Dark Side of the Moon', 'Back in Black', 'AC/DC', 'Thriller'}\n"
     ]
    }
   ],
   "source": [
    "# Sample Sets\n",
    "cA = set([\"Thriller\", 'AC/DC', 'Back in Black'])\n",
    "cB = set([ \"AC/DC\", \"Back in Black\", \"The Dark Side of the Moon\"])\n",
    "\n",
    "c=cA & cB                   # interseccion\n",
    "print(c)                    \n",
    "\n",
    "d= cA.issubset(cB)          # Sub Conjunto.\n",
    "print(d)\n",
    "\n",
    "e=cA.union(cB)              # Union de conjuntos.\n",
    "print(e)\n"
   ]
  },
  {
   "cell_type": "code",
   "execution_count": 51,
   "metadata": {},
   "outputs": [
    {
     "name": "stdout",
     "output_type": "stream",
     "text": [
      "{'R&B', 'folk rock', 'rock', 'soul', 'progressive rock', 'disco', 'soft rock', 'pop', 'hard rock'}\n"
     ]
    }
   ],
   "source": [
    "# Convert list to set\n",
    "lista = [\"pop\", \"pop\", \"rock\", \"folk rock\", \"hard rock\", \"soul\", \\\n",
    "                    \"progressive rock\", \"soft rock\", \"R&B\", \"disco\"]\n",
    "setLista = set(lista)             \n",
    "print(setLista)"
   ]
  },
  {
   "cell_type": "code",
   "execution_count": 10,
   "metadata": {},
   "outputs": [
    {
     "name": "stdout",
     "output_type": "stream",
     "text": [
      "A={'AC/DC', 'Back in Black', 'Thriller'}\n",
      "A={'AC/DC', 'NSYNC', 'Back in Black', 'Thriller'}\n",
      "\n",
      "{'AC/DC', 'Back in Black', 'Thriller'}\n",
      "\n",
      "\n",
      "True\n"
     ]
    }
   ],
   "source": [
    "# Add element to set\n",
    "A = set([\"Thriller\", \"Back in Black\", \"AC/DC\"])\n",
    "print(f'A={A}')\n",
    "\n",
    "A.add(\"NSYNC\")\n",
    "print(f'A={A}\\n')\n",
    "\n",
    "# Remove the element from set\n",
    "A.remove(\"NSYNC\")\n",
    "print(f'{A}\\n')\n",
    "print()\n",
    "\n",
    "# Verify if the element is in the set\n",
    "print(\"AC/DC\" in A)"
   ]
  },
  {
   "cell_type": "code",
   "execution_count": 16,
   "metadata": {},
   "outputs": [
    {
     "name": "stdout",
     "output_type": "stream",
     "text": [
      "True\n",
      "True\n",
      "Set = ['AC/DC', 'Back in Black', 'Thriller']\n",
      "Con = {'AC/DC', 'Back in Black', 'Thriller'} \n"
     ]
    }
   ],
   "source": [
    "# Verify if the element is in the set\n",
    "print(\"AC/DC\" in A)\n",
    "iA = list(A)\n",
    "print(\"AC/DC\" in iA)\n",
    "print(f'Set = {iA}\\nCon = {A} '  )\n"
   ]
  },
  {
   "cell_type": "code",
   "execution_count": 86,
   "metadata": {},
   "outputs": [
    {
     "name": "stdout",
     "output_type": "stream",
     "text": [
      "{'a': 0, 'b': 1, 'c': 2, 'd': 3}\n",
      "0\n"
     ]
    }
   ],
   "source": [
    "D={'a':0,'b':1,'c':2}      # diccionario\n",
    "D['d']=3                   #agrego un elemento\n",
    "print(D)\n",
    "print(D['a'])\n"
   ]
  },
  {
   "cell_type": "code",
   "execution_count": null,
   "metadata": {},
   "outputs": [],
   "source": []
  },
  {
   "cell_type": "markdown",
   "metadata": {},
   "source": [
    "<h1 style=\"background-color:powderblue;\"> Dictironary Explain</h1>\n",
    "<img src=\"img/dictironary_explain.png\" width=\"80%\" height=\"80%\"/>\n"
   ]
  },
  {
   "cell_type": "code",
   "execution_count": 33,
   "metadata": {},
   "outputs": [
    {
     "name": "stdout",
     "output_type": "stream",
     "text": [
      "1.- fruit[0] = {'name': 'apple', 'price': 20}\n",
      "\n",
      "2.- fruit[0][\"name\"] = apple\n",
      "\n",
      "3.- fruit[1][\"name\"] = orange\n",
      "\n",
      "apple\n",
      "orange\n",
      "banana\n",
      "2.- d=['orange']\n",
      "\n"
     ]
    }
   ],
   "source": [
    "fruits = [\n",
    "          {'name' : 'apple', 'price':20},\n",
    "          {'name' : 'orange', 'price':10},\n",
    "          {'name' : 'banana', 'price':15},\n",
    "         ]\n",
    "\n",
    "print(f'1.- fruit[0] = {fruits[0]}\\n')                         # fruits[0] = {'name': 'apple', 'price': 20}\n",
    "print(f'2.- fruit[0][\"name\"] = {fruits[0][\"name\"]}\\n')         # del elmnto fruits[0]   jala el   key=name :. 'apple'\n",
    "print(f'3.- fruit[1][\"name\"] = {fruits[1][\"name\"]}\\n')         # del elmnto fruits[1]   jala el   key=name :. 'orange'\n",
    "\n",
    "\n",
    "for f in fruits:\n",
    "    print(f['name'])\n",
    "\n",
    "    \n",
    "# si la 1ra letra del string del arreglo = 'a' devuelve a f[name]\n",
    "d = [ f['name']  for f in fruits if f['name'][0] == 'o']\n",
    "print (f'2.- d={d}\\n')\n",
    "\n"
   ]
  },
  {
   "cell_type": "code",
   "execution_count": 5,
   "metadata": {},
   "outputs": [
    {
     "name": "stdout",
     "output_type": "stream",
     "text": [
      "dict_keys(['a', 'b', 'c', 'd'])\n",
      "dict_values([0, 1, 2, 3])\n"
     ]
    }
   ],
   "source": [
    "print(D.keys())\n",
    "print(D.values())"
   ]
  },
  {
   "cell_type": "code",
   "execution_count": 38,
   "metadata": {},
   "outputs": [
    {
     "data": {
      "text/plain": [
       "\"\\nd= {'uno':1, 'dos':2, 'tres':{1:'uno',2:'dos',3:'tres'}}\\n\\nd['tres']\\n{1: 'uno', 2: 'dos', 3: 'tres'}\\n\\nd['tres'][2]\\n'dos'\\n\\nd['tres'][2]\\n'dos'\\n\\nd['tres'][3]\\n'tres'\\n\\n\""
      ]
     },
     "execution_count": 38,
     "metadata": {},
     "output_type": "execute_result"
    }
   ],
   "source": [
    "'''\n",
    "d= {'uno':1, 'dos':2, 'tres':{1:'uno',2:'dos',3:'tres'}}\n",
    "\n",
    "d['tres']\n",
    "{1: 'uno', 2: 'dos', 3: 'tres'}\n",
    "\n",
    "d['tres'][2]\n",
    "'dos'\n",
    "\n",
    "d['tres'][2]\n",
    "'dos'\n",
    "\n",
    "d['tres'][3]\n",
    "'tres'\n",
    "\n",
    "'''"
   ]
  },
  {
   "cell_type": "code",
   "execution_count": 37,
   "metadata": {},
   "outputs": [
    {
     "name": "stdout",
     "output_type": "stream",
     "text": [
      "{'key1': 1, 'key2': '2', 3: [3, 3, 3], 'key4': (4, 4, 4), 'key5': 5, (0, 1): 6}\n",
      "1.- Dict[\"key1\"] = 1\n",
      "2.- Dict[3]=[3, 3, 3]\n",
      "3.- Dict[\"key4\"] = (4, 4, 4)\n",
      "4.- Dict[(0, 1)] = 6\n",
      "5.- Dict.keys() = dict_keys(['key1', 'key2', 3, 'key4', 'key5', (0, 1)])\n",
      "6.- Dict.values()=dict_values([1, '2', [3, 3, 3], (4, 4, 4), 5, 6])\n"
     ]
    }
   ],
   "source": [
    "# Create the dictionary\n",
    "Dict = {\"key1\": 1, \"key2\": \"2\", 3: [3, 3, 3], \"key4\": (4, 4, 4), 'key5': 5, (0, 1): 6}\n",
    "print(Dict)\n",
    "\n",
    "# Access to the value by the key\n",
    "print(f'1.- Dict[\"key1\"] = {Dict[\"key1\"]}')\n",
    "print(f'2.- Dict[3]={Dict[3]}')\n",
    "print(f'3.- Dict[\"key4\"] = {Dict[\"key4\"]}')\n",
    "print(f'4.- Dict[(0, 1)] = {Dict[(0, 1)]}')\n",
    "print(f'5.- Dict.keys() = {Dict.keys()}')\n",
    "print(f'6.- Dict.values()={Dict.values()}')\n"
   ]
  },
  {
   "cell_type": "code",
   "execution_count": 12,
   "metadata": {},
   "outputs": [
    {
     "name": "stdout",
     "output_type": "stream",
     "text": [
      "{'Hola': 3}\n"
     ]
    }
   ],
   "source": [
    "# Delete entries by key\n",
    "A={'Thriller':1,'Graduation':2,'Hola':3}\n",
    "del(A['Thriller'])                            # borra un elemento (key y Value) del diccionario.\n",
    "del(A['Graduation'])\n",
    "print(A)"
   ]
  },
  {
   "cell_type": "code",
   "execution_count": 82,
   "metadata": {},
   "outputs": [
    {
     "name": "stdout",
     "output_type": "stream",
     "text": [
      "Album: 0 Promedio 10.8\n",
      "Album: 1 Promedio 5.5\n",
      "Album: 2 Promedio 2\n",
      "None\n"
     ]
    }
   ],
   "source": [
    "def arryTuple(arry):\n",
    "    for i,s in enumerate(arry):\n",
    "        print('Album:',i,'Promedio',s)\n",
    "\n",
    "ary=[10.8,5.5,2]\n",
    "print(arryTuple(ary))        "
   ]
  },
  {
   "cell_type": "code",
   "execution_count": 45,
   "metadata": {},
   "outputs": [
    {
     "name": "stdout",
     "output_type": "stream",
     "text": [
      "dict_values([1, 2, 3])\n",
      "[1, 2, 3]\n",
      "1\n",
      "2\n",
      "3\n"
     ]
    }
   ],
   "source": [
    "d = {'a': 1, 'b': 2, 'c': 3}\n",
    "# si d.values() = dict_values([1,2,3])\n",
    "# si arr = list(d.values())   :. arr = [1,2,3]\n",
    "\n",
    "print(d.values())\n",
    "\n",
    "print(list(d.values()))\n",
    "\n",
    "for dd in d.values():\n",
    "    print(dd)"
   ]
  },
  {
   "cell_type": "code",
   "execution_count": 49,
   "metadata": {},
   "outputs": [
    {
     "name": "stdout",
     "output_type": "stream",
     "text": [
      "a\n",
      "b\n",
      "c\n",
      "d\n",
      "a\n",
      "a\n"
     ]
    }
   ],
   "source": [
    "# iter .- Recorre todo los elementos del Arreglo\n",
    "myit = iter('abcde')\n",
    "\n",
    "print(next(myit))\n",
    "print(next(myit))\n",
    "print(next(myit))\n",
    "print(next(myit))\n",
    "\n",
    "# String\n",
    "print('abcde'[0])\n",
    "\n",
    "st = 'abcde'\n",
    "print(st[0])\n"
   ]
  },
  {
   "cell_type": "code",
   "execution_count": 12,
   "metadata": {},
   "outputs": [
    {
     "name": "stdout",
     "output_type": "stream",
     "text": [
      "Conjunto a = [3 4 5 6 7 8 9], Conjunto b = [1 2 3 4 5 6 7] \n",
      "\n",
      "Interseccion de a y b = [3 4 5 6 7]\n",
      "Multiplico x 2.*Pi = [ 28.27431  50.26544  78.53975 113.09724 153.93791]\n"
     ]
    },
    {
     "data": {
      "image/png": "[encoded data removed]",
      "text/plain": [
       "<Figure size 432x288 with 1 Axes>"
      ]
     },
     "metadata": {
      "needs_background": "light"
     },
     "output_type": "display_data"
    }
   ],
   "source": [
    "# INTERSECCION DE COJUNTOS y Resultado lo exponencio\n",
    "import numpy as np\n",
    "import math as mth\n",
    "h = [n for n in range(1,10)]\n",
    "np_set = np.array(h)\n",
    "np_a = np_set[np_set > 2]      # Creo el Conjunto a = {3,4,5,6,7,8,9}\n",
    "np_b = np_set[np_set < 8]      # Creo el Conjunto b = {1,2,3,4,5,6,7}\n",
    "print(f'Conjunto a = {np_a}, Conjunto b = {np_b} \\n')\n",
    "\n",
    "n = np.intersect1d(np_a,np_b)\n",
    "print(f'Interseccion de a y b = {n}')\n",
    "\n",
    "# multimplico el resultado x 2.pi\n",
    "Pi = 3.14159\n",
    "rslt = Pi*n**2\n",
    "print(f'Multiplico x 2.*Pi = {rslt}')\n",
    "\n",
    "from pylab import plot, show\n",
    "x = n\n",
    "y = rslt\n",
    "plot(x, y)\n",
    "show()"
   ]
  },
  {
   "cell_type": "code",
   "execution_count": 14,
   "metadata": {},
   "outputs": [
    {
     "name": "stdout",
     "output_type": "stream",
     "text": [
      "[1, 4, 9, 16, 25, 36, 49, 64, 81]\n"
     ]
    }
   ],
   "source": [
    "x = lambda n,b : ([k**b for k in range(1,10)])\n",
    "conj_b = x(1,2)\n",
    "print(conj_b)\n"
   ]
  }
 ],
 "metadata": {
  "kernelspec": {
   "display_name": "Python 3",
   "language": "python",
   "name": "python3"
  },
  "language_info": {
   "codemirror_mode": {
    "name": "ipython",
    "version": 3
   },
   "file_extension": ".py",
   "mimetype": "text/x-python",
   "name": "python",
   "nbconvert_exporter": "python",
   "pygments_lexer": "ipython3",
   "version": "3.7.13"
  }
 },
 "nbformat": 4,
 "nbformat_minor": 2
}
