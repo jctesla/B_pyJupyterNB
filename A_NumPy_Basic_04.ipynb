{
 "cells": [
  {
   "cell_type": "code",
   "execution_count": null,
   "id": "3f536568",
   "metadata": {},
   "outputs": [],
   "source": [
    "### DE YOUTUBE -> https://www.youtube.com/watch?v=QUT1VHiLmmI\n",
    "### Help : https://numpy.org/doc/stable/reference/routines.math.html\n",
    "### 1 hora NumPy"
   ]
  },
  {
   "cell_type": "markdown",
   "id": "32c46e64",
   "metadata": {},
   "source": [
    "<img src=\"img/What_NumPy.png\" width=\"630\" height=\"550\" align=\"left\"/><br>\n",
    "<h2 style=\"color:blue;text-align:left\">Tensorflow is a library for artificial intelligence, especially machine learning.</h2>\n",
    "<ol style=\"color:blue;\"\">\n",
    "  <li>Numpy is a library for doing numerical calculations.</li>\n",
    "  <li>NumPy and TensorFlow are actually very similar in many respects.</li>\n",
    "  <li>Both are, essentially, array manipulation libraries, built around the concept of tensors (or nd-arrays, in NumPy terms).</li>\n",
    "</ol>\n",
    "<br>\n",
    "<h2 style=\"color:blue;text-align:left\" ><b>Explain list vs numpy:</h2>\n",
    "<img src=\"img/Why_numpy_vs_list_fast_01.png\" width=\"380\" height=\"440\" align=\"left\"/><br>\n",
    "<img src=\"img/operation_numpy_vs_list.png\" width=\"490\" height=\"460\" align=\"right\"/><br>\n",
    "\n"
   ]
  },
  {
   "cell_type": "markdown",
   "id": "8d0c21b2",
   "metadata": {},
   "source": [
    "<h2 style=\"color:blue;text-align:left\">Metodos del numpy: a = np.array( \"type list\" )</h2>\n",
    " <img src=\"img/numpy_ndim_shape.png\" width=\"460\" height=\"430\" align=\"right\"/>\n",
    " <ol style=\"text-align:left\">\n",
    "    <li><b>a.ndim    .-</b> Me da las dimensiones de la Matriz, X Y Z ...</li>\n",
    "    <li><b>a.shape   .-</b> lee cantidad de Elmntos x Dim, sea segun su dimension <br>(nROWs, nCOLs) Return--> tupla.</li>\n",
    "    <li><b>a.dtype   .-</b> me da el tipo de elemento de los Arreglos, int8 / int16 / int32</li>\n",
    "    <li><b>a.itemsize.-</b> me da el tamaño del elemento en bytes.</li>\n",
    "    <li><b>a.nbytes  .-</b> me da el tamaño total en bytes q ocupa la Matriz.</li>\n",
    "  </ol>"
   ]
  },
  {
   "cell_type": "markdown",
   "id": "45c5702e",
   "metadata": {},
   "source": [
    "<h2 style=\"color:blue;text-align:center\">np.ndim(arry)</h2>"
   ]
  },
  {
   "cell_type": "code",
   "execution_count": 4,
   "id": "aa5b7406",
   "metadata": {},
   "outputs": [
    {
     "name": "stdout",
     "output_type": "stream",
     "text": [
      "Dimension del arreglo a0 = 1\n",
      "Dimension del arreglo a1 = 2\n",
      "Dimension del arreglo a2 = 3\n"
     ]
    }
   ],
   "source": [
    "import numpy as np\n",
    "# Creo matriz de 1 dimension\n",
    "a0 = np.array([1,2,3], dtype='int8')\n",
    "print(f'Dimension del arreglo a0 = {np.ndim(a0)}')      # leo dimesion de matriz a0: 2 filas, 3 columnas\n",
    "\n",
    "# Creo matriz de 2 dimensiones\n",
    "a1 = np.array([[1,2,3],[4,5,6]], dtype='int8')\n",
    "print(f'Dimension del arreglo a1 = {np.ndim(a1)}')      # leo dimesion de matriz a1: 2 filas, 3 columnas\n",
    "\n",
    "# creo un arry de 2x3x4 = 24 elementos. X, Y, Z\n",
    "a2 = np.array([\n",
    "                [\n",
    "                 [1,2,3,4],\n",
    "                 [5,6,7,8],\n",
    "                 [9,10,11,12],\n",
    "                ],\n",
    "                [\n",
    "                 [13,14,15,16],\n",
    "                 [17,18,19,20],\n",
    "                 [21,22,23,24]\n",
    "                ]\n",
    "])\n",
    "print(f'Dimension del arreglo a2 = {np.ndim(a2)}')\n"
   ]
  },
  {
   "cell_type": "markdown",
   "id": "8839a4e7",
   "metadata": {},
   "source": [
    "<h2 style=\"color:blue;text-align:center\">np.shape(arry)</h2>"
   ]
  },
  {
   "cell_type": "code",
   "execution_count": 5,
   "id": "df32c8e4",
   "metadata": {},
   "outputs": [
    {
     "name": "stdout",
     "output_type": "stream",
     "text": [
      "Size Dim de a1 = (3,)\n",
      "Size Dim de a1 = (2, 3)\n",
      "Size Dim de a1 = (2, 3, 4)\n"
     ]
    }
   ],
   "source": [
    "import numpy as np\n",
    "print(f'Size Dim de a1 = {np.shape(a0)}')               # 3 filas, 0 columnas\n",
    "print(f'Size Dim de a1 = {np.shape(a1)}')               # 2 filas, 3 columnas\n",
    "print(f'Size Dim de a1 = {np.shape(a2)}')               # 2 filas, 3 columnas, 4 profundidad"
   ]
  },
  {
   "cell_type": "code",
   "execution_count": 6,
   "id": "35fdbfe1",
   "metadata": {},
   "outputs": [],
   "source": [
    "import numpy as np\n",
    "import matplotlib as plt\n",
    "a1 = np.array([3,5,7,3])      \n",
    "a2 = np.zeros(5)             # Gen arry de ZEROS de 5u.\n",
    "a3 = np.ones(5)              # Gen arry de UNOS de 5u.\n",
    "a4 = np.random.random(5)     # Gen arry de random de 10u solo numrs positivos.\n",
    "a5 = np.random.randn(3)      # Gen arry de random de 10u entre numrs negativos y positivos.\n",
    "a6 = np.linspace(0,1,5)      # ajusta 5 partes iguales con valores entre 0 y 1 = [0. 0.25 0.5 0.75 1.]\n",
    "                             # Gen arry de nºs espaciados uniformemente en el intervalo de 0 a 1\n",
    "a7 = np.arange(0,5,1)        # Gen arry 5 nºs con: begin=0, hasta=5, step=1  : rslt=[0 1 2 3 4]\n",
    "a8 = np.arange(2,8,1)        # Gen arry [2 3 4 5 6 7]  , crea una sumatoria + step=1 hasta < limit-->8\n",
    "a9 = np.arange(2,8.01,1)     # Gen arry [2. 3. 4. 5. 6. 7. 8.], y se ve en float, x q se coloco 8,01\n",
    "a10 = np.arange(0,2,0.7)     # Gen arry [0.  0.7  1.4], begin=0, maxRange sum + step=0,7\n"
   ]
  },
  {
   "cell_type": "code",
   "execution_count": 7,
   "id": "db8fee22",
   "metadata": {},
   "outputs": [
    {
     "name": "stdout",
     "output_type": "stream",
     "text": [
      "a1*2 = [ 6 10 14  6]\n",
      "a1>3 = [False  True  True False]\n",
      "a2 = [0. 0. 0. 0. 0.]\n",
      "a3 = [1. 1. 1. 1. 1.]\n",
      "a4 = [0.91089119 0.16410887 0.8083708  0.40649188 0.63405934]\n",
      "a5 = [ 0.67438008 -0.17598762  0.13702519]\n",
      "a6 = [0.   0.25 0.5  0.75 1.  ]\n",
      "a7 = [0 1 2 3 4]\n",
      "a8 = [2 3 4 5 6 7]\n",
      "a9 = [2. 3. 4. 5. 6. 7. 8.]\n",
      "a10 = [0.  0.7 1.4]\n"
     ]
    }
   ],
   "source": [
    "print(f'a1*2 = {a1*2}')\n",
    "print(f'a1>3 = {a1>3}')\n",
    "print(f'a2 = {a2}')\n",
    "print(f'a3 = {a3}')\n",
    "print(f'a4 = {a4}')\n",
    "print(f'a5 = {a5}')\n",
    "print(f'a6 = {a6}')\n",
    "print(f'a7 = {a7}')\n",
    "print(f'a8 = {a8}')\n",
    "print(f'a9 = {a9}')\n",
    "print(f'a10 = {a10}')"
   ]
  },
  {
   "cell_type": "code",
   "execution_count": 8,
   "id": "d3f4be31",
   "metadata": {},
   "outputs": [
    {
     "name": "stdout",
     "output_type": "stream",
     "text": [
      "1. Numpy a = [0 2 4 6 8]\n",
      "2. Cuantos elemt tiene a = (5,) elementos\n",
      "3. C/elemt peza = 2 bytes\n",
      "\n"
     ]
    }
   ],
   "source": [
    "# Matriz de 1 dimension del tipo int16bits\n",
    "import numpy as np\n",
    "mm = np.array([0,2,4,6,8], dtype='int16')                  # matriz de 1 dim c/e int_16 bits.\n",
    "print(f'1. Numpy mm = {mm}')\n",
    "print(f'2. Cuantos elemt tiene a = {mm.shape} elementos')  # Leo las dimensiones fila/cols del arry 'mm'\n",
    "print(f'3. C/elemt peza = {mm.itemsize} bytes\\n')          # leo el size de c/elemento de la matriz mm."
   ]
  },
  {
   "cell_type": "code",
   "execution_count": 9,
   "id": "dfe1a213",
   "metadata": {},
   "outputs": [
    {
     "name": "stdout",
     "output_type": "stream",
     "text": [
      "3. Matriz de 2 dim b:\n",
      "[[0 2 4]\n",
      " [0 1 2]]\n",
      "\n",
      " matriz de =(2, 3) (rows,col) elementos  y b.dim =2\n",
      "\n",
      "4. Matriz Tamaño = 24 bytes\n",
      "\n"
     ]
    }
   ],
   "source": [
    "# Matriz Tupla de 2 dimensiones (ROW,COL):. p calcular el tamaño Total en Bytes:\n",
    "# b.shape[0] = es nro ROWs = 2 files\n",
    "# b.shape[1] = es nro COLs = 3 columns\n",
    "# Totald d Elementos = 2 x 3 = 6 Elementos x Peso de C/u (b.itemaize) = TOTAL bytes pesa esta Matriz\n",
    "b1 = [n*2 for n in range(3)]\n",
    "b2 = [n for n in range(3)]\n",
    "b = np.array([ b1, b2 ])          # [ [],[] ]de 2 dimensiones x defecto c/elemento es de 32bits.\n",
    "\n",
    "print(f'3. Matriz de 2 dim b:\\n{b}\\n\\n matriz de ={b.shape} (rows,col) elementos  y b.dim ={b.ndim}\\n')\n",
    "print(f'4. Matriz Tamaño = {b.shape[0]*b.shape[1]*b.itemsize} bytes\\n')\n"
   ]
  },
  {
   "cell_type": "code",
   "execution_count": 10,
   "id": "292b128f",
   "metadata": {},
   "outputs": [
    {
     "name": "stdout",
     "output_type": "stream",
     "text": [
      "4. Matriz de 2 dim c:\n",
      "[[3 2 1 0]\n",
      " [4 5 6 7]\n",
      " [8 9 4 5]]\n",
      "\n",
      " Matriz de = (3, 4) elementos y dimension=2\n",
      "\n",
      "5. Matriz Tamaño = 48 bytes\n"
     ]
    }
   ],
   "source": [
    "# Matriz de 2 dimension [3 Rows y 4 Cols]\n",
    "# b.shape[0] = es nro ROWs = 3 files\n",
    "# b.shape[1] = es nro COLs = 4 columns\n",
    "# Totald d Elementos = 3 x 3 = 9 Elementos x Peso de C/u (c.itemaize=defualt = 4bytes/int32) = TOTAL bytes pesa esta Matriz\n",
    "c1 = [3,2,1,0]                  # X\n",
    "c2 = [4,5,6,7]                  # Y\n",
    "c3 = [8,9,4,5]                  # Z\n",
    "c = np.array( [c1, c2, c3] )    # Matriz de 3 dimensiones.(X,Y,Z)\n",
    "print(f'4. Matriz de 2 dim c:\\n{c}\\n\\n Matriz de = {c.shape} elementos y dimension={c.ndim}\\n')\n",
    "print(f'5. Matriz Tamaño = {c.shape[0]*c.shape[1]*c.itemsize} bytes')"
   ]
  },
  {
   "cell_type": "code",
   "execution_count": 11,
   "id": "89035b6c",
   "metadata": {
    "scrolled": true
   },
   "outputs": [
    {
     "name": "stdout",
     "output_type": "stream",
     "text": [
      "6. Matriz de 3 dim c:\n",
      "[[[3 2 1 0]\n",
      "  [4 5 6 7]]\n",
      "\n",
      " [[3 2 1 0]\n",
      "  [4 5 6 7]]]\n",
      "\n",
      " Matriz de = (3, 4) elementos y dimension=3\n",
      "\n"
     ]
    }
   ],
   "source": [
    "# Matriz de 3 dimensiones\n",
    "d = np.array( [[c1, c2],[c1, c2]] )\n",
    "print(f'6. Matriz de 3 dim c:\\n{d}\\n\\n Matriz de = {c.shape} elementos y dimension={d.ndim}\\n')"
   ]
  },
  {
   "cell_type": "code",
   "execution_count": 12,
   "id": "737834c1",
   "metadata": {},
   "outputs": [
    {
     "name": "stdout",
     "output_type": "stream",
     "text": [
      "1.- dimension de \u001b[34m.ndim: \u001b[30m\n",
      " a=1 Una dimension\n",
      " b=2 dos dimensiones\n",
      " c=2 dos dimensiones\n",
      " d=3 tres dimensiones\n"
     ]
    }
   ],
   "source": [
    "from colorama import init\n",
    "from colorama import Fore\n",
    "\n",
    "# Dimensions.- son la cantidad de \n",
    "print(f'1.- dimension de {Fore.BLUE + \".ndim\"}: {Fore.BLACK}')\n",
    "print (f' a={a.ndim} Una dimension')\n",
    "print (f' b={b.ndim} dos dimensiones')\n",
    "print (f' c={c.ndim} dos dimensiones')\n",
    "print (f' d={d.ndim} tres dimensiones')"
   ]
  },
  {
   "cell_type": "code",
   "execution_count": 13,
   "id": "d4ab3666",
   "metadata": {},
   "outputs": [
    {
     "name": "stdout",
     "output_type": "stream",
     "text": [
      "\n",
      "2.- forma Shape de (Rows, Cols) de la Matriz  \u001b[34m.shape: \u001b[30m:\n",
      " a=(5,) Supone 1-Arreglo de 5-Elementos\n",
      " b=(2, 3) 2-arreglos de 3-Elementos c/u.\n",
      " c=(3, 4) 3-arreglos de 4-Elementos c/u.\n",
      " d=(2, 2, 4) \n"
     ]
    }
   ],
   "source": [
    "# Get Shape (la forma del arreglo)\n",
    "print(f'\\n2.- forma Shape de (Rows, Cols) de la Matriz  {Fore.BLUE + \".shape\"}: {Fore.BLACK}:')\n",
    "print (f' a={a.shape} Supone 1-Arreglo de 5-Elementos')\n",
    "print (f' b={b.shape} 2-arreglos de 3-Elementos c/u.')\n",
    "print (f' c={c.shape} 3-arreglos de 4-Elementos c/u.')\n",
    "print (f' d={d.shape} ')"
   ]
  },
  {
   "cell_type": "code",
   "execution_count": 14,
   "id": "a842ae88",
   "metadata": {},
   "outputs": [
    {
     "name": "stdout",
     "output_type": "stream",
     "text": [
      "\n",
      "3.- Type de \u001b[34m.dtype \u001b[30m\n",
      " a=int16 bits Tipo de c/elem.\n",
      " b=int32 bits  Tipo de c/elem.\n",
      " c=int32 bits  Tipo de c/elem.\n"
     ]
    }
   ],
   "source": [
    "# Get Type de c/elemento, ELEMENTO = unidad minima del Arreglo.\n",
    "print(f'\\n3.- Type de {Fore.BLUE + \".dtype\"} {Fore.BLACK}')\n",
    "print (f' a={a.dtype} bits Tipo de c/elem.')\n",
    "print (f' b={b.dtype} bits  Tipo de c/elem.')\n",
    "print (f' c={c.dtype} bits  Tipo de c/elem.')"
   ]
  },
  {
   "cell_type": "code",
   "execution_count": 15,
   "id": "fac992f1",
   "metadata": {},
   "outputs": [
    {
     "name": "stdout",
     "output_type": "stream",
     "text": [
      "\n",
      "4.- Size in Bytes de \u001b[34m.itemsize: \u001b[30m\n",
      " a=2 bytes c/elem dentro de la Matriz.\n",
      " b=4 bytes c/elem dentro de la Matriz.\n",
      " c=4 bytes c/elem dentro de la Matriz.\n"
     ]
    }
   ],
   "source": [
    "# Get Size in bytes de c/elemento\n",
    "print(f'\\n4.- Size in Bytes de {Fore.BLUE + \".itemsize\"}: {Fore.BLACK}')\n",
    "print (f' a={a.itemsize} bytes c/elem dentro de la Matriz.')\n",
    "print (f' b={b.itemsize} bytes c/elem dentro de la Matriz.')\n",
    "print (f' c={c.itemsize} bytes c/elem dentro de la Matriz.')"
   ]
  },
  {
   "cell_type": "code",
   "execution_count": 16,
   "id": "9d4fd97f",
   "metadata": {},
   "outputs": [
    {
     "name": "stdout",
     "output_type": "stream",
     "text": [
      "\n",
      "5.- Tamaño total de elementos \u001b[34m.size: \u001b[30m\n",
      " a=5 Total elementos de la Matriz <<a>>\n",
      " b=6 Total elementos de la Matriz <<b>>\n",
      " c=12 Total elementos de c/Arreglo <<c>>\n"
     ]
    }
   ],
   "source": [
    "# Get Tamaño total de elementos de c/Matriz\n",
    "print(f'\\n5.- Tamaño total de elementos {Fore.BLUE + \".size\"}: {Fore.BLACK}')\n",
    "print (f' a={a.size} Total elementos de la Matriz <<a>>')\n",
    "print (f' b={b.size} Total elementos de la Matriz <<b>>')\n",
    "print (f' c={c.size} Total elementos de c/Arreglo <<c>>')"
   ]
  },
  {
   "cell_type": "code",
   "execution_count": 17,
   "id": "18e7eea2",
   "metadata": {},
   "outputs": [
    {
     "name": "stdout",
     "output_type": "stream",
     "text": [
      "\n",
      "6.- Tamaño total en Bytes de c/Matriz \u001b[34ma.size * a.itemsize: \u001b[30m\n",
      " a=10 Bytes Total de la Matriz <<a>>\n",
      " b=24 Bytes Total de la Matriz <<b>>\n",
      " c=48 Bytes Total de la Matriz <<c>>\n"
     ]
    }
   ],
   "source": [
    "# Get total in Bytes de c/Matriz\n",
    "print(f'\\n6.- Tamaño total en Bytes de c/Matriz {Fore.BLUE + \"a.size * a.itemsize\"}: {Fore.BLACK}')\n",
    "print (f' a={a.size*a.itemsize} Bytes Total de la Matriz <<a>>')\n",
    "print (f' b={b.size*b.itemsize} Bytes Total de la Matriz <<b>>')\n",
    "print (f' c={c.size*c.itemsize} Bytes Total de la Matriz <<c>>')"
   ]
  },
  {
   "cell_type": "code",
   "execution_count": 18,
   "id": "100c6d2e",
   "metadata": {},
   "outputs": [
    {
     "name": "stdout",
     "output_type": "stream",
     "text": [
      "\n",
      "7.- Tamaño total en Bytes de c/Matriz  \u001b[34m.nbytes: \u001b[30m\n",
      " a=10 Bytes Total de la Matriz <<a>>\n",
      " b=24 Bytes Total de la Matriz <<b>>\n",
      " c=48 Bytes Total de la Matriz <<c>>\n"
     ]
    }
   ],
   "source": [
    "# Get total in Bytes de c/Matriz\n",
    "print(f'\\n7.- Tamaño total en Bytes de c/Matriz  {Fore.BLUE + \".nbytes\"}: {Fore.BLACK}')\n",
    "print (f' a={a.nbytes} Bytes Total de la Matriz <<a>>')\n",
    "print (f' b={b.nbytes} Bytes Total de la Matriz <<b>>')\n",
    "print (f' c={c.nbytes} Bytes Total de la Matriz <<c>>')"
   ]
  },
  {
   "cell_type": "markdown",
   "id": "69c4c26b",
   "metadata": {},
   "source": [
    "<img src=\"img/numPy_arreglo.png\" width=\"440\" height=\"440\" align=\"left\"/>"
   ]
  },
  {
   "cell_type": "code",
   "execution_count": 19,
   "id": "bbfe61e1",
   "metadata": {},
   "outputs": [
    {
     "name": "stdout",
     "output_type": "stream",
     "text": [
      "1.- Arreglo d =\n",
      "[[ 1  2  3  4]\n",
      " [10 11 12 13]] \n",
      "\n",
      "2.- row=1, column=3 :. row=1/col=3 :. d[1,3]=13\n",
      "3.- row=1, column=3 :. row=1/col=3 :. d[1,3]=13\n",
      "4.- All row=0 :. d[0,:] = [1 2 3 4]\n",
      "5.- All col=3 :. d[:,3] = [ 4 13]\n",
      "6.- All col=0 :. d[:,0] = [ 1 10]\n",
      "7.- All rows & cols :. d[:,:] = \n",
      " [[ 1  2  3  4]\n",
      " [10 11 12 13]]\n"
     ]
    }
   ],
   "source": [
    "# How to acces to the Matriz/Array (Row,Col) :. Row=Y ^ Cols=X , c/Indice begin=0\n",
    "# Tambien todo rows=0 = [0,:]\n",
    "# Tambien todo col=0  = [:,0]\n",
    "# Tambien usar = [startIdx : endIdx]\n",
    "d = np.array([\n",
    "    [1,2,3,4],\n",
    "    [10,11,12,13]\n",
    "])\n",
    "\n",
    "print(f'1.- Arreglo d =\\n{d} \\n')\n",
    "print(f'2.- row=1, column=3 :. row=1/col=3 :. d[1,3]={d[1,3]}')\n",
    "print(f'3.- row=1, column=3 :. row=1/col=3 :. d[1,3]={d[1,-1]}')\n",
    "print(f'4.- All row=0 :. d[0,:] = {d[0,:]}')\n",
    "print(f'5.- All col=3 :. d[:,3] = {d[:,3]}')\n",
    "print(f'6.- All col=0 :. d[:,0] = {d[:,0]}')\n",
    "print(f'7.- All rows & cols :. d[:,:] = \\n {d[:,:]}')\n"
   ]
  },
  {
   "cell_type": "code",
   "execution_count": 20,
   "id": "7c0b22af",
   "metadata": {},
   "outputs": [
    {
     "name": "stdout",
     "output_type": "stream",
     "text": [
      "1.- All rows=1 col=<3 a 6> :.  d[1,3:6:] = [11 12 13]\n",
      "2.- All rows=1 col=<3 a 6> :. d[1,3:-2:] = [11 12 13]\n",
      "\n",
      "3.- All rows=1 col=3 cambio 11 por 111 :.\n",
      " d[1,3]=111 --> \n",
      " [[  1   2   3   4   5   6   7]\n",
      " [  8   9  10 111  12  13  14]]\n"
     ]
    }
   ],
   "source": [
    "# Como selecionar un AREA/RANGO de Matrices = [startIdx : endIdx : size]  \n",
    "# if size='empty' :. rango es start(begin=0)....end(begin=1), size=todo.\n",
    "\n",
    "# d = [7]x[7]\n",
    "#     start begin(idx=0)   0 1 2 3 4 5 6\n",
    "#     end   begin(idx=1)   1 2 3 4 5 6 7\n",
    "d = np.array([[1,2,3,4,5,6,7],[8,9,10,11,12,13,14]])\n",
    "print(f'1.- All rows=1 col=<3 a 6> :.  d[1,3:6:] = {d[1,3:6:]}')\n",
    "print(f'2.- All rows=1 col=<3 a 6> :. d[1,3:-2:] = {d[1,3:6:]}\\n')\n",
    "\n",
    "# Cambiamos algun elemento del Arreglo de la matriz eneste caso 11 por 111:\n",
    "d[1,3]=111\n",
    "print(f'3.- All rows=1 col=3 cambio 11 por 111 :.\\n d[1,3]=111 --> \\n {d}')\n"
   ]
  },
  {
   "cell_type": "code",
   "execution_count": 21,
   "id": "92244aea",
   "metadata": {},
   "outputs": [
    {
     "name": "stdout",
     "output_type": "stream",
     "text": [
      "1.- d[1,3]=111 :. \n",
      "[[  1   2   3   4   5   6   7]\n",
      " [  8   9  10 111  12  13  14]]\n",
      "\n",
      "2.- d[0]=[7,6,5,4,3,2,1] :. \n",
      "[[  7   6   5   4   3   2   1]\n",
      " [  8   9  10 111  12  13  14]]\n",
      "\n",
      "3.- d[:,2] = 100 :. \n",
      "[[  7   6 100   4   3   2   1]\n",
      " [  8   9 100 111  12  13  14]]\n",
      "\n",
      "\n",
      "d[0,1:6:] = [66,55,44,33,22] :. \n",
      "[[  7 666 555 444 333 222   1]\n",
      " [  8   9 100 111  12  13  14]]\n",
      "\n",
      "Cambio del 5to al 7mo elemento de la 1ra fila:. \n",
      "[[  7 666 555 444   5   6   7]\n",
      " [  8   9 100 111  12  13  14]]\n"
     ]
    }
   ],
   "source": [
    "# Cambiamos algun elemento del Arreglo de la matriz eneste caso 11 por 111:\n",
    "d = np.array([[1,2,3,4,5,6,7],[8,9,10,11,12,13,14]])\n",
    "      \n",
    "d[1,3]=111\n",
    "print(f'1.- d[1,3]=111 :. \\n{d}\\n')\n",
    "\n",
    "# Cambio todo el row=0 por otro Arreglo en la Matriz\n",
    "# de [1,2,3,4,5,6,7],[8,9,10,11,12,13,14] por [7,6,5,4,3,2,1],[8,9,10,11,12,13,14]\n",
    "d[0]=[7,6,5,4,3,2,1]\n",
    "print(f'2.- d[0]=[7,6,5,4,3,2,1] :. \\n{d}\\n') \n",
    "\n",
    "# si quiero cambiar solo una columna, ej col=2= 100\n",
    "d[:,2] = 100\n",
    "print(f'3.- d[:,2] = 100 :. \\n{d}\\n')\n",
    "\n",
    "# Puedo cambiar solo un rango NOTA: [startIdx:endIdx:size]  if size='empty' :. rango es start(bgin=0)...end(begin=1)\n",
    "# Ej row=0 --> [7,6,5,4,3,2,1], solo cambio 1ro al 6to elemento.\n",
    "d[0,1:6:] = [666,555,444,333,222]\n",
    "print(f'\\nd[0,1:6:] = [66,55,44,33,22] :. \\n{d}')\n",
    "\n",
    "d[0,4:7] = [5,6,7]\n",
    "print(f'\\nCambio del 5to al 7mo elemento de la 1ra fila:. \\n{d}')\n"
   ]
  },
  {
   "cell_type": "markdown",
   "id": "6e119b5a",
   "metadata": {},
   "source": [
    "<img src=\"img/sustrae_rango.png\" width=\"650\" height=\"650\" align=\"left\"/>"
   ]
  },
  {
   "cell_type": "code",
   "execution_count": 269,
   "id": "7f145d86",
   "metadata": {},
   "outputs": [
    {
     "name": "stdout",
     "output_type": "stream",
     "text": [
      "3s dimensiones = \n",
      "[[[ 1  2  3  4]\n",
      "  [ 5  6  7  8]]\n",
      "\n",
      " [[ 9 10 11 12]\n",
      "  [13 14 15 16]]\n",
      "\n",
      " [[17 18 19 20]\n",
      "  [21 22 23 24]]] \n",
      "\n",
      "b.shape = (3, 2, 4)  de Afuera hacia Adentro \n",
      "\n",
      "b.size = 24          son 8 elemt x arreglo x 3 = 24 \n",
      "\n",
      "b.nbytes = 96        son 24 elementos x int32 = 4bytes x elemento \n",
      "\n",
      "Leo 2do Arreglo row=0,col=3 :. 12 \n",
      "\n",
      "Leo 3er Arreglo row=1,col=2 :. 23 \n",
      "\n",
      "Leo 3er Arreglo todo col=3 :. [20 24] \n",
      "\n",
      "Leo Todo el 3er Arreglo :. \n",
      "[[17 18 19 20]\n",
      " [21 22 23 24]] \n",
      "\n",
      "Leo Todo el 3er Arreglo row=1, col=22,23 :.[21] \n",
      "\n",
      "Cambia el Orden de los Arreglos dentro de La Matriz:.b[[2,1,0]] = \n",
      "[[[17 18 19 20]\n",
      "  [21 22 23 24]]\n",
      "\n",
      " [[ 9 10 11 12]\n",
      "  [13 14 15 16]]\n",
      "\n",
      " [[ 1  2  3  4]\n",
      "  [ 5  6  7  8]]] \n"
     ]
    }
   ],
   "source": [
    "# 3s Dimensiones:\n",
    "b = np.array([ \n",
    "    [[1,2,3,4],\n",
    "     [5,6,7,8]],\n",
    "    \n",
    "    [[9,10,11,12],\n",
    "     [13,14,15,16]],\n",
    "    \n",
    "    [[17,18,19,20],\n",
    "     [21,22,23,24]]\n",
    "])\n",
    "print(f'3s dimensiones = \\n{b} \\n')\n",
    "\n",
    "# Dimensiones:\n",
    "print(f'b.shape = {b.shape}  de Afuera hacia Adentro \\n')\n",
    "print(f'b.size = {b.size}          son 8 elemt x arreglo x 3 = 24 \\n')\n",
    "print(f'b.nbytes = {b.nbytes}        son 24 elementos x int32 = 4bytes x elemento \\n')\n",
    "\n",
    "# Leer una posicion de un arreglo:\n",
    "print(f'Leo 2do Arreglo row=0,col=3 :. {b[1,0,3]} \\n')\n",
    "print(f'Leo 3er Arreglo row=1,col=2 :. {b[2,1,2]} \\n')\n",
    "print(f'Leo 3er Arreglo todo col=3 :. {b[2,:,3]} \\n')\n",
    "print(f'Leo Todo el 3er Arreglo :. \\n{b[2,:,:]} \\n')\n",
    "print(f'Leo Todo el 3er Arreglo row=1, col=22,23 :.{b[2,1,0:1:2]} \\n')\n",
    "print(f'Cambia el Orden de los Arreglos dentro de La Matriz:.b[[2,1,0]] = \\n{b[[2,1,0]]} ')\n"
   ]
  },
  {
   "cell_type": "markdown",
   "id": "05f81e8e",
   "metadata": {},
   "source": [
    "<h2>Algunos Method de NumPy</h2>\n",
    "<ul>\n",
    " <li>np.zeros(No-Rows,No-Cols) ................. // crea arreglos de ZEROS</li>\n",
    " <li>np.ones (No-Rows,No-Cols) ................. // crea arreglos de UNOS</li>\n",
    " <li>np.full ( (No-Rows,No-Cols),val, type)..... // crea arreglos de Valoes=Val, type algun tipo</li>\n",
    " <li>np.identity(5,'float16')................... // crea Matrices simetricas No-Rows = No-Vols :. 5x5 o 8x8</li>\n",
    "</ul>"
   ]
  },
  {
   "cell_type": "code",
   "execution_count": 6,
   "id": "05eca4e1",
   "metadata": {},
   "outputs": [
    {
     "data": {
      "text/plain": [
       "array([[[0., 0.],\n",
       "        [0., 0.],\n",
       "        [0., 0.]],\n",
       "\n",
       "       [[0., 0.],\n",
       "        [0., 0.],\n",
       "        [0., 0.]],\n",
       "\n",
       "       [[0., 0.],\n",
       "        [0., 0.],\n",
       "        [0., 0.]],\n",
       "\n",
       "       [[0., 0.],\n",
       "        [0., 0.],\n",
       "        [0., 0.]]])"
      ]
     },
     "execution_count": 6,
     "metadata": {},
     "output_type": "execute_result"
    }
   ],
   "source": [
    "# Creacion una Matriz zeros: de Izq a Derch : 4=Grupos, 3=Arrys, 2=Elementc/Arrys\n",
    "np.zeros((4,3,2))"
   ]
  },
  {
   "cell_type": "code",
   "execution_count": 7,
   "id": "4b97447c",
   "metadata": {},
   "outputs": [
    {
     "data": {
      "text/plain": [
       "array([[1., 1.],\n",
       "       [1., 1.],\n",
       "       [1., 1.],\n",
       "       [1., 1.]])"
      ]
     },
     "execution_count": 7,
     "metadata": {},
     "output_type": "execute_result"
    }
   ],
   "source": [
    "# creo una matriz de Unos: 4=grupos, Arreglos=3.\n",
    "np.ones((4,2))"
   ]
  },
  {
   "cell_type": "code",
   "execution_count": 23,
   "id": "4061cc89",
   "metadata": {},
   "outputs": [
    {
     "data": {
      "text/plain": [
       "array([[9.5, 9.5, 9.5],\n",
       "       [9.5, 9.5, 9.5]], dtype=float32)"
      ]
     },
     "execution_count": 23,
     "metadata": {},
     "output_type": "execute_result"
    }
   ],
   "source": [
    "# Si quiero crear una Matriz int32 indefinido\n",
    "# Ej: 2 arreglos de 3 elementos del tipo float32, valor del elemento=9.5\n",
    "np.full( (2,3),9.5,dtype='float32' )\n"
   ]
  },
  {
   "cell_type": "code",
   "execution_count": 29,
   "id": "2e53f99d",
   "metadata": {},
   "outputs": [
    {
     "name": "stdout",
     "output_type": "stream",
     "text": [
      "El shape de b.shape:(3, 2, 4)\n",
      "La Matriz de b:\n",
      "[[[ 1  2  3  4]\n",
      "  [ 5  6  7  8]]\n",
      "\n",
      " [[ 9 10 11 12]\n",
      "  [13 14 15 16]]\n",
      "\n",
      " [[17 18 19 20]\n",
      "  [21 22 23 24]]]\n",
      "-----------------------------\n",
      "Reutilizo el shape de b:\n",
      "[[[5.5 5.5 5.5 5.5]\n",
      "  [5.5 5.5 5.5 5.5]]\n",
      "\n",
      " [[5.5 5.5 5.5 5.5]\n",
      "  [5.5 5.5 5.5 5.5]]\n",
      "\n",
      " [[5.5 5.5 5.5 5.5]\n",
      "  [5.5 5.5 5.5 5.5]]]\n",
      "-----------------------------\n",
      "Reutilizo el shape de b:\n",
      "[[[5.7 5.7 5.7 5.7]\n",
      "  [5.7 5.7 5.7 5.7]]\n",
      "\n",
      " [[5.7 5.7 5.7 5.7]\n",
      "  [5.7 5.7 5.7 5.7]]\n",
      "\n",
      " [[5.7 5.7 5.7 5.7]\n",
      "  [5.7 5.7 5.7 5.7]]]\n"
     ]
    }
   ],
   "source": [
    "# Re-Utilizar un Shape ya generado anteriormente 'b', y lo cargamos con otros tipo de datos.\n",
    "print(f'El shape de b.shape:{b.shape}')\n",
    "print(f'La Matriz de b:\\n{b}')\n",
    "\n",
    "print(f'-----------------------------')\n",
    "# <<full_like>>\n",
    "re_b=np.full_like(b,5.5,'float32')\n",
    "print(f'Reutilizo el shape de b:\\n{re_b}')\n",
    "    \n",
    "print(f'-----------------------------')\n",
    "# lo mism <<full>>\n",
    "re_c=np.full(b.shape,5.7,'float32')\n",
    "print(f'Reutilizo el shape de b:\\n{re_c}')"
   ]
  },
  {
   "cell_type": "code",
   "execution_count": 33,
   "id": "45cb5945",
   "metadata": {},
   "outputs": [
    {
     "name": "stdout",
     "output_type": "stream",
     "text": [
      "Random Numpy array = \n",
      "[[0.61127025 0.86851317]\n",
      " [0.1354019  0.74327014]\n",
      " [0.15417894 0.8673729 ]]\n",
      "\n",
      "Random Numpy array = \n",
      "[[[0.57760924 0.92143938 0.727378  ]\n",
      "  [0.37418615 0.50179203 0.39295637]]\n",
      "\n",
      " [[0.65729157 0.24281969 0.90117333]\n",
      "  [0.28314413 0.51723204 0.92837012]]\n",
      "\n",
      " [[0.63353588 0.23567135 0.68486173]\n",
      "  [0.38255153 0.0620311  0.80948131]]\n",
      "\n",
      " [[0.09920227 0.3722702  0.81496527]\n",
      "  [0.99986541 0.80802907 0.78003789]]]\n"
     ]
    }
   ],
   "source": [
    "# Creamos un ArrayNumppy Random de Nros decimales, de 3 Arreglos de 2 elementos.\n",
    "ran_np1 = np.random.rand(3,2)\n",
    "print(f'Random Numpy array = \\n{ran_np1}\\n')\n",
    "\n",
    "ran_np2 = np.random.rand(4,2,3)\n",
    "print(f'Random Numpy array = \\n{ran_np2}')"
   ]
  },
  {
   "cell_type": "code",
   "execution_count": 42,
   "id": "e4ccd859",
   "metadata": {},
   "outputs": [
    {
     "name": "stdout",
     "output_type": "stream",
     "text": [
      "Random Numpy array = \n",
      "[[4 0 5]\n",
      " [2 6 2]]\n",
      "\n",
      "Random Numpy array = \n",
      "[[ 0 -4  6]\n",
      " [ 1 -4 -2]]\n",
      "\n"
     ]
    }
   ],
   "source": [
    "# Creamos un ArrayNumppy Random de Nros Enteros, entre 0 y 8 del tamaño(dimension) de (2,3).\n",
    "ran_np1 = np.random.randint(8,size=(2,3))\n",
    "print(f'Random Numpy array = \\n{ran_np1}\\n')\n",
    "\n",
    "# Creamos un ArrayNumppy Random de Nros Enteros, entre -5 y 8 del tamaño(dimension) de (2,3).\n",
    "ran_np2 = np.random.randint(-5,8,size=(2,3))\n",
    "print(f'Random Numpy array = \\n{ran_np2}\\n')"
   ]
  },
  {
   "cell_type": "code",
   "execution_count": 52,
   "id": "537764be",
   "metadata": {},
   "outputs": [
    {
     "data": {
      "text/plain": [
       "array([[1., 0., 0., 0., 0.],\n",
       "       [0., 1., 0., 0., 0.],\n",
       "       [0., 0., 1., 0., 0.],\n",
       "       [0., 0., 0., 1., 0.],\n",
       "       [0., 0., 0., 0., 1.]], dtype=float16)"
      ]
     },
     "execution_count": 52,
     "metadata": {},
     "output_type": "execute_result"
    }
   ],
   "source": [
    "# Una forma de Matrox simetrica; es el Nro=Elelemtnos = Nro=Arreglos. le llaman identity Matrix.\n",
    "np.identity(5,'float16')"
   ]
  },
  {
   "cell_type": "code",
   "execution_count": 25,
   "id": "3eff4997",
   "metadata": {},
   "outputs": [
    {
     "name": "stdout",
     "output_type": "stream",
     "text": [
      "1.- copia de arr repetido 3 veces r= \n",
      "[[1 2 3]\n",
      " [1 2 3]\n",
      " [1 2 3]\n",
      " [4 5 6]\n",
      " [4 5 6]\n",
      " [4 5 6]]\n",
      "\n",
      "2.- copia de arr repetido 3 veces r= \n",
      "[[1 1 1 2 2 2 3 3 3]\n",
      " [4 4 4 5 5 5 6 6 6]]\n",
      "\n"
     ]
    }
   ],
   "source": [
    "arr = np.array([[1,2,3],[4,5,6]])\n",
    "\n",
    "# repetido como arreglos\n",
    "r = np.repeat(arr,3, axis=0)\n",
    "print(f'1.- copia de arr repetido 3 veces r= \\n{r}\\n')\n",
    "\n",
    "# repeteido como en un solo arreglo\n",
    "r = np.repeat(arr,3, axis=1)\n",
    "print(f'2.- copia de arr repetido 3 veces r= \\n{r}\\n')\n"
   ]
  },
  {
   "cell_type": "markdown",
   "id": "f3c87027",
   "metadata": {},
   "source": [
    "<img src=\"img/matriz_kernel.png\" width=\"150\" height=\"150\" align=\"left\"/>"
   ]
  },
  {
   "cell_type": "code",
   "execution_count": 86,
   "id": "1f8d9ebe",
   "metadata": {},
   "outputs": [
    {
     "name": "stdout",
     "output_type": "stream",
     "text": [
      "op=\n",
      "[[1. 1. 1. 1. 1.]\n",
      " [1. 1. 1. 1. 1.]\n",
      " [1. 1. 1. 1. 1.]\n",
      " [1. 1. 1. 1. 1.]\n",
      " [1. 1. 1. 1. 1.]]\n",
      "\n",
      "z=\n",
      "[[0. 0. 0.]\n",
      " [0. 9. 0.]\n",
      " [0. 0. 0.]]\n",
      "\n",
      "op[1:4,1:4]=\n",
      "[[1. 1. 1.]\n",
      " [1. 1. 1.]\n",
      " [1. 1. 1.]]\n",
      "\n",
      " op =\n",
      "[[1. 1. 1. 1. 1.]\n",
      " [1. 0. 0. 0. 1.]\n",
      " [1. 0. 9. 0. 1.]\n",
      " [1. 0. 0. 0. 1.]\n",
      " [1. 1. 1. 1. 1.]]\n"
     ]
    }
   ],
   "source": [
    "# de la imagen anterior vamos a replicar esta Matriz de la sgnt:\n",
    "\n",
    "# 1.- creamos un arreglo base = 1\n",
    "op = np.ones((5,5))\n",
    "print(f'op=\\n{op}')\n",
    "\n",
    "# 2.- creamos un central de Zeros y 9 en el centro\n",
    "z = np.zeros((3,3))\n",
    "z[1,1]=9\n",
    "print(f'\\nz=\\n{z}')\n",
    "\n",
    "# 3.- \n",
    "print(f'\\nop[1:4,1:4]=\\n{op[1:4,1:4]}')\n",
    "\n",
    "# 4.- creamos la Operacion: op por z\n",
    "op[1:4,1:4] = op[1:4,1:4]*z\n",
    "print(f'\\n op =\\n{op}')\n",
    "\n"
   ]
  },
  {
   "cell_type": "code",
   "execution_count": 92,
   "id": "369b713c",
   "metadata": {},
   "outputs": [
    {
     "name": "stdout",
     "output_type": "stream",
     "text": [
      "\n",
      "se modifico a=[111   2   3]\n",
      "\n",
      " b=[111 222   3] y a=[111   2   3]\n"
     ]
    }
   ],
   "source": [
    "# relacio indirecta a=b\n",
    "a = np.array([1,2,3])\n",
    "b = a\n",
    "b[0]=111\n",
    "print(f'se modifico a={a}')\n",
    "\n",
    "# relacio indeendiente a=b\n",
    "b=a.copy()\n",
    "b[1]=222\n",
    "print(f'\\n b={b} y a={a}')\n",
    "\n"
   ]
  },
  {
   "cell_type": "markdown",
   "id": "b67d40d9",
   "metadata": {},
   "source": [
    "### https://numpy.org/doc/stable/reference/routines.math.html"
   ]
  },
  {
   "cell_type": "code",
   "execution_count": null,
   "id": "26cfd67a",
   "metadata": {},
   "outputs": [],
   "source": [
    "# Matematicas con Matriz\n",
    "a = np.array([1,2,3])\n",
    "print(a+2)\n",
    "print(a/2)\n",
    "print(a-2)\n",
    "print(a%3)\n",
    "\n",
    "# Binario\n",
    "a = np.array([1,2,5],'int8')\n",
    "print(f'\\n a[0]=01b, a[1]=10b a[3]=101b :. \\n a&1= {a&1} \\n')\n",
    "\n",
    "# Operaciones Seno:\n",
    "a = np.array([1,2,3])\n",
    "print(f'Seno de la Matriz(a):\\n np.sin(a)={np.sin(a)}')\n"
   ]
  },
  {
   "cell_type": "markdown",
   "id": "c71470b1",
   "metadata": {},
   "source": [
    "### Linear Algebra\n",
    "#parecido a MatLab"
   ]
  },
  {
   "cell_type": "markdown",
   "id": "3692a1f8",
   "metadata": {},
   "source": [
    "<img src=\"img/determinante_2dim_3dim.png\" width=\"850\" height=\"850\" align=\"left\"/>"
   ]
  },
  {
   "cell_type": "code",
   "execution_count": 182,
   "id": "85560765",
   "metadata": {},
   "outputs": [
    {
     "name": "stdout",
     "output_type": "stream",
     "text": [
      "\n",
      " Matriz=\n",
      "[[1. 1. 1.]\n",
      " [1. 1. 1.]]\n",
      "\n",
      "[[1. 1. 1.]\n",
      " [1. 1. 1.]]\n",
      "\n",
      " Matriz 3x2=\n",
      "[[2 2]\n",
      " [2 2]\n",
      " [2 2]]\n",
      "\n",
      "\n",
      " Matriz np.matmul=\n",
      "[[6. 6.]\n",
      " [6. 6.]]\n",
      "\n"
     ]
    }
   ],
   "source": [
    "# las Operaciones de Matricez deben coincidir con las dimensiones:\n",
    "a= np.ones((2,3))         # creamos Matriz de unos 2x3\n",
    "print(f'\\n Matriz=\\n{a}\\n')\n",
    "print(a)\n",
    "b= np.full((3,2),2)       # creamos Matriz de 3x2 con valores=2\n",
    "print(f'\\n Matriz 3x2=\\n{b}\\n')\n",
    "\n",
    "print(f'\\n Matriz np.matmul=\\n{np.matmul(a,b)}\\n')"
   ]
  },
  {
   "cell_type": "markdown",
   "id": "6d3827e2",
   "metadata": {},
   "source": [
    "<img src=\"img/identity_5.png\" width=\"350\" height=\"350\" align=\"left\"/>"
   ]
  },
  {
   "cell_type": "markdown",
   "id": "96d36ea5",
   "metadata": {},
   "source": [
    "<img src=\"img/determinante_2dim_3dim.png\" width=\"750\" height=\"750\" align=\"left\"/>"
   ]
  },
  {
   "cell_type": "code",
   "execution_count": 184,
   "id": "6140496d",
   "metadata": {},
   "outputs": [
    {
     "name": "stdout",
     "output_type": "stream",
     "text": [
      "[[1. 0. 0.]\n",
      " [0. 1. 0.]\n",
      " [0. 0. 1.]]\n",
      "1.0\n"
     ]
    }
   ],
   "source": [
    "# La Determinante de una Matriz es el escalar(un número), debe ser de una Matriz simetrica, 3x3 o 2x2 etc:\n",
    "# es la pendiente de una ecuacion lineal angulo = 45g de cualquier escala.\n",
    "c = np.identity(3)\n",
    "print(c)\n",
    "deter = np.linalg.det(c)\n",
    "print(deter)"
   ]
  },
  {
   "cell_type": "code",
   "execution_count": 168,
   "id": "ded5c2ff",
   "metadata": {},
   "outputs": [
    {
     "name": "stdout",
     "output_type": "stream",
     "text": [
      "Matriz de Ecuacion np.array([x,y])=\n",
      "[[ 0  1  2  3  4  5  6  7  8  9 10]\n",
      " [ 1  3  5  7  9 11 13 15 17 19 21]]\n",
      "\n",
      "ecuX_1=[ 0  1  2  3  4  5  6  7  8  9 10]\n",
      "ecuY_2=[ 1  3  5  7  9 11 13 15 17 19 21]\n",
      "\n",
      " Matriz de Ecuacion np.array([x,y]) * 2=\n",
      "[[ 0  2  4  6  8 10 12 14 16 18 20]\n",
      " [ 2  6 10 14 18 22 26 30 34 38 42]]\n",
      "\n",
      "ecuX_1=[ 0  2  4  6  8 10 12 14 16 18 20]\n",
      "ecuY_2=[ 2  6 10 14 18 22 26 30 34 38 42]\n",
      "\n",
      " Matriz de Ecuacion np.array([x,y]) + 2=\n",
      "[[ 2  3  4  5  6  7  8  9 10 11 12]\n",
      " [ 3  5  7  9 11 13 15 17 19 21 23]]\n",
      "\n",
      "ecuX_2=[ 2  3  4  5  6  7  8  9 10 11 12]\n",
      "ecuY_2=[ 3  5  7  9 11 13 15 17 19 21 23]\n"
     ]
    },
    {
     "data": {
      "image/png": "[encoded data removed]",
      "text/plain": [
       "<Figure size 432x288 with 1 Axes>"
      ]
     },
     "metadata": {
      "needs_background": "light"
     },
     "output_type": "display_data"
    },
    {
     "data": {
      "image/png": "[encoded data removed]",
      "text/plain": [
       "<Figure size 432x288 with 1 Axes>"
      ]
     },
     "metadata": {
      "needs_background": "light"
     },
     "output_type": "display_data"
    }
   ],
   "source": [
    "# Ploteo Ope math de ecu Lineales de 1r grado:\n",
    "\n",
    "# Mi ecuacion.\n",
    "func = lambda x : 2*x + 1\n",
    "y = [func(x) for x in range(11)]\n",
    "x = [x for x in range(11)]\n",
    "ecu = np.array([x,y])\n",
    "print(f'Matriz de Ecuacion np.array([x,y])=\\n{ecu}\\n')\n",
    "ecuX_0 = ecu[0,:]\n",
    "ecuY_0 = ecu[1,:]\n",
    "print(f'ecuX_1={ecuX_0}')\n",
    "print(f'ecuY_2={ecuY_0}')\n",
    "\n",
    "# mi Matriz de la ecuacion por 2 = ecu*2.\n",
    "ecu = np.array([x,y]) * 2\n",
    "print(f'\\n Matriz de Ecuacion np.array([x,y]) * 2=\\n{ecu}\\n')\n",
    "ecuX_1 = ecu[0,:]\n",
    "ecuY_1 = ecu[1,:]\n",
    "print(f'ecuX_1={ecuX_1}')\n",
    "print(f'ecuY_2={ecuY_1}')\n",
    "\n",
    "\n",
    "# mi Matriz de la ecuacion por 2 = ecu + 2.\n",
    "ecu = np.array([x,y]) + 2\n",
    "print(f'\\n Matriz de Ecuacion np.array([x,y]) + 2=\\n{ecu}\\n')\n",
    "ecuX_2 = ecu[0,:]\n",
    "ecuY_2 = ecu[1,:]\n",
    "print(f'ecuX_2={ecuX_2}')\n",
    "print(f'ecuY_2={ecuY_2}')\n",
    "\n",
    "\n",
    "# mi Matriz de la ecuacion por 2 = ecu ^ 2.\n",
    "#ecu = np.array([x,y]) ** 2\n",
    "#print(f'\\n Matriz de Ecuacion np.array([x,y]) ^ 2=\\n{ecu}\\n')\n",
    "#ecuX_3 = ecu[0,:]\n",
    "#ecuY_3 = ecu[1,:]\n",
    "#print(f'ecuX_3={ecuX_3}')\n",
    "#print(f'ecuY_3={ecuY_3}')\n",
    "\n",
    "\n",
    "# Ploteo una ecuacion de 1er grado.\n",
    "from pylab import plot, show\n",
    "plot(ecuX_0,ecuY_0,color='blue')\n",
    "plot(ecuX_1,ecuY_1,color='red')\n",
    "plot(ecuX_2,ecuY_2,color='orange')\n",
    "#plot(ecuX_3,ecuY_3)\n",
    "show()\n",
    "\n",
    "plot(ecuX_0,ecuY_0,ecuX_0,color='blue')\n",
    "show()\n",
    "\n"
   ]
  },
  {
   "cell_type": "markdown",
   "id": "0ca63ffc",
   "metadata": {},
   "source": [
    "### STATISTIC"
   ]
  },
  {
   "cell_type": "markdown",
   "id": "f01cb571",
   "metadata": {},
   "source": [
    "<img src=\"img/matrix_axis_0_1.png\" width=\"650\" height=\"650\" align=\"left\"/>"
   ]
  },
  {
   "cell_type": "code",
   "execution_count": 187,
   "id": "0b94b136",
   "metadata": {},
   "outputs": [
    {
     "name": "stdout",
     "output_type": "stream",
     "text": [
      "Matriz stats=\n",
      "[[0 1 2 3]\n",
      " [4 5 6 7]]\n",
      "El Minimo de la Matriz=0\n",
      "La Matriz del Minimo=[0 1 2 3]\n",
      "El Minimo de la Matriz=[0 4]\n",
      "\n",
      "El Maximo de la Matriz=7\n",
      "La Matriz del Maximo=[4 5 6 7]\n",
      "El Minimo de la Maximo=[3 7]\n",
      "suma de las axis=0 :. [ 4  6  8 10]\n"
     ]
    }
   ],
   "source": [
    "stats = np.array([range(4),range(4,8)])\n",
    "print(f'Matriz stats=\\n{stats}')\n",
    "print(f'El Minimo de la Matriz={np.min(stats)}')\n",
    "print(f'La Matriz del Minimo={np.min(stats,axis=0)}')\n",
    "print(f'El Minimo de la Matriz={np.min(stats,axis=1)}')\n",
    "\n",
    "\n",
    "print(f'\\nEl Maximo de la Matriz={np.max(stats)}')\n",
    "print(f'La Matriz del Maximo={np.max(stats,axis=0)}')\n",
    "print(f'El Minimo de la Maximo={np.max(stats,axis=1)}')"
   ]
  },
  {
   "cell_type": "markdown",
   "id": "6be183ec",
   "metadata": {},
   "source": [
    "<img src=\"img/matrix_sum_axis_0.png\" width=\"450\" height=\"450\" align=\"left\"/>"
   ]
  },
  {
   "cell_type": "code",
   "execution_count": 189,
   "id": "cac7a645",
   "metadata": {},
   "outputs": [
    {
     "name": "stdout",
     "output_type": "stream",
     "text": [
      "suma de las axis=0 :. [ 4  6  8 10]\n"
     ]
    }
   ],
   "source": [
    "print(f'suma de las axis=0 :. {np.sum(stats,axis=0)}')"
   ]
  },
  {
   "cell_type": "markdown",
   "id": "290c27c2",
   "metadata": {},
   "source": [
    "### REORGANIZING ARRAYS"
   ]
  },
  {
   "cell_type": "code",
   "execution_count": 195,
   "id": "0572215f",
   "metadata": {},
   "outputs": [
    {
     "name": "stdout",
     "output_type": "stream",
     "text": [
      "Matriz Original arr=\n",
      "[[1 2 3 4]\n",
      " [5 6 7 8]] \n",
      "\n",
      "Matriz Recambiada rarr=\n",
      "[[1]\n",
      " [2]\n",
      " [3]\n",
      " [4]\n",
      " [5]\n",
      " [6]\n",
      " [7]\n",
      " [8]]\n"
     ]
    }
   ],
   "source": [
    "# Cambiamos la forma de la matriz x ej\n",
    "arr = np.array([[1,2,3,4],[5,6,7,8]])\n",
    "print(f'Matriz Original arr=\\n{arr} \\n')\n",
    "\n",
    "# El reshape debe ser multiplo de la cant de elementos de la Matriz:\n",
    "print(f'Matriz Recambiada rarr=\\n{arr.reshape((8,1))}')"
   ]
  },
  {
   "cell_type": "markdown",
   "id": "182c389a",
   "metadata": {},
   "source": [
    "### vstack ~= es Convertir a 2 list() y luego a un solo NumPy Array"
   ]
  },
  {
   "cell_type": "code",
   "execution_count": 208,
   "id": "7aad2d41",
   "metadata": {},
   "outputs": [
    {
     "name": "stdout",
     "output_type": "stream",
     "text": [
      "arr1=\n",
      "[[0 1 2 3]]\n",
      "\n",
      "arr2=\n",
      "[[4 5 6 7]]\n",
      "\n",
      "arr3=\n",
      "[[0 1 2 3]\n",
      " [4 5 6 7]]\n",
      "\n",
      "arr3=\n",
      "[[0 1 2 3]\n",
      " [4 5 6 7]]\n",
      "\n"
     ]
    }
   ],
   "source": [
    "# vstack\n",
    "# es lo mismo :. np.vstack([arr1,arr2]) === np.array([list(arr1[0,:]),list(arr2[0,:])])\n",
    "arr1 = np.array([range(4)])\n",
    "print(f'arr1=\\n{arr1}\\n')\n",
    "\n",
    "arr2 = np.array([range(4,8)])\n",
    "print(f'arr2=\\n{arr2}\\n')\n",
    "\n",
    "arr3 = np.array([list(arr1[0,:]),list(arr2[0,:])])\n",
    "print(f'arr3=\\n{arr3}\\n')\n",
    "\n",
    "arr4 = np.vstack([arr1,arr2])\n",
    "print(f'arr3=\\n{arr4}\\n')"
   ]
  },
  {
   "cell_type": "code",
   "execution_count": 232,
   "id": "2f839423",
   "metadata": {},
   "outputs": [
    {
     "name": "stdout",
     "output_type": "stream",
     "text": [
      "\n",
      "h1=\n",
      "[[1. 1. 1. 1.]\n",
      " [1. 1. 1. 1.]]\n",
      "\n",
      "h2=\n",
      "[[0. 0.]\n",
      " [0. 0.]]\n",
      "\n",
      " h1 concatenado h2 =\n",
      "[[1. 1. 1. 1. 0. 0.]\n",
      " [1. 1. 1. 1. 0. 0.]]\n"
     ]
    }
   ],
   "source": [
    "h1 = np.ones((2,4))\n",
    "print(f'\\nh1=\\n{h1}')\n",
    "h2 = np.zeros((2,2))\n",
    "print(f'\\nh2=\\n{h2}')\n",
    "\n",
    "h = np.hstack((h1,h2))\n",
    "print(f'\\n h1 concatenado h2 =\\n{h}')\n"
   ]
  },
  {
   "cell_type": "code",
   "execution_count": 238,
   "id": "0fcd25ce",
   "metadata": {},
   "outputs": [
    {
     "name": "stdout",
     "output_type": "stream",
     "text": [
      "[51, 58, 46, 28, 8, 64, 96, 37, 43, 94, 11, 96, 56, 93, 46, 16, 33, 13, 22, 25, 2, 97, 60, 23, 89, 84, 34, 1, 44, 4, 37, 67, 64, 4, 80, 34, 62, 60, 44, 14, 88, 12, 21, 3, 21, 45, 52, 84, 55, 47, 25, 6, 56, 44, 38, 58, 85, 56, 18, 72, 79, 18, 91, 97, 13, 12, 38, 84, 55, 33, 3, 70, 76, 13, 58, 84, 16, 14, 88, 71, 15, 43, 24, 45, 64, 2, 34, 58, 53, 96, 47, 80, 39, 83, 58, 25, 25, 88, 97, 71]\n"
     ]
    }
   ],
   "source": [
    "# genero Numeros randodms\n",
    "import random\n",
    "\n",
    "def func():\n",
    "    return (int(random.random()*100))\n",
    "\n",
    "n = lambda n : int(random.random()*100)\n",
    "a = [func() for n in range(100)]\n",
    "print(a)"
   ]
  },
  {
   "cell_type": "markdown",
   "id": "9ac8a915",
   "metadata": {},
   "source": [
    "### LOAD DATA FROM FILE\n",
    "### Change type Data"
   ]
  },
  {
   "cell_type": "code",
   "execution_count": 277,
   "id": "6c357025",
   "metadata": {},
   "outputs": [
    {
     "name": "stdout",
     "output_type": "stream",
     "text": [
      "de file a arrfile =\n",
      "[[51. 58. 46. 28.  8. 64. 96. 37.]\n",
      " [ 2. 97. 60. 23. 89. 84. 34.  1.]\n",
      " [12. 21.  3. 21. 45. 52. 84. 55.]\n",
      " [ 6. 56. 44. 38. 58. 85. 56. 18.]]\n",
      "\n",
      "La forma de arrfile=(4, 8)\n",
      "\n",
      "Cambiamos el tipo de Datoa arrfile=\n",
      "[[51 58 46 28  8 64 96 37]\n",
      " [ 2 97 60 23 89 84 34  1]\n",
      " [12 21  3 21 45 52 84 55]\n",
      " [ 6 56 44 38 58 85 56 18]]\n",
      "\n"
     ]
    }
   ],
   "source": [
    "arr = np.genfromtxt('data_01.txt',delimiter=',')\n",
    "print(f'de file a arrfile =\\n{arr}\\n')                     # data type default = 'float32'\n",
    "print(f'La forma de arrfile={arr.shape}\\n')\n",
    "\n",
    "arr = arr.astype(\"int32\")\n",
    "print(f'Cambiamos el tipo de Datoa arrfile=\\n{arr}\\n')     # chng type Data = 'int32'"
   ]
  },
  {
   "cell_type": "markdown",
   "id": "08c43644",
   "metadata": {},
   "source": [
    "### boolean Masking and advanced indexing\n",
    "### Enmascaramiento booleano e indexación avanzada"
   ]
  },
  {
   "cell_type": "markdown",
   "id": "c1d2998f",
   "metadata": {},
   "source": [
    "<img src=\"img/numpy_any_all.png\" width=\"750\" height=\"750\" align=\"left\"/>"
   ]
  },
  {
   "cell_type": "code",
   "execution_count": 296,
   "id": "40088597",
   "metadata": {},
   "outputs": [
    {
     "name": "stdout",
     "output_type": "stream",
     "text": [
      "Mi matris m=\n",
      " [[72 58 73  5 49]\n",
      " [13 56 48 90  6]\n",
      " [ 8 39 65 68 30]] \n",
      "\n",
      "True/False if m>50 = \n",
      "[[ True  True  True False False]\n",
      " [False  True False  True False]\n",
      " [False False  True  True False]] \n",
      "\n",
      "if m>50 (OR) axis=0/Cols np.any=\n",
      "[ True  True  True  True False]\n",
      "\n",
      "if m>50 (AND) axis=0/Cols np.all=\n",
      "[False False False False False]\n",
      "\n",
      "if m>50 (OR) axis=1/Row np.any=\n",
      "[ True  True  True]\n",
      "\n",
      "if m>50 (AND) axis=1/Row np.all=\n",
      "[False False False]\n"
     ]
    }
   ],
   "source": [
    "# un if y Boolean: if arr > 50 :. True / False\n",
    "\n",
    "# Genero Numeros randodms p mi Matriz\n",
    "import random\n",
    "\n",
    "def func():\n",
    "    return (int(random.random()*100))\n",
    "\n",
    "n = lambda n : int(random.random()*100)\n",
    "m = np.array([[func() for n in range(5)],[func() for n in range(5)], [func() for n in range(5)]])\n",
    "print(f'Mi matris m=\\n {m} \\n')\n",
    "\n",
    "# Creamos un mask y un bool\n",
    "print(f'True/False if m>50 = \\n{m > 50} \\n')\n",
    "\n",
    "# Hacemos un AND(any) y OR(all).-\n",
    "# axis=0 , significa -OR- vertical(c/col) y la entrega es el row resultante.\n",
    "# axis=1 , significa -AND- horizontal(c/row) y la entrega es un col resultante.\n",
    "print(f'if m>50 (OR) axis=0/Cols np.any=\\n{np.any(m>50,axis=0)}\\n')\n",
    "print(f'if m>50 (AND) axis=0/Cols np.all=\\n{np.all(m>50,axis=0)}\\n')\n",
    "\n",
    "print(f'if m>50 (OR) axis=1/Row np.any=\\n{np.any(m>50,axis=1)}\\n')\n",
    "print(f'if m>50 (AND) axis=1/Row np.all=\\n{np.all(m>50,axis=1)}')"
   ]
  },
  {
   "cell_type": "markdown",
   "id": "fd0122bc",
   "metadata": {},
   "source": [
    "<img src=\"img/Quiz_numpy.png\" width=\"550\" height=\"550\" align=\"left\"/>"
   ]
  },
  {
   "cell_type": "code",
   "execution_count": 391,
   "id": "eb965a9e",
   "metadata": {},
   "outputs": [
    {
     "name": "stdout",
     "output_type": "stream",
     "text": [
      "Creo mi Matris a=[ 1  2  3  4  5  6  7  8  9 10 11 12 13 14 15 16 17 18 19 20 21 22 23 24\n",
      " 25 26 27 28 29 30]\n",
      "\n",
      "hago a.reshape((6,5)) :. m=\n",
      " [[ 1  2  3  4  5]\n",
      " [ 6  7  8  9 10]\n",
      " [11 12 13 14 15]\n",
      " [16 17 18 19 20]\n",
      " [21 22 23 24 25]\n",
      " [26 27 28 29 30]]\n",
      "\n",
      "\n",
      " m[2:4,0:2:] =\n",
      "[[11 12]\n",
      " [16 17]]\n",
      "\n",
      "[ 2  8 14 20]\n",
      "[[ 4  5]\n",
      " [24 25]\n",
      " [29 30]]\n",
      "\n"
     ]
    }
   ],
   "source": [
    "# 1ro Creo mi Matris de 1...30\n",
    "a = np.array([n for n in range(1,31)])\n",
    "print(f'Creo mi Matris a={a}\\n')\n",
    "\n",
    "# Reformo mi Matriz a 6x5\n",
    "m = a.reshape((6,5))\n",
    "print(f'hago a.reshape((6,5)) :. m=\\n {m}\\n')\n",
    "\n",
    "# 2do Sustraigo Cuadrado = 11,12 y 16,17\n",
    "print(f'\\n m[2:4,0:2:] =\\n{m[2:4,0:2:]}\\n')\n",
    "\n",
    "# 3ro Sustraer la Diagonal:\n",
    "print(m[[0,1,2,3],[1,2,3,4]])                                  # [2 8 14 20]\n",
    "\n",
    "# 4to requerir 4,5 - 24,25,29,30:\n",
    "print(f'{m[[0,4,5],3:5]}\\n')\n",
    "\n",
    "# 5to Otra forma, Creo mi offset Vetical/Horizontal.-\n",
    "# print(f'Creo la MAtriz Necesaria p Enmascarar la diagonal:')\n",
    "# krn = np.identity(4)                                           # Diagonal p Validar = 1s\n",
    "# v = np.zeros((2,4))                                            # offset vertical\n",
    "# print(v)\n",
    "# vv = np.vstack([krn,v])                                        # DIagonal p  \n",
    "# print(vv)\n",
    "# h = np.zeros((6,1))                                            # offset horizontal\n",
    "# print(h)\n",
    "# kernel = np.hstack([h,vv])\n",
    "# print(kernel * m)\n"
   ]
  },
  {
   "cell_type": "code",
   "execution_count": 7,
   "id": "07fd0e87",
   "metadata": {},
   "outputs": [
    {
     "name": "stdout",
     "output_type": "stream",
     "text": [
      "# packages in environment at C:\\ProgramData\\Anaconda3:\n",
      "#\n",
      "# Name                    Version                   Build  Channel\n",
      "_anaconda_depends         2020.07                  py37_0  \n",
      "_ipyw_jlab_nb_ext_conf    0.1.0                    py37_0  \n",
      "_tflow_select             2.3.0                       mkl  \n",
      "abseil-cpp                20211102.0           hd77b12b_0  \n",
      "absl-py                   0.12.0                   pypi_0    pypi\n",
      "adal                      1.2.4                    pypi_0    pypi\n",
      "aiofiles                  0.7.0                    pypi_0    pypi\n",
      "aiohttp                   3.8.1            py37h2bbff1b_1  \n",
      "aiosignal                 1.2.0              pyhd3eb1b0_0  \n",
      "ajsonrpc                  1.1.0                    pypi_0    pypi\n",
      "alabaster                 0.7.12                   py37_0  \n",
      "anaconda                  custom                   py37_1  \n",
      "anaconda-client           1.11.0           py37haa95532_0  \n",
      "anaconda-navigator        2.3.2            py37haa95532_0  \n",
      "anaconda-project          0.11.1           py37haa95532_0  \n",
      "ansicon                   1.89.0                   pypi_0    pypi\n",
      "anyio                     3.3.1                    pypi_0    pypi\n",
      "appdirs                   1.4.4              pyhd3eb1b0_0  \n",
      "argh                      0.26.2                   py37_0  \n",
      "argon2-cffi               21.3.0             pyhd3eb1b0_0  \n",
      "argon2-cffi-bindings      21.2.0           py37h2bbff1b_0  \n",
      "asgiref                   3.4.1                    pypi_0    pypi\n",
      "asn1crypto                1.5.1            py37haa95532_0  \n",
      "astroid                   2.11.7           py37haa95532_0  \n",
      "astropy                   4.3.1            py37hc7d831d_0  \n",
      "astunparse                1.6.3                      py_0  \n",
      "async-timeout             4.0.2            py37haa95532_0  \n",
      "asynctest                 0.13.0                     py_0  \n",
      "atomicwrites              1.4.0                      py_0  \n",
      "attrs                     21.4.0             pyhd3eb1b0_0  \n",
      "autopep8                  1.6.0              pyhd3eb1b0_1  \n",
      "azure-cognitiveservices-search-imagesearch 2.0.0                    pypi_0    pypi\n",
      "azure-common              1.1.25                   pypi_0    pypi\n",
      "babel                     2.9.1              pyhd3eb1b0_0  \n",
      "backcall                  0.2.0              pyhd3eb1b0_0  \n",
      "backports                 1.1                pyhd3eb1b0_0  \n",
      "backports.functools_lru_cache 1.6.4              pyhd3eb1b0_0  \n",
      "backports.shutil_get_terminal_size 1.0.0              pyhd3eb1b0_3  \n",
      "backports.tempfile        1.0                pyhd3eb1b0_1  \n",
      "backports.weakref         1.0.post1                  py_1  \n",
      "bcrypt                    3.2.0            py37h2bbff1b_1  \n",
      "beautifulsoup4            4.11.1           py37haa95532_0  \n",
      "bitarray                  2.5.1            py37h2bbff1b_0  \n",
      "bkcharts                  0.2              py37haa95532_1  \n",
      "blas                      1.0                         mkl  \n",
      "bleach                    4.1.0              pyhd3eb1b0_0  \n",
      "blessed                   1.18.0                   pypi_0    pypi\n",
      "blinker                   1.4              py37haa95532_0  \n",
      "blosc                     1.21.0               h19a0ad4_1  \n",
      "bokeh                     2.4.3            py37haa95532_0  \n",
      "boto                      2.49.0                   py37_0  \n",
      "bottle                    0.12.19                  pypi_0    pypi\n",
      "bottleneck                1.3.5            py37h080aedc_0  \n",
      "brotli                    1.0.9                h2bbff1b_7  \n",
      "brotli-bin                1.0.9                h2bbff1b_7  \n",
      "brotlipy                  0.7.0           py37h2bbff1b_1003  \n",
      "bs4                       0.0.1                    pypi_0    pypi\n",
      "bzip2                     1.0.8                he774522_0  \n",
      "ca-certificates           2022.07.19           haa95532_0  \n",
      "cachetools                4.2.2              pyhd3eb1b0_0  \n",
      "cairo                     1.16.0               he04af86_2  \n",
      "catalogue                 1.0.0                    py37_1  \n",
      "certifi                   2022.9.24        py37haa95532_0  \n",
      "cffi                      1.14.5                   pypi_0    pypi\n",
      "cfitsio                   3.470                h2bbff1b_7  \n",
      "chardet                   4.0.0           py37haa95532_1003  \n",
      "charls                    2.2.0                h6c2663c_0  \n",
      "charset-normalizer        2.0.4              pyhd3eb1b0_0  \n",
      "click                     8.0.4            py37haa95532_0  \n",
      "cloudpickle               2.0.0              pyhd3eb1b0_0  \n",
      "clyent                    1.2.2                    py37_1  \n",
      "colorama                  0.4.5            py37haa95532_0  \n",
      "comtypes                  1.1.10          py37haa95532_1002  \n",
      "conda                     22.9.0           py37haa95532_0  \n",
      "conda-build               3.21.9           py37haa95532_0  \n",
      "conda-content-trust       0.1.3            py37haa95532_0  \n",
      "conda-env                 2.6.0                haa95532_1  \n",
      "conda-pack                0.6.0              pyhd3eb1b0_0  \n",
      "conda-package-handling    1.9.0            py37h8cc25b3_0  \n",
      "conda-repo-cli            1.0.20           py37haa95532_0  \n",
      "conda-token               0.4.0              pyhd3eb1b0_0  \n",
      "conda-verify              3.4.2                      py_1  \n",
      "console_shortcut          0.1.1                         4  \n",
      "contextlib2               21.6.0           py37haa95532_0  \n",
      "cryptography              37.0.1           py37h21b164f_0  \n",
      "cudatoolkit               10.2.89              h74a9793_1  \n",
      "curl                      7.84.0               h2bbff1b_0  \n",
      "cycler                    0.11.0             pyhd3eb1b0_0  \n",
      "cymem                     2.0.6            py37hd77b12b_0  \n",
      "cython                    0.29.32          py37hd77b12b_0  \n",
      "cython-blis               0.7.7            py37h080aedc_0  \n",
      "cytoolz                   0.11.0           py37he774522_0  \n",
      "dask                      2021.4.0           pyhd3eb1b0_0  \n",
      "dask-core                 2021.4.0           pyhd3eb1b0_0  \n",
      "dataclasses               0.8                pyh6d0b6a4_7  \n",
      "decorator                 4.4.2              pyhd3eb1b0_0  \n",
      "defusedxml                0.7.1              pyhd3eb1b0_0  \n",
      "diff-match-patch          20200713           pyhd3eb1b0_0  \n",
      "dill                      0.3.4              pyhd3eb1b0_0  \n",
      "distlib                   0.3.2              pyhd3eb1b0_0  \n",
      "distributed               2021.4.0         py37haa95532_0  \n",
      "docutils                  0.18.1           py37haa95532_3  \n",
      "entrypoints               0.4              py37haa95532_0  \n",
      "et_xmlfile                1.1.0            py37haa95532_0  \n",
      "expat                     2.4.9                h6c2663c_0  \n",
      "fastai                    2.0.13                     py_0    fastai\n",
      "fastbook                  0.0.11             pyh39e3cac_0    fastai\n",
      "fastcache                 1.1.0            py37he774522_0  \n",
      "fastcore                  1.0.12                     py_0    fastai\n",
      "fastprogress              1.0.0              pyhb85f177_0  \n",
      "fastscript                1.0.0                         0    fastai\n",
      "fftw                      3.3.9                h2bbff1b_1  \n",
      "filelock                  3.6.0              pyhd3eb1b0_0  \n",
      "flake8                    4.0.1              pyhd3eb1b0_1  \n",
      "flask                     2.0.0.dev0               pypi_0    pypi\n",
      "flask-login               0.5.0              pyhd3eb1b0_0  \n",
      "flask-sqlalchemy          2.5.1              pyhd3eb1b0_0  \n",
      "flatbuffers               2.0.0                h6c2663c_0  \n",
      "fonttools                 4.25.0             pyhd3eb1b0_0  \n",
      "fpdf                      1.7.2                    pypi_0    pypi\n",
      "freetype                  2.10.4               hd328e21_0  \n",
      "freeze                    3.0                      pypi_0    pypi\n",
      "fribidi                   1.0.10               h62dcd97_0  \n",
      "frozenlist                1.2.0            py37h2bbff1b_0  \n",
      "fsspec                    2022.7.1         py37haa95532_0  \n",
      "future                    0.18.2                   py37_1  \n",
      "gast                      0.5.3              pyhd3eb1b0_0  \n",
      "get_terminal_size         1.0.0                h38e98db_0  \n",
      "getopt-win32              0.1                  h2bbff1b_0  \n",
      "gevent                    21.8.0           py37h2bbff1b_1  \n",
      "giflib                    5.2.1                h62dcd97_0  \n",
      "glib                      2.69.1               h5dc1a3c_1  \n",
      "glob2                     0.7                pyhd3eb1b0_0  \n",
      "gmpy2                     2.1.2            py37h7f96b67_0  \n",
      "google-auth               2.6.0              pyhd3eb1b0_0  \n",
      "google-auth-oauthlib      0.4.4              pyhd3eb1b0_0  \n",
      "google-pasta              0.2.0              pyhd3eb1b0_0  \n",
      "graphite2                 1.3.14               hd77b12b_1  \n",
      "graphviz                  2.50.0               hdb8b0d4_0  \n",
      "greenlet                  1.1.1            py37hd77b12b_0  \n",
      "grpcio                    1.42.0           py37hc60d5dd_0  \n",
      "gts                       0.7.6                h63ab5a1_3  \n",
      "h11                       0.12.0                   pypi_0    pypi\n",
      "h5py                      2.10.0           py37h5e291fa_0  \n",
      "harfbuzz                  4.3.0                hda2c7e1_0  \n",
      "hdf5                      1.10.4               h7ebc959_0  \n",
      "heapdict                  1.0.1              pyhd3eb1b0_0  \n",
      "html5lib                  1.1                pyhd3eb1b0_0  \n",
      "icc_rt                    2022.1.0             h6049295_2  \n",
      "icu                       58.2                 ha925a31_3  \n",
      "idna                      3.3                pyhd3eb1b0_0  \n",
      "ifaddr                    0.1.7                    pypi_0    pypi\n",
      "imagecodecs               2021.8.26        py37hc0a7faf_1  \n",
      "imageio                   2.19.3           py37haa95532_0  \n",
      "imagesize                 1.4.1            py37haa95532_0  \n",
      "importlib-metadata        4.11.3           py37haa95532_0  \n",
      "importlib_metadata        4.11.3               hd3eb1b0_0  \n",
      "imutils                   0.5.4                    pypi_0    pypi\n",
      "iniconfig                 1.1.1              pyhd3eb1b0_0  \n",
      "intel-openmp              2021.4.0          haa95532_3556  \n",
      "intervaltree              3.1.0              pyhd3eb1b0_0  \n",
      "ipykernel                 5.3.4            py37h5ca1d4c_0  \n",
      "ipython                   7.22.0           py37hd4e2768_0  \n",
      "ipython_genutils          0.2.0              pyhd3eb1b0_1  \n",
      "ipywidgets                7.6.5              pyhd3eb1b0_1  \n",
      "isodate                   0.6.0                    pypi_0    pypi\n",
      "isort                     5.9.3              pyhd3eb1b0_0  \n",
      "itsdangerous              2.0.1              pyhd3eb1b0_0  \n",
      "jdcal                     1.4.1              pyhd3eb1b0_0  \n",
      "jedi                      0.18.0                   pypi_0    pypi\n",
      "jinja2                    2.10.1                   py37_0  \n",
      "jinxed                    1.1.0                    pypi_0    pypi\n",
      "joblib                    1.1.0              pyhd3eb1b0_0  \n",
      "jpeg                      9e                   h2bbff1b_0  \n",
      "json5                     0.9.6              pyhd3eb1b0_0  \n",
      "jsonschema                3.0.2                    py37_0  \n",
      "jupyter                   1.0.0            py37haa95532_8  \n",
      "jupyter_client            7.3.5            py37haa95532_0  \n",
      "jupyter_console           6.4.3              pyhd3eb1b0_0  \n",
      "jupyter_core              4.11.1           py37haa95532_0  \n",
      "jupyter_server            1.13.5             pyhd3eb1b0_0  \n",
      "jupyterlab                3.3.2              pyhd3eb1b0_0  \n",
      "jupyterlab_server         2.10.3             pyhd3eb1b0_1  \n",
      "jupyterlab_widgets        1.0.0              pyhd3eb1b0_1  \n",
      "keras                     2.9.0            py37haa95532_0  \n",
      "keras-preprocessing       1.1.2              pyhd3eb1b0_0  \n",
      "keyring                   23.4.0           py37haa95532_0  \n",
      "kiwisolver                1.4.2            py37hd77b12b_0  \n",
      "krb5                      1.19.2               h5b6d351_0  \n",
      "lazy-object-proxy         1.6.0            py37h2bbff1b_0  \n",
      "lcms2                     2.12                 h83e58a3_0  \n",
      "lerc                      3.0                  hd77b12b_0  \n",
      "libaec                    1.0.4                h33f27b4_1  \n",
      "libarchive                3.6.1                hebabd0d_0  \n",
      "libbrotlicommon           1.0.9                h2bbff1b_7  \n",
      "libbrotlidec              1.0.9                h2bbff1b_7  \n",
      "libbrotlienc              1.0.9                h2bbff1b_7  \n",
      "libcurl                   7.84.0               h86230a5_0  \n",
      "libdeflate                1.8                  h2bbff1b_5  \n",
      "libffi                    3.4.2                hd77b12b_4  \n",
      "libgd                     2.3.3                ha43c60c_1  \n",
      "libiconv                  1.16                 h2bbff1b_2  \n",
      "liblief                   0.11.5               hd77b12b_1  \n",
      "libllvm9                  9.0.1                h21ff451_0  \n",
      "libpng                    1.6.37               h2a8f88b_0  \n",
      "libprotobuf               3.20.1               h23ce68f_0  \n",
      "libsodium                 1.0.18               h62dcd97_0  \n",
      "libspatialindex           1.9.3                h6c2663c_0  \n",
      "libssh2                   1.10.0               hcd4344a_0  \n",
      "libtiff                   4.4.0                h8a3f274_0  \n",
      "libwebp                   1.2.4                h2bbff1b_0  \n",
      "libwebp-base              1.2.4                h2bbff1b_0  \n",
      "libxml2                   2.9.14               h0ad7f3c_0  \n",
      "libxslt                   1.1.35               h2bbff1b_0  \n",
      "libzopfli                 1.0.3                ha925a31_0  \n",
      "llvmlite                  0.38.0           py37h23ce68f_0  \n",
      "locket                    1.0.0            py37haa95532_0  \n",
      "lxml                      4.9.1            py37h1985fb9_0  \n",
      "lz4-c                     1.9.3                h2bbff1b_1  \n",
      "lzo                       2.10                 he774522_2  \n",
      "m2w64-gcc-libgfortran     5.3.0                         6  \n",
      "m2w64-gcc-libs            5.3.0                         7  \n",
      "m2w64-gcc-libs-core       5.3.0                         7  \n",
      "m2w64-gmp                 6.1.0                         2  \n",
      "m2w64-libwinpthread-git   5.0.0.4634.697f757               2  \n",
      "markdown                  3.3.4            py37haa95532_0  \n",
      "markupsafe                2.0.1            py37h2bbff1b_0  \n",
      "marshmallow               3.13.0                   pypi_0    pypi\n",
      "matplotlib                3.3.3                    pypi_0    pypi\n",
      "matplotlib-base           3.5.1            py37hd77b12b_1  \n",
      "mccabe                    0.7.0              pyhd3eb1b0_0  \n",
      "mediapipe                 0.8.4.2                  pypi_0    pypi\n",
      "menuinst                  1.4.18           py37h59b6b97_0  \n",
      "mistune                   0.8.4           py37hfa6e2cd_1001  \n",
      "mkl                       2021.4.0           haa95532_640  \n",
      "mkl-service               2.4.0            py37h2bbff1b_0  \n",
      "mkl_fft                   1.3.1            py37h277e83a_0  \n",
      "mkl_random                1.2.2            py37hf11a4ad_0  \n",
      "mlxtend                   0.20.0                   pypi_0    pypi\n",
      "mock                      4.0.3              pyhd3eb1b0_0  \n",
      "more-itertools            8.12.0             pyhd3eb1b0_0  \n",
      "mpc                       1.1.0                h7edee0f_1  \n",
      "mpfr                      4.0.2                h62dcd97_1  \n",
      "mpir                      3.0.0                hec2e145_1  \n",
      "mpmath                    1.2.1            py37haa95532_0  \n",
      "msgpack-python            1.0.3            py37h59b6b97_0  \n",
      "msrest                    0.6.19                   pypi_0    pypi\n",
      "msrestazure               0.6.4                    pypi_0    pypi\n",
      "msys2-conda-epoch         20160418                      1  \n",
      "multidict                 5.2.0            py37h2bbff1b_3  \n",
      "multipledispatch          0.6.0                    py37_0  \n",
      "munkres                   1.1.4                      py_0  \n",
      "murmurhash                1.0.7            py37hd77b12b_0  \n",
      "navigator-updater         0.2.1                    py37_1  \n",
      "nb_conda                  2.2.1                    py37_0  \n",
      "nb_conda_kernels          2.3.1            py37haa95532_0  \n",
      "nbclassic                 0.3.5              pyhd3eb1b0_0  \n",
      "nbconvert                 5.6.1                    py37_1  \n",
      "nbdev                     1.0.18                     py_0    fastai\n"
     ]
    },
    {
     "name": "stdout",
     "output_type": "stream",
     "text": [
      "nbformat                  5.5.0            py37haa95532_0  \n",
      "nest-asyncio              1.5.5            py37haa95532_0  \n",
      "networkx                  2.5.1              pyhd3eb1b0_0  \n",
      "ninja                     1.10.2               haa95532_5  \n",
      "ninja-base                1.10.2               h6d14046_5  \n",
      "nltk                      3.7                pyhd3eb1b0_0  \n",
      "nose                      1.3.7           pyhd3eb1b0_1008  \n",
      "notebook                  6.4.12           py37haa95532_0  \n",
      "numba                     0.55.1           py37hf11a4ad_0  \n",
      "numexpr                   2.8.3            py37hb80d3ca_0  \n",
      "numpy                     1.21.5           py37h7a0a035_3  \n",
      "numpy-base                1.21.5           py37hca35cd5_3  \n",
      "numpydoc                  1.4.0            py37haa95532_0  \n",
      "oauthlib                  3.1.0                    pypi_0    pypi\n",
      "olefile                   0.46                     py37_0  \n",
      "opencv-contrib-python     4.5.2.52                 pypi_0    pypi\n",
      "opencv-python             4.5.1.48                 pypi_0    pypi\n",
      "openjpeg                  2.4.0                h4fc8c34_0  \n",
      "openpyxl                  3.0.10           py37h2bbff1b_0  \n",
      "openssl                   1.1.1q               h2bbff1b_0  \n",
      "opt_einsum                3.3.0              pyhd3eb1b0_1  \n",
      "packaging                 21.3               pyhd3eb1b0_0  \n",
      "panda                     0.3.1                    pypi_0    pypi\n",
      "pandas                    1.3.5            py37h6214cd6_0  \n",
      "pandoc                    2.12                 haa95532_0  \n",
      "pandocfilters             1.5.0              pyhd3eb1b0_0  \n",
      "pango                     1.50.7               h78c2152_0  \n",
      "paramiko                  2.8.1              pyhd3eb1b0_0  \n",
      "parso                     0.8.2                    pypi_0    pypi\n",
      "partd                     1.2.0              pyhd3eb1b0_1  \n",
      "path                      16.2.0             pyhd3eb1b0_0  \n",
      "path.py                   12.5.0               hd3eb1b0_0  \n",
      "pathlib                   1.0.1                    py37_2  \n",
      "pathlib2                  2.3.6            py37haa95532_2  \n",
      "pathtools                 0.1.2              pyhd3eb1b0_1  \n",
      "patsy                     0.5.2            py37haa95532_1  \n",
      "pcre                      8.45                 hd77b12b_0  \n",
      "pdfminer-six              20200517                 pypi_0    pypi\n",
      "pdfplumber                0.5.27                   pypi_0    pypi\n",
      "pep8                      1.7.1            py37haa95532_1  \n",
      "pexpect                   4.8.0              pyhd3eb1b0_3  \n",
      "pgzero                    1.2.1                    pypi_0    pypi\n",
      "pickleshare               0.7.5           pyhd3eb1b0_1003  \n",
      "pillow                    9.2.0            py37hdc2b20a_1  \n",
      "pip                       22.2.1                   pypi_0    pypi\n",
      "pixman                    0.40.0               h2bbff1b_1  \n",
      "pkginfo                   1.8.2              pyhd3eb1b0_0  \n",
      "plac                      1.1.0                    py37_1  \n",
      "platformdirs              2.5.2            py37haa95532_0  \n",
      "platformio                5.2.0                    pypi_0    pypi\n",
      "plotly                    5.9.0            py37haa95532_0  \n",
      "pluggy                    1.0.0            py37haa95532_1  \n",
      "ply                       3.11                     py37_0  \n",
      "powershell_shortcut       0.0.1                         3  \n",
      "preshed                   3.0.6            py37h6c2663c_0  \n",
      "prometheus_client         0.14.1           py37haa95532_0  \n",
      "prompt-toolkit            3.0.20             pyhd3eb1b0_0  \n",
      "prompt_toolkit            3.0.20               hd3eb1b0_0  \n",
      "protobuf                  3.17.0                   pypi_0    pypi\n",
      "psutil                    5.9.0            py37h2bbff1b_0  \n",
      "ptyprocess                0.7.0              pyhd3eb1b0_2  \n",
      "py                        1.11.0             pyhd3eb1b0_0  \n",
      "py-lief                   0.11.5           py37hd77b12b_1  \n",
      "pyasn1                    0.4.8              pyhd3eb1b0_0  \n",
      "pyasn1-modules            0.2.8                      py_0  \n",
      "pycodestyle               2.8.0              pyhd3eb1b0_0  \n",
      "pycosat                   0.6.3            py37h2bbff1b_0  \n",
      "pycparser                 2.21               pyhd3eb1b0_0  \n",
      "pycrypto                  2.6.1           py37he774522_10  \n",
      "pycryptodome              3.10.1                   pypi_0    pypi\n",
      "pycurl                    7.45.1           py37hcd4344a_0  \n",
      "pydantic                  1.7.2                    pypi_0    pypi\n",
      "pydocstyle                6.1.1              pyhd3eb1b0_0  \n",
      "pyelftools                0.27                     pypi_0    pypi\n",
      "pyerfa                    2.0.0            py37h2bbff1b_0  \n",
      "pyflakes                  2.4.0              pyhd3eb1b0_0  \n",
      "pygame                    2.1.2                    pypi_0    pypi\n",
      "pygments                  2.11.2             pyhd3eb1b0_0  \n",
      "pyjwt                     1.7.1                    pypi_0    pypi\n",
      "pylint                    2.14.5           py37haa95532_0  \n",
      "pynacl                    1.5.0            py37h8cc25b3_0  \n",
      "pynput                    1.7.3            py37h03978a9_0    conda-forge\n",
      "pyodbc                    4.0.34           py37hd77b12b_0  \n",
      "pyopenssl                 22.0.0             pyhd3eb1b0_0  \n",
      "pyparsing                 3.0.9            py37haa95532_0  \n",
      "pypdf2                    1.26.0                   pypi_0    pypi\n",
      "pypiwin32                 223                      pypi_0    pypi\n",
      "pypng                     0.0.21                   pypi_0    pypi\n",
      "pyqt                      5.9.2            py37hd77b12b_6  \n",
      "pyreadline                2.1                      py37_1  \n",
      "pyrsistent                0.18.0           py37h196d8e1_0  \n",
      "pyserial                  3.5                      pypi_0    pypi\n",
      "pysimplegui               4.60.1                   pypi_0    pypi\n",
      "pysocks                   1.7.1                    py37_1  \n",
      "pytables                  3.6.1            py37h1da0976_0  \n",
      "pytest                    7.1.2            py37haa95532_0  \n",
      "python                    3.7.13               h6244533_0  \n",
      "python-dateutil           2.8.2              pyhd3eb1b0_0  \n",
      "python-fastjsonschema     2.16.2           py37haa95532_0  \n",
      "python-flatbuffers        2.0                pyhd3eb1b0_0  \n",
      "python-graphviz           0.20.1           py37haa95532_0  \n",
      "python-jsonrpc-server     0.4.0                      py_0  \n",
      "python-language-server    0.31.7                   py37_0  \n",
      "python-libarchive-c       2.9                pyhd3eb1b0_1  \n",
      "python-xlib               0.31               pyhd8ed1ab_0    conda-forge\n",
      "python_abi                3.7                     2_cp37m    conda-forge\n",
      "pythonnet                 2.5.1                    pypi_0    pypi\n",
      "pytorch                   1.6.0           py3.7_cuda102_cudnn7_0    pytorch\n",
      "pyttsx3                   2.90                     pypi_0    pypi\n",
      "pytz                      2022.1           py37haa95532_0  \n",
      "pywavelets                1.3.0            py37h2bbff1b_0  \n",
      "pywin32                   302              py37h2bbff1b_2  \n",
      "pywin32-ctypes            0.2.0                 py37_1001  \n",
      "pywinpty                  2.0.2            py37h5da7b33_0  \n",
      "pyyaml                    6.0              py37h2bbff1b_1  \n",
      "pyzmq                     23.2.0           py37hd77b12b_0  \n",
      "qdarkstyle                3.0.2              pyhd3eb1b0_0  \n",
      "qt                        5.9.7            vc14h73c81de_0  \n",
      "qtawesome                 1.0.3              pyhd3eb1b0_0  \n",
      "qtconsole                 5.3.2            py37haa95532_0  \n",
      "qtpy                      2.2.0            py37haa95532_0  \n",
      "regex                     2022.7.9         py37h2bbff1b_0  \n",
      "requests                  2.28.1           py37haa95532_0  \n",
      "requests-oauthlib         1.3.0                      py_0  \n",
      "robotframework            3.2.2                    pypi_0    pypi\n",
      "robotframework-pythonlibcore 2.1.0                    pypi_0    pypi\n",
      "robotframework-seleniumlibrary 4.5.0                    pypi_0    pypi\n",
      "rope                      0.22.0             pyhd3eb1b0_0  \n",
      "rsa                       4.7.2              pyhd3eb1b0_1  \n",
      "rtree                     0.9.7            py37h2eaa2aa_1  \n",
      "ruamel_yaml               0.15.100         py37h2bbff1b_0  \n",
      "scikit-image              0.19.2           py37hf11a4ad_0  \n",
      "scikit-learn              1.0.2            py37hf11a4ad_1  \n",
      "scipy                     1.7.3            py37h7a0a035_2  \n",
      "seaborn                   0.11.2             pyhd3eb1b0_0  \n",
      "selenium                  3.141.0                  pypi_0    pypi\n",
      "semantic-version          2.8.5                    pypi_0    pypi\n",
      "send2trash                1.8.0              pyhd3eb1b0_1  \n",
      "sentencepiece             0.1.86                   pypi_0    pypi\n",
      "setuptools                51.0.0                   pypi_0    pypi\n",
      "setuptools-lint           0.6.0              pyh9f0ad1d_0    conda-forge\n",
      "simplegeneric             0.8.1                    py37_2  \n",
      "singledispatch            3.7.0           pyhd3eb1b0_1001  \n",
      "sip                       4.19.13          py37hd77b12b_0  \n",
      "six                       1.16.0             pyhd3eb1b0_1  \n",
      "snappy                    1.1.9                h6c2663c_0  \n",
      "sniffio                   1.2.0            py37haa95532_1  \n",
      "snowballstemmer           2.2.0              pyhd3eb1b0_0  \n",
      "sortedcollections         2.1.0              pyhd3eb1b0_0  \n",
      "sortedcontainers          2.4.0              pyhd3eb1b0_0  \n",
      "soupsieve                 2.3.1              pyhd3eb1b0_0  \n",
      "spacy                     2.3.5            py37h59b6b97_0  \n",
      "sphinx                    5.0.2            py37haa95532_0  \n",
      "sphinxcontrib             1.0                      py37_1  \n",
      "sphinxcontrib-applehelp   1.0.2              pyhd3eb1b0_0  \n",
      "sphinxcontrib-devhelp     1.0.2              pyhd3eb1b0_0  \n",
      "sphinxcontrib-htmlhelp    2.0.0              pyhd3eb1b0_0  \n",
      "sphinxcontrib-jsmath      1.0.1              pyhd3eb1b0_0  \n",
      "sphinxcontrib-qthelp      1.0.3              pyhd3eb1b0_0  \n",
      "sphinxcontrib-serializinghtml 1.1.5              pyhd3eb1b0_0  \n",
      "sphinxcontrib-websupport  1.2.4                      py_0  \n",
      "spyder                    4.0.1                    py37_0  \n",
      "spyder-kernels            1.8.1                    py37_0  \n",
      "sqlalchemy                1.4.39           py37h2bbff1b_0  \n",
      "sqlite                    3.39.3               h2bbff1b_0  \n",
      "srsly                     1.0.5            py37hd77b12b_0  \n",
      "starlette                 0.16.0                   pypi_0    pypi\n",
      "statsmodels               0.13.2           py37h2bbff1b_0  \n",
      "sympy                     1.10.1           py37haa95532_0  \n",
      "tabulate                  0.8.9                    pypi_0    pypi\n",
      "tbb                       2021.6.0             h59b6b97_0  \n",
      "tblib                     1.7.0              pyhd3eb1b0_0  \n",
      "tenacity                  8.0.1            py37haa95532_1  \n",
      "termcolor                 1.1.0            py37haa95532_1  \n",
      "terminado                 0.13.1           py37haa95532_0  \n",
      "testpath                  0.6.0            py37haa95532_0  \n",
      "thinc                     7.4.5            py37h757b272_0  \n",
      "threadpoolctl             2.2.0              pyh0d69192_0  \n",
      "tifffile                  2021.7.2           pyhd3eb1b0_2  \n",
      "tk                        8.6.12               h2bbff1b_0  \n",
      "toml                      0.10.2             pyhd3eb1b0_0  \n",
      "tomli                     2.0.1            py37haa95532_0  \n"
     ]
    },
    {
     "name": "stdout",
     "output_type": "stream",
     "text": [
      "tomlkit                   0.11.1           py37haa95532_0  \n",
      "toolz                     0.11.2             pyhd3eb1b0_0  \n",
      "torchvision               0.7.0                py37_cu102    pytorch\n",
      "tornado                   6.2              py37h2bbff1b_0  \n",
      "tqdm                      4.64.1           py37haa95532_0  \n",
      "traitlets                 5.1.1              pyhd3eb1b0_0  \n",
      "turtle                    0.0.1                    pypi_0    pypi\n",
      "typed-ast                 1.4.3            py37h2bbff1b_1  \n",
      "typing-extensions         4.3.0            py37haa95532_0  \n",
      "typing_extensions         4.3.0            py37haa95532_0  \n",
      "ujson                     5.4.0            py37hd77b12b_0  \n",
      "unicodecsv                0.14.1                   py37_0  \n",
      "urllib3                   1.26.11          py37haa95532_0  \n",
      "uvicorn                   0.15.0                   pypi_0    pypi\n",
      "vc                        14.2                 h21ff451_1  \n",
      "virtualenv                20.4.6           py37haa95532_1  \n",
      "vs2015_runtime            14.27.29016          h5e58377_2  \n",
      "wand                      0.6.6                    pypi_0    pypi\n",
      "wasabi                    0.9.1            py37haa95532_0  \n",
      "watchdog                  2.1.6            py37haa95532_0  \n",
      "wcwidth                   0.2.5              pyhd3eb1b0_0  \n",
      "webencodings              0.5.1                    py37_1  \n",
      "websocket-client          0.58.0           py37haa95532_4  \n",
      "werkzeug                  2.0.3              pyhd3eb1b0_0  \n",
      "wheel                     0.37.1             pyhd3eb1b0_0  \n",
      "widgetsnbextension        3.5.2            py37haa95532_0  \n",
      "win_inet_pton             1.1.0            py37haa95532_0  \n",
      "win_unicode_console       0.5                      py37_0  \n",
      "wincertstore              0.2              py37haa95532_2  \n",
      "winpty                    0.4.3                         4  \n",
      "wrapt                     1.11.2           py37h4ab8f01_1    conda-forge\n",
      "wsproto                   1.0.0                    pypi_0    pypi\n",
      "xlrd                      2.0.1              pyhd3eb1b0_0  \n",
      "xlsxwriter                3.0.3              pyhd3eb1b0_0  \n",
      "xlwings                   0.27.15          py37haa95532_0  \n",
      "xlwt                      1.3.0                    py37_0  \n",
      "xz                        5.2.6                h8cc25b3_0  \n",
      "yaml                      0.2.5                he774522_0  \n",
      "yapf                      0.31.0             pyhd3eb1b0_0  \n",
      "yarl                      1.8.1            py37h2bbff1b_0  \n",
      "zeroconf                  0.36.2                   pypi_0    pypi\n",
      "zeromq                    4.3.4                hd77b12b_0  \n",
      "zfp                       0.5.5                hd77b12b_6  \n",
      "zict                      2.1.0            py37haa95532_0  \n",
      "zipp                      3.8.0            py37haa95532_0  \n",
      "zlib                      1.2.12               h8cc25b3_3  \n",
      "zope                      1.0                      py37_1  \n",
      "zope.event                4.5.0                    py37_0  \n",
      "zope.interface            5.4.0            py37h2bbff1b_0  \n",
      "zstd                      1.5.2                h19a0ad4_0  \n"
     ]
    }
   ],
   "source": [
    "!conda list"
   ]
  },
  {
   "cell_type": "code",
   "execution_count": 5,
   "id": "7a4d8685",
   "metadata": {},
   "outputs": [
    {
     "name": "stdout",
     "output_type": "stream",
     "text": [
      "Python 3.7.13\n"
     ]
    }
   ],
   "source": [
    "!python --version"
   ]
  },
  {
   "cell_type": "code",
   "execution_count": 9,
   "id": "2e6d6ccd",
   "metadata": {},
   "outputs": [
    {
     "name": "stdout",
     "output_type": "stream",
     "text": [
      "# conda environments:\n",
      "#\n",
      "base                  *  C:\\ProgramData\\Anaconda3\n",
      "miFastApi                C:\\ProgramData\\Anaconda3\\envs\\miFastApi\n",
      "mifastapi                C:\\ProgramData\\Anaconda3\\envs\\mifastapi\n",
      "tfenv                    C:\\ProgramData\\Anaconda3\\envs\\tfenv\n",
      "\n"
     ]
    }
   ],
   "source": [
    "!conda env list"
   ]
  },
  {
   "cell_type": "code",
   "execution_count": 2,
   "id": "ffe37e89",
   "metadata": {},
   "outputs": [
    {
     "name": "stdout",
     "output_type": "stream",
     "text": [
      "\n",
      " -3.8-64\n",
      " -3.7-64\n"
     ]
    },
    {
     "name": "stderr",
     "output_type": "stream",
     "text": [
      "Installed Pythons found by py Launcher for Windows *\n",
      "\n"
     ]
    }
   ],
   "source": [
    "!py --list"
   ]
  },
  {
   "cell_type": "code",
   "execution_count": null,
   "id": "d7aa607c",
   "metadata": {},
   "outputs": [],
   "source": [
    "!conda list"
   ]
  },
  {
   "cell_type": "code",
   "execution_count": 8,
   "id": "2c1907d7",
   "metadata": {},
   "outputs": [
    {
     "ename": "ImportError",
     "evalue": "cannot import name 'keras' from 'tensorflow' (unknown location)",
     "output_type": "error",
     "traceback": [
      "\u001b[1;31m---------------------------------------------------------------------------\u001b[0m",
      "\u001b[1;31mImportError\u001b[0m                               Traceback (most recent call last)",
      "\u001b[1;32m<ipython-input-8-89c3e6289a8a>\u001b[0m in \u001b[0;36m<module>\u001b[1;34m\u001b[0m\n\u001b[0;32m      1\u001b[0m \u001b[1;32mimport\u001b[0m \u001b[0mtensorflow\u001b[0m \u001b[1;32mas\u001b[0m \u001b[0mtf\u001b[0m\u001b[1;33m\u001b[0m\u001b[1;33m\u001b[0m\u001b[0m\n\u001b[0;32m      2\u001b[0m \u001b[1;32mimport\u001b[0m \u001b[0mnumpy\u001b[0m \u001b[1;32mas\u001b[0m \u001b[0mno\u001b[0m\u001b[1;33m\u001b[0m\u001b[1;33m\u001b[0m\u001b[0m\n\u001b[1;32m----> 3\u001b[1;33m \u001b[1;32mfrom\u001b[0m \u001b[0mtensorflow\u001b[0m \u001b[1;32mimport\u001b[0m \u001b[0mkeras\u001b[0m\u001b[1;33m\u001b[0m\u001b[1;33m\u001b[0m\u001b[0m\n\u001b[0m",
      "\u001b[1;31mImportError\u001b[0m: cannot import name 'keras' from 'tensorflow' (unknown location)"
     ]
    }
   ],
   "source": [
    "import tensorflow as tf\n",
    "import numpy as no\n",
    "from tensorflow import keras"
   ]
  },
  {
   "cell_type": "code",
   "execution_count": null,
   "id": "d8906b2b",
   "metadata": {},
   "outputs": [],
   "source": []
  }
 ],
 "metadata": {
  "kernelspec": {
   "display_name": "Python [conda env:root] *",
   "language": "python",
   "name": "conda-root-py"
  },
  "language_info": {
   "codemirror_mode": {
    "name": "ipython",
    "version": 3
   },
   "file_extension": ".py",
   "mimetype": "text/x-python",
   "name": "python",
   "nbconvert_exporter": "python",
   "pygments_lexer": "ipython3",
   "version": "3.7.13"
  }
 },
 "nbformat": 4,
 "nbformat_minor": 5
}
