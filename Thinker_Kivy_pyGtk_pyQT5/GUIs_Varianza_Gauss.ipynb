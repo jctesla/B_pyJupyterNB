{
 "cells": [
  {
   "cell_type": "markdown",
   "id": "0414a09d",
   "metadata": {},
   "source": [
    "<h1 style=\"text-align: center\"> TURTLE</h1>"
   ]
  },
  {
   "cell_type": "code",
   "execution_count": null,
   "id": "0510b81f",
   "metadata": {},
   "outputs": [],
   "source": [
    "#NiceHexSpiral.py\n",
    "import turtle\n",
    "colorn=['#ff0000','#00ff00','#0000ff','#ff00ff','#ffff00','#00ffff']  #colores en hexa = #RGB\n",
    "colors=['red','purple','blue','green','yellow','orange']\n",
    "t=turtle.Pen()\n",
    "turtle.bgcolor('black')\n",
    "for x in range(360):\n",
    "    t.pencolor(colorn[x%6])   #va generar un loop entre 0...5\n",
    "    t.width(x/100+1)          #ancho de la linea se va engrozando la linea de 0.01 + 1 = 1.00, hasta 3.6 + 1 ) 4.59\n",
    "    t.forward(x)              #hacia adelante en esa direccion segun angulo,\n",
    "    t.left(72)                #gira a la Izq 72 grados = pentagono = 360/72, Hexagono = 360/59.\n",
    "print(\"...Revise ya esta generado el Dibujo\")  "
   ]
  },
  {
   "cell_type": "markdown",
   "id": "f778ec01",
   "metadata": {},
   "source": [
    "<h1 style=\"text-align: center\"> Create a simple box in Thinker</h1>"
   ]
  },
  {
   "cell_type": "markdown",
   "id": "3e215c6f",
   "metadata": {},
   "source": [
    "<h2 style=\"text-align: left\"> Debe salir este box in Thinker;</h2>\n",
    "<img src=\"img/Simple BOX in Thinker.png\" width=\"250\" height=\"250\" align=\"left\"/>"
   ]
  },
  {
   "cell_type": "code",
   "execution_count": 1,
   "id": "e6c67b94",
   "metadata": {},
   "outputs": [],
   "source": [
    "# creamos un canvas con cuadrados internamente.\n",
    "from tkinter import *\n",
    "\n",
    "ws = Tk()\n",
    "ws.title('PythonGuides')\n",
    "ws.geometry('300x300')\n",
    "ws.config(bg='#345')\n",
    "\n",
    "canvas = Canvas(ws, height=200, width=200, bg=\"#fff\")   #<class 'tkinter.Canvas'>\n",
    "    \n",
    "canvas.pack()\n",
    "canvas.create_rectangle(20, 20, 150, 120, outline=\"#fb0\", fill=\"#fb0\")\n",
    "canvas.create_rectangle(130, 30, 200, 150, fill='red',dash=(3,3))\n",
    "\n",
    "ws.mainloop()\n"
   ]
  },
  {
   "cell_type": "markdown",
   "id": "89d9b0b7",
   "metadata": {},
   "source": [
    "<h1 style=\"text-align: center\">Barras Aleatorias es una varianza con Gauss</h1>"
   ]
  },
  {
   "cell_type": "markdown",
   "id": "10adf6ea",
   "metadata": {},
   "source": [
    "<img src=\"img/desviacionestandar.png\" width=\"250\" height=\"250\" align=\"left\"/>"
   ]
  },
  {
   "cell_type": "code",
   "execution_count": 2,
   "id": "200555bf",
   "metadata": {},
   "outputs": [],
   "source": [
    "# TEMA: Generación de una varianza simulada con varias barras de altura aleatoria con Gauss.\n",
    "# El comportamiento de c/barra varia sólo en su altura y estan respresentadas x 'heightBarras', son 20 barras.\n",
    "# c/barra, es una instancia(Obj construido) del Objeto: 'ObjBarra'.\n",
    "\n",
    "from tkinter import *\n",
    "import random\n",
    "canvas_width = 640\n",
    "canvas_height =360\n",
    "\n",
    "heightBarras = [0 for n in range(20)]       # c/Nº representa la altura de una barra.\n",
    "ObjBarra = {'x1':0,'y1':0,'x2':0,'y2':0,'barras':heightBarras,'w':canvas_width, 'h':canvas_height}\n",
    "\n",
    "root = Tk()\n",
    "#root.configure(bg='#a39193')\n",
    "w = Canvas(root, width=canvas_width, height=canvas_height,bg=\"#dfa290\") # bg=color de fondo de c/Barra,RGB=223,162,144\n",
    "w.pack()\n",
    "\n",
    "    \n",
    "def task():\n",
    "    global ObjBarra\n",
    "    w.delete('all')            # borro pizarra\n",
    "    \n",
    "    idx = int(random.random()*20)\n",
    "    ObjBarra['barras'][idx]+=1                     # aumento +1 el heigth de la barra sorteada \n",
    "    wb = ObjBarra['w'] / len(ObjBarra['barras'])   # calculo el width de c/barra, ancho de c/barra\n",
    "    \n",
    "    # son 20 barras y dibujo c/u\n",
    "    # rectangle( x, y, w, h, borde-color, fill-color )\n",
    "    for i,x in enumerate(ObjBarra['barras']):\n",
    "            w.create_rectangle(\n",
    "                i*wb, \n",
    "                ObjBarra['h']-ObjBarra['barras'][i],\n",
    "                (i*wb)+ wb-1,\n",
    "                ObjBarra['h'],\n",
    "                outline=\"#1c7db7\", fill=\"#13f6e9\"\n",
    "            )\n",
    "    root.after(20, task)\n",
    "    \n",
    "root.after(500, task)\n",
    "root.mainloop()"
   ]
  },
  {
   "cell_type": "markdown",
   "id": "ace6d272",
   "metadata": {},
   "source": [
    "<h1 style=\"text-align: center\">desviacion estandar Gauss</h1>"
   ]
  },
  {
   "cell_type": "code",
   "execution_count": 3,
   "id": "ac27e14e",
   "metadata": {},
   "outputs": [],
   "source": [
    "# simulacion de una desviacion estandar Gauss automatica con numpy\n",
    "from tkinter import *\n",
    "import random\n",
    "import numpy as np\n",
    "\n",
    "canvas_width = 640\n",
    "canvas_height =360\n",
    "heightBarras = [0 for n in range(20)]\n",
    "ObjBarra = {'x1':0,'y1':0,'x2':0,'y2':0,'barras':heightBarras,'w':canvas_width, 'h':canvas_height}\n",
    "\n",
    "root = Tk()\n",
    "w = Canvas(root, width=canvas_width, height=canvas_height,bg=\"#dfa290\")\n",
    "w.pack()\n",
    "\n",
    "    \n",
    "def task():\n",
    "    global ObjBarra\n",
    "    w.delete('all')            # borro pizarra\n",
    "    \n",
    "    #idx = int(random.random()*20)\n",
    "    #ObjBarra['barras'][idx]+=1                     # aumento +1 el heigth de la barra sorteada \n",
    "    #wb = ObjBarra['w'] / len(ObjBarra['barras'])   # calculo el width de c/barra, ancho de c/barra\n",
    "       \n",
    "    #los valores de bars, devuelven una varianza de 0.9 sobre un nivel de 30\n",
    "    bars = np.round( np.random.normal(30,0.9, len(ObjBarra['barras'])),2 )\n",
    "    ObjBarra['barras'] = list(bars)\n",
    "    wb = ObjBarra['w'] / len(ObjBarra['barras'])   # calculo el width de c/barra, ancho de c/barra\n",
    "    \n",
    "    # dibujo las 20 barras\n",
    "    # rectangle( x, y, w, h, borde-color, fill-color )\n",
    "    for i,x in enumerate(ObjBarra['barras']):\n",
    "            w.create_rectangle(\n",
    "                i*wb, \n",
    "                ObjBarra['h']-ObjBarra['barras'][i],\n",
    "                (i*wb)+ wb-1,\n",
    "                ObjBarra['h'],\n",
    "                outline=\"#1c7db7\", fill=\"#13f6e9\"\n",
    "            )\n",
    "    root.after(90, task)\n",
    "    \n",
    "root.after(500, task)\n",
    "root.mainloop()"
   ]
  },
  {
   "cell_type": "markdown",
   "id": "ed953649",
   "metadata": {},
   "source": [
    "<h1 style=\"text-align: center\"> HowTo move a Ball with Asceleration </h1>"
   ]
  },
  {
   "cell_type": "markdown",
   "id": "ce0268d4",
   "metadata": {},
   "source": [
    "<img src=\"img/ecuCirculo.png\" width=\"450\" height=\"450\" align=\"left\"/>\n",
    "<img src=\"img/thinker_canvas_create_oval.png\" width=\"520\" height=\"480\"/>\n",
    "<img src=\"img/move_ball_variation.png\" width=\"200\" height=\"180\" align=\"right\"/>"
   ]
  },
  {
   "cell_type": "code",
   "execution_count": 4,
   "id": "12648bbf",
   "metadata": {},
   "outputs": [],
   "source": [
    "from tkinter import *\n",
    "canvas_width = 640\n",
    "canvas_height =360\n",
    "objC = {'x':10,'y':10,'r':20,'xm':2,'ym':3,'w':canvas_width,'h':canvas_height}\n",
    "# xm = es el movimiento sumado al eje 'x' / ym para el eje 'y'\n",
    "# x,y = es el centro del circulo r = el radio\n",
    "\n",
    "root = Tk()\n",
    "w = Canvas(root, width=canvas_width, height=canvas_height)\n",
    "w.pack()\n",
    "\n",
    "# h,k centro del circulo, r=radio\n",
    "# usamos la formula general del circulo: (x-h)^2 + (y-k)^2 = r^2\n",
    "# h,k es el centro del circulo, x,y es el punto del radio\n",
    "def circulo(h,k,r):\n",
    "    w.create_oval(h-r+r, k+r, h+r, k-r+r,fill=\"green3\")\n",
    "\n",
    "def task():\n",
    "    global objC\n",
    "    w.delete('all')            # borro pizarra\n",
    "    \n",
    "    objC['x'] += objC['xm']\n",
    "    if (objC['x'] > objC['w'] or objC['x'] <0):\n",
    "        objC['xm'] = objC['xm']*-1\n",
    "\n",
    "    objC['y'] += objC['ym']\n",
    "    if (objC['y'] > objC['h'] or objC['y'] <0):\n",
    "        objC['ym'] = objC['ym']*-1\n",
    "\n",
    "    circulo(objC['x'],objC['y'],objC['r'])\n",
    "    root.after(30, task)\n",
    "\n",
    "    \n",
    "root.after(500, task)\n",
    "root.mainloop()"
   ]
  },
  {
   "cell_type": "markdown",
   "id": "2b63cada",
   "metadata": {},
   "source": [
    "<h1 style=\"text-align: center\"> HowTo Calculate Varianza/ Deviation Standar </h1>\n",
    "<img src=\"img/Promedio_varianza_DesvEstandar_cpy.png\" width=\"800\" height=\"700\" align=\"left\"/>"
   ]
  },
  {
   "cell_type": "code",
   "execution_count": null,
   "id": "269f74a2",
   "metadata": {},
   "outputs": [],
   "source": [
    "# calculando la desviacion Estandar conceptualmente\n",
    "# [(edad1 - prom)^2 + (edad1 - prom)^2 + (edad1 - prom)^2 + (edad1 - prom)^2 ]/ nElemt\n",
    "\n",
    "import math\n",
    "# Ej calculo el Promedio, paso p calcular la Varianza Poblacional no Sample.\n",
    "edades= [85, 82, 88, 86, 85, 93, 98, 40, 73, 83]\n",
    "\n",
    "sum=0\n",
    "for e in edades:\n",
    "    sum += e\n",
    "promedio = sum/len(edades)\n",
    "\n",
    "#calculando (c/edad - promedio)^2\n",
    "edad_prom = []\n",
    "for e in edades:\n",
    "    edad_prom.append((e-promedio)**2)\n",
    "    \n",
    "#calculo la suma del rsltado anterios de c/elemento de edad_prom[]    \n",
    "sum_e =0    \n",
    "for e in edad_prom:\n",
    "    sum_e += e\n",
    "\n",
    "#divido el total de la suma/nElementos\n",
    "varianza = sum_e/len(edades)\n",
    "\n",
    "print(f'Edades= {edades}')\n",
    "print(f'Varinz= {varianza}')\n",
    "\n",
    "#calculo al desviacion Estandar = SQR(varianza)\n",
    "de = math.sqrt(varianza)\n",
    "print(f'DesvEstandar = {de}')\n"
   ]
  },
  {
   "cell_type": "code",
   "execution_count": 5,
   "id": "6dfa9af1",
   "metadata": {},
   "outputs": [
    {
     "name": "stdout",
     "output_type": "stream",
     "text": [
      "promedio = 81.3\n",
      "\n",
      "Alumnos = [85, 82, 88, 86, 85, 93, 98, 40, 73, 83]\n",
      "varianza= [13.69, 0.49, 44.89, 22.09, 13.69, 136.89, 278.89, 1705.69, 68.89, 2.89]\n",
      "suma = 2288.1\n",
      "Promedio varianza = 228.81\n"
     ]
    }
   ],
   "source": [
    "# alumnos\n",
    "# calculando el promedio\n",
    "import math\n",
    "lista = [85, 82, 88, 86, 85, 93, 98, 40, 73, 83]\n",
    "suma = 0\n",
    "for i in lista:\n",
    "    suma = suma + i\n",
    "\n",
    "promedio = suma/len(lista)\n",
    "print(f'promedio = {promedio}\\n')\n",
    "\n",
    "# calculando la varianza\n",
    "varianza=[]\n",
    "for idx,val in enumerate(lista):\n",
    "    vari = (val - promedio)**2\n",
    "    vari = float('{:.2f}'.format(vari))\n",
    "    varianza.append(vari)\n",
    "\n",
    "print(f'Alumnos = {lista}')\n",
    "print(f'varianza= {varianza}')\n",
    "\n",
    "# The standard deviation is the square root of the average variance\n",
    "sumVarianzas=0\n",
    "for n in varianza:\n",
    "    sumVarianzas = sumVarianzas + n\n",
    "\n",
    "print(f'suma = {sumVarianzas}')\n",
    "promVarianza = sumVarianzas/10\n",
    "print(f'Promedio varianza = {promVarianza}')"
   ]
  },
  {
   "cell_type": "code",
   "execution_count": null,
   "id": "5dc72c4c",
   "metadata": {},
   "outputs": [],
   "source": []
  }
 ],
 "metadata": {
  "kernelspec": {
   "display_name": "Python [conda env:root] *",
   "language": "python",
   "name": "conda-root-py"
  },
  "language_info": {
   "codemirror_mode": {
    "name": "ipython",
    "version": 3
   },
   "file_extension": ".py",
   "mimetype": "text/x-python",
   "name": "python",
   "nbconvert_exporter": "python",
   "pygments_lexer": "ipython3",
   "version": "3.7.13"
  }
 },
 "nbformat": 4,
 "nbformat_minor": 5
}
