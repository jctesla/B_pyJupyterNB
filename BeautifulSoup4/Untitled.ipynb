{
 "cells": [
  {
   "cell_type": "markdown",
   "id": "2ed1d782",
   "metadata": {},
   "source": [
    "<h1 style=\"text-align: center\"> BeautifulSoup 4 </h1>"
   ]
  },
  {
   "cell_type": "code",
   "execution_count": null,
   "id": "bd6b2ee6",
   "metadata": {},
   "outputs": [],
   "source": [
    "# pip install beautifulsoup4\n",
    "# Web scraping :is about extracting the data from one or more websites.\n",
    "import os\n",
    "import requests\n",
    "from bs4 import BeautifulSoup\n",
    "\n",
    "url = \"https://www.google.com/\"\n",
    "reponse = requests.get(url)\n",
    "\n",
    "if reponse.ok:\n",
    "    soup = BeautifulSoup(reponse.text, \"lxml\")\n",
    "    title = str(soup.find(\"title\"))\n",
    "    title = title.replace(\"<title>\", \"\")           # quita el <tag> de inicio\n",
    "    title = title.replace(\"</title>\", \"\")          # quita el <tag> de final\n",
    "    print(\"The title is : \" + str(title))\n",
    "\n",
    "os.system(\"pause\")\n"
   ]
  }
 ],
 "metadata": {
  "kernelspec": {
   "display_name": "Python [conda env:root] *",
   "language": "python",
   "name": "conda-root-py"
  },
  "language_info": {
   "codemirror_mode": {
    "name": "ipython",
    "version": 3
   },
   "file_extension": ".py",
   "mimetype": "text/x-python",
   "name": "python",
   "nbconvert_exporter": "python",
   "pygments_lexer": "ipython3",
   "version": "3.7.13"
  }
 },
 "nbformat": 4,
 "nbformat_minor": 5
}
